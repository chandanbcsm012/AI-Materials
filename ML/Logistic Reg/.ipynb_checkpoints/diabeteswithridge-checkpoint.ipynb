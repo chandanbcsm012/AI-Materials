{
 "cells": [
  {
   "cell_type": "code",
   "execution_count": 2,
   "metadata": {},
   "outputs": [],
   "source": [
    "import pandas as pd\n",
    "import numpy as np\n",
    "from sklearn.datasets import load_diabetes \n",
    "from sklearn.linear_model import LinearRegression,Ridge,Lasso\n",
    "from sklearn.preprocessing import PolynomialFeatures\n",
    "from sklearn.model_selection import train_test_split\n"
   ]
  },
  {
   "cell_type": "code",
   "execution_count": 3,
   "metadata": {},
   "outputs": [
    {
     "name": "stdout",
     "output_type": "stream",
     "text": [
      "[[ 0.03807591  0.05068012  0.06169621 ... -0.00259226  0.01990842\n",
      "  -0.01764613]\n",
      " [-0.00188202 -0.04464164 -0.05147406 ... -0.03949338 -0.06832974\n",
      "  -0.09220405]\n",
      " [ 0.08529891  0.05068012  0.04445121 ... -0.00259226  0.00286377\n",
      "  -0.02593034]\n",
      " ...\n",
      " [ 0.04170844  0.05068012 -0.01590626 ... -0.01107952 -0.04687948\n",
      "   0.01549073]\n",
      " [-0.04547248 -0.04464164  0.03906215 ...  0.02655962  0.04452837\n",
      "  -0.02593034]\n",
      " [-0.04547248 -0.04464164 -0.0730303  ... -0.03949338 -0.00421986\n",
      "   0.00306441]]\n"
     ]
    }
   ],
   "source": [
    "diab=load_diabetes()\n",
    "X=diab.data\n",
    "y=diab.target\n",
    "print(X)\n",
    "#feature scaling required(standard scaling etc)"
   ]
  },
  {
   "cell_type": "code",
   "execution_count": 4,
   "metadata": {},
   "outputs": [
    {
     "name": "stdout",
     "output_type": "stream",
     "text": [
      "lr trainScore: 0.5424703261420213\n",
      "lr testscore:  0.3852624611229531\n",
      "ridge trainscore:  0.5422736997628472\n",
      "ridge testscore:  0.38452281501815544\n",
      "lasso trainscore:  0.5382531048295811\n",
      "lasso testscore:  0.3880690061520021\n"
     ]
    }
   ],
   "source": [
    "from sklearn.preprocessing import StandardScaler\n",
    "sc=StandardScaler()\n",
    "X_new=sc.fit_transform(X)\n",
    "X_train,X_test,y_train,y_test=train_test_split(X_new,y,random_state=12,test_size=.2)\n",
    "lr=LinearRegression()\n",
    "ridge=Ridge()\n",
    "lasso=Lasso()\n",
    "lr.fit(X_train,y_train)\n",
    "ridge.fit(X_train,y_train)\n",
    "lasso.fit(X_train,y_train)\n",
    "print(\"lr trainScore:\",lr.score(X_train,y_train))\n",
    "print('lr testscore: ' ,lr.score(X_test,y_test))\n",
    "\n",
    "print('ridge trainscore: ',ridge.score(X_train,y_train))\n",
    "print('ridge testscore: ',ridge.score(X_test,y_test))\n",
    "\n",
    "print('lasso trainscore: ',lasso.score(X_train,y_train))\n",
    "print('lasso testscore: ',lasso.score(X_test,y_test))\n"
   ]
  },
  {
   "cell_type": "raw",
   "metadata": {},
   "source": [
    "###Training Score is poor ,i.e. Underfitting .So we have to use Polynomial feature"
   ]
  },
  {
   "cell_type": "code",
   "execution_count": 7,
   "metadata": {},
   "outputs": [
    {
     "name": "stdout",
     "output_type": "stream",
     "text": [
      "lr trainScore: 1.0\n",
      "lr testscore:  -9.292027133950748\n",
      "ridge trainscore:  0.9999997332976238\n",
      "ridge testscore:  -9.25639977358232\n",
      "lasso trainscore:  0.998295814142908\n",
      "lasso testscore:  -4.547390267372846\n"
     ]
    },
    {
     "name": "stderr",
     "output_type": "stream",
     "text": [
      "C:\\Users\\Satish\\Anaconda3\\lib\\site-packages\\sklearn\\linear_model\\coordinate_descent.py:475: ConvergenceWarning: Objective did not converge. You might want to increase the number of iterations. Duality gap: 17966.898514620454, tolerance: 216.83947365439099\n",
      "  positive)\n"
     ]
    }
   ],
   "source": [
    "pf=PolynomialFeatures(degree=5)\n",
    "X_train_new=pf.fit_transform(X_train)\n",
    "X_test_new=pf.transform(X_test)\n",
    "\n",
    "lr.fit(X_train_new,y_train)\n",
    "print(\"lr trainScore:\",lr.score(X_train_new,y_train))\n",
    "print('lr testscore: ' ,lr.score(X_test_new,y_test))\n",
    "\n",
    "ridge=Ridge(alpha=.01)\n",
    "lasso=Lasso(alpha=.01)\n",
    "ridge.fit(X_train_new,y_train)\n",
    "lasso.fit(X_train_new,y_train)\n",
    "\n",
    "print('ridge trainscore: ',ridge.score(X_train_new,y_train))\n",
    "print('ridge testscore: ',ridge.score(X_test_new,y_test))\n",
    "print('lasso trainscore: ',lasso.score(X_train_new,y_train))\n",
    "print('lasso testscore: ',lasso.score(X_test_new,y_test))\n",
    "    "
   ]
  },
  {
   "cell_type": "code",
   "execution_count": 13,
   "metadata": {},
   "outputs": [
    {
     "data": {
      "text/plain": [
       "0.48229501459075924"
      ]
     },
     "execution_count": 13,
     "metadata": {},
     "output_type": "execute_result"
    }
   ],
   "source": [
    "from sklearn.model_selection import GridSearchCV\n",
    "ridge=Ridge()\n",
    "grid=GridSearchCV(ridge,cv=5,param_grid={'alpha':np.arange(.01,.05,.001)})\n",
    "grid.fit(X_new,y)\n",
    "grid.best_score_"
   ]
  },
  {
   "cell_type": "code",
   "execution_count": 14,
   "metadata": {},
   "outputs": [
    {
     "data": {
      "text/plain": [
       "{'alpha': 0.04899999999999997}"
      ]
     },
     "execution_count": 14,
     "metadata": {},
     "output_type": "execute_result"
    }
   ],
   "source": [
    "grid.best_params_"
   ]
  },
  {
   "cell_type": "code",
   "execution_count": null,
   "metadata": {},
   "outputs": [],
   "source": []
  }
 ],
 "metadata": {
  "kernelspec": {
   "display_name": "Python 3",
   "language": "python",
   "name": "python3"
  },
  "language_info": {
   "codemirror_mode": {
    "name": "ipython",
    "version": 3
   },
   "file_extension": ".py",
   "mimetype": "text/x-python",
   "name": "python",
   "nbconvert_exporter": "python",
   "pygments_lexer": "ipython3",
   "version": "3.7.4"
  }
 },
 "nbformat": 4,
 "nbformat_minor": 4
}
