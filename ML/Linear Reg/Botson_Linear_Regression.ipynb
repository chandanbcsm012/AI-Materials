{
 "cells": [
  {
   "cell_type": "code",
   "execution_count": 1,
   "metadata": {},
   "outputs": [],
   "source": [
    "import numpy as np\n",
    "import pandas as pd \n",
    "import matplotlib.pyplot as plt\n",
    "from numpy.linalg import pinv\n",
    "from sklearn.linear_model import LinearRegression\n",
    "from sklearn.metrics import r2_score\n",
    "from sklearn.preprocessing import scale\n",
    "from sklearn.model_selection import train_test_split"
   ]
  },
  {
   "cell_type": "code",
   "execution_count": 2,
   "metadata": {},
   "outputs": [
    {
     "data": {
      "text/plain": [
       "LinearRegression(copy_X=True, fit_intercept=True, n_jobs=None, normalize=False)"
      ]
     },
     "execution_count": 2,
     "metadata": {},
     "output_type": "execute_result"
    }
   ],
   "source": [
    "botson = pd.read_csv('../dataset/regression/boston_price.csv')\n",
    "X_org = botson.drop('Price', axis=1)\n",
    "y = botson[\"Price\"]\n",
    "X_train, X_test, y_train, y_test = train_test_split(X_org, y, test_size=0.3, random_state=50)\n",
    "model = LinearRegression()\n",
    "model.fit(X_train, y_train)"
   ]
  },
  {
   "cell_type": "code",
   "execution_count": 3,
   "metadata": {
    "jupyter": {
     "source_hidden": true
    }
   },
   "outputs": [
    {
     "name": "stdout",
     "output_type": "stream",
     "text": [
      "Trainscore: 0.7711995550598068\n",
      "Testscore: 0.6694691404649978\n"
     ]
    }
   ],
   "source": [
    "pred_train=model.predict(X_train)\n",
    "pred_test=model.predict(X_test)\n",
    "print('Trainscore:',r2_score(y_train,pred_train))\n",
    "print('Testscore:',r2_score(y_test,pred_test))"
   ]
  },
  {
   "cell_type": "code",
   "execution_count": 4,
   "metadata": {},
   "outputs": [],
   "source": [
    "X=scale(X_train,with_std=False)"
   ]
  },
  {
   "cell_type": "markdown",
   "metadata": {},
   "source": [
    "# Find coef"
   ]
  },
  {
   "cell_type": "code",
   "execution_count": 5,
   "metadata": {},
   "outputs": [
    {
     "data": {
      "text/plain": [
       "array([-2.22577978e-03, -1.03232137e-01,  3.25112801e-02,  9.25116865e-03,\n",
       "        1.67132944e+00, -1.56259454e+01,  5.05607604e+00, -2.76870765e-03,\n",
       "       -1.33832850e+00,  2.69002407e-01, -1.14630645e-02, -8.94205333e-01,\n",
       "        9.67756855e-03, -4.25163123e-01])"
      ]
     },
     "execution_count": 5,
     "metadata": {},
     "output_type": "execute_result"
    }
   ],
   "source": [
    "X_dash=X.T\n",
    "X_dashX=X_dash@X\n",
    "X_dashXI=pinv(X_dashX)\n",
    "X_dashXIXd=X_dashXI@X_dash\n",
    "C = X_dashXIXd@y_train\n",
    "C"
   ]
  },
  {
   "cell_type": "code",
   "execution_count": 6,
   "metadata": {
    "jupyter": {
     "source_hidden": true
    },
    "scrolled": true
   },
   "outputs": [
    {
     "data": {
      "text/plain": [
       "array([-2.22577978e-03, -1.03232137e-01,  3.25112801e-02,  9.25116865e-03,\n",
       "        1.67132944e+00, -1.56259454e+01,  5.05607604e+00, -2.76870765e-03,\n",
       "       -1.33832850e+00,  2.69002407e-01, -1.14630645e-02, -8.94205333e-01,\n",
       "        9.67756855e-03, -4.25163123e-01])"
      ]
     },
     "execution_count": 6,
     "metadata": {},
     "output_type": "execute_result"
    }
   ],
   "source": [
    "model.coef_"
   ]
  },
  {
   "cell_type": "markdown",
   "metadata": {},
   "source": [
    "# Find Intercept"
   ]
  },
  {
   "cell_type": "code",
   "execution_count": 8,
   "metadata": {},
   "outputs": [
    {
     "name": "stdout",
     "output_type": "stream",
     "text": [
      "intercept : 21.715550841443836, model_intercept: 25.410733625766532\n"
     ]
    },
    {
     "data": {
      "text/plain": [
       "3.6951827843226965"
      ]
     },
     "execution_count": 8,
     "metadata": {},
     "output_type": "execute_result"
    }
   ],
   "source": [
    "XM = X_train.mean(axis=0)\n",
    "intercept = y_train.mean()- (C[0]*XM[0])-(C[1]*XM[1])-(C[2]*XM[2])-(C[3]*XM[3])-(C[4]*XM[4])-(C[5]*XM[5])-(C[6]*XM[6])-(C[7]*XM[7])-(C[8]*XM[8])-(C[9]*XM[9])-(C[10]*XM[10])-(C[11]*XM[11]-(C[12]*XM[12])-(C[13]*XM[13]))\n",
    "print('intercept : {}, model_intercept: {}'.format(intercept, model.intercept_))\n",
    "model.intercept_ -intercept"
   ]
  }
 ],
 "metadata": {
  "kernelspec": {
   "display_name": "Python 3",
   "language": "python",
   "name": "python3"
  },
  "language_info": {
   "codemirror_mode": {
    "name": "ipython",
    "version": 3
   },
   "file_extension": ".py",
   "mimetype": "text/x-python",
   "name": "python",
   "nbconvert_exporter": "python",
   "pygments_lexer": "ipython3",
   "version": "3.7.3"
  }
 },
 "nbformat": 4,
 "nbformat_minor": 4
}
