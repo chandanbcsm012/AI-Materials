{
 "cells": [
  {
   "cell_type": "code",
   "execution_count": 1,
   "metadata": {},
   "outputs": [],
   "source": [
    "import numpy as np\n",
    "import pandas as pd \n",
    "import matplotlib.pyplot as plt\n",
    "from numpy.linalg import pinv\n",
    "from sklearn.linear_model import LinearRegression\n",
    "from sklearn.metrics import r2_score\n",
    "from sklearn.preprocessing import scale\n",
    "from sklearn.model_selection import train_test_split"
   ]
  },
  {
   "cell_type": "code",
   "execution_count": 2,
   "metadata": {},
   "outputs": [
    {
     "data": {
      "text/plain": [
       "LinearRegression(copy_X=True, fit_intercept=True, n_jobs=None, normalize=False)"
      ]
     },
     "execution_count": 2,
     "metadata": {},
     "output_type": "execute_result"
    }
   ],
   "source": [
    "botson = pd.read_csv('../dataset/regression/boston_price.csv')\n",
    "#print(botson)\n",
    "X_org = botson.drop('Price', axis=1).values\n",
    "y = botson[\"Price\"].values\n",
    "X_train, X_test, y_train, y_test = train_test_split(X_org, y, test_size=0.3, random_state=50)\n",
    "model = LinearRegression()\n",
    "model.fit(X_train, y_train)"
   ]
  },
  {
   "cell_type": "code",
   "execution_count": 3,
   "metadata": {
    "jupyter": {
     "source_hidden": true
    }
   },
   "outputs": [
    {
     "name": "stdout",
     "output_type": "stream",
     "text": [
      "Trainscore: 0.7711995550598068\n",
      "Testscore: 0.6694691404649978\n"
     ]
    }
   ],
   "source": [
    "pred_train=model.predict(X_train)\n",
    "pred_test=model.predict(X_test)\n",
    "print('Trainscore:',r2_score(y_train,pred_train))\n",
    "print('Testscore:',r2_score(y_test,pred_test))"
   ]
  },
  {
   "cell_type": "code",
   "execution_count": 4,
   "metadata": {},
   "outputs": [],
   "source": [
    "X=scale(X_train,with_std=False)"
   ]
  },
  {
   "cell_type": "markdown",
   "metadata": {},
   "source": [
    "# Find coef"
   ]
  },
  {
   "cell_type": "code",
   "execution_count": 5,
   "metadata": {},
   "outputs": [
    {
     "data": {
      "text/plain": [
       "array([-2.22577978e-03, -1.03232137e-01,  3.25112801e-02,  9.25116865e-03,\n",
       "        1.67132944e+00, -1.56259454e+01,  5.05607604e+00, -2.76870765e-03,\n",
       "       -1.33832850e+00,  2.69002407e-01, -1.14630645e-02, -8.94205333e-01,\n",
       "        9.67756855e-03, -4.25163123e-01])"
      ]
     },
     "execution_count": 5,
     "metadata": {},
     "output_type": "execute_result"
    }
   ],
   "source": [
    "X_dash=X.T\n",
    "X_dashX=X_dash@X\n",
    "X_dashXI=pinv(X_dashX)\n",
    "X_dashXIXd=X_dashXI@X_dash\n",
    "C = X_dashXIXd@y_train\n",
    "C"
   ]
  },
  {
   "cell_type": "code",
   "execution_count": 6,
   "metadata": {
    "scrolled": true
   },
   "outputs": [
    {
     "data": {
      "text/plain": [
       "array([-2.22577978e-03, -1.03232137e-01,  3.25112801e-02,  9.25116865e-03,\n",
       "        1.67132944e+00, -1.56259454e+01,  5.05607604e+00, -2.76870765e-03,\n",
       "       -1.33832850e+00,  2.69002407e-01, -1.14630645e-02, -8.94205333e-01,\n",
       "        9.67756855e-03, -4.25163123e-01])"
      ]
     },
     "execution_count": 6,
     "metadata": {},
     "output_type": "execute_result"
    }
   ],
   "source": [
    "model.coef_"
   ]
  },
  {
   "cell_type": "markdown",
   "metadata": {},
   "source": [
    "# Find Intercept"
   ]
  },
  {
   "cell_type": "code",
   "execution_count": 10,
   "metadata": {},
   "outputs": [
    {
     "name": "stdout",
     "output_type": "stream",
     "text": [
      "intercept : 25.410733625763548, model_intercept: 25.41073362576673\n"
     ]
    },
    {
     "data": {
      "text/plain": [
       "3.183231456205249e-12"
      ]
     },
     "execution_count": 10,
     "metadata": {},
     "output_type": "execute_result"
    }
   ],
   "source": [
    "XM = X_train.mean(axis=0)\n",
    "intercept = y_train.mean(axis=0)- np.sum([i*j for i, j in zip(C, XM) ])\n",
    "print('intercept : {}, model_intercept: {}'.format(intercept, model.intercept_))\n",
    "model.intercept_ -intercept"
   ]
  },
  {
   "cell_type": "code",
   "execution_count": 9,
   "metadata": {},
   "outputs": [
    {
     "data": {
      "text/plain": [
       "-3.051976563616652"
      ]
     },
     "execution_count": 9,
     "metadata": {},
     "output_type": "execute_result"
    }
   ],
   "source": [
    "tem"
   ]
  }
 ],
 "metadata": {
  "kernelspec": {
   "display_name": "Python 3",
   "language": "python",
   "name": "python3"
  },
  "language_info": {
   "codemirror_mode": {
    "name": "ipython",
    "version": 3
   },
   "file_extension": ".py",
   "mimetype": "text/x-python",
   "name": "python",
   "nbconvert_exporter": "python",
   "pygments_lexer": "ipython3",
   "version": "3.7.3"
  }
 },
 "nbformat": 4,
 "nbformat_minor": 4
}
