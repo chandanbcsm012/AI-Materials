{
 "cells": [
  {
   "cell_type": "code",
   "execution_count": 6,
   "metadata": {},
   "outputs": [
    {
     "name": "stdin",
     "output_type": "stream",
     "text": [
      "Enter weight: 2.1\n",
      "Enter Dimeter: 3\n"
     ]
    },
    {
     "name": "stdout",
     "output_type": "stream",
     "text": [
      "prediction:  Banana\n"
     ]
    }
   ],
   "source": [
    "import requests\n",
    "w = float(input(\"Enter weight:\"))\n",
    "dim = float(input(\"Enter Dimeter:\"))\n",
    "res = requests.get(f\"http://ducatml.pythonanywhere.com/fruit_predict/?dim={dim}&wt={w}\")\n",
    "print(\"prediction: \",res.json()['prediction'])"
   ]
  }
 ],
 "metadata": {
  "kernelspec": {
   "display_name": "Python 3",
   "language": "python",
   "name": "python3"
  },
  "language_info": {
   "codemirror_mode": {
    "name": "ipython",
    "version": 3
   },
   "file_extension": ".py",
   "mimetype": "text/x-python",
   "name": "python",
   "nbconvert_exporter": "python",
   "pygments_lexer": "ipython3",
   "version": "3.7.3"
  }
 },
 "nbformat": 4,
 "nbformat_minor": 4
}
