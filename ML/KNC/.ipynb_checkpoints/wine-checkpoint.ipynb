{
 "cells": [
  {
   "cell_type": "code",
   "execution_count": 1,
   "metadata": {},
   "outputs": [],
   "source": [
    "#wine - classification problem\n",
    "from sklearn.datasets import load_wine\n",
    "import numpy as np\n",
    "from sklearn.neighbors import KNeighborsClassifier\n",
    "from sklearn.metrics import accuracy_score"
   ]
  },
  {
   "cell_type": "code",
   "execution_count": 4,
   "metadata": {},
   "outputs": [
    {
     "name": "stdout",
     "output_type": "stream",
     "text": [
      "y_train bin count [42 60 40]\n",
      "y in count [59 71 48]\n",
      "Training score: 0.9929577464788732\n",
      "Testing score: 1.0\n",
      "Training cm : [[42  0  0]\n",
      " [ 1 59  0]\n",
      " [ 0  0 40]]\n",
      "Testing cm: [[17  0  0]\n",
      " [ 0 11  0]\n",
      " [ 0  0  8]]\n"
     ]
    }
   ],
   "source": [
    "wine=load_wine()\n",
    "X=wine.data   # get feature in 2D array    data key has 2D array\n",
    "y=wine.target\n",
    "#print(wine.DESCR)\n",
    "y\n",
    "from sklearn.model_selection import train_test_split\n",
    "X_train,X_test,y_train,y_test=train_test_split(X,y,random_state=5,train_size=.8)\n",
    "print('y_train bin count',np.bincount(y_train))\n",
    "print('y in count',np.bincount(y))\n",
    "from sklearn.preprocessing import  StandardScaler    \n",
    "sc=StandardScaler()\n",
    "X_train_new=sc.fit_transform(X_train)\n",
    "X_test_new=sc.transform(X_test)\n",
    "knc=KNeighborsClassifier(n_neighbors=11,p=1)\n",
    "knc.fit(X_train_new,y_train)\n",
    "pred_train=knc.predict(X_train_new)\n",
    "pred_test=knc.predict(X_test_new)\n",
    "print('Training score:',accuracy_score(y_train,pred_train))\n",
    "print('Testing score:',accuracy_score(y_test,pred_test))\n",
    "from sklearn.metrics import confusion_matrix,precision_score,recall_score,f1_score\n",
    "cm1=confusion_matrix(y_train,pred_train)\n",
    "print('Training cm :',cm1)\n",
    "cm2=confusion_matrix(y_test,pred_test)\n",
    "print('Testing cm:',cm2)"
   ]
  },
  {
   "cell_type": "code",
   "execution_count": null,
   "metadata": {},
   "outputs": [],
   "source": []
  }
 ],
 "metadata": {
  "kernelspec": {
   "display_name": "Python 3",
   "language": "python",
   "name": "python3"
  },
  "language_info": {
   "codemirror_mode": {
    "name": "ipython",
    "version": 3
   },
   "file_extension": ".py",
   "mimetype": "text/x-python",
   "name": "python",
   "nbconvert_exporter": "python",
   "pygments_lexer": "ipython3",
   "version": "3.7.4"
  }
 },
 "nbformat": 4,
 "nbformat_minor": 4
}
