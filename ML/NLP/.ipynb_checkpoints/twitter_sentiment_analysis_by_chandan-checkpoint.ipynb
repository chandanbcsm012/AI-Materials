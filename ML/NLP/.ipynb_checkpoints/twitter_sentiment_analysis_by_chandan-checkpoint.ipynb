{
 "cells": [
  {
   "cell_type": "code",
   "execution_count": 1,
   "metadata": {},
   "outputs": [],
   "source": [
    "import numpy as np\n",
    "import pandas as pd\n",
    "\n",
    "from string import punctuation as pun\n",
    "import re\n",
    "from sklearn.model_selection import train_test_split\n",
    "from sklearn.metrics import classification_report, accuracy_score, confusion_matrix\n",
    "\n",
    "from nltk.corpus import stopwords\n",
    "from nltk.tokenize import word_tokenize, sent_tokenize\n",
    "from nltk.stem import PorterStemmer \n",
    "\n",
    "from sklearn.feature_extraction.text import CountVectorizer\n",
    "from sklearn.naive_bayes import MultinomialNB"
   ]
  },
  {
   "cell_type": "code",
   "execution_count": 2,
   "metadata": {},
   "outputs": [
    {
     "name": "stdout",
     "output_type": "stream",
     "text": [
      "        Sentiment                                      SentimentText\n",
      "ItemID                                                              \n",
      "1               0                       is so sad for my APL frie...\n",
      "2               0                     I missed the New Moon trail...\n",
      "3               1                            omg its already 7:30 :O\n",
      "4               0            .. Omgaga. Im sooo  im gunna CRy. I'...\n",
      "5               0           i think mi bf is cheating on me!!!   ...\n"
     ]
    }
   ],
   "source": [
    "twitter = pd.read_csv(\"../../dataset/sentiment/twitter.csv\", encoding='latin')\n",
    "twitter.set_index('ItemID', inplace=True)\n",
    "print(twitter.head())"
   ]
  },
  {
   "cell_type": "code",
   "execution_count": 3,
   "metadata": {},
   "outputs": [],
   "source": [
    "sw, stem=[x for x in stopwords.words('english') if x not in ['not', 'no', 'nor']], PorterStemmer()\n",
    "def clean_text(text, stop_words=sw, stemer=stem):\n",
    "    return \" \".join([stemer.stem(w.lower()) for w in word_tokenize(re.sub(f'[{pun}]', '', text)) if w not in stop_words])"
   ]
  },
  {
   "cell_type": "code",
   "execution_count": 4,
   "metadata": {},
   "outputs": [],
   "source": [
    "twitter['SentimentText'] = twitter['SentimentText'].map(clean_text)"
   ]
  },
  {
   "cell_type": "code",
   "execution_count": 20,
   "metadata": {},
   "outputs": [
    {
     "name": "stdout",
     "output_type": "stream",
     "text": [
      "Train Score: 0.9825352280869357\n",
      "Text Score: 0.7576143285753251\n"
     ]
    }
   ],
   "source": [
    "cv=CountVectorizer(ngram_range=(1,2))\n",
    "X=cv.fit_transform(twitter['SentimentText'])\n",
    "y = twitter.Sentiment\n",
    "multinomialNB=MultinomialNB(alpha=1)\n",
    "X_train, X_test, y_train, y_test = train_test_split(X, y, test_size=0.33, random_state=42)\n",
    "multinomialNB.fit(X_train ,y_train)\n",
    "print(\"Train Score:\",multinomialNB.score(X_train, y_train))\n",
    "print(\"Text Score:\",multinomialNB.score(X_test, y_test))"
   ]
  },
  {
   "cell_type": "code",
   "execution_count": 25,
   "metadata": {},
   "outputs": [
    {
     "data": {
      "text/plain": [
       "array([[7.74123185e-01, 2.25876815e-01],\n",
       "       [2.24583157e-05, 9.99977542e-01],\n",
       "       [9.99238488e-01, 7.61512472e-04],\n",
       "       ...,\n",
       "       [8.21774202e-01, 1.78225798e-01],\n",
       "       [3.91193946e-01, 6.08806054e-01],\n",
       "       [9.80289022e-01, 1.97109782e-02]])"
      ]
     },
     "execution_count": 25,
     "metadata": {},
     "output_type": "execute_result"
    }
   ],
   "source": [
    "\n",
    "multinomialNB.predict(X_test)\n",
    "multinomialNB.predict_proba(X_test)"
   ]
  },
  {
   "cell_type": "code",
   "execution_count": 21,
   "metadata": {},
   "outputs": [],
   "source": [
    "import pickle"
   ]
  },
  {
   "cell_type": "code",
   "execution_count": 26,
   "metadata": {},
   "outputs": [],
   "source": [
    "pickl = {\n",
    "    'multinomialNB': multinomialNB,\n",
    "    'countVectorizer': cv,\n",
    "    'clean_text': clean_text\n",
    "}"
   ]
  },
  {
   "cell_type": "code",
   "execution_count": 23,
   "metadata": {},
   "outputs": [],
   "source": [
    "pickle.dump( pickl, open( 'twitter' + \".sav\", \"wb\" ) )"
   ]
  }
 ],
 "metadata": {
  "kernelspec": {
   "display_name": "Python 3",
   "language": "python",
   "name": "python3"
  },
  "language_info": {
   "codemirror_mode": {
    "name": "ipython",
    "version": 3
   },
   "file_extension": ".py",
   "mimetype": "text/x-python",
   "name": "python",
   "nbconvert_exporter": "python",
   "pygments_lexer": "ipython3",
   "version": "3.7.3"
  }
 },
 "nbformat": 4,
 "nbformat_minor": 4
}
