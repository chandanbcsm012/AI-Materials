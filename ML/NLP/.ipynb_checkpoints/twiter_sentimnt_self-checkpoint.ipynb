{
 "cells": [
  {
   "cell_type": "code",
   "execution_count": 1,
   "metadata": {},
   "outputs": [],
   "source": [
    "import pandas as pd\n",
    "import numpy as np\n",
    "import re\n",
    "from nltk.corpus import stopwords\n",
    "from nltk.tokenize import word_tokenize\n",
    "from nltk.stem import PorterStemmer \n",
    "sw=stopwords.words('english')\n",
    "sw.remove('not')\n",
    "sw.remove('no')\n",
    "sw.remove(\"don't\")\n",
    "sw.remove('do')\n",
    "sw.remove(\"didn't\")\n",
    "sw.remove('did')\n",
    "ps=PorterStemmer()"
   ]
  },
  {
   "cell_type": "code",
   "execution_count": 2,
   "metadata": {},
   "outputs": [],
   "source": [
    "def clean_text(docs):\n",
    "    text=re.sub('[^a-zA-Z]',\" \",docs)\n",
    "    afterlower=text.lower()\n",
    "    words=word_tokenize(afterlower)\n",
    "    nw=[]\n",
    "    for w in words:\n",
    "        if(w not in sw):\n",
    "            ps.stem(w)\n",
    "            nw.append(w)\n",
    "    return \" \".join(nw)\n",
    "# load dataset\n",
    "df=pd.read_csv('e:/data sci/dataset/sentiment/twitter.csv',nrows=7000,encoding='latin')\n",
    "df.drop(['ItemID'],axis=1,inplace=True)\n",
    "df['SentimentText']=df['SentimentText'].astype(str)\n",
    "df['SentimentText']=df['SentimentText'].map(clean_text)\n",
    "from sklearn.feature_extraction.text import CountVectorizer\n",
    "cv=CountVectorizer(ngram_range=(1,1))\n",
    "X=cv.fit_transform(df['SentimentText']).toarray()\n",
    "y=df['Sentiment']\n",
    "from sklearn.naive_bayes import MultinomialNB"
   ]
  },
  {
   "cell_type": "code",
   "execution_count": 3,
   "metadata": {},
   "outputs": [
    {
     "name": "stdout",
     "output_type": "stream",
     "text": [
      "Score: 0.9512857142857143\n"
     ]
    }
   ],
   "source": [
    "mn=MultinomialNB(alpha=0.01)\n",
    "mn.fit(X,y)\n",
    "print(\"Score:\",mn.score(X,y))"
   ]
  },
  {
   "cell_type": "code",
   "execution_count": null,
   "metadata": {},
   "outputs": [],
   "source": []
  }
 ],
 "metadata": {
  "kernelspec": {
   "display_name": "Python 3",
   "language": "python",
   "name": "python3"
  },
  "language_info": {
   "codemirror_mode": {
    "name": "ipython",
    "version": 3
   },
   "file_extension": ".py",
   "mimetype": "text/x-python",
   "name": "python",
   "nbconvert_exporter": "python",
   "pygments_lexer": "ipython3",
   "version": "3.7.4"
  }
 },
 "nbformat": 4,
 "nbformat_minor": 4
}
