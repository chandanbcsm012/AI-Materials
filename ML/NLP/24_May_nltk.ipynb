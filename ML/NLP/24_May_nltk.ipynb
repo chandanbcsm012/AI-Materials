{
 "cells": [
  {
   "cell_type": "code",
   "execution_count": 2,
   "metadata": {},
   "outputs": [],
   "source": [
    "review1='food is go_od'\n",
    "review2='awe@some food qual#ity '\n",
    "review3='service was not good'\n",
    "review4='Food is not Good'\n",
    "\n",
    "reviews=[review1,review2,review3,review4]\n",
    "target=['pos','pos','neg','neg']"
   ]
  },
  {
   "cell_type": "code",
   "execution_count": 3,
   "metadata": {},
   "outputs": [],
   "source": [
    "import string\n",
    "import re\n",
    "from nltk.stem import PorterStemmer\n",
    "from nltk.corpus import stopwords\n",
    "from nltk.tokenize import word_tokenize\n",
    "ps=PorterStemmer()\n",
    "def clean_text(text):\n",
    "    new_text=re.sub(f'[{string.punctuation}]','',text)\n",
    "    words=word_tokenize(new_text)\n",
    "    new_words=[]\n",
    "    sw=stopwords.words('english')\n",
    "    sw.remove('not')\n",
    "    for w in words:\n",
    "        if(w not in sw):\n",
    "            nw=ps.stem(w)\n",
    "            new_words.append(nw)\n",
    "    return \" \".join(new_words)"
   ]
  },
  {
   "cell_type": "code",
   "execution_count": 4,
   "metadata": {},
   "outputs": [
    {
     "name": "stdout",
     "output_type": "stream",
     "text": [
      "['awesom', 'food', 'good', 'not', 'qualiti', 'servic']\n"
     ]
    }
   ],
   "source": [
    "new_reviews=list(map(clean_text,reviews))\n",
    "from sklearn.feature_extraction.text import CountVectorizer\n",
    "cv=CountVectorizer(ngram_range=(1,1))\n",
    "X=cv.fit_transform(new_reviews).toarray()\n",
    "print(cv.get_feature_names())"
   ]
  },
  {
   "cell_type": "code",
   "execution_count": 5,
   "metadata": {},
   "outputs": [
    {
     "name": "stdout",
     "output_type": "stream",
     "text": [
      "['awesom', 'awesom food', 'food', 'food good', 'food not', 'food qualiti', 'good', 'not', 'not good', 'qualiti', 'servic', 'servic not']\n"
     ]
    }
   ],
   "source": [
    "new_reviews=list(map(clean_text,reviews))\n",
    "from sklearn.feature_extraction.text import CountVectorizer\n",
    "cv=CountVectorizer(ngram_range=(1,2))\n",
    "X=cv.fit_transform(new_reviews).toarray()\n",
    "print(cv.get_feature_names())"
   ]
  },
  {
   "cell_type": "code",
   "execution_count": 6,
   "metadata": {},
   "outputs": [
    {
     "data": {
      "text/plain": [
       "['food good', 'awesom food qualiti', 'servic not good', 'food not good']"
      ]
     },
     "execution_count": 6,
     "metadata": {},
     "output_type": "execute_result"
    }
   ],
   "source": [
    "new_reviews"
   ]
  },
  {
   "cell_type": "code",
   "execution_count": 7,
   "metadata": {},
   "outputs": [
    {
     "name": "stdout",
     "output_type": "stream",
     "text": [
      "['awesom', 'awesom food', 'awesom food qualiti', 'food', 'food good', 'food not', 'food not good', 'food qualiti', 'good', 'not', 'not good', 'qualiti', 'servic', 'servic not', 'servic not good']\n"
     ]
    }
   ],
   "source": [
    "new_reviews=list(map(clean_text,reviews))\n",
    "from sklearn.feature_extraction.text import CountVectorizer\n",
    "cv=CountVectorizer(ngram_range=(1,3))\n",
    "X=cv.fit_transform(new_reviews).toarray()\n",
    "print(cv.get_feature_names())"
   ]
  },
  {
   "cell_type": "code",
   "execution_count": 16,
   "metadata": {},
   "outputs": [
    {
     "data": {
      "text/plain": [
       "0.812"
      ]
     },
     "execution_count": 16,
     "metadata": {},
     "output_type": "execute_result"
    }
   ],
   "source": [
    "import pandas as pd\n",
    "df=pd.read_csv('../../dataset/sentiment/Restaurant_Reviews.txt',delimiter='\\t')\n",
    "new_reviews=list(map(clean_text,df.Review))\n",
    "from sklearn.feature_extraction.text import TfidfVectorizer\n",
    "tv=TfidfVectorizer(ngram_range=(1,2))\n",
    "X=tv.fit_transform(new_reviews).toarray()\n",
    "y=df.Liked\n",
    "from sklearn.naive_bayes import MultinomialNB\n",
    "from sklearn.model_selection import cross_val_score\n",
    "cross_val_score(MultinomialNB(),X,y,cv=10).mean()"
   ]
  },
  {
   "cell_type": "code",
   "execution_count": 9,
   "metadata": {},
   "outputs": [
    {
     "data": {
      "text/plain": [
       "0.9510031981364581"
      ]
     },
     "execution_count": 9,
     "metadata": {},
     "output_type": "execute_result"
    }
   ],
   "source": [
    "df=pd.read_csv('../../dataset/sentiment/spam_ham.txt',delimiter='\\t',header=None)\n",
    "df.columns=['msg_type','msg']\n",
    "new_reviews=list(map(clean_text,df.msg))\n",
    "from sklearn.feature_extraction.text import TfidfVectorizer\n",
    "tv=TfidfVectorizer(ngram_range=(1,2))\n",
    "X=tv.fit_transform(new_reviews).toarray()\n",
    "y=df.msg_type\n",
    "from sklearn.naive_bayes import MultinomialNB\n",
    "from sklearn.model_selection import cross_val_score\n",
    "cross_val_score(MultinomialNB(),X,y,cv=10).mean()"
   ]
  },
  {
   "cell_type": "code",
   "execution_count": null,
   "metadata": {},
   "outputs": [],
   "source": []
  }
 ],
 "metadata": {
  "kernelspec": {
   "display_name": "Python 3",
   "language": "python",
   "name": "python3"
  },
  "language_info": {
   "codemirror_mode": {
    "name": "ipython",
    "version": 3
   },
   "file_extension": ".py",
   "mimetype": "text/x-python",
   "name": "python",
   "nbconvert_exporter": "python",
   "pygments_lexer": "ipython3",
   "version": "3.7.3"
  }
 },
 "nbformat": 4,
 "nbformat_minor": 4
}
