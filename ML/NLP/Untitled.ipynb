{
 "cells": [
  {
   "cell_type": "code",
   "execution_count": 8,
   "metadata": {},
   "outputs": [],
   "source": [
    "from string import punctuation as pun\n",
    "import re\n",
    "from nltk.stem import PorterStemmer\n",
    "from nltk.corpus import stopwords\n",
    "from nltk.tokenize import word_tokenize as wtoken\n",
    "from sklearn.feature_extraction.text import CountVectorizer\n",
    "import pandas as pd\n",
    "from sklearn.naive_bayes import MultinomialNB\n",
    "from sklearn.model_selection import cross_val_score\n",
    "from sklearn.feature_extraction.text import TfidfVectorizer"
   ]
  },
  {
   "cell_type": "code",
   "execution_count": 12,
   "metadata": {},
   "outputs": [],
   "source": [
    "sw, stem=stopwords.words('english'), PorterStemmer()\n",
    "sw.remove('not')\n",
    "sw.remove('no')\n",
    "sw.remove(\"nor\")\n",
    "def clean_text(text, stop_words=sw, stemer=stem):\n",
    "    return \" \".join([stemer.stem(w) for w in wtoken(re.sub(f'[{pun}]', '', text)) if w not in stop_words])"
   ]
  },
  {
   "cell_type": "code",
   "execution_count": 13,
   "metadata": {},
   "outputs": [
    {
     "data": {
      "text/plain": [
       "0.9510031981364581"
      ]
     },
     "execution_count": 13,
     "metadata": {},
     "output_type": "execute_result"
    }
   ],
   "source": [
    "df=pd.read_csv('../../dataset/sentiment/spam_ham.txt',delimiter='\\t',header=None)\n",
    "df.columns=['msg_type','msg']\n",
    "new_reviews=list(map(clean_text,df.msg))\n",
    "tv=TfidfVectorizer(ngram_range=(1,2))\n",
    "X=tv.fit_transform(new_reviews).toarray()\n",
    "y=df.msg_type\n",
    "cross_val_score(MultinomialNB(),X,y,cv=10).mean()"
   ]
  }
 ],
 "metadata": {
  "kernelspec": {
   "display_name": "Python 3",
   "language": "python",
   "name": "python3"
  },
  "language_info": {
   "codemirror_mode": {
    "name": "ipython",
    "version": 3
   },
   "file_extension": ".py",
   "mimetype": "text/x-python",
   "name": "python",
   "nbconvert_exporter": "python",
   "pygments_lexer": "ipython3",
   "version": "3.7.3"
  }
 },
 "nbformat": 4,
 "nbformat_minor": 4
}
