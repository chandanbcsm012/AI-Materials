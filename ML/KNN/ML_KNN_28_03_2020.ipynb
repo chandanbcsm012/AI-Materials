{
 "cells": [
  {
   "cell_type": "markdown",
   "metadata": {},
   "source": [
    "model:\n",
    "-------\n",
    "Output of tranning phase is known as model\n",
    "\n",
    "in codeing:\n",
    "--------\n",
    "    algo.fit(X,y) ------------> result ------------> model\n",
    "    \n",
    "Diff b/w algo model:\n",
    "------------------\n",
    "LinearRegression is an Algo:\n",
    "\n",
    "    y = mx + b equation where m is coff , b intercept (parameters)\n",
    "    \n",
    "    reg.fit(X,y)\n",
    "    \n",
    "Dataset:\n",
    "-------\n",
    "    \n",
    "    100 samples\n",
    "    \n",
    "       divide this dataset int two subsets\n",
    "       \n",
    "       Tranning set(seen data )-> 70 Sample\n",
    "       \n",
    "       Testing set(Unseen data) -> 30 sample\n",
    "       \n",
    "       Tranning set is used to build model\n",
    "       algo.fit(traingset) ----------> model\n",
    "       \n",
    "       algo.predict(traingset) ------> traning prediction\n",
    "       algo.predict(testingset) -----> testing prediction\n",
    "       \n",
    "       Accuracy of traning -------->\n",
    "       Accuracy of testing -------->\n",
    "       \n",
    "       Overfitting & Underfitting\n",
    "       \n",
    "   Overfitting:\n",
    "   -----------\n",
    "       model is performing well on seen (tranng data) but not doing well with testing data.\n",
    "       \n",
    "   Underfitting:\n",
    "   -----------\n",
    "       model is not performing well even on tranning data.\n",
    "       \n",
    "       \n",
    "   Note:-\n",
    "  ------\n",
    "          low variace means model is generalized or regularlized\n",
    "          \n",
    "    high bias and high variance  = underfitting"
   ]
  },
  {
   "cell_type": "markdown",
   "metadata": {},
   "source": [
    "KNN (K - nearest neighour)"
   ]
  },
  {
   "cell_type": "code",
   "execution_count": 4,
   "metadata": {},
   "outputs": [],
   "source": [
    "import matplotlib.pyplot as plt"
   ]
  },
  {
   "cell_type": "code",
   "execution_count": 8,
   "metadata": {},
   "outputs": [
    {
     "data": {
      "image/png": "[encoded data removed]",
      "text/plain": [
       "<Figure size 576x576 with 1 Axes>"
      ]
     },
     "metadata": {
      "needs_background": "light"
     },
     "output_type": "display_data"
    }
   ],
   "source": [
    "import pandas as pd\n",
    "df =  pd.read_csv('../dataset/classification/fruits.csv')\n",
    "import seaborn as sns\n",
    "plt.figure(0, figsize=(8,8))\n",
    "sns.scatterplot(x='diameter', y='weight', data=df, hue='FruitName')\n",
    "plt.scatter(x=[3.8], y=[60], c='k')\n",
    "plt.show()"
   ]
  },
  {
   "cell_type": "code",
   "execution_count": 9,
   "metadata": {},
   "outputs": [],
   "source": [
    "from sklearn.neighbors import KNeighborsClassifier"
   ]
  },
  {
   "cell_type": "code",
   "execution_count": 12,
   "metadata": {},
   "outputs": [],
   "source": [
    "knc = KNeighborsClassifier(n_neighbors=5, metric='minkowski', p=2)"
   ]
  },
  {
   "cell_type": "markdown",
   "metadata": {},
   "source": [
    "Hyper Parameter\n",
    "---------------\n",
    "    arguments that we pass while ceating object of algorithm.\n",
    "    In KNN, n_neighbours, metric, p are commonly used hyper parameters.\n",
    "    \n",
    "Parameter:\n",
    "---------\n",
    "       agrguments that are computed by algo itself.\n",
    "       In LinearRegression, codf(m), intercept(b) are parameter\n",
    "       \n",
    "  Hyper Parameter tuning:\n",
    "  -----------------------\n",
    "      "
   ]
  },
  {
   "cell_type": "code",
   "execution_count": 16,
   "metadata": {},
   "outputs": [],
   "source": [
    "X_train = df.iloc[:15, 0:-1].values\n",
    "y_train = df.iloc[:15, -1].values\n",
    "X_test = df.iloc[15:, 0:-1].values\n",
    "y_test = df.iloc[15:, -1].values"
   ]
  },
  {
   "cell_type": "code",
   "execution_count": 18,
   "metadata": {},
   "outputs": [],
   "source": [
    "from sklearn.metrics import accuracy_score"
   ]
  },
  {
   "cell_type": "code",
   "execution_count": 27,
   "metadata": {},
   "outputs": [
    {
     "name": "stdout",
     "output_type": "stream",
     "text": [
      "3 73.33333333333333 100.0\n",
      "4 73.33333333333333 100.0\n",
      "5 73.33333333333333 100.0\n",
      "6 73.33333333333333 100.0\n",
      "7 80.0 100.0\n",
      "8 80.0 100.0\n",
      "9 80.0 100.0\n"
     ]
    }
   ],
   "source": [
    "for i in range(3,10):\n",
    "    kncc = KNeighborsClassifier(n_neighbors=i)\n",
    "    kncc.fit(X_train, y_train)\n",
    "    pred_train = kncc.predict(X_train)\n",
    "    pred_test = kncc.predict(X_test)\n",
    "    train_acc = accuracy_score(y_train, pred_train)\n",
    "    test_acc = accuracy_score(y_test, pred_test)\n",
    "    print(i, train_acc*100, test_acc*100)"
   ]
  },
  {
   "cell_type": "markdown",
   "metadata": {},
   "source": [
    "Hyper parameter tuning:\n",
    "--------------------\n",
    " change the value of hyper parameter and rebuild model then check bias and variace... keep changing values until youu get low bias low variace in model."
   ]
  }
 ],
 "metadata": {
  "kernelspec": {
   "display_name": "Python 3",
   "language": "python",
   "name": "python3"
  },
  "language_info": {
   "codemirror_mode": {
    "name": "ipython",
    "version": 3
   },
   "file_extension": ".py",
   "mimetype": "text/x-python",
   "name": "python",
   "nbconvert_exporter": "python",
   "pygments_lexer": "ipython3",
   "version": "3.7.3"
  }
 },
 "nbformat": 4,
 "nbformat_minor": 4
}
