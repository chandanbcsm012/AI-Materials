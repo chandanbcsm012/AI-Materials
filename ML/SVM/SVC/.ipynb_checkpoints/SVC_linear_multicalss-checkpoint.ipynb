{
 "cells": [
  {
   "cell_type": "code",
   "execution_count": 29,
   "metadata": {},
   "outputs": [],
   "source": [
    "import numpy as np\n",
    "import pandas as pd\n",
    "import matplotlib.pyplot as plt\n",
    "import seaborn as sns\n",
    "from sklearn.preprocessing import StandardScaler\n",
    "from sklearn.model_selection import train_test_split\n",
    "from sklearn.svm import SVC\n",
    "from sklearn.datasets import load_iris"
   ]
  },
  {
   "cell_type": "code",
   "execution_count": 30,
   "metadata": {},
   "outputs": [
    {
     "data": {
      "text/plain": [
       "['DESCR', 'data', 'feature_names', 'filename', 'target', 'target_names']"
      ]
     },
     "execution_count": 30,
     "metadata": {},
     "output_type": "execute_result"
    }
   ],
   "source": [
    "iris = load_iris()\n",
    "dir(iris)"
   ]
  },
  {
   "cell_type": "code",
   "execution_count": 31,
   "metadata": {},
   "outputs": [
    {
     "data": {
      "text/plain": [
       "((150, 4), (150,))"
      ]
     },
     "execution_count": 31,
     "metadata": {},
     "output_type": "execute_result"
    }
   ],
   "source": [
    "iris[\"data\"].shape,iris[\"target\"].shape,"
   ]
  },
  {
   "cell_type": "code",
   "execution_count": 32,
   "metadata": {},
   "outputs": [],
   "source": [
    "X_train, X_test, y_train, y_test = train_test_split(iris[\"data\"], iris[\"target\"], test_size=0.33, random_state=42)"
   ]
  },
  {
   "cell_type": "code",
   "execution_count": 33,
   "metadata": {},
   "outputs": [],
   "source": [
    "scaler = StandardScaler()\n",
    "Xtrain = scaler.fit_transform(X_train)\n",
    "Xtest = scaler.transform(X_test)"
   ]
  },
  {
   "cell_type": "code",
   "execution_count": 34,
   "metadata": {},
   "outputs": [
    {
     "name": "stdout",
     "output_type": "stream",
     "text": [
      "[[-0.43261323  0.31763493 -0.86814647 -0.91624358]\n",
      " [-0.06326729  0.13297553 -0.54149147 -0.54651846]\n",
      " [ 0.21793362  0.70071456 -2.19639387 -2.09850754]] \n",
      " intercept:  [-1.54107568 -0.33848249  2.73728143]\n"
     ]
    }
   ],
   "source": [
    "svc = SVC(kernel=\"linear\", decision_function_shape=\"ovr\", probability=True)\n",
    "svc.fit(Xtrain, y_train)\n",
    "print(svc.coef_,\"\\n intercept: \", svc.intercept_)"
   ]
  },
  {
   "cell_type": "code",
   "execution_count": 36,
   "metadata": {
    "collapsed": true,
    "jupyter": {
     "outputs_hidden": true
    }
   },
   "outputs": [
    {
     "data": {
      "text/plain": [
       "array([[-0.30773825,  1.20791804,  2.3040048 ],\n",
       "       [-0.28452168,  2.29075918,  0.83329114],\n",
       "       [-0.31542865,  0.79484521,  2.31684608],\n",
       "       [-0.30786001,  1.20220608,  2.30445712],\n",
       "       [-0.30918568,  1.21185358,  2.30569381],\n",
       "       [-0.28376556,  2.28963757,  0.84176383],\n",
       "       [-0.30390254,  1.24357599,  2.29462895],\n",
       "       [-0.31176917,  1.10524285,  2.31110569],\n",
       "       [-0.30864232,  1.19467632,  2.30577641],\n",
       "       [-0.30506539,  1.23773914,  2.29751013],\n",
       "       [-0.31077347,  1.124239  ,  2.30982825],\n",
       "       [-0.27803329,  2.2893141 ,  0.79765657],\n",
       "       [-0.27917547,  2.29285063,  0.7749226 ],\n",
       "       [-0.2793366 ,  2.28914217,  0.80732714],\n",
       "       [-0.27999586,  2.29007025,  0.8024283 ],\n",
       "       [-0.30860958,  1.20035001,  2.30549926],\n",
       "       [-0.31268701,  0.86885044,  2.31348449],\n",
       "       [-0.30468806,  1.23524979,  2.29725098],\n",
       "       [-0.30706454,  1.20235966,  2.30342265],\n",
       "       [-0.31237363,  0.88529088,  2.31304304],\n",
       "       [-0.28055912,  2.2870379 ,  0.84360297],\n",
       "       [-0.30968059,  1.14387958,  2.30833337],\n",
       "       [-0.28333891,  2.28726393,  0.87924494],\n",
       "       [-0.31217906,  0.90366834,  2.31271101],\n",
       "       [-0.31376222,  1.00266798,  2.31375294],\n",
       "       [-0.31188965,  1.0460182 ,  2.31166641],\n",
       "       [-0.31234826,  0.93609443,  2.312657  ],\n",
       "       [-0.31312005,  0.87142489,  2.3138615 ],\n",
       "       [-0.28059301,  2.28789528,  0.83203353],\n",
       "       [-0.28133827,  2.28720923,  0.85021877],\n",
       "       [-0.2697274 ,  2.29210604,  0.75336706],\n",
       "       [-0.28143612,  2.29271635,  0.78640729],\n",
       "       [-0.307801  ,  1.23308602,  2.30226845],\n",
       "       [-0.28021826,  2.28793123,  0.82799952],\n",
       "       [-0.27530743,  2.28830924,  0.7920326 ],\n",
       "       [-0.31066456,  1.10296574,  2.30995391],\n",
       "       [-0.30798239,  1.21906861,  2.30365503],\n",
       "       [-0.28032239,  2.29045071,  0.80079695],\n",
       "       [-0.27780377,  2.29067583,  0.78523282],\n",
       "       [-0.27656064,  2.29228865,  0.76923511],\n",
       "       [-0.31035658,  1.02048545,  2.3102524 ],\n",
       "       [-0.30770523,  1.2058818 ,  2.30407093],\n",
       "       [-0.30886762,  1.21464217,  2.30512323],\n",
       "       [-0.27972179,  2.29210826,  0.78288653],\n",
       "       [-0.28039861,  2.29156162,  0.79091417],\n",
       "       [-0.30358168,  1.24272842,  2.29423211],\n",
       "       [-0.30973484,  1.15807622,  2.30812516],\n",
       "       [-0.31117357,  1.05461907,  2.31088107],\n",
       "       [-0.30779214,  1.2298698 ,  2.30255197],\n",
       "       [-0.31382121,  0.86085033,  2.31460673]])"
      ]
     },
     "execution_count": 36,
     "metadata": {},
     "output_type": "execute_result"
    }
   ],
   "source": [
    "svc.decision_function(X_test)"
   ]
  },
  {
   "cell_type": "code",
   "execution_count": 50,
   "metadata": {},
   "outputs": [
    {
     "data": {
      "text/plain": [
       "array([34, 16])"
      ]
     },
     "execution_count": 50,
     "metadata": {},
     "output_type": "execute_result"
    }
   ],
   "source": [
    "np.bincount(svc.predict(X_test) == y_test)"
   ]
  },
  {
   "cell_type": "code",
   "execution_count": 51,
   "metadata": {},
   "outputs": [
    {
     "data": {
      "text/plain": [
       "array([False, False,  True, False, False, False, False,  True, False,\n",
       "       False,  True, False, False, False, False, False,  True, False,\n",
       "       False,  True, False,  True, False,  True,  True,  True,  True,\n",
       "        True, False, False, False, False, False, False, False,  True,\n",
       "       False, False, False, False,  True, False, False, False, False,\n",
       "       False,  True,  True, False,  True])"
      ]
     },
     "execution_count": 51,
     "metadata": {},
     "output_type": "execute_result"
    }
   ],
   "source": [
    "svc.predict(X_test) == y_test"
   ]
  },
  {
   "cell_type": "code",
   "execution_count": null,
   "metadata": {},
   "outputs": [],
   "source": []
  },
  {
   "cell_type": "code",
   "execution_count": 38,
   "metadata": {
    "collapsed": true,
    "jupyter": {
     "outputs_hidden": true
    }
   },
   "outputs": [
    {
     "data": {
      "text/plain": [
       "array([[1.46148481e-08, 1.75352196e-08, 9.99999968e-01],\n",
       "       [1.32395589e-05, 9.96095516e-01, 3.89124402e-03],\n",
       "       [6.23053297e-13, 7.47663328e-13, 1.00000000e+00],\n",
       "       [1.20956920e-08, 1.45128740e-08, 9.99999973e-01],\n",
       "       [4.91014583e-09, 5.89166923e-09, 9.99999989e-01],\n",
       "       [2.29507932e-05, 9.94852716e-01, 5.12433364e-03],\n",
       "       [3.17204354e-07, 3.80395062e-07, 9.99999302e-01],\n",
       "       [1.88632547e-10, 2.26355269e-10, 1.00000000e+00],\n",
       "       [6.94265105e-09, 8.33033074e-09, 9.99999985e-01],\n",
       "       [1.46413627e-07, 1.75615503e-07, 9.99999678e-01],\n",
       "       [5.46391075e-10, 6.55650567e-10, 9.99999999e-01],\n",
       "       [3.10101277e-06, 9.98188251e-01, 1.80864785e-03],\n",
       "       [3.16504424e-07, 9.99463331e-01, 5.36352910e-04],\n",
       "       [5.50963903e-06, 9.97543730e-01, 2.45076043e-03],\n",
       "       [3.20524095e-06, 9.98126962e-01, 1.86983254e-03],\n",
       "       [6.15276837e-09, 7.38261251e-09, 9.99999986e-01],\n",
       "       [3.65924877e-11, 4.39106647e-11, 1.00000000e+00],\n",
       "       [1.81296310e-07, 2.17444078e-07, 9.99999601e-01],\n",
       "       [2.21220275e-08, 2.65415960e-08, 9.99999951e-01],\n",
       "       [5.80867912e-11, 6.97035061e-11, 1.00000000e+00],\n",
       "       [3.59097800e-05, 9.93586985e-01, 6.37710561e-03],\n",
       "       [1.70122817e-09, 2.04137075e-09, 9.99999996e-01],\n",
       "       [9.63821079e-05, 9.89301669e-01, 1.06019494e-02],\n",
       "       [7.73891196e-11, 9.28659524e-11, 1.00000000e+00],\n",
       "       [1.29609472e-11, 1.55530699e-11, 1.00000000e+00],\n",
       "       [1.41474624e-10, 1.69767092e-10, 1.00000000e+00],\n",
       "       [7.60936432e-11, 9.13114056e-11, 1.00000000e+00],\n",
       "       [2.15156079e-11, 2.58185857e-11, 1.00000000e+00],\n",
       "       [2.13866184e-05, 9.95078618e-01, 4.89999575e-03],\n",
       "       [4.48788145e-05, 9.92803549e-01, 7.15157266e-03],\n",
       "       [9.62020925e-07, 9.99847982e-01, 1.51055666e-04],\n",
       "       [6.51087259e-07, 9.99166459e-01, 8.32889936e-04],\n",
       "       [1.95157232e-08, 2.34148718e-08, 9.99999957e-01],\n",
       "       [1.68477570e-05, 9.95639449e-01, 4.34370353e-03],\n",
       "       [2.51132738e-06, 9.98440824e-01, 1.55666499e-03],\n",
       "       [6.34160049e-10, 7.60968641e-10, 9.99999999e-01],\n",
       "       [1.30584105e-08, 1.56678997e-08, 9.99999971e-01],\n",
       "       [2.89690670e-06, 9.98220129e-01, 1.77697413e-03],\n",
       "       [1.00399231e-06, 9.99008969e-01, 9.90026704e-04],\n",
       "       [2.85581038e-07, 9.99601890e-01, 3.97824529e-04],\n",
       "       [6.47890408e-10, 7.77444306e-10, 9.99999999e-01],\n",
       "       [1.28712138e-08, 1.54433094e-08, 9.99999972e-01],\n",
       "       [6.24224630e-09, 7.48997048e-09, 9.99999986e-01],\n",
       "       [6.13153786e-07, 9.99212563e-01, 7.86824116e-04],\n",
       "       [1.23777039e-06, 9.98849350e-01, 1.14941251e-03],\n",
       "       [4.11593088e-07, 4.93541230e-07, 9.99999095e-01],\n",
       "       [1.85429669e-09, 2.22503875e-09, 9.99999996e-01],\n",
       "       [2.99883019e-10, 3.59852021e-10, 9.99999999e-01],\n",
       "       [1.88142938e-08, 2.25733669e-08, 9.99999959e-01],\n",
       "       [7.95332105e-12, 9.54395340e-12, 1.00000000e+00]])"
      ]
     },
     "execution_count": 38,
     "metadata": {},
     "output_type": "execute_result"
    }
   ],
   "source": [
    "svc.predict_proba(X_test)"
   ]
  },
  {
   "cell_type": "code",
   "execution_count": null,
   "metadata": {},
   "outputs": [],
   "source": [
    "np.unique(iris['target'])"
   ]
  }
 ],
 "metadata": {
  "kernelspec": {
   "display_name": "Python 3",
   "language": "python",
   "name": "python3"
  },
  "language_info": {
   "codemirror_mode": {
    "name": "ipython",
    "version": 3
   },
   "file_extension": ".py",
   "mimetype": "text/x-python",
   "name": "python",
   "nbconvert_exporter": "python",
   "pygments_lexer": "ipython3",
   "version": "3.7.3"
  }
 },
 "nbformat": 4,
 "nbformat_minor": 4
}
