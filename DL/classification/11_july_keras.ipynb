{
 "cells": [
  {
   "cell_type": "code",
   "execution_count": 45,
   "metadata": {
    "colab": {},
    "colab_type": "code",
    "id": "-k8nixq4RV_3"
   },
   "outputs": [],
   "source": [
    "import pandas as pd\n",
    "from tensorflow.keras import Sequential\n",
    "from tensorflow.keras.layers import Dense"
   ]
  },
  {
   "cell_type": "code",
   "execution_count": 46,
   "metadata": {
    "colab": {},
    "colab_type": "code",
    "id": "ryJUW0trRct5"
   },
   "outputs": [],
   "source": [
    "df= pd.read_csv('sample_data/mnist_train_small.csv',header=None)\n",
    "X_train=df.iloc[:,1:].values\n",
    "y_train=df.iloc[:,0].values\n",
    "\n",
    "df= pd.read_csv('sample_data/mnist_test.csv',header=None)\n",
    "X_test=df.iloc[:,1:].values\n",
    "y_test=df.iloc[:,0].values\n",
    "\n",
    "X_train_new=X_train/255.0\n",
    "X_test_new=X_test/255.0\n"
   ]
  },
  {
   "cell_type": "code",
   "execution_count": 90,
   "metadata": {
    "colab": {
     "base_uri": "https://localhost:8080/",
     "height": 399
    },
    "colab_type": "code",
    "id": "lgAzOH2WRy8_",
    "outputId": "ee463c2d-2f3f-4feb-cd93-1a378de8f006"
   },
   "outputs": [
    {
     "name": "stdout",
     "output_type": "stream",
     "text": [
      "Epoch 1/10\n",
      "334/334 [==============================] - 2s 7ms/step - loss: 0.3490 - accuracy: 0.8955\n",
      "Epoch 2/10\n",
      "334/334 [==============================] - 2s 7ms/step - loss: 0.1427 - accuracy: 0.9562\n",
      "Epoch 3/10\n",
      "334/334 [==============================] - 2s 7ms/step - loss: 0.0891 - accuracy: 0.9732\n",
      "Epoch 4/10\n",
      "334/334 [==============================] - 2s 7ms/step - loss: 0.0603 - accuracy: 0.9802\n",
      "Epoch 5/10\n",
      "334/334 [==============================] - 2s 7ms/step - loss: 0.0440 - accuracy: 0.9865\n",
      "Epoch 6/10\n",
      "334/334 [==============================] - 2s 7ms/step - loss: 0.0290 - accuracy: 0.9905\n",
      "Epoch 7/10\n",
      "334/334 [==============================] - 2s 7ms/step - loss: 0.0205 - accuracy: 0.9931\n",
      "Epoch 8/10\n",
      "334/334 [==============================] - 2s 7ms/step - loss: 0.0161 - accuracy: 0.9945\n",
      "Epoch 9/10\n",
      "334/334 [==============================] - 2s 7ms/step - loss: 0.0116 - accuracy: 0.9961\n",
      "Epoch 10/10\n",
      "334/334 [==============================] - 2s 7ms/step - loss: 0.0087 - accuracy: 0.9968\n"
     ]
    },
    {
     "data": {
      "text/plain": [
       "<tensorflow.python.keras.callbacks.History at 0x7f541c0625f8>"
      ]
     },
     "execution_count": 90,
     "metadata": {
      "tags": []
     },
     "output_type": "execute_result"
    }
   ],
   "source": [
    "'''\n",
    "model=Sequential() #untrained model\n",
    "h1=Dense(400,activation='relu')\n",
    "h2=Dense(100,activation='relu')\n",
    "out=Dense(10,activation='softmax')\n",
    "\n",
    "#adding layers to model\n",
    "model.add(h1)\n",
    "model.add(h2)\n",
    "model.add(out)\n",
    "'''\n",
    "\n",
    "model=Sequential() \n",
    "model.add(Dense(400,activation='relu',input_dim=784))\n",
    "model.add(Dense(100,activation='relu'))\n",
    "model.add(Dense(10,activation='softmax'))\n",
    "\n",
    "#compile the model\n",
    "model.compile(loss='sparse_categorical_crossentropy',optimizer='rmsprop',metrics=['accuracy'])\n",
    "\n",
    "#train the model\n",
    "model.fit(X_train_new,y_train,epochs=10,batch_size=60)"
   ]
  },
  {
   "cell_type": "code",
   "execution_count": 91,
   "metadata": {
    "colab": {
     "base_uri": "https://localhost:8080/",
     "height": 54
    },
    "colab_type": "code",
    "id": "CasZgFbKRz9G",
    "outputId": "0556f286-f195-41e9-b93a-db99e31b938d"
   },
   "outputs": [
    {
     "name": "stdout",
     "output_type": "stream",
     "text": [
      "313/313 [==============================] - 1s 2ms/step - loss: 0.1363 - accuracy: 0.9741\n"
     ]
    },
    {
     "data": {
      "text/plain": [
       "[0.1362905651330948, 0.9740999937057495]"
      ]
     },
     "execution_count": 91,
     "metadata": {
      "tags": []
     },
     "output_type": "execute_result"
    }
   ],
   "source": [
    "model.evaluate(X_test_new,y_test)"
   ]
  },
  {
   "cell_type": "code",
   "execution_count": 23,
   "metadata": {
    "colab": {
     "base_uri": "https://localhost:8080/",
     "height": 110
    },
    "colab_type": "code",
    "id": "K_M4sO74bnkC",
    "outputId": "0d4ce6e1-a54d-42de-9070-d901e49f509d"
   },
   "outputs": [
    {
     "name": "stdout",
     "output_type": "stream",
     "text": [
      "WARNING:tensorflow:From <ipython-input-23-73151545147e>:1: Sequential.predict_classes (from tensorflow.python.keras.engine.sequential) is deprecated and will be removed after 2021-01-01.\n",
      "Instructions for updating:\n",
      "Please use instead:* `np.argmax(model.predict(x), axis=-1)`,   if your model does multi-class classification   (e.g. if it uses a `softmax` last-layer activation).* `(model.predict(x) > 0.5).astype(\"int32\")`,   if your model does binary classification   (e.g. if it uses a `sigmoid` last-layer activation).\n"
     ]
    },
    {
     "data": {
      "text/plain": [
       "array([7, 2, 1, ..., 4, 5, 6])"
      ]
     },
     "execution_count": 23,
     "metadata": {
      "tags": []
     },
     "output_type": "execute_result"
    }
   ],
   "source": [
    "model.predict_classes(X_test_new)"
   ]
  },
  {
   "cell_type": "code",
   "execution_count": 24,
   "metadata": {
    "colab": {
     "base_uri": "https://localhost:8080/",
     "height": 35
    },
    "colab_type": "code",
    "id": "nbGdXV3KcfUl",
    "outputId": "729624f4-d42c-457d-a465-711438ceeaf8"
   },
   "outputs": [
    {
     "data": {
      "text/plain": [
       "array([7, 2, 1, ..., 4, 5, 6])"
      ]
     },
     "execution_count": 24,
     "metadata": {
      "tags": []
     },
     "output_type": "execute_result"
    }
   ],
   "source": [
    "import numpy as np\n",
    "np.argmax(model.predict(X_test_new), axis=-1)"
   ]
  },
  {
   "cell_type": "code",
   "execution_count": null,
   "metadata": {
    "colab": {},
    "colab_type": "code",
    "id": "FpQgziuCdGsn"
   },
   "outputs": [],
   "source": [
    "import cv2\n",
    "gray=cv2.imread('55.png',0)\n",
    "gray=gray.reshape(1,-1)\n",
    "gray=gray/255.0\n",
    "np.argmax(model.predict(gray), axis=-1)"
   ]
  }
 ],
 "metadata": {
  "colab": {
   "collapsed_sections": [],
   "name": "11_july_keras.ipynb",
   "provenance": []
  },
  "kernelspec": {
   "display_name": "Python 3",
   "language": "python",
   "name": "python3"
  },
  "language_info": {
   "codemirror_mode": {
    "name": "ipython",
    "version": 3
   },
   "file_extension": ".py",
   "mimetype": "text/x-python",
   "name": "python",
   "nbconvert_exporter": "python",
   "pygments_lexer": "ipython3",
   "version": "3.7.3"
  }
 },
 "nbformat": 4,
 "nbformat_minor": 4
}
