{
  "nbformat": 4,
  "nbformat_minor": 0,
  "metadata": {
    "colab": {
      "name": "11_july_keras.ipynb",
      "provenance": [],
      "collapsed_sections": []
    },
    "kernelspec": {
      "name": "python3",
      "display_name": "Python 3"
    }
  },
  "cells": [
    {
      "cell_type": "code",
      "metadata": {
        "id": "-k8nixq4RV_3",
        "colab_type": "code",
        "colab": {}
      },
      "source": [
        "import pandas as pd\n",
        "from tensorflow.keras import Sequential\n",
        "from tensorflow.keras.layers import Dense"
      ],
      "execution_count": 45,
      "outputs": []
    },
    {
      "cell_type": "code",
      "metadata": {
        "id": "ryJUW0trRct5",
        "colab_type": "code",
        "colab": {}
      },
      "source": [
        "df= pd.read_csv('sample_data/mnist_train_small.csv',header=None)\n",
        "X_train=df.iloc[:,1:].values\n",
        "y_train=df.iloc[:,0].values\n",
        "\n",
        "df= pd.read_csv('sample_data/mnist_test.csv',header=None)\n",
        "X_test=df.iloc[:,1:].values\n",
        "y_test=df.iloc[:,0].values\n",
        "\n",
        "X_train_new=X_train/255.0\n",
        "X_test_new=X_test/255.0\n"
      ],
      "execution_count": 46,
      "outputs": []
    },
    {
      "cell_type": "code",
      "metadata": {
        "id": "lgAzOH2WRy8_",
        "colab_type": "code",
        "colab": {
          "base_uri": "https://localhost:8080/",
          "height": 399
        },
        "outputId": "ee463c2d-2f3f-4feb-cd93-1a378de8f006"
      },
      "source": [
        "'''\n",
        "model=Sequential() #untrained model\n",
        "h1=Dense(400,activation='relu')\n",
        "h2=Dense(100,activation='relu')\n",
        "out=Dense(10,activation='softmax')\n",
        "\n",
        "#adding layers to model\n",
        "model.add(h1)\n",
        "model.add(h2)\n",
        "model.add(out)\n",
        "'''\n",
        "\n",
        "model=Sequential() \n",
        "model.add(Dense(400,activation='relu',input_dim=784))\n",
        "model.add(Dense(100,activation='relu'))\n",
        "model.add(Dense(10,activation='softmax'))\n",
        "\n",
        "#compile the model\n",
        "model.compile(loss='sparse_categorical_crossentropy',optimizer='rmsprop',metrics=['accuracy'])\n",
        "\n",
        "#train the model\n",
        "model.fit(X_train_new,y_train,epochs=10,batch_size=60)"
      ],
      "execution_count": 90,
      "outputs": [
        {
          "output_type": "stream",
          "text": [
            "Epoch 1/10\n",
            "334/334 [==============================] - 2s 7ms/step - loss: 0.3490 - accuracy: 0.8955\n",
            "Epoch 2/10\n",
            "334/334 [==============================] - 2s 7ms/step - loss: 0.1427 - accuracy: 0.9562\n",
            "Epoch 3/10\n",
            "334/334 [==============================] - 2s 7ms/step - loss: 0.0891 - accuracy: 0.9732\n",
            "Epoch 4/10\n",
            "334/334 [==============================] - 2s 7ms/step - loss: 0.0603 - accuracy: 0.9802\n",
            "Epoch 5/10\n",
            "334/334 [==============================] - 2s 7ms/step - loss: 0.0440 - accuracy: 0.9865\n",
            "Epoch 6/10\n",
            "334/334 [==============================] - 2s 7ms/step - loss: 0.0290 - accuracy: 0.9905\n",
            "Epoch 7/10\n",
            "334/334 [==============================] - 2s 7ms/step - loss: 0.0205 - accuracy: 0.9931\n",
            "Epoch 8/10\n",
            "334/334 [==============================] - 2s 7ms/step - loss: 0.0161 - accuracy: 0.9945\n",
            "Epoch 9/10\n",
            "334/334 [==============================] - 2s 7ms/step - loss: 0.0116 - accuracy: 0.9961\n",
            "Epoch 10/10\n",
            "334/334 [==============================] - 2s 7ms/step - loss: 0.0087 - accuracy: 0.9968\n"
          ],
          "name": "stdout"
        },
        {
          "output_type": "execute_result",
          "data": {
            "text/plain": [
              "<tensorflow.python.keras.callbacks.History at 0x7f541c0625f8>"
            ]
          },
          "metadata": {
            "tags": []
          },
          "execution_count": 90
        }
      ]
    },
    {
      "cell_type": "code",
      "metadata": {
        "id": "CasZgFbKRz9G",
        "colab_type": "code",
        "colab": {
          "base_uri": "https://localhost:8080/",
          "height": 54
        },
        "outputId": "0556f286-f195-41e9-b93a-db99e31b938d"
      },
      "source": [
        "model.evaluate(X_test_new,y_test)"
      ],
      "execution_count": 91,
      "outputs": [
        {
          "output_type": "stream",
          "text": [
            "313/313 [==============================] - 1s 2ms/step - loss: 0.1363 - accuracy: 0.9741\n"
          ],
          "name": "stdout"
        },
        {
          "output_type": "execute_result",
          "data": {
            "text/plain": [
              "[0.1362905651330948, 0.9740999937057495]"
            ]
          },
          "metadata": {
            "tags": []
          },
          "execution_count": 91
        }
      ]
    },
    {
      "cell_type": "code",
      "metadata": {
        "id": "K_M4sO74bnkC",
        "colab_type": "code",
        "colab": {
          "base_uri": "https://localhost:8080/",
          "height": 110
        },
        "outputId": "0d4ce6e1-a54d-42de-9070-d901e49f509d"
      },
      "source": [
        "model.predict_classes(X_test_new)"
      ],
      "execution_count": 23,
      "outputs": [
        {
          "output_type": "stream",
          "text": [
            "WARNING:tensorflow:From <ipython-input-23-73151545147e>:1: Sequential.predict_classes (from tensorflow.python.keras.engine.sequential) is deprecated and will be removed after 2021-01-01.\n",
            "Instructions for updating:\n",
            "Please use instead:* `np.argmax(model.predict(x), axis=-1)`,   if your model does multi-class classification   (e.g. if it uses a `softmax` last-layer activation).* `(model.predict(x) > 0.5).astype(\"int32\")`,   if your model does binary classification   (e.g. if it uses a `sigmoid` last-layer activation).\n"
          ],
          "name": "stdout"
        },
        {
          "output_type": "execute_result",
          "data": {
            "text/plain": [
              "array([7, 2, 1, ..., 4, 5, 6])"
            ]
          },
          "metadata": {
            "tags": []
          },
          "execution_count": 23
        }
      ]
    },
    {
      "cell_type": "code",
      "metadata": {
        "id": "nbGdXV3KcfUl",
        "colab_type": "code",
        "colab": {
          "base_uri": "https://localhost:8080/",
          "height": 35
        },
        "outputId": "729624f4-d42c-457d-a465-711438ceeaf8"
      },
      "source": [
        "import numpy as np\n",
        "np.argmax(model.predict(X_test_new), axis=-1)"
      ],
      "execution_count": 24,
      "outputs": [
        {
          "output_type": "execute_result",
          "data": {
            "text/plain": [
              "array([7, 2, 1, ..., 4, 5, 6])"
            ]
          },
          "metadata": {
            "tags": []
          },
          "execution_count": 24
        }
      ]
    },
    {
      "cell_type": "code",
      "metadata": {
        "id": "FpQgziuCdGsn",
        "colab_type": "code",
        "colab": {}
      },
      "source": [
        "import cv2\n",
        "gray=cv2.imread('55.png',0)\n",
        "gray=gray.reshape(1,-1)\n",
        "gray=gray/255.0\n",
        "np.argmax(model.predict(gray), axis=-1)"
      ],
      "execution_count": null,
      "outputs": []
    },
    {
      "cell_type": "code",
      "metadata": {
        "id": "qX3Nt4kNd412",
        "colab_type": "code",
        "colab": {}
      },
      "source": [
        ""
      ],
      "execution_count": null,
      "outputs": []
    }
  ]
}