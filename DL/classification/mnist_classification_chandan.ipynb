{
 "cells": [
  {
   "cell_type": "code",
   "execution_count": 1,
   "metadata": {
    "colab": {},
    "colab_type": "code",
    "id": "5lfyTmtHskrq"
   },
   "outputs": [],
   "source": [
    "import numpy as np\n",
    "import pandas as pd\n",
    "import cv2"
   ]
  },
  {
   "cell_type": "code",
   "execution_count": 2,
   "metadata": {
    "colab": {},
    "colab_type": "code",
    "id": "7ofwwtuLs215"
   },
   "outputs": [],
   "source": [
    "from sklearn.preprocessing import StandardScaler\n",
    "from sklearn.metrics import accuracy_score"
   ]
  },
  {
   "cell_type": "code",
   "execution_count": 3,
   "metadata": {
    "colab": {},
    "colab_type": "code",
    "id": "g1ZQpfqRtRLc"
   },
   "outputs": [],
   "source": [
    "import tensorflow as tf"
   ]
  },
  {
   "cell_type": "code",
   "execution_count": 22,
   "metadata": {
    "colab": {
     "base_uri": "https://localhost:8080/",
     "height": 34
    },
    "colab_type": "code",
    "id": "VtN7bTeetYfD",
    "outputId": "c6c8bb6d-f295-4353-f834-83762fa75ae0"
   },
   "outputs": [
    {
     "name": "stdout",
     "output_type": "stream",
     "text": [
      "(20000, 784) (20000,)\n"
     ]
    }
   ],
   "source": [
    "df = pd.read_csv(\"/content/sample_data/mnist_train_small.csv\", header=None)\n",
    "X = df.iloc[:,1:].values\n",
    "y = df.iloc[:,0].values\n",
    "print(X.shape, y.shape)"
   ]
  },
  {
   "cell_type": "code",
   "execution_count": 24,
   "metadata": {
    "colab": {
     "base_uri": "https://localhost:8080/",
     "height": 204
    },
    "colab_type": "code",
    "id": "b0pn1empvQl3",
    "outputId": "83377cb8-a74c-4842-90bb-0c0c4bb40da8"
   },
   "outputs": [
    {
     "data": {
      "text/plain": [
       "1    2243\n",
       "7    2126\n",
       "6    2039\n",
       "9    2023\n",
       "3    2021\n",
       "2    1989\n",
       "0    1962\n",
       "4    1924\n",
       "8    1912\n",
       "5    1761\n",
       "Name: 0, dtype: int64"
      ]
     },
     "execution_count": 24,
     "metadata": {
      "tags": []
     },
     "output_type": "execute_result"
    }
   ],
   "source": [
    "df[0].value_counts()"
   ]
  },
  {
   "cell_type": "code",
   "execution_count": 45,
   "metadata": {
    "colab": {},
    "colab_type": "code",
    "id": "fo-7SQ7xvX26"
   },
   "outputs": [],
   "source": [
    "def output_neourn(X, w, b):\n",
    "  return tf.matmul(X, w) + b\n",
    "\n",
    "def activation(ynet):\n",
    "  return tf.nn.softmax(ynet)\n",
    "\n",
    "def loss(y_true, logits):\n",
    "  return tf.reduce_mean(tf.losses.categorical_crossentropy(tf.one_hot(y_true,10), logits))"
   ]
  },
  {
   "cell_type": "code",
   "execution_count": 29,
   "metadata": {
    "colab": {
     "base_uri": "https://localhost:8080/",
     "height": 34
    },
    "colab_type": "code",
    "id": "zAUIUoXz0Z-q",
    "outputId": "30058f78-587f-4342-80cb-a70bde5b45b8"
   },
   "outputs": [
    {
     "data": {
      "text/plain": [
       "784"
      ]
     },
     "execution_count": 29,
     "metadata": {
      "tags": []
     },
     "output_type": "execute_result"
    }
   ],
   "source": []
  },
  {
   "cell_type": "markdown",
   "metadata": {
    "colab_type": "text",
    "id": "GBm_UCVn1zmC"
   },
   "source": [
    "# **Perceptron**"
   ]
  },
  {
   "cell_type": "code",
   "execution_count": 103,
   "metadata": {
    "colab": {
     "base_uri": "https://localhost:8080/",
     "height": 935
    },
    "colab_type": "code",
    "id": "FhMtj3bp849l",
    "outputId": "427ad9dd-f49d-432b-d45c-e0e5b58dbbe1"
   },
   "outputs": [
    {
     "name": "stdout",
     "output_type": "stream",
     "text": [
      "epoch: 0,           learning_rate: 1,      score: 0.1165\n",
      "epoch: 100,           learning_rate: 0.8835,      score: 0.8355\n",
      "epoch: 200,           learning_rate: 0.16449999999999998,      score: 0.8741\n",
      "epoch: 300,           learning_rate: 0.1259,      score: 0.89005\n",
      "epoch: 400,           learning_rate: 0.10994999999999999,      score: 0.90115\n",
      "epoch: 500,           learning_rate: 0.09885,      score: 0.9083\n",
      "epoch: 600,           learning_rate: 0.0917,      score: 0.9128\n",
      "epoch: 700,           learning_rate: 0.08720000000000006,      score: 0.91675\n",
      "epoch: 800,           learning_rate: 0.08325000000000005,      score: 0.92105\n",
      "epoch: 900,           learning_rate: 0.07894999999999996,      score: 0.92485\n",
      "epoch: 1000,           learning_rate: 0.07515000000000005,      score: 0.9274\n",
      "epoch: 1100,           learning_rate: 0.0726,      score: 0.92975\n",
      "epoch: 1200,           learning_rate: 0.07025000000000003,      score: 0.93205\n",
      "epoch: 1300,           learning_rate: 0.06794999999999995,      score: 0.93385\n",
      "epoch: 1400,           learning_rate: 0.06615000000000004,      score: 0.9347\n",
      "epoch: 1500,           learning_rate: 0.06530000000000002,      score: 0.9363\n",
      "epoch: 1600,           learning_rate: 0.06369999999999998,      score: 0.9377\n",
      "epoch: 1700,           learning_rate: 0.06230000000000002,      score: 0.93945\n",
      "epoch: 1800,           learning_rate: 0.06054999999999999,      score: 0.94005\n",
      "epoch: 1900,           learning_rate: 0.05994999999999995,      score: 0.9406\n",
      "epoch: 2000,           learning_rate: 0.05940000000000001,      score: 0.9412\n",
      "epoch: 2100,           learning_rate: 0.05879999999999996,      score: 0.9415\n",
      "epoch: 2200,           learning_rate: 0.058499999999999996,      score: 0.94255\n",
      "epoch: 2300,           learning_rate: 0.05745,      score: 0.94375\n",
      "epoch: 2400,           learning_rate: 0.05625000000000002,      score: 0.9443\n",
      "epoch: 2500,           learning_rate: 0.05569999999999997,      score: 0.9453\n",
      "epoch: 2600,           learning_rate: 0.05469999999999997,      score: 0.94625\n",
      "epoch: 2700,           learning_rate: 0.053749999999999964,      score: 0.94705\n",
      "epoch: 2800,           learning_rate: 0.05295000000000005,      score: 0.9478\n",
      "epoch: 2900,           learning_rate: 0.052200000000000024,      score: 0.94845\n",
      "epoch: 3000,           learning_rate: 0.051549999999999985,      score: 0.9494\n",
      "epoch: 3100,           learning_rate: 0.05059999999999998,      score: 0.95\n",
      "epoch: 3200,           learning_rate: 0.050000000000000044,      score: 0.95045\n",
      "epoch: 3300,           learning_rate: 0.04954999999999998,      score: 0.95105\n",
      "epoch: 3400,           learning_rate: 0.04895000000000005,      score: 0.9518\n",
      "epoch: 3500,           learning_rate: 0.04820000000000002,      score: 0.95225\n",
      "epoch: 3600,           learning_rate: 0.04774999999999996,      score: 0.9529\n",
      "epoch: 3700,           learning_rate: 0.04710000000000003,      score: 0.9532\n",
      "epoch: 3800,           learning_rate: 0.04679999999999995,      score: 0.9539\n",
      "epoch: 3900,           learning_rate: 0.04610000000000003,      score: 0.9544\n",
      "epoch: 4000,           learning_rate: 0.045599999999999974,      score: 0.9548\n",
      "epoch: 4100,           learning_rate: 0.04520000000000002,      score: 0.95545\n",
      "epoch: 4200,           learning_rate: 0.04454999999999998,      score: 0.95595\n",
      "epoch: 4300,           learning_rate: 0.044050000000000034,      score: 0.95675\n",
      "epoch: 4400,           learning_rate: 0.04325000000000001,      score: 0.95725\n",
      "epoch: 4500,           learning_rate: 0.042749999999999955,      score: 0.9578\n",
      "epoch: 4600,           learning_rate: 0.042200000000000015,      score: 0.9584\n",
      "epoch: 4700,           learning_rate: 0.04159999999999997,      score: 0.95885\n",
      "epoch: 4800,           learning_rate: 0.04115000000000002,      score: 0.9592\n",
      "epoch: 4900,           learning_rate: 0.04079999999999995,      score: 0.9594\n",
      "epoch: 5000,           learning_rate: 0.04059999999999997,      score: 0.9597\n",
      "epoch: 5100,           learning_rate: 0.0403,      score: 0.96005\n",
      "CPU times: user 15min 48s, sys: 22.1 s, total: 16min 10s\n",
      "Wall time: 10min 9s\n"
     ]
    }
   ],
   "source": [
    "%%time\n",
    "sc=StandardScaler()\n",
    "X_new=sc.fit_transform(X)\n",
    "tf.random.set_seed(3)\n",
    "w=tf.Variable(tf.random.truncated_normal(shape=[784,10],dtype='double'))\n",
    "b=tf.Variable(tf.random.truncated_normal(shape=[10],dtype='double'))\n",
    "lr = 1\n",
    "optimizer=tf.optimizers.SGD(learning_rate=lr)\n",
    "for epoch in range(5101):\n",
    "  with tf.GradientTape() as tape:\n",
    "    logits=activation(output_neourn(X_new,w,b))\n",
    "    if epoch%100==0: \n",
    "      score = accuracy_score(y,tf.argmax(logits,1))\n",
    "      print(f\"epoch: {epoch},\\t learning_rate: {lr:.5%},\\t score: {score:.5%}\")\n",
    "      lr =  1 - score if lr > 0.0 else 0.0001\n",
    "    optimizer.apply_gradients(zip(tape.gradient(loss(y,logits),[w,b]),[w,b]))"
   ]
  },
  {
   "cell_type": "code",
   "execution_count": 100,
   "metadata": {
    "colab": {
     "base_uri": "https://localhost:8080/",
     "height": 34
    },
    "colab_type": "code",
    "id": "ekFCrhL6KDlj",
    "outputId": "5fcca1d6-d6b0-4304-9efe-745eea11846e"
   },
   "outputs": [
    {
     "name": "stdout",
     "output_type": "stream",
     "text": [
      "score: 0.9274\n"
     ]
    }
   ],
   "source": [
    "df_test=pd.read_csv('sample_data/mnist_test.csv',header=None)\n",
    "X_test=df.iloc[:,1:].values\n",
    "y_test=df.iloc[:,0].values\n",
    "X_test_new=sc.transform(X_test)\n",
    "ynet=output_neourn(X_test_new,w,b)\n",
    "logits=activation(ynet)\n",
    "ls=loss(y_test,logits)\n",
    "yhat=tf.argmax(logits,1)\n",
    "print('score:',accuracy_score(y_test,yhat))"
   ]
  },
  {
   "cell_type": "code",
   "execution_count": 102,
   "metadata": {
    "colab": {
     "base_uri": "https://localhost:8080/",
     "height": 34
    },
    "colab_type": "code",
    "id": "PIKRMi4wKaFd",
    "outputId": "1d6b005d-44b5-43c5-cb06-f86c52ac7666"
   },
   "outputs": [
    {
     "name": "stdout",
     "output_type": "stream",
     "text": [
      "tf.Tensor([0], shape=(1,), dtype=int64)\n"
     ]
    }
   ],
   "source": [
    "gray=cv2.imread('sample_data/0.jpeg',0)\n",
    "gray=gray.reshape(1,-1)\n",
    "gray=sc.transform(gray)\n",
    "ynet=output_neourn(gray,w,b)\n",
    "logits=activation(ynet)\n",
    "pred=tf.argmax(logits,1)\n",
    "print(pred)"
   ]
  },
  {
   "cell_type": "markdown",
   "metadata": {
    "colab_type": "text",
    "id": "L1pSjBnyrnaP"
   },
   "source": [
    "**Hidden Layer**"
   ]
  },
  {
   "cell_type": "code",
   "execution_count": 118,
   "metadata": {
    "colab": {
     "base_uri": "https://localhost:8080/",
     "height": 1000
    },
    "colab_type": "code",
    "id": "X2l-LQ5upP6g",
    "outputId": "e23d784f-cce3-47df-ca4d-17247b7a3dc6"
   },
   "outputs": [
    {
     "name": "stdout",
     "output_type": "stream",
     "text": [
      "epoch: 0 \t learning_rate:100.00000% \t Score: 10.71500%\n",
      "epoch: 10 \t learning_rate:89.28500% \t Score: 52.73000%\n",
      "epoch: 20 \t learning_rate:47.27000% \t Score: 67.63500%\n",
      "epoch: 30 \t learning_rate:32.36500% \t Score: 74.62000%\n",
      "epoch: 40 \t learning_rate:25.38000% \t Score: 79.41500%\n",
      "epoch: 50 \t learning_rate:20.58500% \t Score: 82.36500%\n",
      "epoch: 60 \t learning_rate:17.63500% \t Score: 84.62500%\n",
      "epoch: 70 \t learning_rate:15.37500% \t Score: 86.31500%\n",
      "epoch: 80 \t learning_rate:13.68500% \t Score: 87.51500%\n",
      "epoch: 90 \t learning_rate:12.48500% \t Score: 88.53000%\n",
      "epoch: 100 \t learning_rate:11.47000% \t Score: 89.43000%\n",
      "epoch: 110 \t learning_rate:10.57000% \t Score: 90.21500%\n",
      "epoch: 120 \t learning_rate:9.78500% \t Score: 90.89500%\n",
      "epoch: 130 \t learning_rate:9.10500% \t Score: 91.49500%\n",
      "epoch: 140 \t learning_rate:8.50500% \t Score: 91.99500%\n",
      "epoch: 150 \t learning_rate:8.00500% \t Score: 92.39000%\n",
      "epoch: 160 \t learning_rate:7.61000% \t Score: 92.75000%\n",
      "epoch: 170 \t learning_rate:7.25000% \t Score: 93.10000%\n",
      "epoch: 180 \t learning_rate:6.90000% \t Score: 93.37500%\n",
      "epoch: 190 \t learning_rate:6.62500% \t Score: 93.65500%\n",
      "epoch: 200 \t learning_rate:6.34500% \t Score: 93.92000%\n",
      "epoch: 210 \t learning_rate:6.08000% \t Score: 94.18000%\n",
      "epoch: 220 \t learning_rate:5.82000% \t Score: 94.50500%\n",
      "epoch: 230 \t learning_rate:5.49500% \t Score: 94.81500%\n",
      "epoch: 240 \t learning_rate:5.18500% \t Score: 95.00000%\n",
      "epoch: 250 \t learning_rate:5.00000% \t Score: 95.17500%\n",
      "epoch: 260 \t learning_rate:4.82500% \t Score: 95.33500%\n",
      "epoch: 270 \t learning_rate:4.66500% \t Score: 95.49500%\n",
      "epoch: 280 \t learning_rate:4.50500% \t Score: 95.60000%\n",
      "epoch: 290 \t learning_rate:4.40000% \t Score: 95.77500%\n",
      "epoch: 300 \t learning_rate:4.22500% \t Score: 95.92000%\n",
      "epoch: 310 \t learning_rate:4.08000% \t Score: 96.07500%\n",
      "epoch: 320 \t learning_rate:3.92500% \t Score: 96.18500%\n",
      "epoch: 330 \t learning_rate:3.81500% \t Score: 96.30000%\n",
      "epoch: 340 \t learning_rate:3.70000% \t Score: 96.42000%\n",
      "epoch: 350 \t learning_rate:3.58000% \t Score: 96.49000%\n",
      "epoch: 360 \t learning_rate:3.51000% \t Score: 96.56500%\n",
      "epoch: 370 \t learning_rate:3.43500% \t Score: 96.64500%\n",
      "epoch: 380 \t learning_rate:3.35500% \t Score: 96.74500%\n",
      "epoch: 390 \t learning_rate:3.25500% \t Score: 96.79000%\n",
      "epoch: 400 \t learning_rate:3.21000% \t Score: 96.85500%\n",
      "epoch: 410 \t learning_rate:3.14500% \t Score: 96.93500%\n",
      "epoch: 420 \t learning_rate:3.06500% \t Score: 96.98500%\n",
      "epoch: 430 \t learning_rate:3.01500% \t Score: 97.08500%\n",
      "epoch: 440 \t learning_rate:2.91500% \t Score: 97.12500%\n",
      "epoch: 450 \t learning_rate:2.87500% \t Score: 97.20500%\n",
      "epoch: 460 \t learning_rate:2.79500% \t Score: 97.28000%\n",
      "epoch: 470 \t learning_rate:2.72000% \t Score: 97.31500%\n",
      "epoch: 480 \t learning_rate:2.68500% \t Score: 97.35500%\n",
      "epoch: 490 \t learning_rate:2.64500% \t Score: 97.41500%\n",
      "epoch: 500 \t learning_rate:2.58500% \t Score: 97.49500%\n",
      "epoch: 510 \t learning_rate:2.50500% \t Score: 97.53500%\n",
      "epoch: 520 \t learning_rate:2.46500% \t Score: 97.60000%\n",
      "epoch: 530 \t learning_rate:2.40000% \t Score: 97.66000%\n",
      "epoch: 540 \t learning_rate:2.34000% \t Score: 97.70000%\n",
      "epoch: 550 \t learning_rate:2.30000% \t Score: 97.78000%\n",
      "epoch: 560 \t learning_rate:2.22000% \t Score: 97.88000%\n",
      "epoch: 570 \t learning_rate:2.12000% \t Score: 97.92500%\n",
      "epoch: 580 \t learning_rate:2.07500% \t Score: 97.96000%\n",
      "epoch: 590 \t learning_rate:2.04000% \t Score: 98.00500%\n",
      "epoch: 600 \t learning_rate:1.99500% \t Score: 98.05500%\n",
      "epoch: 610 \t learning_rate:1.94500% \t Score: 98.07000%\n",
      "epoch: 620 \t learning_rate:1.93000% \t Score: 98.08000%\n",
      "epoch: 630 \t learning_rate:1.92000% \t Score: 98.13000%\n",
      "epoch: 640 \t learning_rate:1.87000% \t Score: 98.16000%\n",
      "epoch: 650 \t learning_rate:1.84000% \t Score: 98.18000%\n",
      "epoch: 660 \t learning_rate:1.82000% \t Score: 98.19500%\n",
      "epoch: 670 \t learning_rate:1.80500% \t Score: 98.22500%\n",
      "epoch: 680 \t learning_rate:1.77500% \t Score: 98.25000%\n",
      "epoch: 690 \t learning_rate:1.75000% \t Score: 98.27000%\n",
      "epoch: 700 \t learning_rate:1.73000% \t Score: 98.28000%\n",
      "epoch: 710 \t learning_rate:1.72000% \t Score: 98.31500%\n",
      "epoch: 720 \t learning_rate:1.68500% \t Score: 98.33500%\n",
      "epoch: 730 \t learning_rate:1.66500% \t Score: 98.36500%\n",
      "epoch: 740 \t learning_rate:1.63500% \t Score: 98.38500%\n",
      "epoch: 750 \t learning_rate:1.61500% \t Score: 98.41000%\n",
      "epoch: 760 \t learning_rate:1.59000% \t Score: 98.41500%\n",
      "epoch: 770 \t learning_rate:1.58500% \t Score: 98.43500%\n",
      "epoch: 780 \t learning_rate:1.56500% \t Score: 98.45000%\n",
      "epoch: 790 \t learning_rate:1.55000% \t Score: 98.47000%\n",
      "epoch: 800 \t learning_rate:1.53000% \t Score: 98.49000%\n",
      "epoch: 810 \t learning_rate:1.51000% \t Score: 98.49000%\n",
      "epoch: 820 \t learning_rate:1.51000% \t Score: 98.49500%\n",
      "epoch: 830 \t learning_rate:1.50500% \t Score: 98.53500%\n",
      "epoch: 840 \t learning_rate:1.46500% \t Score: 98.56000%\n",
      "epoch: 850 \t learning_rate:1.44000% \t Score: 98.58000%\n",
      "epoch: 860 \t learning_rate:1.42000% \t Score: 98.59000%\n",
      "epoch: 870 \t learning_rate:1.41000% \t Score: 98.60000%\n",
      "epoch: 880 \t learning_rate:1.40000% \t Score: 98.60000%\n",
      "epoch: 890 \t learning_rate:1.40000% \t Score: 98.61500%\n",
      "epoch: 900 \t learning_rate:1.38500% \t Score: 98.63000%\n",
      "epoch: 910 \t learning_rate:1.37000% \t Score: 98.66500%\n",
      "epoch: 920 \t learning_rate:1.33500% \t Score: 98.67500%\n",
      "epoch: 930 \t learning_rate:1.32500% \t Score: 98.70500%\n",
      "epoch: 940 \t learning_rate:1.29500% \t Score: 98.72000%\n",
      "epoch: 950 \t learning_rate:1.28000% \t Score: 98.73500%\n",
      "epoch: 960 \t learning_rate:1.26500% \t Score: 98.76500%\n",
      "epoch: 970 \t learning_rate:1.23500% \t Score: 98.77500%\n",
      "epoch: 980 \t learning_rate:1.22500% \t Score: 98.78000%\n",
      "epoch: 990 \t learning_rate:1.22000% \t Score: 98.79500%\n"
     ]
    }
   ],
   "source": [
    "%%time\n",
    "def activation_hidden(ynet):\n",
    "  return tf.nn.tanh(ynet)\n",
    "\n",
    "wh1=tf.Variable(tf.random.truncated_normal(shape=[784,200],dtype=tf.double))\n",
    "bh1=tf.Variable(tf.random.truncated_normal(shape=[200],dtype=tf.double))\n",
    "\n",
    "wh2=tf.Variable(tf.random.truncated_normal(shape=[200,100],dtype=tf.double))\n",
    "bh2=tf.Variable(tf.random.truncated_normal(shape=[100],dtype=tf.double))\n",
    "\n",
    "wo=tf.Variable(tf.random.truncated_normal(shape=[100,10],dtype=tf.double))\n",
    "bo=tf.Variable(tf.random.truncated_normal(shape=[10],dtype=tf.double))\n",
    "lr = 1\n",
    "optimizer=tf.optimizers.SGD(learning_rate=lr)\n",
    "for epoch in range(1000):  \n",
    "  with tf.GradientTape() as tape:\n",
    "    ynet1=output_neourn(X_new,wh1,bh1)\n",
    "    ynet2=output_neourn(activation_hidden(ynet1),wh2,bh2)\n",
    "    logits=activation(output_neourn(activation_hidden(ynet2),wo,bo))\n",
    "    if epoch%10 == 0:\n",
    "      score = accuracy_score(y,tf.argmax(logits,1))\n",
    "      print(f\"epoch: {epoch} \\t learning_rate:{lr:.5%} \\t Score: {score:.5%}\")\n",
    "      lr = 1- score if lr > 0 else 0.001\n",
    "    wb = [wh1,bh1,wh2,bh2,wo,bo]\n",
    "    optimizer.apply_gradients(zip(tape.gradient(loss(y,logits),wb),wb))\n"
   ]
  },
  {
   "cell_type": "code",
   "execution_count": 127,
   "metadata": {
    "colab": {
     "base_uri": "https://localhost:8080/",
     "height": 34
    },
    "colab_type": "code",
    "id": "FOee1RL8rToA",
    "outputId": "b539a280-7251-40a8-f1fc-03f494592581"
   },
   "outputs": [
    {
     "name": "stdout",
     "output_type": "stream",
     "text": [
      "tf.Tensor([5], shape=(1,), dtype=int64)\n"
     ]
    }
   ],
   "source": [
    "gray=cv2.imread('sample_data/0.jpeg',0)\n",
    "if gray is not None:\n",
    "  gray=gray.reshape(1,-1)\n",
    "  gray=sc.transform(gray)\n",
    "  ynet=output_neourn(gray,wh1,bh1)\n",
    "  ynet=output_neourn(activation_hidden(ynet),wh2,bh2)\n",
    "  ynet=output_neourn(activation_hidden(ynet),wo,bo)\n",
    "  logits=activation(ynet)\n",
    "  pred=tf.argmax(logits,1)\n",
    "  print(pred)"
   ]
  }
 ],
 "metadata": {
  "accelerator": "TPU",
  "colab": {
   "name": "mnist_classification_chandan.ipynb",
   "provenance": []
  },
  "kernelspec": {
   "display_name": "Python 3",
   "language": "python",
   "name": "python3"
  },
  "language_info": {
   "codemirror_mode": {
    "name": "ipython",
    "version": 3
   },
   "file_extension": ".py",
   "mimetype": "text/x-python",
   "name": "python",
   "nbconvert_exporter": "python",
   "pygments_lexer": "ipython3",
   "version": "3.7.3"
  }
 },
 "nbformat": 4,
 "nbformat_minor": 4
}
