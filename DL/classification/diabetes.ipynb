{
 "cells": [
  {
   "cell_type": "code",
   "execution_count": 1,
   "metadata": {
    "colab": {},
    "colab_type": "code",
    "executionInfo": {
     "elapsed": 2185,
     "status": "ok",
     "timestamp": 1594446371374,
     "user": {
      "displayName": "AAKANKSHA",
      "photoUrl": "",
      "userId": "08173183022254025945"
     },
     "user_tz": -330
    },
    "id": "KyU0MKM06FcE"
   },
   "outputs": [],
   "source": [
    "from sklearn.datasets import load_breast_cancer\n",
    "from sklearn.metrics import r2_score\n",
    "from sklearn.preprocessing import StandardScaler\n",
    "import pandas as pd\n",
    "import tensorflow as tf\n",
    "import numpy as np\n",
    "from sklearn.datasets import load_diabetes\n",
    "from sklearn.linear_model import LinearRegression\n",
    "from sklearn.model_selection import train_test_split\n",
    "from sklearn.preprocessing import PolynomialFeatures\n",
    "from sklearn.metrics import accuracy_score"
   ]
  },
  {
   "cell_type": "code",
   "execution_count": 2,
   "metadata": {
    "colab": {},
    "colab_type": "code",
    "executionInfo": {
     "elapsed": 2160,
     "status": "ok",
     "timestamp": 1594446371379,
     "user": {
      "displayName": "AAKANKSHA",
      "photoUrl": "",
      "userId": "08173183022254025945"
     },
     "user_tz": -330
    },
    "id": "FtoprAqU6fn_"
   },
   "outputs": [],
   "source": [
    "diabetes= load_diabetes()"
   ]
  },
  {
   "cell_type": "code",
   "execution_count": 3,
   "metadata": {
    "colab": {
     "base_uri": "https://localhost:8080/",
     "height": 34
    },
    "colab_type": "code",
    "executionInfo": {
     "elapsed": 2141,
     "status": "ok",
     "timestamp": 1594446371381,
     "user": {
      "displayName": "AAKANKSHA",
      "photoUrl": "",
      "userId": "08173183022254025945"
     },
     "user_tz": -330
    },
    "id": "0TOiOyj76oCL",
    "outputId": "7e40524c-46a0-418d-9b7e-314d888d1d4f"
   },
   "outputs": [
    {
     "data": {
      "text/plain": [
       "(442, 10)"
      ]
     },
     "execution_count": 3,
     "metadata": {},
     "output_type": "execute_result"
    }
   ],
   "source": [
    "X=diabetes.data\n",
    "y=diabetes.target\n",
    "X.shape"
   ]
  },
  {
   "cell_type": "code",
   "execution_count": 5,
   "metadata": {
    "colab": {},
    "colab_type": "code",
    "executionInfo": {
     "elapsed": 2023,
     "status": "ok",
     "timestamp": 1594446371386,
     "user": {
      "displayName": "AAKANKSHA",
      "photoUrl": "",
      "userId": "08173183022254025945"
     },
     "user_tz": -330
    },
    "id": "eRB1hPrcxyRz"
   },
   "outputs": [],
   "source": [
    "X_train,X_test,y_train,y_test=train_test_split(X,y,random_state=2,test_size=.25)"
   ]
  },
  {
   "cell_type": "code",
   "execution_count": 6,
   "metadata": {
    "colab": {
     "base_uri": "https://localhost:8080/",
     "height": 34
    },
    "colab_type": "code",
    "executionInfo": {
     "elapsed": 1978,
     "status": "ok",
     "timestamp": 1594446371388,
     "user": {
      "displayName": "AAKANKSHA",
      "photoUrl": "",
      "userId": "08173183022254025945"
     },
     "user_tz": -330
    },
    "id": "qa_q77MhzybD",
    "outputId": "33edee2e-cefe-426b-af9d-d68f2e6b6f27"
   },
   "outputs": [
    {
     "data": {
      "text/plain": [
       "(331, 10)"
      ]
     },
     "execution_count": 6,
     "metadata": {},
     "output_type": "execute_result"
    }
   ],
   "source": [
    "X_train.shape"
   ]
  },
  {
   "cell_type": "code",
   "execution_count": 7,
   "metadata": {
    "colab": {},
    "colab_type": "code",
    "executionInfo": {
     "elapsed": 1950,
     "status": "ok",
     "timestamp": 1594446371389,
     "user": {
      "displayName": "AAKANKSHA",
      "photoUrl": "",
      "userId": "08173183022254025945"
     },
     "user_tz": -330
    },
    "id": "Oz1mhA_vz1Ki"
   },
   "outputs": [],
   "source": [
    "pf=PolynomialFeatures(degree=5)\n",
    "X_train_new=pf.fit_transform(X_train)\n",
    "X_test_new=pf.transform(X_test)\n"
   ]
  },
  {
   "cell_type": "code",
   "execution_count": 8,
   "metadata": {
    "colab": {
     "base_uri": "https://localhost:8080/",
     "height": 51
    },
    "colab_type": "code",
    "executionInfo": {
     "elapsed": 2429,
     "status": "ok",
     "timestamp": 1594446371894,
     "user": {
      "displayName": "AAKANKSHA",
      "photoUrl": "",
      "userId": "08173183022254025945"
     },
     "user_tz": -330
    },
    "id": "qS8Q6FuwSl3w",
    "outputId": "04fce1d7-2028-47bb-e7f9-1a17ef221e08"
   },
   "outputs": [
    {
     "name": "stdout",
     "output_type": "stream",
     "text": [
      "lr trainScore: 1.0\n",
      "lr testscore:  -34.065763041792316\n"
     ]
    }
   ],
   "source": [
    "lr=LinearRegression()\n",
    "lr.fit(X_train_new,y_train)\n",
    "print(\"lr trainScore:\",lr.score(X_train_new,y_train))\n",
    "print('lr testscore: ' ,lr.score(X_test_new,y_test))"
   ]
  },
  {
   "cell_type": "code",
   "execution_count": 9,
   "metadata": {
    "colab": {},
    "colab_type": "code",
    "executionInfo": {
     "elapsed": 2388,
     "status": "ok",
     "timestamp": 1594446371899,
     "user": {
      "displayName": "AAKANKSHA",
      "photoUrl": "",
      "userId": "08173183022254025945"
     },
     "user_tz": -330
    },
    "id": "Jh1ZXjAQTTRQ"
   },
   "outputs": [],
   "source": [
    "def output_neuron(X_test_new,w,b):\n",
    "  return tf.matmul(X_test_new,w)+b"
   ]
  },
  {
   "cell_type": "code",
   "execution_count": 10,
   "metadata": {
    "colab": {},
    "colab_type": "code",
    "executionInfo": {
     "elapsed": 2371,
     "status": "ok",
     "timestamp": 1594446371904,
     "user": {
      "displayName": "AAKANKSHA",
      "photoUrl": "",
      "userId": "08173183022254025945"
     },
     "user_tz": -330
    },
    "id": "p-VIfptAW_GI"
   },
   "outputs": [],
   "source": [
    "def activation(yhet):\n",
    "  return tf.nn.sigmoid(yhet)"
   ]
  },
  {
   "cell_type": "code",
   "execution_count": 11,
   "metadata": {
    "colab": {},
    "colab_type": "code",
    "executionInfo": {
     "elapsed": 2342,
     "status": "ok",
     "timestamp": 1594446371912,
     "user": {
      "displayName": "AAKANKSHA",
      "photoUrl": "",
      "userId": "08173183022254025945"
     },
     "user_tz": -330
    },
    "id": "Gb9_ckFfYnDT"
   },
   "outputs": [],
   "source": [
    "def loss(y_true,logit):\n",
    "  return tf.reduce_mean(tf.losses.sparse_categorical_crossentropy(y_true,logit))"
   ]
  },
  {
   "cell_type": "code",
   "execution_count": 12,
   "metadata": {
    "colab": {
     "base_uri": "https://localhost:8080/",
     "height": 34
    },
    "colab_type": "code",
    "executionInfo": {
     "elapsed": 2308,
     "status": "ok",
     "timestamp": 1594446371915,
     "user": {
      "displayName": "AAKANKSHA",
      "photoUrl": "",
      "userId": "08173183022254025945"
     },
     "user_tz": -330
    },
    "id": "HsT3f7AHaNxE",
    "outputId": "aad7ca69-95d4-4f36-b645-0c1c6fec894a"
   },
   "outputs": [
    {
     "data": {
      "text/plain": [
       "(331, 3003)"
      ]
     },
     "execution_count": 12,
     "metadata": {},
     "output_type": "execute_result"
    }
   ],
   "source": [
    "X_train_new.shape"
   ]
  },
  {
   "cell_type": "code",
   "execution_count": 13,
   "metadata": {
    "colab": {},
    "colab_type": "code",
    "executionInfo": {
     "elapsed": 2292,
     "status": "ok",
     "timestamp": 1594446371917,
     "user": {
      "displayName": "AAKANKSHA",
      "photoUrl": "",
      "userId": "08173183022254025945"
     },
     "user_tz": -330
    },
    "id": "EpTeKCsj-_Qu"
   },
   "outputs": [],
   "source": [
    "nh1=150,\n",
    "x_input=3003\n"
   ]
  },
  {
   "cell_type": "code",
   "execution_count": 36,
   "metadata": {
    "colab": {
     "base_uri": "https://localhost:8080/",
     "height": 129
    },
    "colab_type": "code",
    "executionInfo": {
     "elapsed": 1252,
     "status": "error",
     "timestamp": 1594446504688,
     "user": {
      "displayName": "AAKANKSHA",
      "photoUrl": "",
      "userId": "08173183022254025945"
     },
     "user_tz": -330
    },
    "id": "SMGYJvqBDAib",
    "outputId": "c37fb536-7831-4696-e53a-0bb9be2a9b6f"
   },
   "outputs": [
    {
     "name": "stdout",
     "output_type": "stream",
     "text": [
      "tf.Tensor(\n",
      "[1.59661159e-04 1.19556082e-08 1.88539484e-23 ... 1.19912148e-19\n",
      " 1.00000000e+00 3.20893324e-58], shape=(49650,), dtype=float64)\n"
     ]
    },
    {
     "ename": "ValueError",
     "evalue": "Shape mismatch: The shape of labels (received (331,)) should equal the shape of logits except for the last dimension (received (1, 49650)).",
     "output_type": "error",
     "traceback": [
      "\u001b[0;31m---------------------------------------------------------------------------\u001b[0m",
      "\u001b[0;31mValueError\u001b[0m                                Traceback (most recent call last)",
      "\u001b[0;32m<ipython-input-36-0d91f7a38910>\u001b[0m in \u001b[0;36m<module>\u001b[0;34m\u001b[0m\n\u001b[1;32m     15\u001b[0m     \u001b[0myhat\u001b[0m \u001b[0;34m=\u001b[0m \u001b[0mtf\u001b[0m\u001b[0;34m.\u001b[0m\u001b[0mreshape\u001b[0m\u001b[0;34m(\u001b[0m\u001b[0mlogit\u001b[0m\u001b[0;34m,\u001b[0m\u001b[0;34m[\u001b[0m\u001b[0;34m-\u001b[0m\u001b[0;36m1\u001b[0m\u001b[0;34m]\u001b[0m\u001b[0;34m)\u001b[0m\u001b[0;34m\u001b[0m\u001b[0;34m\u001b[0m\u001b[0m\n\u001b[1;32m     16\u001b[0m     \u001b[0mprint\u001b[0m\u001b[0;34m(\u001b[0m\u001b[0myhat\u001b[0m\u001b[0;34m)\u001b[0m\u001b[0;34m\u001b[0m\u001b[0;34m\u001b[0m\u001b[0m\n\u001b[0;32m---> 17\u001b[0;31m     \u001b[0mls\u001b[0m\u001b[0;34m=\u001b[0m\u001b[0mloss\u001b[0m\u001b[0;34m(\u001b[0m\u001b[0my_train\u001b[0m\u001b[0;34m,\u001b[0m\u001b[0myhat\u001b[0m\u001b[0;34m)\u001b[0m\u001b[0;34m\u001b[0m\u001b[0;34m\u001b[0m\u001b[0m\n\u001b[0m\u001b[1;32m     18\u001b[0m \u001b[0;31m#     if(epoch%100==0):\u001b[0m\u001b[0;34m\u001b[0m\u001b[0;34m\u001b[0m\u001b[0;34m\u001b[0m\u001b[0m\n\u001b[1;32m     19\u001b[0m \u001b[0;31m#       print('loss : ',ls,'score :',accuracy_score(y_train,yout))\u001b[0m\u001b[0;34m\u001b[0m\u001b[0;34m\u001b[0m\u001b[0;34m\u001b[0m\u001b[0m\n",
      "\u001b[0;32m<ipython-input-11-306bf07a664e>\u001b[0m in \u001b[0;36mloss\u001b[0;34m(y_true, logit)\u001b[0m\n\u001b[1;32m      1\u001b[0m \u001b[0;32mdef\u001b[0m \u001b[0mloss\u001b[0m\u001b[0;34m(\u001b[0m\u001b[0my_true\u001b[0m\u001b[0;34m,\u001b[0m\u001b[0mlogit\u001b[0m\u001b[0;34m)\u001b[0m\u001b[0;34m:\u001b[0m\u001b[0;34m\u001b[0m\u001b[0;34m\u001b[0m\u001b[0m\n\u001b[0;32m----> 2\u001b[0;31m   \u001b[0;32mreturn\u001b[0m \u001b[0mtf\u001b[0m\u001b[0;34m.\u001b[0m\u001b[0mreduce_mean\u001b[0m\u001b[0;34m(\u001b[0m\u001b[0mtf\u001b[0m\u001b[0;34m.\u001b[0m\u001b[0mlosses\u001b[0m\u001b[0;34m.\u001b[0m\u001b[0msparse_categorical_crossentropy\u001b[0m\u001b[0;34m(\u001b[0m\u001b[0my_true\u001b[0m\u001b[0;34m,\u001b[0m\u001b[0mlogit\u001b[0m\u001b[0;34m)\u001b[0m\u001b[0;34m)\u001b[0m\u001b[0;34m\u001b[0m\u001b[0;34m\u001b[0m\u001b[0m\n\u001b[0m",
      "\u001b[0;32m~/anaconda3/lib/python3.7/site-packages/tensorflow/python/keras/losses.py\u001b[0m in \u001b[0;36msparse_categorical_crossentropy\u001b[0;34m(y_true, y_pred, from_logits, axis)\u001b[0m\n\u001b[1;32m   1556\u001b[0m   \u001b[0my_true\u001b[0m \u001b[0;34m=\u001b[0m \u001b[0mmath_ops\u001b[0m\u001b[0;34m.\u001b[0m\u001b[0mcast\u001b[0m\u001b[0;34m(\u001b[0m\u001b[0my_true\u001b[0m\u001b[0;34m,\u001b[0m \u001b[0my_pred\u001b[0m\u001b[0;34m.\u001b[0m\u001b[0mdtype\u001b[0m\u001b[0;34m)\u001b[0m\u001b[0;34m\u001b[0m\u001b[0;34m\u001b[0m\u001b[0m\n\u001b[1;32m   1557\u001b[0m   return K.sparse_categorical_crossentropy(\n\u001b[0;32m-> 1558\u001b[0;31m       y_true, y_pred, from_logits=from_logits, axis=axis)\n\u001b[0m\u001b[1;32m   1559\u001b[0m \u001b[0;34m\u001b[0m\u001b[0m\n\u001b[1;32m   1560\u001b[0m \u001b[0;34m\u001b[0m\u001b[0m\n",
      "\u001b[0;32m~/anaconda3/lib/python3.7/site-packages/tensorflow/python/keras/backend.py\u001b[0m in \u001b[0;36msparse_categorical_crossentropy\u001b[0;34m(target, output, from_logits, axis)\u001b[0m\n\u001b[1;32m   4656\u001b[0m   \u001b[0;32melse\u001b[0m\u001b[0;34m:\u001b[0m\u001b[0;34m\u001b[0m\u001b[0;34m\u001b[0m\u001b[0m\n\u001b[1;32m   4657\u001b[0m     res = nn.sparse_softmax_cross_entropy_with_logits_v2(\n\u001b[0;32m-> 4658\u001b[0;31m         labels=target, logits=output)\n\u001b[0m\u001b[1;32m   4659\u001b[0m \u001b[0;34m\u001b[0m\u001b[0m\n\u001b[1;32m   4660\u001b[0m   \u001b[0;32mif\u001b[0m \u001b[0mupdate_shape\u001b[0m \u001b[0;32mand\u001b[0m \u001b[0moutput_rank\u001b[0m \u001b[0;34m>=\u001b[0m \u001b[0;36m3\u001b[0m\u001b[0;34m:\u001b[0m\u001b[0;34m\u001b[0m\u001b[0;34m\u001b[0m\u001b[0m\n",
      "\u001b[0;32m~/anaconda3/lib/python3.7/site-packages/tensorflow/python/ops/nn_ops.py\u001b[0m in \u001b[0;36msparse_softmax_cross_entropy_with_logits_v2\u001b[0;34m(labels, logits, name)\u001b[0m\n\u001b[1;32m   3589\u001b[0m   \"\"\"\n\u001b[1;32m   3590\u001b[0m   return sparse_softmax_cross_entropy_with_logits(\n\u001b[0;32m-> 3591\u001b[0;31m       labels=labels, logits=logits, name=name)\n\u001b[0m\u001b[1;32m   3592\u001b[0m \u001b[0;34m\u001b[0m\u001b[0m\n\u001b[1;32m   3593\u001b[0m \u001b[0;34m\u001b[0m\u001b[0m\n",
      "\u001b[0;32m~/anaconda3/lib/python3.7/site-packages/tensorflow/python/ops/nn_ops.py\u001b[0m in \u001b[0;36msparse_softmax_cross_entropy_with_logits\u001b[0;34m(_sentinel, labels, logits, name)\u001b[0m\n\u001b[1;32m   3505\u001b[0m                        \u001b[0;34m\"should equal the shape of logits except for the last \"\u001b[0m\u001b[0;34m\u001b[0m\u001b[0;34m\u001b[0m\u001b[0m\n\u001b[1;32m   3506\u001b[0m                        \"dimension (received %s).\" % (labels_static_shape,\n\u001b[0;32m-> 3507\u001b[0;31m                                                      logits.get_shape()))\n\u001b[0m\u001b[1;32m   3508\u001b[0m     \u001b[0;31m# Check if no reshapes are required.\u001b[0m\u001b[0;34m\u001b[0m\u001b[0;34m\u001b[0m\u001b[0;34m\u001b[0m\u001b[0m\n\u001b[1;32m   3509\u001b[0m     \u001b[0;32mif\u001b[0m \u001b[0mlogits\u001b[0m\u001b[0;34m.\u001b[0m\u001b[0mget_shape\u001b[0m\u001b[0;34m(\u001b[0m\u001b[0;34m)\u001b[0m\u001b[0;34m.\u001b[0m\u001b[0mndims\u001b[0m \u001b[0;34m==\u001b[0m \u001b[0;36m2\u001b[0m\u001b[0;34m:\u001b[0m\u001b[0;34m\u001b[0m\u001b[0;34m\u001b[0m\u001b[0m\n",
      "\u001b[0;31mValueError\u001b[0m: Shape mismatch: The shape of labels (received (331,)) should equal the shape of logits except for the last dimension (received (1, 49650))."
     ]
    }
   ],
   "source": [
    "wh1=tf.Variable(tf.random.truncated_normal(shape=[x_input,150],dtype=tf.double))\n",
    "bh1=tf.Variable(tf.random.truncated_normal(shape=[150],dtype=tf.double))\n",
    "wo=tf.Variable(tf.random.truncated_normal(shape=[1,150],dtype=tf.double))\n",
    "bo=tf.Variable(tf.random.truncated_normal(shape=[1],dtype=tf.double)) \n",
    "\n",
    "sc=StandardScaler()\n",
    "X_new=sc.fit_transform(X_train_new)\n",
    "\n",
    "optimizer=tf.optimizers.SGD(learning_rate=.01)\n",
    "for epoch in range(1):\n",
    "  with tf.GradientTape() as Tape:\n",
    "    yhet=output_neuron(X_new,wh1,bh1)\n",
    "    logit=activation(yhet)\n",
    "    yout = tf.argmax(logit,1)\n",
    "    yhat = tf.reshape(logit,[-1])\n",
    "    print(yhat)\n",
    "    ls=loss(y_train,yhat)\n",
    "#     if(epoch%100==0):\n",
    "#       print('loss : ',ls,'score :',accuracy_score(y_train,yout))\n",
    "#       gradient=Tape.gradient(ls,[wh1,bh1,wo,bo])\n",
    "#       optimizer.apply_gradients(zip(gradient,[wh1,bh1,wo,bo]))\n"
   ]
  }
 ],
 "metadata": {
  "colab": {
   "authorship_tag": "ABX9TyNNrTA4IcYIzyQ8xhF9dYPk",
   "name": "diabetes.ipynb",
   "provenance": []
  },
  "kernelspec": {
   "display_name": "Python 3",
   "language": "python",
   "name": "python3"
  },
  "language_info": {
   "codemirror_mode": {
    "name": "ipython",
    "version": 3
   },
   "file_extension": ".py",
   "mimetype": "text/x-python",
   "name": "python",
   "nbconvert_exporter": "python",
   "pygments_lexer": "ipython3",
   "version": "3.7.3"
  }
 },
 "nbformat": 4,
 "nbformat_minor": 4
}
