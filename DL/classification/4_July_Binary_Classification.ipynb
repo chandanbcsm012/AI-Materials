{
 "cells": [
  {
   "cell_type": "code",
   "execution_count": null,
   "metadata": {
    "colab": {},
    "colab_type": "code",
    "id": "VqOULpH11mes"
   },
   "outputs": [],
   "source": [
    "import pandas as pd\n",
    "import tensorflow as tf\n",
    "from sklearn.metrics import accuracy_score\n",
    "from sklearn.datasets import load_breast_cancer\n",
    "from sklearn.preprocessing import StandardScaler"
   ]
  },
  {
   "cell_type": "code",
   "execution_count": null,
   "metadata": {
    "colab": {
     "base_uri": "https://localhost:8080/",
     "height": 199
    },
    "colab_type": "code",
    "id": "fkv3BrpbHkre",
    "outputId": "91052ac3-7640-4fe2-c9db-2a9767cbb4e3"
   },
   "outputs": [
    {
     "name": "stdout",
     "output_type": "stream",
     "text": [
      "tf.Tensor(0.7663738946046247, shape=(), dtype=float64) 0.3304042179261863\n",
      "tf.Tensor(0.4867504729521369, shape=(), dtype=float64) 0.9420035149384886\n",
      "tf.Tensor(0.47677336842917817, shape=(), dtype=float64) 0.968365553602812\n",
      "tf.Tensor(0.4734571052769055, shape=(), dtype=float64) 0.9753954305799648\n",
      "tf.Tensor(0.4716839071041938, shape=(), dtype=float64) 0.9753954305799648\n",
      "tf.Tensor(0.4705131474453069, shape=(), dtype=float64) 0.9789103690685413\n",
      "tf.Tensor(0.4696516754611661, shape=(), dtype=float64) 0.9806678383128296\n",
      "tf.Tensor(0.46897914530356805, shape=(), dtype=float64) 0.9824253075571178\n",
      "tf.Tensor(0.4684345383373356, shape=(), dtype=float64) 0.9824253075571178\n",
      "tf.Tensor(0.4679823399531051, shape=(), dtype=float64) 0.984182776801406\n"
     ]
    }
   ],
   "source": [
    "def output_neuron(X,w,b):\n",
    "  return tf.matmul(X,w)+b\n",
    "\n",
    "def loss(y_true,logits):\n",
    "  return tf.reduce_mean(tf.nn.sigmoid_cross_entropy_with_logits(y_true,logits))\n",
    "\n",
    "def activation(ynet):\n",
    "  return tf.nn.sigmoid(ynet)\n",
    "\n",
    "tf.random.set_seed(10)\n",
    "\n",
    "wo=tf.Variable(tf.random.truncated_normal(shape=[30,1],dtype=tf.double))\n",
    "bo=tf.Variable(tf.random.truncated_normal(shape=[1],dtype=tf.double))\n",
    "\n",
    "cancer=load_breast_cancer()\n",
    "X=cancer.data\n",
    "y=cancer.target.astype('double')\n",
    "\n",
    "sc=StandardScaler()\n",
    "X_new=sc.fit_transform(X)\n",
    "optimizer=tf.optimizers.SGD(learning_rate=.1)\n",
    "for epoch in range(10000):\n",
    "  with tf.GradientTape() as tape:\n",
    "    ynet=output_neuron(X_new,wo,bo)\n",
    "    logits=activation(ynet)\n",
    "    ls=loss(y,tf.reshape(logits,[-1]))\n",
    "    yhat=[]\n",
    "    for yh in tf.reshape(logits,[-1]).numpy():\n",
    "      if(yh<.5):\n",
    "        yhat.append(0)\n",
    "      else:\n",
    "        yhat.append(1)  \n",
    "    if(epoch%1000==0):\n",
    "      print(ls,accuracy_score(y,yhat))\n",
    "    gradients=tape.gradient(ls,[wo,bo])\n",
    "    optimizer.apply_gradients(zip(gradients,[wo,bo]))"
   ]
  },
  {
   "cell_type": "code",
   "execution_count": null,
   "metadata": {
    "colab": {
     "base_uri": "https://localhost:8080/",
     "height": 745
    },
    "colab_type": "code",
    "id": "D-hgFyfCiJCU",
    "outputId": "75fe0a03-a4da-45a7-b6fe-942ecb87f237"
   },
   "outputs": [
    {
     "name": "stdout",
     "output_type": "stream",
     "text": [
      "tf.Tensor(0.7045027339466372, shape=(), dtype=float64) 0.5799648506151143\n",
      "tf.Tensor(0.6858493343372368, shape=(), dtype=float64) 0.6274165202108963\n",
      "tf.Tensor(0.6846144816225713, shape=(), dtype=float64) 0.6291739894551845\n",
      "tf.Tensor(0.6838152537697672, shape=(), dtype=float64) 0.6291739894551845\n",
      "tf.Tensor(0.6823374314846687, shape=(), dtype=float64) 0.6291739894551845\n",
      "tf.Tensor(0.6797507681042432, shape=(), dtype=float64) 0.6291739894551845\n",
      "tf.Tensor(0.6650589655874798, shape=(), dtype=float64) 0.6590509666080844\n",
      "tf.Tensor(0.611048774977278, shape=(), dtype=float64) 0.7311072056239016\n",
      "tf.Tensor(0.5885381779359047, shape=(), dtype=float64) 0.7697715289982425\n",
      "tf.Tensor(0.5816320817077653, shape=(), dtype=float64) 0.7715289982425307\n",
      "tf.Tensor(0.5749016496155583, shape=(), dtype=float64) 0.7978910369068541\n",
      "tf.Tensor(0.5497772734953998, shape=(), dtype=float64) 0.8681898066783831\n",
      "tf.Tensor(0.5458663960237975, shape=(), dtype=float64) 0.8646748681898067\n",
      "tf.Tensor(0.5432241463349177, shape=(), dtype=float64) 0.8629173989455184\n",
      "tf.Tensor(0.5393623389083282, shape=(), dtype=float64) 0.8681898066783831\n",
      "tf.Tensor(0.5354953407171996, shape=(), dtype=float64) 0.8787346221441125\n",
      "tf.Tensor(0.5301191364257088, shape=(), dtype=float64) 0.8963093145869947\n",
      "tf.Tensor(0.5284152381587649, shape=(), dtype=float64) 0.8980667838312829\n",
      "tf.Tensor(0.5270696028444637, shape=(), dtype=float64) 0.8980667838312829\n",
      "tf.Tensor(0.5258796819558474, shape=(), dtype=float64) 0.8998242530755711\n",
      "tf.Tensor(0.5245494621892309, shape=(), dtype=float64) 0.8998242530755711\n",
      "tf.Tensor(0.5234694535156607, shape=(), dtype=float64) 0.9015817223198594\n",
      "tf.Tensor(0.5224014167960922, shape=(), dtype=float64) 0.9050966608084359\n",
      "tf.Tensor(0.5214859099941851, shape=(), dtype=float64) 0.9050966608084359\n",
      "tf.Tensor(0.52130033039956, shape=(), dtype=float64) 0.9033391915641477\n",
      "tf.Tensor(0.5200586356713078, shape=(), dtype=float64) 0.9050966608084359\n",
      "tf.Tensor(0.5191397899490864, shape=(), dtype=float64) 0.9015817223198594\n",
      "tf.Tensor(0.5195447206905593, shape=(), dtype=float64) 0.8980667838312829\n",
      "tf.Tensor(0.5186962487827124, shape=(), dtype=float64) 0.8963093145869947\n",
      "tf.Tensor(0.5178255590332375, shape=(), dtype=float64) 0.9033391915641477\n",
      "tf.Tensor(0.516151139367149, shape=(), dtype=float64) 0.9086115992970123\n",
      "tf.Tensor(0.5168762249331847, shape=(), dtype=float64) 0.9015817223198594\n",
      "tf.Tensor(0.5159422758271006, shape=(), dtype=float64) 0.9086115992970123\n",
      "tf.Tensor(0.515743480560538, shape=(), dtype=float64) 0.9086115992970123\n",
      "tf.Tensor(0.5137172713575283, shape=(), dtype=float64) 0.9173989455184535\n",
      "tf.Tensor(0.5154870523165109, shape=(), dtype=float64) 0.9138840070298769\n",
      "tf.Tensor(0.5125954357007139, shape=(), dtype=float64) 0.9156414762741653\n",
      "tf.Tensor(0.5136488221960371, shape=(), dtype=float64) 0.9050966608084359\n",
      "tf.Tensor(0.5131529489735417, shape=(), dtype=float64) 0.9050966608084359\n",
      "tf.Tensor(0.5127334620162382, shape=(), dtype=float64) 0.9050966608084359\n"
     ]
    }
   ],
   "source": [
    "def output_neuron(X,w,b):\n",
    "  return tf.matmul(X,w)+b\n",
    "\n",
    "def loss(y_true,logits):\n",
    "  return tf.reduce_mean(tf.nn.sigmoid_cross_entropy_with_logits(y_true,logits))\n",
    "\n",
    "def activation_hidden(ynet):\n",
    "  return tf.nn.tanh(ynet)\n",
    "\n",
    "def activation_output(ynet):\n",
    "  return tf.nn.sigmoid(ynet)\n",
    "\n",
    "tf.random.set_seed(10)\n",
    "\n",
    "wh=tf.Variable(tf.random.truncated_normal(shape=[30,200],dtype=tf.double))\n",
    "bh=tf.Variable(tf.random.truncated_normal(shape=[200],dtype=tf.double))\n",
    "\n",
    "wo=tf.Variable(tf.random.truncated_normal(shape=[200,1],dtype=tf.double))\n",
    "bo=tf.Variable(tf.random.truncated_normal(shape=[1],dtype=tf.double))\n",
    "\n",
    "\n",
    "optimizer=tf.optimizers.SGD(learning_rate=.01)\n",
    "for epoch in range(4000):\n",
    "  with tf.GradientTape() as tape:\n",
    "    ynet=output_neuron(X,wh,bh)\n",
    "    logits=activation_hidden(ynet)\n",
    "\n",
    "    ynet=output_neuron(logits,wo,bo)\n",
    "    logits=activation_output(ynet)\n",
    "\n",
    "    ls=loss(y,tf.reshape(logits,[-1]))\n",
    "\n",
    "    yhat=[]\n",
    "    for yh in tf.reshape(logits,[-1]).numpy():\n",
    "      if(yh<.5):\n",
    "        yhat.append(0)\n",
    "      else:\n",
    "        yhat.append(1) \n",
    "\n",
    "    if(epoch%100==0):\n",
    "      print(ls,accuracy_score(y,yhat))\n",
    "    gradients=tape.gradient(ls,[wo,bo,wh,bh])\n",
    "    optimizer.apply_gradients(zip(gradients,[wo,bo,wh,bh]))\n"
   ]
  },
  {
   "cell_type": "code",
   "execution_count": null,
   "metadata": {
    "colab": {},
    "colab_type": "code",
    "id": "cf9d3PBQUtvT"
   },
   "outputs": [],
   "source": []
  }
 ],
 "metadata": {
  "accelerator": "TPU",
  "colab": {
   "collapsed_sections": [],
   "name": "4_July_Binary_Classification.ipynb",
   "provenance": []
  },
  "kernelspec": {
   "display_name": "Python 3",
   "language": "python",
   "name": "python3"
  },
  "language_info": {
   "codemirror_mode": {
    "name": "ipython",
    "version": 3
   },
   "file_extension": ".py",
   "mimetype": "text/x-python",
   "name": "python",
   "nbconvert_exporter": "python",
   "pygments_lexer": "ipython3",
   "version": "3.7.3"
  }
 },
 "nbformat": 4,
 "nbformat_minor": 4
}
