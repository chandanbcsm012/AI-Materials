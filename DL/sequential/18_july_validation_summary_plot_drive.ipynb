{
 "cells": [
  {
   "cell_type": "code",
   "execution_count": 13,
   "metadata": {
    "colab": {},
    "colab_type": "code",
    "id": "VuxIMH7NaeOt"
   },
   "outputs": [],
   "source": [
    "import pandas as pd\n",
    "from sklearn.model_selection import  train_test_split\n",
    "from tensorflow.keras import Sequential\n",
    "from tensorflow.keras.layers import Dense,Dropout"
   ]
  },
  {
   "cell_type": "code",
   "execution_count": 10,
   "metadata": {
    "colab": {
     "base_uri": "https://localhost:8080/",
     "height": 417
    },
    "colab_type": "code",
    "id": "P7gL92ShaiIA",
    "outputId": "507929b3-8340-4cfd-b4d1-42cf05fdf919"
   },
   "outputs": [
    {
     "name": "stdout",
     "output_type": "stream",
     "text": [
      "Epoch 1/10\n",
      "469/469 [==============================] - 3s 6ms/step - loss: 0.3552 - accuracy: 0.8911 - val_loss: 0.1851 - val_accuracy: 0.9462\n",
      "Epoch 2/10\n",
      "469/469 [==============================] - 2s 5ms/step - loss: 0.1420 - accuracy: 0.9575 - val_loss: 0.1511 - val_accuracy: 0.9550\n",
      "Epoch 3/10\n",
      "469/469 [==============================] - 2s 5ms/step - loss: 0.0841 - accuracy: 0.9745 - val_loss: 0.1451 - val_accuracy: 0.9572\n",
      "Epoch 4/10\n",
      "469/469 [==============================] - 2s 5ms/step - loss: 0.0516 - accuracy: 0.9833 - val_loss: 0.1308 - val_accuracy: 0.9618\n",
      "Epoch 5/10\n",
      "469/469 [==============================] - 2s 5ms/step - loss: 0.0392 - accuracy: 0.9871 - val_loss: 0.1062 - val_accuracy: 0.9668\n",
      "Epoch 6/10\n",
      "469/469 [==============================] - 2s 5ms/step - loss: 0.0218 - accuracy: 0.9935 - val_loss: 0.1463 - val_accuracy: 0.9600\n",
      "Epoch 7/10\n",
      "469/469 [==============================] - 3s 6ms/step - loss: 0.0305 - accuracy: 0.9907 - val_loss: 0.1465 - val_accuracy: 0.9594\n",
      "Epoch 8/10\n",
      "469/469 [==============================] - 2s 5ms/step - loss: 0.0235 - accuracy: 0.9920 - val_loss: 0.1499 - val_accuracy: 0.9632\n",
      "Epoch 9/10\n",
      "469/469 [==============================] - 3s 6ms/step - loss: 0.0192 - accuracy: 0.9939 - val_loss: 0.1504 - val_accuracy: 0.9624\n",
      "Epoch 10/10\n",
      "469/469 [==============================] - 2s 5ms/step - loss: 0.0249 - accuracy: 0.9917 - val_loss: 0.1778 - val_accuracy: 0.9612\n",
      "313/313 [==============================] - 1s 2ms/step - loss: 0.1744 - accuracy: 0.9642\n"
     ]
    },
    {
     "data": {
      "text/plain": [
       "[0.17444971203804016, 0.9642000198364258]"
      ]
     },
     "execution_count": 10,
     "metadata": {
      "tags": []
     },
     "output_type": "execute_result"
    }
   ],
   "source": [
    "df=pd.read_csv('sample_data/mnist_train_small.csv',header=None)\n",
    "X=df.iloc[:,1:].values\n",
    "y=df.iloc[:,0].values\n",
    "X_train,X_valid,y_train,y_valid=train_test_split(X,y,random_state=10)\n",
    "\n",
    "dff=pd.read_csv('sample_data/mnist_test.csv',header=None)\n",
    "X_test=dff.iloc[:,1:].values\n",
    "y_test=dff.iloc[:,0].values\n",
    "\n",
    "X_train_new=X_train/255.0\n",
    "X_valid_new=X_valid/255.0\n",
    "X_test_new=X_test/255.0\n",
    "\n",
    "model=Sequential()\n",
    "model.add(Dense(400,input_dim=784,activation='relu'))\n",
    "model.add(Dense(150,activation='relu'))\n",
    "model.add(Dense(10,activation='softmax'))\n",
    "\n",
    "model.compile(loss='sparse_categorical_crossentropy',optimizer='adam',metrics=['accuracy'])\n",
    "\n",
    "model.fit(X_train_new,y_train,epochs=10,validation_data=(X_valid_new,y_valid))\n",
    "model.evaluate(X_test_new,y_test)\n"
   ]
  },
  {
   "cell_type": "code",
   "execution_count": 12,
   "metadata": {
    "colab": {
     "base_uri": "https://localhost:8080/",
     "height": 417
    },
    "colab_type": "code",
    "id": "4yGjbvGRbUr-",
    "outputId": "1fe54ba5-7a6f-4acb-ff22-c837bb26d00e"
   },
   "outputs": [
    {
     "name": "stdout",
     "output_type": "stream",
     "text": [
      "Epoch 1/10\n",
      "563/563 [==============================] - 3s 5ms/step - loss: 0.3210 - accuracy: 0.9039 - val_loss: 0.1897 - val_accuracy: 0.9415\n",
      "Epoch 2/10\n",
      "563/563 [==============================] - 3s 5ms/step - loss: 0.1255 - accuracy: 0.9618 - val_loss: 0.1938 - val_accuracy: 0.9425\n",
      "Epoch 3/10\n",
      "563/563 [==============================] - 3s 5ms/step - loss: 0.0765 - accuracy: 0.9753 - val_loss: 0.1449 - val_accuracy: 0.9590\n",
      "Epoch 4/10\n",
      "563/563 [==============================] - 3s 5ms/step - loss: 0.0489 - accuracy: 0.9840 - val_loss: 0.1651 - val_accuracy: 0.9550\n",
      "Epoch 5/10\n",
      "563/563 [==============================] - 3s 5ms/step - loss: 0.0398 - accuracy: 0.9866 - val_loss: 0.1685 - val_accuracy: 0.9570\n",
      "Epoch 6/10\n",
      "563/563 [==============================] - 3s 5ms/step - loss: 0.0273 - accuracy: 0.9914 - val_loss: 0.1757 - val_accuracy: 0.9600\n",
      "Epoch 7/10\n",
      "563/563 [==============================] - 3s 5ms/step - loss: 0.0256 - accuracy: 0.9915 - val_loss: 0.1665 - val_accuracy: 0.9610\n",
      "Epoch 8/10\n",
      "563/563 [==============================] - 3s 5ms/step - loss: 0.0288 - accuracy: 0.9901 - val_loss: 0.1643 - val_accuracy: 0.9630\n",
      "Epoch 9/10\n",
      "563/563 [==============================] - 3s 5ms/step - loss: 0.0171 - accuracy: 0.9949 - val_loss: 0.1585 - val_accuracy: 0.9635\n",
      "Epoch 10/10\n",
      "563/563 [==============================] - 3s 5ms/step - loss: 0.0182 - accuracy: 0.9934 - val_loss: 0.1805 - val_accuracy: 0.9610\n",
      "313/313 [==============================] - 1s 2ms/step - loss: 0.1436 - accuracy: 0.9666\n"
     ]
    },
    {
     "data": {
      "text/plain": [
       "[0.14356087148189545, 0.9666000008583069]"
      ]
     },
     "execution_count": 12,
     "metadata": {
      "tags": []
     },
     "output_type": "execute_result"
    }
   ],
   "source": [
    "df=pd.read_csv('sample_data/mnist_train_small.csv',header=None)\n",
    "X=df.iloc[:,1:].values\n",
    "y=df.iloc[:,0].values\n",
    "\n",
    "dff=pd.read_csv('sample_data/mnist_test.csv',header=None)\n",
    "X_test=dff.iloc[:,1:].values\n",
    "y_test=dff.iloc[:,0].values\n",
    "\n",
    "X_train_new=X/255.0\n",
    "X_test_new=X_test/255.0\n",
    "\n",
    "model=Sequential()\n",
    "model.add(Dense(400,input_dim=784,activation='relu'))\n",
    "model.add(Dense(150,activation='relu'))\n",
    "model.add(Dense(10,activation='softmax'))\n",
    "\n",
    "model.compile(loss='sparse_categorical_crossentropy',optimizer='adam',metrics=['accuracy'])\n",
    "\n",
    "model.fit(X_train_new,y,epochs=10,validation_split=.1)\n",
    "model.evaluate(X_test_new,y_test)\n"
   ]
  },
  {
   "cell_type": "code",
   "execution_count": 16,
   "metadata": {
    "colab": {
     "base_uri": "https://localhost:8080/",
     "height": 417
    },
    "colab_type": "code",
    "id": "SF4wPIaHd5wV",
    "outputId": "948fa3de-82be-4f7c-bb8e-5e813d1db6f1"
   },
   "outputs": [
    {
     "name": "stdout",
     "output_type": "stream",
     "text": [
      "Epoch 1/10\n",
      "563/563 [==============================] - 3s 6ms/step - loss: 0.4515 - accuracy: 0.8621 - val_loss: 0.2054 - val_accuracy: 0.9400\n",
      "Epoch 2/10\n",
      "563/563 [==============================] - 3s 6ms/step - loss: 0.2150 - accuracy: 0.9334 - val_loss: 0.1684 - val_accuracy: 0.9505\n",
      "Epoch 3/10\n",
      "563/563 [==============================] - 3s 6ms/step - loss: 0.1593 - accuracy: 0.9496 - val_loss: 0.1260 - val_accuracy: 0.9590\n",
      "Epoch 4/10\n",
      "563/563 [==============================] - 3s 6ms/step - loss: 0.1295 - accuracy: 0.9592 - val_loss: 0.1206 - val_accuracy: 0.9615\n",
      "Epoch 5/10\n",
      "563/563 [==============================] - 3s 6ms/step - loss: 0.1067 - accuracy: 0.9658 - val_loss: 0.1258 - val_accuracy: 0.9650\n",
      "Epoch 6/10\n",
      "563/563 [==============================] - 3s 6ms/step - loss: 0.0979 - accuracy: 0.9669 - val_loss: 0.1059 - val_accuracy: 0.9725\n",
      "Epoch 7/10\n",
      "563/563 [==============================] - 3s 6ms/step - loss: 0.0833 - accuracy: 0.9736 - val_loss: 0.1185 - val_accuracy: 0.9690\n",
      "Epoch 8/10\n",
      "563/563 [==============================] - 3s 6ms/step - loss: 0.0786 - accuracy: 0.9739 - val_loss: 0.1199 - val_accuracy: 0.9665\n",
      "Epoch 9/10\n",
      "563/563 [==============================] - 3s 6ms/step - loss: 0.0765 - accuracy: 0.9756 - val_loss: 0.1159 - val_accuracy: 0.9680\n",
      "Epoch 10/10\n",
      "563/563 [==============================] - 3s 5ms/step - loss: 0.0624 - accuracy: 0.9788 - val_loss: 0.1000 - val_accuracy: 0.9750\n",
      "313/313 [==============================] - 1s 2ms/step - loss: 0.0916 - accuracy: 0.9742\n"
     ]
    },
    {
     "data": {
      "text/plain": [
       "[0.09160187095403671, 0.9742000102996826]"
      ]
     },
     "execution_count": 16,
     "metadata": {
      "tags": []
     },
     "output_type": "execute_result"
    }
   ],
   "source": [
    "df=pd.read_csv('sample_data/mnist_train_small.csv',header=None)\n",
    "X=df.iloc[:,1:].values\n",
    "y=df.iloc[:,0].values\n",
    "\n",
    "dff=pd.read_csv('sample_data/mnist_test.csv',header=None)\n",
    "X_test=dff.iloc[:,1:].values\n",
    "y_test=dff.iloc[:,0].values\n",
    "\n",
    "X_train_new=X/255.0\n",
    "X_test_new=X_test/255.0\n",
    "\n",
    "model=Sequential()\n",
    "model.add(Dropout(.2,input_shape=(784,)))\n",
    "model.add(Dense(400,activation='relu'))\n",
    "model.add(Dropout(.2))\n",
    "model.add(Dense(150,activation='relu'))\n",
    "model.add(Dropout(.2))\n",
    "model.add(Dense(10,activation='softmax'))\n",
    "\n",
    "model.compile(loss='sparse_categorical_crossentropy',optimizer='adam',metrics=['accuracy'])\n",
    "\n",
    "model.fit(X_train_new,y,epochs=10,validation_split=.1)\n",
    "model.evaluate(X_test_new,y_test)"
   ]
  },
  {
   "cell_type": "code",
   "execution_count": 17,
   "metadata": {
    "colab": {
     "base_uri": "https://localhost:8080/",
     "height": 381
    },
    "colab_type": "code",
    "id": "XspPiVeYh1Yr",
    "outputId": "a186f149-209e-46b3-d513-c3c0a98172cc"
   },
   "outputs": [
    {
     "name": "stdout",
     "output_type": "stream",
     "text": [
      "Model: \"sequential_6\"\n",
      "_________________________________________________________________\n",
      "Layer (type)                 Output Shape              Param #   \n",
      "=================================================================\n",
      "dropout_3 (Dropout)          (None, 784)               0         \n",
      "_________________________________________________________________\n",
      "dense_18 (Dense)             (None, 400)               314000    \n",
      "_________________________________________________________________\n",
      "dropout_4 (Dropout)          (None, 400)               0         \n",
      "_________________________________________________________________\n",
      "dense_19 (Dense)             (None, 150)               60150     \n",
      "_________________________________________________________________\n",
      "dropout_5 (Dropout)          (None, 150)               0         \n",
      "_________________________________________________________________\n",
      "dense_20 (Dense)             (None, 10)                1510      \n",
      "=================================================================\n",
      "Total params: 375,660\n",
      "Trainable params: 375,660\n",
      "Non-trainable params: 0\n",
      "_________________________________________________________________\n"
     ]
    }
   ],
   "source": [
    "model.summary()"
   ]
  },
  {
   "cell_type": "code",
   "execution_count": 21,
   "metadata": {
    "colab": {},
    "colab_type": "code",
    "id": "QNke8lkeja6F"
   },
   "outputs": [],
   "source": [
    "from tensorflow.keras.utils import plot_model"
   ]
  },
  {
   "cell_type": "code",
   "execution_count": 20,
   "metadata": {
    "colab": {
     "base_uri": "https://localhost:8080/",
     "height": 754
    },
    "colab_type": "code",
    "id": "OS5BFrqfj2rG",
    "outputId": "6464b631-75c7-4902-98b6-cd7af470458b"
   },
   "outputs": [
    {
     "data": {
      "image/png": "[encoded data removed]",
      "text/plain": [
       "<IPython.core.display.Image object>"
      ]
     },
     "execution_count": 20,
     "metadata": {
      "tags": []
     },
     "output_type": "execute_result"
    }
   ],
   "source": [
    "plot_model(model,show_shapes=True)"
   ]
  },
  {
   "cell_type": "code",
   "execution_count": 22,
   "metadata": {
    "colab": {
     "base_uri": "https://localhost:8080/",
     "height": 128
    },
    "colab_type": "code",
    "id": "9ALfW--akBTw",
    "outputId": "4b6c02d7-6634-45a6-cc2c-ecc22f6f27d4"
   },
   "outputs": [
    {
     "name": "stdout",
     "output_type": "stream",
     "text": [
      "Go to this URL in a browser: https://accounts.google.com/o/oauth2/auth?client_id=947318989803-6bn6qk8qdgf4n4g3pfee6491hc0brc4i.apps.googleusercontent.com&redirect_uri=urn%3aietf%3awg%3aoauth%3a2.0%3aoob&response_type=code&scope=email%20https%3a%2f%2fwww.googleapis.com%2fauth%2fdocs.test%20https%3a%2f%2fwww.googleapis.com%2fauth%2fdrive%20https%3a%2f%2fwww.googleapis.com%2fauth%2fdrive.photos.readonly%20https%3a%2f%2fwww.googleapis.com%2fauth%2fpeopleapi.readonly\n",
      "\n",
      "Enter your authorization code:\n",
      "··········\n",
      "Mounted at /content/drive\n"
     ]
    }
   ],
   "source": [
    "from google.colab import drive\n",
    "drive.mount('/content/drive')"
   ]
  },
  {
   "cell_type": "code",
   "execution_count": 23,
   "metadata": {
    "colab": {},
    "colab_type": "code",
    "id": "D27JGq8inKBl"
   },
   "outputs": [],
   "source": [
    "df=pd.read_csv('/content/drive/My Drive/dataset_dl/classification/fruits.csv')"
   ]
  },
  {
   "cell_type": "code",
   "execution_count": 24,
   "metadata": {
    "colab": {
     "base_uri": "https://localhost:8080/",
     "height": 708
    },
    "colab_type": "code",
    "id": "2bdYntVfoBGs",
    "outputId": "6bfac039-ff63-4186-8bc4-94d5465922c5"
   },
   "outputs": [
    {
     "data": {
      "text/html": [
       "<div>\n",
       "<style scoped>\n",
       "    .dataframe tbody tr th:only-of-type {\n",
       "        vertical-align: middle;\n",
       "    }\n",
       "\n",
       "    .dataframe tbody tr th {\n",
       "        vertical-align: top;\n",
       "    }\n",
       "\n",
       "    .dataframe thead th {\n",
       "        text-align: right;\n",
       "    }\n",
       "</style>\n",
       "<table border=\"1\" class=\"dataframe\">\n",
       "  <thead>\n",
       "    <tr style=\"text-align: right;\">\n",
       "      <th></th>\n",
       "      <th>diameter</th>\n",
       "      <th>weight</th>\n",
       "      <th>FruitName</th>\n",
       "    </tr>\n",
       "  </thead>\n",
       "  <tbody>\n",
       "    <tr>\n",
       "      <th>0</th>\n",
       "      <td>3.0</td>\n",
       "      <td>30</td>\n",
       "      <td>Banana</td>\n",
       "    </tr>\n",
       "    <tr>\n",
       "      <th>1</th>\n",
       "      <td>6.0</td>\n",
       "      <td>100</td>\n",
       "      <td>Apple</td>\n",
       "    </tr>\n",
       "    <tr>\n",
       "      <th>2</th>\n",
       "      <td>6.1</td>\n",
       "      <td>95</td>\n",
       "      <td>Apple</td>\n",
       "    </tr>\n",
       "    <tr>\n",
       "      <th>3</th>\n",
       "      <td>3.2</td>\n",
       "      <td>35</td>\n",
       "      <td>Banana</td>\n",
       "    </tr>\n",
       "    <tr>\n",
       "      <th>4</th>\n",
       "      <td>5.5</td>\n",
       "      <td>80</td>\n",
       "      <td>Apple</td>\n",
       "    </tr>\n",
       "    <tr>\n",
       "      <th>5</th>\n",
       "      <td>7.1</td>\n",
       "      <td>120</td>\n",
       "      <td>Banana</td>\n",
       "    </tr>\n",
       "    <tr>\n",
       "      <th>6</th>\n",
       "      <td>2.5</td>\n",
       "      <td>60</td>\n",
       "      <td>Banana</td>\n",
       "    </tr>\n",
       "    <tr>\n",
       "      <th>7</th>\n",
       "      <td>2.3</td>\n",
       "      <td>100</td>\n",
       "      <td>Banana</td>\n",
       "    </tr>\n",
       "    <tr>\n",
       "      <th>8</th>\n",
       "      <td>4.8</td>\n",
       "      <td>70</td>\n",
       "      <td>Apple</td>\n",
       "    </tr>\n",
       "    <tr>\n",
       "      <th>9</th>\n",
       "      <td>4.8</td>\n",
       "      <td>79</td>\n",
       "      <td>Apple</td>\n",
       "    </tr>\n",
       "    <tr>\n",
       "      <th>10</th>\n",
       "      <td>5.8</td>\n",
       "      <td>120</td>\n",
       "      <td>Apple</td>\n",
       "    </tr>\n",
       "    <tr>\n",
       "      <th>11</th>\n",
       "      <td>2.6</td>\n",
       "      <td>85</td>\n",
       "      <td>Banana</td>\n",
       "    </tr>\n",
       "    <tr>\n",
       "      <th>12</th>\n",
       "      <td>6.0</td>\n",
       "      <td>110</td>\n",
       "      <td>Apple</td>\n",
       "    </tr>\n",
       "    <tr>\n",
       "      <th>13</th>\n",
       "      <td>6.3</td>\n",
       "      <td>95</td>\n",
       "      <td>Apple</td>\n",
       "    </tr>\n",
       "    <tr>\n",
       "      <th>14</th>\n",
       "      <td>3.0</td>\n",
       "      <td>40</td>\n",
       "      <td>Banana</td>\n",
       "    </tr>\n",
       "    <tr>\n",
       "      <th>15</th>\n",
       "      <td>3.5</td>\n",
       "      <td>25</td>\n",
       "      <td>Banana</td>\n",
       "    </tr>\n",
       "    <tr>\n",
       "      <th>16</th>\n",
       "      <td>5.5</td>\n",
       "      <td>100</td>\n",
       "      <td>Apple</td>\n",
       "    </tr>\n",
       "    <tr>\n",
       "      <th>17</th>\n",
       "      <td>7.5</td>\n",
       "      <td>120</td>\n",
       "      <td>Apple</td>\n",
       "    </tr>\n",
       "    <tr>\n",
       "      <th>18</th>\n",
       "      <td>2.5</td>\n",
       "      <td>50</td>\n",
       "      <td>Banana</td>\n",
       "    </tr>\n",
       "    <tr>\n",
       "      <th>19</th>\n",
       "      <td>2.7</td>\n",
       "      <td>40</td>\n",
       "      <td>Banana</td>\n",
       "    </tr>\n",
       "    <tr>\n",
       "      <th>20</th>\n",
       "      <td>4.8</td>\n",
       "      <td>90</td>\n",
       "      <td>Apple</td>\n",
       "    </tr>\n",
       "    <tr>\n",
       "      <th>21</th>\n",
       "      <td>5.8</td>\n",
       "      <td>90</td>\n",
       "      <td>Apple</td>\n",
       "    </tr>\n",
       "  </tbody>\n",
       "</table>\n",
       "</div>"
      ],
      "text/plain": [
       "    diameter  weight FruitName\n",
       "0        3.0      30    Banana\n",
       "1        6.0     100     Apple\n",
       "2        6.1      95     Apple\n",
       "3        3.2      35    Banana\n",
       "4        5.5      80     Apple\n",
       "5        7.1     120    Banana\n",
       "6        2.5      60    Banana\n",
       "7        2.3     100    Banana\n",
       "8        4.8      70     Apple\n",
       "9        4.8      79     Apple\n",
       "10       5.8     120     Apple\n",
       "11       2.6      85    Banana\n",
       "12       6.0     110     Apple\n",
       "13       6.3      95     Apple\n",
       "14       3.0      40    Banana\n",
       "15       3.5      25    Banana\n",
       "16       5.5     100     Apple\n",
       "17       7.5     120     Apple\n",
       "18       2.5      50    Banana\n",
       "19       2.7      40    Banana\n",
       "20       4.8      90     Apple\n",
       "21       5.8      90     Apple"
      ]
     },
     "execution_count": 24,
     "metadata": {
      "tags": []
     },
     "output_type": "execute_result"
    }
   ],
   "source": [
    "df"
   ]
  },
  {
   "cell_type": "code",
   "execution_count": null,
   "metadata": {
    "colab": {},
    "colab_type": "code",
    "id": "-pfe6fl5oCKw"
   },
   "outputs": [],
   "source": []
  }
 ],
 "metadata": {
  "accelerator": "TPU",
  "colab": {
   "name": "18_july_validation_summary_plot_drive.ipynb",
   "provenance": []
  },
  "kernelspec": {
   "display_name": "Python 3",
   "language": "python",
   "name": "python3"
  },
  "language_info": {
   "codemirror_mode": {
    "name": "ipython",
    "version": 3
   },
   "file_extension": ".py",
   "mimetype": "text/x-python",
   "name": "python",
   "nbconvert_exporter": "python",
   "pygments_lexer": "ipython3",
   "version": "3.7.3"
  }
 },
 "nbformat": 4,
 "nbformat_minor": 4
}
