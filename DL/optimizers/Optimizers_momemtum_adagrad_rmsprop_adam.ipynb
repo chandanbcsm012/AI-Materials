{
  "nbformat": 4,
  "nbformat_minor": 0,
  "metadata": {
    "colab": {
      "name": "Optimizers_momemtum_adagrad_rmsprop_adam.ipynb",
      "provenance": [],
      "collapsed_sections": []
    },
    "kernelspec": {
      "name": "python3",
      "display_name": "Python 3"
    },
    "accelerator": "TPU"
  },
  "cells": [
    {
      "cell_type": "code",
      "metadata": {
        "id": "VqOULpH11mes",
        "colab_type": "code",
        "colab": {}
      },
      "source": [
        "import pandas as pd\n",
        "import tensorflow as tf\n",
        "from sklearn.metrics import accuracy_score\n",
        "from sklearn.preprocessing import StandardScaler"
      ],
      "execution_count": 4,
      "outputs": []
    },
    {
      "cell_type": "code",
      "metadata": {
        "id": "fkv3BrpbHkre",
        "colab_type": "code",
        "colab": {
          "base_uri": "https://localhost:8080/",
          "height": 1000
        },
        "outputId": "a478b92b-f156-444c-d0e4-92643db528f0"
      },
      "source": [
        "def output_neuron(X,w,b):\n",
        "  return tf.matmul(X,w)+b\n",
        "\n",
        "def loss(y_true,logits):\n",
        "  return tf.reduce_mean(tf.losses.sparse_categorical_crossentropy(y_true,logits))\n",
        "\n",
        "def activation(ynet):\n",
        "  return tf.nn.softmax(ynet)\n",
        "\n",
        "tf.random.set_seed(10)\n",
        "\n",
        "wo=tf.Variable(tf.random.truncated_normal(shape=[784,10],dtype=tf.double))\n",
        "bo=tf.Variable(tf.random.truncated_normal(shape=[10],dtype=tf.double))\n",
        "\n",
        "df=pd.read_csv('sample_data/mnist_train_small.csv',header=None)\n",
        "sc=StandardScaler()\n",
        "X=df.iloc[:,1:].values\n",
        "y=df.iloc[:,0].values\n",
        "X_new=sc.fit_transform(X)\n",
        "#optimizer=tf.optimizers.SGD(learning_rate=.1,momentum=.9)\n",
        "#optimizer=tf.optimizers.Adagrad(learning_rate=.1)\n",
        "#optimizer=tf.optimizers.RMSprop(learning_rate=.1)\n",
        "#optimizer=tf.optimizers.Adadelta(learning_rate=.1)\n",
        "optimizer=tf.optimizers.Adam(learning_rate=.1) #(combinaion of adagrad and rmsprop)\n",
        "\n",
        "for epoch in range(1000):\n",
        "  start=0\n",
        "  for batch in range(2000,20001,2000):\n",
        "    with tf.GradientTape() as tape:\n",
        "      ynet=output_neuron(X_new[start:batch],wo,bo)\n",
        "      logits=activation(ynet)\n",
        "      ls=loss(y[start:batch],logits)\n",
        "      yhat=tf.argmax(logits,1)\n",
        "      if(epoch%100==0):\n",
        "        print(ls,accuracy_score(y[start:batch],yhat))\n",
        "      gradients=tape.gradient(ls,[wo,bo])\n",
        "      optimizer.apply_gradients(zip(gradients,[wo,bo]))\n",
        "      start=batch"
      ],
      "execution_count": 16,
      "outputs": [
        {
          "output_type": "stream",
          "text": [
            "tf.Tensor(12.980485026755764, shape=(), dtype=float64) 0.0965\n",
            "tf.Tensor(9.039149296173644, shape=(), dtype=float64) 0.3265\n",
            "tf.Tensor(6.286197400624073, shape=(), dtype=float64) 0.5075\n",
            "tf.Tensor(5.144210107439807, shape=(), dtype=float64) 0.5915\n",
            "tf.Tensor(4.106256535903085, shape=(), dtype=float64) 0.6745\n",
            "tf.Tensor(3.4261914212817137, shape=(), dtype=float64) 0.7235\n",
            "tf.Tensor(3.089365237495955, shape=(), dtype=float64) 0.753\n",
            "tf.Tensor(2.747814361568537, shape=(), dtype=float64) 0.778\n",
            "tf.Tensor(2.5595076989175776, shape=(), dtype=float64) 0.8005\n",
            "tf.Tensor(2.5213671536553113, shape=(), dtype=float64) 0.799\n",
            "tf.Tensor(0.5092327320905552, shape=(), dtype=float64) 0.9615\n",
            "tf.Tensor(0.6474229669317118, shape=(), dtype=float64) 0.955\n",
            "tf.Tensor(0.48156891645798394, shape=(), dtype=float64) 0.9635\n",
            "tf.Tensor(0.44930801252269975, shape=(), dtype=float64) 0.9665\n",
            "tf.Tensor(0.5765130347047618, shape=(), dtype=float64) 0.96\n",
            "tf.Tensor(0.5254161414294475, shape=(), dtype=float64) 0.962\n",
            "tf.Tensor(0.5136793007320161, shape=(), dtype=float64) 0.96\n",
            "tf.Tensor(0.5615942020961074, shape=(), dtype=float64) 0.9595\n",
            "tf.Tensor(0.4419893311971628, shape=(), dtype=float64) 0.968\n",
            "tf.Tensor(0.5719878325056307, shape=(), dtype=float64) 0.9605\n",
            "tf.Tensor(0.4594242479922243, shape=(), dtype=float64) 0.9715\n",
            "tf.Tensor(0.612540017350025, shape=(), dtype=float64) 0.962\n",
            "tf.Tensor(0.43525834515648604, shape=(), dtype=float64) 0.973\n",
            "tf.Tensor(0.41915075804401025, shape=(), dtype=float64) 0.974\n",
            "tf.Tensor(0.5561319093221239, shape=(), dtype=float64) 0.9655\n",
            "tf.Tensor(0.4916636133742163, shape=(), dtype=float64) 0.9695\n",
            "tf.Tensor(0.4674869668390404, shape=(), dtype=float64) 0.971\n",
            "tf.Tensor(0.5158508697820986, shape=(), dtype=float64) 0.968\n",
            "tf.Tensor(0.41914123162772793, shape=(), dtype=float64) 0.974\n",
            "tf.Tensor(0.5561183326601088, shape=(), dtype=float64) 0.9655\n",
            "tf.Tensor(0.45940527937083164, shape=(), dtype=float64) 0.9715\n",
            "tf.Tensor(0.6125262440644555, shape=(), dtype=float64) 0.962\n",
            "tf.Tensor(0.43523660293073935, shape=(), dtype=float64) 0.973\n",
            "tf.Tensor(0.41912876355022205, shape=(), dtype=float64) 0.974\n",
            "tf.Tensor(0.5561141779749211, shape=(), dtype=float64) 0.9655\n",
            "tf.Tensor(0.49164457711617576, shape=(), dtype=float64) 0.9695\n",
            "tf.Tensor(0.4674686152689237, shape=(), dtype=float64) 0.971\n",
            "tf.Tensor(0.5158281065147322, shape=(), dtype=float64) 0.968\n",
            "tf.Tensor(0.4191222852967167, shape=(), dtype=float64) 0.974\n",
            "tf.Tensor(0.5561078269002757, shape=(), dtype=float64) 0.9655\n",
            "tf.Tensor(0.4593953841158868, shape=(), dtype=float64) 0.9715\n",
            "tf.Tensor(0.6125181517108522, shape=(), dtype=float64) 0.962\n",
            "tf.Tensor(0.4352244843774525, shape=(), dtype=float64) 0.973\n",
            "tf.Tensor(0.41911532849661964, shape=(), dtype=float64) 0.974\n",
            "tf.Tensor(0.5561046989538038, shape=(), dtype=float64) 0.9655\n",
            "tf.Tensor(0.4916344357349386, shape=(), dtype=float64) 0.9695\n",
            "tf.Tensor(0.46745839255126, shape=(), dtype=float64) 0.971\n",
            "tf.Tensor(0.5158157590822905, shape=(), dtype=float64) 0.968\n",
            "tf.Tensor(0.41910959161387024, shape=(), dtype=float64) 0.974\n",
            "tf.Tensor(0.556101137473318, shape=(), dtype=float64) 0.9655\n",
            "tf.Tensor(0.4593889486997192, shape=(), dtype=float64) 0.9715\n",
            "tf.Tensor(0.612511822706613, shape=(), dtype=float64) 0.962\n",
            "tf.Tensor(0.4352164278710027, shape=(), dtype=float64) 0.973\n",
            "tf.Tensor(0.41910541346353575, shape=(), dtype=float64) 0.974\n",
            "tf.Tensor(0.5560981491620819, shape=(), dtype=float64) 0.9655\n",
            "tf.Tensor(0.4916272351850841, shape=(), dtype=float64) 0.9695\n",
            "tf.Tensor(0.46745126783887214, shape=(), dtype=float64) 0.971\n",
            "tf.Tensor(0.515807343360669, shape=(), dtype=float64) 0.968\n",
            "tf.Tensor(0.41910030580865704, shape=(), dtype=float64) 0.974\n",
            "tf.Tensor(0.5560957310051394, shape=(), dtype=float64) 0.9655\n",
            "tf.Tensor(0.4593838269973919, shape=(), dtype=float64) 0.9715\n",
            "tf.Tensor(0.6125064195865935, shape=(), dtype=float64) 0.962\n",
            "tf.Tensor(0.43521033365708733, shape=(), dtype=float64) 0.973\n",
            "tf.Tensor(0.41909747561588967, shape=(), dtype=float64) 0.974\n",
            "tf.Tensor(0.5560930305328313, shape=(), dtype=float64) 0.9655\n",
            "tf.Tensor(0.49162148257198485, shape=(), dtype=float64) 0.9695\n",
            "tf.Tensor(0.46744598832882095, shape=(), dtype=float64) 0.971\n",
            "tf.Tensor(0.5158010494636319, shape=(), dtype=float64) 0.968\n",
            "tf.Tensor(0.4190933487853508, shape=(), dtype=float64) 0.974\n",
            "tf.Tensor(0.5560911972240058, shape=(), dtype=float64) 0.9655\n",
            "tf.Tensor(0.45937963049602265, shape=(), dtype=float64) 0.9715\n",
            "tf.Tensor(0.6125019365515575, shape=(), dtype=float64) 0.962\n",
            "tf.Tensor(0.43520534968922586, shape=(), dtype=float64) 0.973\n",
            "tf.Tensor(0.4190910850396454, shape=(), dtype=float64) 0.974\n",
            "tf.Tensor(0.5560889536588669, shape=(), dtype=float64) 0.9655\n",
            "tf.Tensor(0.4916168776271085, shape=(), dtype=float64) 0.9695\n",
            "tf.Tensor(0.46744143357743606, shape=(), dtype=float64) 0.971\n",
            "tf.Tensor(0.5157959181884435, shape=(), dtype=float64) 0.968\n",
            "tf.Tensor(0.4190878921336205, shape=(), dtype=float64) 0.974\n",
            "tf.Tensor(0.5560874438194375, shape=(), dtype=float64) 0.9655\n",
            "tf.Tensor(0.4593762746424507, shape=(), dtype=float64) 0.9715\n",
            "tf.Tensor(0.6124983974748935, shape=(), dtype=float64) 0.962\n",
            "tf.Tensor(0.43520123493741414, shape=(), dtype=float64) 0.973\n",
            "tf.Tensor(0.4190859143914337, shape=(), dtype=float64) 0.974\n",
            "tf.Tensor(0.5560855434960825, shape=(), dtype=float64) 0.9655\n",
            "tf.Tensor(0.4916132542463316, shape=(), dtype=float64) 0.9695\n",
            "tf.Tensor(0.46743742700944757, shape=(), dtype=float64) 0.971\n",
            "tf.Tensor(0.5157917208220038, shape=(), dtype=float64) 0.968\n",
            "tf.Tensor(0.419083504329048, shape=(), dtype=float64) 0.974\n",
            "tf.Tensor(0.5560844247075969, shape=(), dtype=float64) 0.9655\n",
            "tf.Tensor(0.45937362227268475, shape=(), dtype=float64) 0.9715\n",
            "tf.Tensor(0.6124956313901514, shape=(), dtype=float64) 0.962\n",
            "tf.Tensor(0.43519794013412183, shape=(), dtype=float64) 0.973\n",
            "tf.Tensor(0.41908182288613965, shape=(), dtype=float64) 0.974\n",
            "tf.Tensor(0.5560827270830007, shape=(), dtype=float64) 0.9655\n",
            "tf.Tensor(0.4916103791070732, shape=(), dtype=float64) 0.9695\n",
            "tf.Tensor(0.467434121557326, shape=(), dtype=float64) 0.971\n",
            "tf.Tensor(0.5157884142446749, shape=(), dtype=float64) 0.968\n",
            "tf.Tensor(0.419080060346196, shape=(), dtype=float64) 0.974\n",
            "tf.Tensor(0.5560819648160251, shape=(), dtype=float64) 0.9655\n"
          ],
          "name": "stdout"
        }
      ]
    },
    {
      "cell_type": "code",
      "metadata": {
        "id": "SZCsnupae8Vv",
        "colab_type": "code",
        "colab": {
          "base_uri": "https://localhost:8080/",
          "height": 35
        },
        "outputId": "60dce92f-bb47-44ce-8022-ed9ce5b7182c"
      },
      "source": [
        "df_test=pd.read_csv('sample_data/mnist_test.csv',header=None)\n",
        "X_test=df_test.iloc[:,1:].values\n",
        "X_test_new=sc.transform(X_test)\n",
        "y_test=df_test.iloc[:,0].values\n",
        "ynet=output_neuron(X_test_new,wo,bo)\n",
        "logits=activation(ynet)\n",
        "ls=loss(y_test,logits)\n",
        "yhat=tf.argmax(logits,1)\n",
        "print(ls,accuracy_score(y_test,yhat))"
      ],
      "execution_count": 17,
      "outputs": [
        {
          "output_type": "stream",
          "text": [
            "tf.Tensor(1.180195166378875, shape=(), dtype=float64) 0.9141\n"
          ],
          "name": "stdout"
        }
      ]
    },
    {
      "cell_type": "code",
      "metadata": {
        "id": "D-hgFyfCiJCU",
        "colab_type": "code",
        "colab": {}
      },
      "source": [
        ""
      ],
      "execution_count": null,
      "outputs": []
    }
  ]
}