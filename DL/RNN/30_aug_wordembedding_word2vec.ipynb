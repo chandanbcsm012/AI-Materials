{
  "nbformat": 4,
  "nbformat_minor": 0,
  "metadata": {
    "colab": {
      "name": "30_aug_wordembedding_word2vec.ipynb",
      "provenance": []
    },
    "kernelspec": {
      "name": "python3",
      "display_name": "Python 3"
    }
  },
  "cells": [
    {
      "cell_type": "code",
      "metadata": {
        "id": "ujJUPmJwBsrD",
        "colab_type": "code",
        "colab": {
          "base_uri": "https://localhost:8080/",
          "height": 217
        },
        "outputId": "37b200d0-4682-40b9-e53c-cdd57f61e2aa"
      },
      "source": [
        "!wget https://s3.amazonaws.com/dl4j-distribution/GoogleNews-vectors-negative300.bin.gz -P \"drive/My Drive\""
      ],
      "execution_count": 1,
      "outputs": [
        {
          "output_type": "stream",
          "text": [
            "--2020-08-30 11:03:55--  https://s3.amazonaws.com/dl4j-distribution/GoogleNews-vectors-negative300.bin.gz\n",
            "Resolving s3.amazonaws.com (s3.amazonaws.com)... 52.217.98.102\n",
            "Connecting to s3.amazonaws.com (s3.amazonaws.com)|52.217.98.102|:443... connected.\n",
            "HTTP request sent, awaiting response... 200 OK\n",
            "Length: 1647046227 (1.5G) [application/x-gzip]\n",
            "Saving to: ‘drive/My Drive/GoogleNews-vectors-negative300.bin.gz’\n",
            "\n",
            "GoogleNews-vectors- 100%[===================>]   1.53G  46.4MB/s    in 34s     \n",
            "\n",
            "2020-08-30 11:04:30 (45.6 MB/s) - ‘drive/My Drive/GoogleNews-vectors-negative300.bin.gz’ saved [1647046227/1647046227]\n",
            "\n"
          ],
          "name": "stdout"
        }
      ]
    },
    {
      "cell_type": "code",
      "metadata": {
        "id": "j9UTJmw0CXwE",
        "colab_type": "code",
        "colab": {
          "base_uri": "https://localhost:8080/",
          "height": 74
        },
        "outputId": "fa53f909-ddb9-42ab-e28d-7dfd9e924a57"
      },
      "source": [
        "from gensim.models import KeyedVectors\n",
        "file_path=\"drive/My Drive/GoogleNews-vectors-negative300.bin.gz\"\n",
        "model=KeyedVectors.load_word2vec_format(file_path,binary=True)"
      ],
      "execution_count": 2,
      "outputs": [
        {
          "output_type": "stream",
          "text": [
            "/usr/local/lib/python3.6/dist-packages/smart_open/smart_open_lib.py:254: UserWarning: This function is deprecated, use smart_open.open instead. See the migration notes for details: https://github.com/RaRe-Technologies/smart_open/blob/master/README.rst#migrating-to-the-new-open-function\n",
            "  'See the migration notes for details: %s' % _MIGRATION_NOTES_URL\n"
          ],
          "name": "stderr"
        }
      ]
    },
    {
      "cell_type": "code",
      "metadata": {
        "id": "YHX2zkK9DaYT",
        "colab_type": "code",
        "colab": {
          "base_uri": "https://localhost:8080/",
          "height": 35
        },
        "outputId": "bacfb6d9-710f-4556-9ea2-e65aa1d9d29d"
      },
      "source": [
        "food_vector=model.get_vector(\"food\")\n",
        "print(food_vector.shape)\n",
        "#print(food_vector)"
      ],
      "execution_count": 6,
      "outputs": [
        {
          "output_type": "stream",
          "text": [
            "(300,)\n"
          ],
          "name": "stdout"
        }
      ]
    },
    {
      "cell_type": "code",
      "metadata": {
        "id": "BmyKbvbHEKW0",
        "colab_type": "code",
        "colab": {
          "base_uri": "https://localhost:8080/",
          "height": 201
        },
        "outputId": "2a57d5a2-7fb8-4dc2-b5f8-6abd84307414"
      },
      "source": [
        "print(model.similarity(\"king\",\"queen\"))\n",
        "print(model.similarity(\"truck\",\"bus\"))\n",
        "print(model.similarity(\"king\",\"truck\"))\n",
        "print(model.most_similar(\"car\",topn=5))\n",
        "print(model.most_similar(\"amazing\",topn=5))\n",
        "print(model.most_similar(positive=['king','woman'],negative=['man'],topn=1))\n",
        "print(model.most_similar(positive=['father','mother'],topn=3))\n"
      ],
      "execution_count": 15,
      "outputs": [
        {
          "output_type": "stream",
          "text": [
            "/usr/local/lib/python3.6/dist-packages/gensim/matutils.py:737: FutureWarning: Conversion of the second argument of issubdtype from `int` to `np.signedinteger` is deprecated. In future, it will be treated as `np.int64 == np.dtype(int).type`.\n",
            "  if np.issubdtype(vec.dtype, np.int):\n"
          ],
          "name": "stderr"
        },
        {
          "output_type": "stream",
          "text": [
            "0.6510957\n",
            "0.5290666\n",
            "0.06225873\n",
            "[('vehicle', 0.7821096181869507), ('cars', 0.7423830032348633), ('SUV', 0.7160962820053101), ('minivan', 0.6907036304473877), ('truck', 0.6735789775848389)]\n",
            "[('incredible', 0.9054000973701477), ('awesome', 0.8282865285873413), ('unbelievable', 0.8201264142990112), ('fantastic', 0.778986930847168), ('phenomenal', 0.7642048001289368)]\n",
            "[('queen', 0.7118192911148071)]\n",
            "[('son', 0.8781620264053345), ('daughter', 0.849882960319519), ('grandmother', 0.8119575381278992)]\n"
          ],
          "name": "stdout"
        }
      ]
    },
    {
      "cell_type": "code",
      "metadata": {
        "id": "pzrO_NBOEvWc",
        "colab_type": "code",
        "colab": {}
      },
      "source": [
        ""
      ],
      "execution_count": null,
      "outputs": []
    }
  ]
}