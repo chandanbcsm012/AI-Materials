{
  "nbformat": 4,
  "nbformat_minor": 0,
  "metadata": {
    "colab": {
      "name": "22_aug_TextClassification.ipynb",
      "provenance": []
    },
    "kernelspec": {
      "name": "python3",
      "display_name": "Python 3"
    }
  },
  "cells": [
    {
      "cell_type": "code",
      "metadata": {
        "id": "0XwFDaMii8Nh",
        "colab_type": "code",
        "colab": {}
      },
      "source": [
        "from keras.preprocessing.text import Tokenizer\n",
        "import numpy as np"
      ],
      "execution_count": 22,
      "outputs": []
    },
    {
      "cell_type": "code",
      "metadata": {
        "id": "2Lz2FPpUkeIG",
        "colab_type": "code",
        "colab": {}
      },
      "source": [
        "corpus=['food is # good! _@ 2019',\n",
        "\t\t'& Food # is * tasty',\n",
        "\t\t'quality is Good',\n",
        "\t\t'service is Poor poor means very poor',\n",
        "\t\t'it is too costly',\n",
        "\t\t'cheap quality']\n",
        "target=[1,1,1,0,0,0]    "
      ],
      "execution_count": 23,
      "outputs": []
    },
    {
      "cell_type": "code",
      "metadata": {
        "id": "U4kFp4EdkxC0",
        "colab_type": "code",
        "colab": {}
      },
      "source": [
        "tkn=Tokenizer()\n",
        "tkn.fit_on_texts(corpus)"
      ],
      "execution_count": 47,
      "outputs": []
    },
    {
      "cell_type": "code",
      "metadata": {
        "id": "xPKAw2WIlXD2",
        "colab_type": "code",
        "colab": {
          "base_uri": "https://localhost:8080/",
          "height": 128
        },
        "outputId": "9108fce6-58c2-4a17-9a2f-682b2a60d8a9"
      },
      "source": [
        "print(tkn.word_index)\n",
        "print(len(tkn.word_index))\n",
        "print(tkn.word_counts) \n",
        "print(tkn.word_docs)\n",
        "print(tkn.document_count)"
      ],
      "execution_count": 48,
      "outputs": [
        {
          "output_type": "stream",
          "text": [
            "{'is': 1, 'poor': 2, 'food': 3, 'good': 4, 'quality': 5, '2019': 6, 'tasty': 7, 'service': 8, 'means': 9, 'very': 10, 'it': 11, 'too': 12, 'costly': 13, 'cheap': 14}\n",
            "14\n",
            "OrderedDict([('food', 2), ('is', 5), ('good', 2), ('2019', 1), ('tasty', 1), ('quality', 2), ('service', 1), ('poor', 3), ('means', 1), ('very', 1), ('it', 1), ('too', 1), ('costly', 1), ('cheap', 1)])\n",
            "defaultdict(<class 'int'>, {'2019': 1, 'good': 2, 'food': 2, 'is': 5, 'tasty': 1, 'quality': 2, 'means': 1, 'service': 1, 'very': 1, 'poor': 1, 'costly': 1, 'too': 1, 'it': 1, 'cheap': 1})\n",
            "6\n"
          ],
          "name": "stdout"
        }
      ]
    },
    {
      "cell_type": "code",
      "metadata": {
        "id": "sP_VOO6elgW-",
        "colab_type": "code",
        "colab": {}
      },
      "source": [
        "X=tkn.texts_to_matrix(corpus,mode='binary')\n",
        "y=np.array(target)"
      ],
      "execution_count": 49,
      "outputs": []
    },
    {
      "cell_type": "code",
      "metadata": {
        "id": "SP99dfxdn3qc",
        "colab_type": "code",
        "colab": {
          "base_uri": "https://localhost:8080/",
          "height": 145
        },
        "outputId": "8d389073-a502-4581-ab6f-5012135f1806"
      },
      "source": [
        "print(X.shape)\n",
        "X"
      ],
      "execution_count": 50,
      "outputs": [
        {
          "output_type": "stream",
          "text": [
            "(6, 15)\n"
          ],
          "name": "stdout"
        },
        {
          "output_type": "execute_result",
          "data": {
            "text/plain": [
              "array([[0., 1., 0., 1., 1., 0., 1., 0., 0., 0., 0., 0., 0., 0., 0.],\n",
              "       [0., 1., 0., 1., 0., 0., 0., 1., 0., 0., 0., 0., 0., 0., 0.],\n",
              "       [0., 1., 0., 0., 1., 1., 0., 0., 0., 0., 0., 0., 0., 0., 0.],\n",
              "       [0., 1., 1., 0., 0., 0., 0., 0., 1., 1., 1., 0., 0., 0., 0.],\n",
              "       [0., 1., 0., 0., 0., 0., 0., 0., 0., 0., 0., 1., 1., 1., 0.],\n",
              "       [0., 0., 0., 0., 0., 1., 0., 0., 0., 0., 0., 0., 0., 0., 1.]])"
            ]
          },
          "metadata": {
            "tags": []
          },
          "execution_count": 50
        }
      ]
    },
    {
      "cell_type": "code",
      "metadata": {
        "id": "XsnOHk-fpGOl",
        "colab_type": "code",
        "colab": {}
      },
      "source": [
        "import pandas as pd"
      ],
      "execution_count": 51,
      "outputs": []
    },
    {
      "cell_type": "code",
      "metadata": {
        "id": "2IUU-EISql6a",
        "colab_type": "code",
        "colab": {
          "base_uri": "https://localhost:8080/",
          "height": 90
        },
        "outputId": "32ec8548-8930-40a6-be40-52105091423f"
      },
      "source": [
        "df=pd.read_csv(\"drive/My Drive/dataset_dl/sentiment/spam_ham.txt\",delimiter=\"\\t\",names=['msg_type','msg'])\n",
        "print(df.shape)\n",
        "df.msg_type=df.msg_type.map({'spam':0,'ham':1})\n",
        "df.head(10)\n",
        "df.msg_type.value_counts()"
      ],
      "execution_count": 117,
      "outputs": [
        {
          "output_type": "stream",
          "text": [
            "(5572, 2)\n"
          ],
          "name": "stdout"
        },
        {
          "output_type": "execute_result",
          "data": {
            "text/plain": [
              "1    4825\n",
              "0     747\n",
              "Name: msg_type, dtype: int64"
            ]
          },
          "metadata": {
            "tags": []
          },
          "execution_count": 117
        }
      ]
    },
    {
      "cell_type": "code",
      "metadata": {
        "id": "WKpbM_0VrneD",
        "colab_type": "code",
        "colab": {}
      },
      "source": [
        "from sklearn.model_selection import  train_test_split\n",
        "X_train,X_test,y_train,y_test=train_test_split(df.msg,df.msg_type,random_state=10)"
      ],
      "execution_count": 101,
      "outputs": []
    },
    {
      "cell_type": "code",
      "metadata": {
        "id": "LFnZIu5Zr2nR",
        "colab_type": "code",
        "colab": {
          "base_uri": "https://localhost:8080/",
          "height": 35
        },
        "outputId": "4fbd3caf-4815-4faa-f4dc-2dc19a253bb9"
      },
      "source": [
        "tkn=Tokenizer()\n",
        "tkn.fit_on_texts(X_train)\n",
        "print(len(tkn.word_index))"
      ],
      "execution_count": 102,
      "outputs": [
        {
          "output_type": "stream",
          "text": [
            "7689\n"
          ],
          "name": "stdout"
        }
      ]
    },
    {
      "cell_type": "code",
      "metadata": {
        "id": "RJUjikATukwB",
        "colab_type": "code",
        "colab": {}
      },
      "source": [
        "X_train_new=tkn.texts_to_matrix(X_train)\n",
        "X_test_new=tkn.texts_to_matrix(X_test)"
      ],
      "execution_count": 118,
      "outputs": []
    },
    {
      "cell_type": "code",
      "metadata": {
        "id": "eibV3PUQu0T-",
        "colab_type": "code",
        "colab": {}
      },
      "source": [
        "from tensorflow.keras.layers import Dense,Dropout,Conv1D,Flatten,MaxPooling1D\n",
        "from tensorflow.keras.models import Sequential"
      ],
      "execution_count": 104,
      "outputs": []
    },
    {
      "cell_type": "code",
      "metadata": {
        "id": "2ecm6C_DvT-I",
        "colab_type": "code",
        "colab": {
          "base_uri": "https://localhost:8080/",
          "height": 217
        },
        "outputId": "0336fbd5-fc5b-4d4e-dc83-c78f16bc8b24"
      },
      "source": [
        "model=Sequential()\n",
        "model.add(Dense(50,activation='relu',input_shape=(X_train_new.shape[1],)))\n",
        "model.add(Dense(10,activation='relu'))\n",
        "model.add(Dense(1,activation='sigmoid'))\n",
        "\n",
        "model.compile(loss='binary_crossentropy',optimizer='adam',metrics=['accuracy'])\n",
        "model.fit(X_train_new,y_train,epochs=5)"
      ],
      "execution_count": 105,
      "outputs": [
        {
          "output_type": "stream",
          "text": [
            "Epoch 1/5\n",
            "131/131 [==============================] - 1s 4ms/step - loss: 0.2741 - accuracy: 0.9318\n",
            "Epoch 2/5\n",
            "131/131 [==============================] - 1s 4ms/step - loss: 0.0399 - accuracy: 0.9933\n",
            "Epoch 3/5\n",
            "131/131 [==============================] - 1s 4ms/step - loss: 0.0104 - accuracy: 0.9988\n",
            "Epoch 4/5\n",
            "131/131 [==============================] - 1s 4ms/step - loss: 0.0040 - accuracy: 0.9993\n",
            "Epoch 5/5\n",
            "131/131 [==============================] - 1s 4ms/step - loss: 0.0019 - accuracy: 1.0000\n"
          ],
          "name": "stdout"
        },
        {
          "output_type": "execute_result",
          "data": {
            "text/plain": [
              "<tensorflow.python.keras.callbacks.History at 0x7f5dfece7828>"
            ]
          },
          "metadata": {
            "tags": []
          },
          "execution_count": 105
        }
      ]
    },
    {
      "cell_type": "code",
      "metadata": {
        "id": "yySSuHlGwIxc",
        "colab_type": "code",
        "colab": {
          "base_uri": "https://localhost:8080/",
          "height": 54
        },
        "outputId": "cdb03a76-13c3-46e2-f823-6f7b08950975"
      },
      "source": [
        "model.evaluate(X_test_new,y_test)"
      ],
      "execution_count": 106,
      "outputs": [
        {
          "output_type": "stream",
          "text": [
            "44/44 [==============================] - 0s 2ms/step - loss: 0.0880 - accuracy: 0.9813\n"
          ],
          "name": "stdout"
        },
        {
          "output_type": "execute_result",
          "data": {
            "text/plain": [
              "[0.08804430812597275, 0.9813352227210999]"
            ]
          },
          "metadata": {
            "tags": []
          },
          "execution_count": 106
        }
      ]
    },
    {
      "cell_type": "code",
      "metadata": {
        "id": "gvil2V6m4sZW",
        "colab_type": "code",
        "colab": {
          "base_uri": "https://localhost:8080/",
          "height": 35
        },
        "outputId": "9dc35f7c-88c6-4f4c-e5d7-6161683a0a28"
      },
      "source": [
        "test_sample=[\"get free talktime of rs 2000 share the link in 10 gropus\"]\n",
        "test_sample_new=tkn.texts_to_matrix(test_sample)\n",
        "model.predict(test_sample_new)"
      ],
      "execution_count": 112,
      "outputs": [
        {
          "output_type": "execute_result",
          "data": {
            "text/plain": [
              "array([[0.99254525]], dtype=float32)"
            ]
          },
          "metadata": {
            "tags": []
          },
          "execution_count": 112
        }
      ]
    },
    {
      "cell_type": "code",
      "metadata": {
        "id": "acQKT64rykZ2",
        "colab_type": "code",
        "colab": {
          "base_uri": "https://localhost:8080/",
          "height": 217
        },
        "outputId": "0b87a69d-5b5d-4097-84b4-6ceacb558a1d"
      },
      "source": [
        "model_cnn=Sequential()\n",
        "model_cnn.add(Conv1D(32,3,activation='relu',input_shape=(X_train_new.shape[1],1)))\n",
        "model_cnn.add(MaxPooling1D())\n",
        "model_cnn.add(Flatten())\n",
        "model_cnn.add(Dense(1,activation='sigmoid'))\n",
        "model_cnn.compile(loss='binary_crossentropy',optimizer='adam',metrics=['accuracy'])\n",
        "model_cnn.fit(X_train_new.reshape(X_train_new.shape[0],X_train_new.shape[1],1),y_train,epochs=5)"
      ],
      "execution_count": 82,
      "outputs": [
        {
          "output_type": "stream",
          "text": [
            "Epoch 1/5\n",
            "131/131 [==============================] - 13s 97ms/step - loss: 0.2923 - accuracy: 0.8940\n",
            "Epoch 2/5\n",
            "131/131 [==============================] - 13s 97ms/step - loss: 0.0809 - accuracy: 0.9780\n",
            "Epoch 3/5\n",
            "131/131 [==============================] - 13s 98ms/step - loss: 0.0437 - accuracy: 0.9871\n",
            "Epoch 4/5\n",
            "131/131 [==============================] - 13s 97ms/step - loss: 0.0259 - accuracy: 0.9935\n",
            "Epoch 5/5\n",
            "131/131 [==============================] - 13s 97ms/step - loss: 0.0157 - accuracy: 0.9962\n"
          ],
          "name": "stdout"
        },
        {
          "output_type": "execute_result",
          "data": {
            "text/plain": [
              "<tensorflow.python.keras.callbacks.History at 0x7f5df3271f98>"
            ]
          },
          "metadata": {
            "tags": []
          },
          "execution_count": 82
        }
      ]
    },
    {
      "cell_type": "code",
      "metadata": {
        "id": "4tToqQkt1pKi",
        "colab_type": "code",
        "colab": {
          "base_uri": "https://localhost:8080/",
          "height": 54
        },
        "outputId": "a368a905-ee93-42e8-ec41-1f66d3a2b318"
      },
      "source": [
        "model_cnn.evaluate(X_test_new.reshape(X_test_new.shape[0],X_test_new.shape[1],1),y_test)"
      ],
      "execution_count": 88,
      "outputs": [
        {
          "output_type": "stream",
          "text": [
            "44/44 [==============================] - 2s 40ms/step - loss: 0.0839 - accuracy: 0.9742\n"
          ],
          "name": "stdout"
        },
        {
          "output_type": "execute_result",
          "data": {
            "text/plain": [
              "[0.08385652303695679, 0.9741564989089966]"
            ]
          },
          "metadata": {
            "tags": []
          },
          "execution_count": 88
        }
      ]
    },
    {
      "cell_type": "code",
      "metadata": {
        "id": "__0LPqha2jxH",
        "colab_type": "code",
        "colab": {
          "base_uri": "https://localhost:8080/",
          "height": 35
        },
        "outputId": "0b910cef-ba28-4f2d-f1d2-7b95166d8a37"
      },
      "source": [
        "test_sample=[\"get free talktime of rs 2000 share the link in 10 gropus\"]\n",
        "test_sample_new=tkn.texts_to_matrix(test_sample)\n",
        "test_sample_new=test_sample_new.reshape(test_sample_new.shape[0],test_sample_new.shape[1],1)\n",
        "model_cnn.predict(test_sample_new)"
      ],
      "execution_count": 113,
      "outputs": [
        {
          "output_type": "execute_result",
          "data": {
            "text/plain": [
              "array([[0.9119481]], dtype=float32)"
            ]
          },
          "metadata": {
            "tags": []
          },
          "execution_count": 113
        }
      ]
    },
    {
      "cell_type": "code",
      "metadata": {
        "id": "stBc1URKxG9h",
        "colab_type": "code",
        "colab": {
          "base_uri": "https://localhost:8080/",
          "height": 303
        },
        "outputId": "655887f9-ca17-419f-d331-b21a35e0dc40"
      },
      "source": [
        "df=pd.read_json(\"drive/My Drive/dataset_dl/sentiment/news.json\",lines=True)\n",
        "print(df.shape)\n",
        "df.head()\n"
      ],
      "execution_count": 76,
      "outputs": [
        {
          "output_type": "stream",
          "text": [
            "(1436, 6)\n"
          ],
          "name": "stdout"
        },
        {
          "output_type": "execute_result",
          "data": {
            "text/html": [
              "<div>\n",
              "<style scoped>\n",
              "    .dataframe tbody tr th:only-of-type {\n",
              "        vertical-align: middle;\n",
              "    }\n",
              "\n",
              "    .dataframe tbody tr th {\n",
              "        vertical-align: top;\n",
              "    }\n",
              "\n",
              "    .dataframe thead th {\n",
              "        text-align: right;\n",
              "    }\n",
              "</style>\n",
              "<table border=\"1\" class=\"dataframe\">\n",
              "  <thead>\n",
              "    <tr style=\"text-align: right;\">\n",
              "      <th></th>\n",
              "      <th>category</th>\n",
              "      <th>headline</th>\n",
              "      <th>authors</th>\n",
              "      <th>link</th>\n",
              "      <th>short_description</th>\n",
              "      <th>date</th>\n",
              "    </tr>\n",
              "  </thead>\n",
              "  <tbody>\n",
              "    <tr>\n",
              "      <th>0</th>\n",
              "      <td>CRIME</td>\n",
              "      <td>There Were 2 Mass Shootings In Texas Last Week...</td>\n",
              "      <td>Melissa Jeltsen</td>\n",
              "      <td>https://www.huffingtonpost.com/entry/texas-ama...</td>\n",
              "      <td>She left her husband. He killed their children...</td>\n",
              "      <td>2018-05-26</td>\n",
              "    </tr>\n",
              "    <tr>\n",
              "      <th>1</th>\n",
              "      <td>ENTERTAINMENT</td>\n",
              "      <td>Will Smith Joins Diplo And Nicky Jam For The 2...</td>\n",
              "      <td>Andy McDonald</td>\n",
              "      <td>https://www.huffingtonpost.com/entry/will-smit...</td>\n",
              "      <td>Of course it has a song.</td>\n",
              "      <td>2018-05-26</td>\n",
              "    </tr>\n",
              "    <tr>\n",
              "      <th>2</th>\n",
              "      <td>ENTERTAINMENT</td>\n",
              "      <td>Hugh Grant Marries For The First Time At Age 57</td>\n",
              "      <td>Ron Dicker</td>\n",
              "      <td>https://www.huffingtonpost.com/entry/hugh-gran...</td>\n",
              "      <td>The actor and his longtime girlfriend Anna Ebe...</td>\n",
              "      <td>2018-05-26</td>\n",
              "    </tr>\n",
              "    <tr>\n",
              "      <th>3</th>\n",
              "      <td>ENTERTAINMENT</td>\n",
              "      <td>Jim Carrey Blasts 'Castrato' Adam Schiff And D...</td>\n",
              "      <td>Ron Dicker</td>\n",
              "      <td>https://www.huffingtonpost.com/entry/jim-carre...</td>\n",
              "      <td>The actor gives Dems an ass-kicking for not fi...</td>\n",
              "      <td>2018-05-26</td>\n",
              "    </tr>\n",
              "    <tr>\n",
              "      <th>4</th>\n",
              "      <td>ENTERTAINMENT</td>\n",
              "      <td>Julianna Margulies Uses Donald Trump Poop Bags...</td>\n",
              "      <td>Ron Dicker</td>\n",
              "      <td>https://www.huffingtonpost.com/entry/julianna-...</td>\n",
              "      <td>The \"Dietland\" actress said using the bags is ...</td>\n",
              "      <td>2018-05-26</td>\n",
              "    </tr>\n",
              "  </tbody>\n",
              "</table>\n",
              "</div>"
            ],
            "text/plain": [
              "        category  ...       date\n",
              "0          CRIME  ... 2018-05-26\n",
              "1  ENTERTAINMENT  ... 2018-05-26\n",
              "2  ENTERTAINMENT  ... 2018-05-26\n",
              "3  ENTERTAINMENT  ... 2018-05-26\n",
              "4  ENTERTAINMENT  ... 2018-05-26\n",
              "\n",
              "[5 rows x 6 columns]"
            ]
          },
          "metadata": {
            "tags": []
          },
          "execution_count": 76
        }
      ]
    },
    {
      "cell_type": "code",
      "metadata": {
        "id": "hw-tKIxjxx-n",
        "colab_type": "code",
        "colab": {}
      },
      "source": [
        ""
      ],
      "execution_count": null,
      "outputs": []
    },
    {
      "cell_type": "code",
      "metadata": {
        "id": "NdGSbQnXyiDY",
        "colab_type": "code",
        "colab": {}
      },
      "source": [
        ""
      ],
      "execution_count": null,
      "outputs": []
    }
  ]
}