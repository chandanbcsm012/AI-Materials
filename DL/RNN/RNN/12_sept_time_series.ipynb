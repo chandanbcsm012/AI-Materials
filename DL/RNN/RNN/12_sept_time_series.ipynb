{
  "nbformat": 4,
  "nbformat_minor": 0,
  "metadata": {
    "colab": {
      "name": "12_sept_time_series.ipynb",
      "provenance": []
    },
    "kernelspec": {
      "name": "python3",
      "display_name": "Python 3"
    }
  },
  "cells": [
    {
      "cell_type": "code",
      "metadata": {
        "id": "-lyYa32HuU6S",
        "colab_type": "code",
        "colab": {
          "base_uri": "https://localhost:8080/",
          "height": 72
        },
        "outputId": "bd9064c9-f1ab-418c-f752-e3278fb38546"
      },
      "source": [
        "#consider this given sequence\n",
        "seq=[10,20,30,40,50,60,70,80,90]\n",
        "\n",
        "#objective is to forecast next value in sequence\n",
        "\n",
        "\"\"\"\n",
        "prepare dataset for time series prediction\n",
        "#create temporal dim based on time steps and target,let's take time step=3\n",
        "x1    x2      x3      y\n",
        "10    20      30      40\n",
        "20    30      40      50\n",
        "30    40      50      60\n",
        "40    50      60      70\n",
        "50    60      70      80\n",
        "60    70      80      90\n",
        "70    80      90      ?\n",
        "\"\"\""
      ],
      "execution_count": 40,
      "outputs": [
        {
          "output_type": "execute_result",
          "data": {
            "application/vnd.google.colaboratory.intrinsic+json": {
              "type": "string"
            },
            "text/plain": [
              "\"\\nprepare dataset for time series prediction\\n#create temporal dim based on time steps and target,let's take time step=3\\nx1    x2      x3      y\\n10    20      30      40\\n20    30      40      50\\n30    40      50      60\\n40    50      60      70\\n50    60      70      80\\n60    70      80      90\\n70    80      90      ?\\n\""
            ]
          },
          "metadata": {
            "tags": []
          },
          "execution_count": 40
        }
      ]
    },
    {
      "cell_type": "code",
      "metadata": {
        "id": "VzS7GBjluhGu",
        "colab_type": "code",
        "colab": {
          "base_uri": "https://localhost:8080/",
          "height": 145
        },
        "outputId": "7f436fb2-deb3-4c27-f2f1-fdf47ba7754f"
      },
      "source": [
        "import numpy as np\n",
        "X=np.array([[10,20,30],[20,30,40],[30,40,50],[40,50,60],[50,60,70],[60,70,80]])\n",
        "y=np.array([40,50,60,70,80,90])\n",
        "print(X)\n",
        "print(y)\n",
        "n_steps=3\n",
        "n_features=1  #no of series"
      ],
      "execution_count": 41,
      "outputs": [
        {
          "output_type": "stream",
          "text": [
            "[[10 20 30]\n",
            " [20 30 40]\n",
            " [30 40 50]\n",
            " [40 50 60]\n",
            " [50 60 70]\n",
            " [60 70 80]]\n",
            "[40 50 60 70 80 90]\n"
          ],
          "name": "stdout"
        }
      ]
    },
    {
      "cell_type": "code",
      "metadata": {
        "id": "KnXMc8d_xSpA",
        "colab_type": "code",
        "colab": {
          "base_uri": "https://localhost:8080/",
          "height": 126
        },
        "outputId": "2e0737e4-a231-4d60-a4da-e6f10a80450a"
      },
      "source": [
        "def split_sequence(sequence, n_steps):\n",
        "\tX, y = list(), list()\n",
        "\tfor i in range(len(sequence)):\n",
        "\t\t# find the end of this pattern\n",
        "\t\tend_ix = i + n_steps\n",
        "\t\t# check if we are beyond the sequence\n",
        "\t\tif end_ix > len(sequence)-1:\n",
        "\t\t\tbreak\n",
        "\t\t# gather input and output parts of the pattern\n",
        "\t\tseq_x, seq_y = sequence[i:end_ix], sequence[end_ix]\n",
        "\t\tX.append(seq_x)\n",
        "\t\ty.append(seq_y)\n",
        "\treturn np.array(X), np.array(y)\n",
        "\n",
        "split_sequence(seq,3) \n"
      ],
      "execution_count": 42,
      "outputs": [
        {
          "output_type": "execute_result",
          "data": {
            "text/plain": [
              "(array([[10, 20, 30],\n",
              "        [20, 30, 40],\n",
              "        [30, 40, 50],\n",
              "        [40, 50, 60],\n",
              "        [50, 60, 70],\n",
              "        [60, 70, 80]]), array([40, 50, 60, 70, 80, 90]))"
            ]
          },
          "metadata": {
            "tags": []
          },
          "execution_count": 42
        }
      ]
    },
    {
      "cell_type": "code",
      "metadata": {
        "id": "sDQpidvSxtt-",
        "colab_type": "code",
        "colab": {}
      },
      "source": [
        "from tensorflow.keras.models import Sequential\n",
        "from tensorflow.keras.layers import LSTM,Dense"
      ],
      "execution_count": 43,
      "outputs": []
    },
    {
      "cell_type": "code",
      "metadata": {
        "id": "nAPB3nxkybSL",
        "colab_type": "code",
        "colab": {
          "base_uri": "https://localhost:8080/",
          "height": 74
        },
        "outputId": "f1ebd5bf-4415-424e-97ec-ffa2b94b32b6"
      },
      "source": [
        "model=Sequential()\n",
        "model.add(LSTM(300,activation='relu',input_shape=(n_steps,n_features)))\n",
        "model.add(Dense(1))\n",
        "model.compile(\"adam\",\"mse\")\n",
        "model.fit(X.reshape(X.shape[0],n_steps,n_features),y,epochs=300,verbose=0)\n",
        "test_sample=np.array([[70,80,90]]).reshape(1,n_steps,n_features)\n",
        "model.predict(test_sample)"
      ],
      "execution_count": null,
      "outputs": [
        {
          "output_type": "stream",
          "text": [
            "WARNING:tensorflow:7 out of the last 7 calls to <function Model.make_predict_function.<locals>.predict_function at 0x7f515ae53268> triggered tf.function retracing. Tracing is expensive and the excessive number of tracings could be due to (1) creating @tf.function repeatedly in a loop, (2) passing tensors with different shapes, (3) passing Python objects instead of tensors. For (1), please define your @tf.function outside of the loop. For (2), @tf.function has experimental_relax_shapes=True option that relaxes argument shapes that can avoid unnecessary retracing. For (3), please refer to https://www.tensorflow.org/tutorials/customization/performance#python_or_tensor_args and https://www.tensorflow.org/api_docs/python/tf/function for  more details.\n"
          ],
          "name": "stdout"
        },
        {
          "output_type": "execute_result",
          "data": {
            "text/plain": [
              "array([[100.96175]], dtype=float32)"
            ]
          },
          "metadata": {
            "tags": []
          },
          "execution_count": 19
        }
      ]
    },
    {
      "cell_type": "code",
      "metadata": {
        "id": "7tlFzjxU0ce9",
        "colab_type": "code",
        "colab": {}
      },
      "source": [
        "import pandas as pd"
      ],
      "execution_count": null,
      "outputs": []
    },
    {
      "cell_type": "code",
      "metadata": {
        "id": "n80n5TXx25Ig",
        "colab_type": "code",
        "colab": {
          "base_uri": "https://localhost:8080/",
          "height": 35
        },
        "outputId": "859b2289-38b0-4bfc-c6a2-0060f747afa3"
      },
      "source": [
        "df=pd.read_csv(\"drive/My Drive/dataset_new/time_series/Electric_Production.csv\")\n",
        "df.shape"
      ],
      "execution_count": null,
      "outputs": [
        {
          "output_type": "execute_result",
          "data": {
            "text/plain": [
              "(397, 2)"
            ]
          },
          "metadata": {
            "tags": []
          },
          "execution_count": 22
        }
      ]
    },
    {
      "cell_type": "code",
      "metadata": {
        "id": "OI15p0sg3IDx",
        "colab_type": "code",
        "colab": {
          "base_uri": "https://localhost:8080/",
          "height": 198
        },
        "outputId": "a8775bc4-a768-49a0-d7d9-69c69ba121f7"
      },
      "source": [
        "df.head()"
      ],
      "execution_count": null,
      "outputs": [
        {
          "output_type": "execute_result",
          "data": {
            "text/html": [
              "<div>\n",
              "<style scoped>\n",
              "    .dataframe tbody tr th:only-of-type {\n",
              "        vertical-align: middle;\n",
              "    }\n",
              "\n",
              "    .dataframe tbody tr th {\n",
              "        vertical-align: top;\n",
              "    }\n",
              "\n",
              "    .dataframe thead th {\n",
              "        text-align: right;\n",
              "    }\n",
              "</style>\n",
              "<table border=\"1\" class=\"dataframe\">\n",
              "  <thead>\n",
              "    <tr style=\"text-align: right;\">\n",
              "      <th></th>\n",
              "      <th>DATE</th>\n",
              "      <th>IPG2211A2N</th>\n",
              "    </tr>\n",
              "  </thead>\n",
              "  <tbody>\n",
              "    <tr>\n",
              "      <th>0</th>\n",
              "      <td>1/1/1985</td>\n",
              "      <td>72.5052</td>\n",
              "    </tr>\n",
              "    <tr>\n",
              "      <th>1</th>\n",
              "      <td>2/1/1985</td>\n",
              "      <td>70.6720</td>\n",
              "    </tr>\n",
              "    <tr>\n",
              "      <th>2</th>\n",
              "      <td>3/1/1985</td>\n",
              "      <td>62.4502</td>\n",
              "    </tr>\n",
              "    <tr>\n",
              "      <th>3</th>\n",
              "      <td>4/1/1985</td>\n",
              "      <td>57.4714</td>\n",
              "    </tr>\n",
              "    <tr>\n",
              "      <th>4</th>\n",
              "      <td>5/1/1985</td>\n",
              "      <td>55.3151</td>\n",
              "    </tr>\n",
              "  </tbody>\n",
              "</table>\n",
              "</div>"
            ],
            "text/plain": [
              "       DATE  IPG2211A2N\n",
              "0  1/1/1985     72.5052\n",
              "1  2/1/1985     70.6720\n",
              "2  3/1/1985     62.4502\n",
              "3  4/1/1985     57.4714\n",
              "4  5/1/1985     55.3151"
            ]
          },
          "metadata": {
            "tags": []
          },
          "execution_count": 23
        }
      ]
    },
    {
      "cell_type": "code",
      "metadata": {
        "id": "OzkpNpjh3R0M",
        "colab_type": "code",
        "colab": {
          "base_uri": "https://localhost:8080/",
          "height": 54
        },
        "outputId": "6ec63880-03fa-4109-e025-90e9703476c4"
      },
      "source": [
        "X,y=split_sequence(df.IPG2211A2N,5)\n",
        "print(X[-1])\n",
        "print(y[-1])"
      ],
      "execution_count": null,
      "outputs": [
        {
          "output_type": "stream",
          "text": [
            "[108.9312  98.6154  93.6137  97.3359 114.7212]\n",
            "129.4048\n"
          ],
          "name": "stdout"
        }
      ]
    },
    {
      "cell_type": "code",
      "metadata": {
        "id": "M4GfxQCT3qV_",
        "colab_type": "code",
        "colab": {
          "base_uri": "https://localhost:8080/",
          "height": 35
        },
        "outputId": "5c8e5aaf-d2b4-4f00-fdb9-ccf97c36ba1f"
      },
      "source": [
        "X.shape"
      ],
      "execution_count": null,
      "outputs": [
        {
          "output_type": "execute_result",
          "data": {
            "text/plain": [
              "(392, 5)"
            ]
          },
          "metadata": {
            "tags": []
          },
          "execution_count": 27
        }
      ]
    },
    {
      "cell_type": "code",
      "metadata": {
        "id": "mjA9mHB-3rgA",
        "colab_type": "code",
        "colab": {
          "base_uri": "https://localhost:8080/",
          "height": 74
        },
        "outputId": "e1c6385e-6c56-4591-e409-6df1ccc091bf"
      },
      "source": [
        "n_steps=5\n",
        "n_features=1\n",
        "model=Sequential()\n",
        "model.add(LSTM(300,activation='relu',input_shape=(n_steps,n_features)))\n",
        "model.add(Dense(1))\n",
        "model.compile(\"adam\",\"mse\")\n",
        "model.fit(X.reshape(X.shape[0],n_steps,n_features),y,epochs=300,verbose=0)\n",
        "test_sample=np.array([[98.6154,93.6137,97.3359,114.7212,129.4048]]).reshape(1,n_steps,n_features)\n",
        "model.predict(test_sample)"
      ],
      "execution_count": null,
      "outputs": [
        {
          "output_type": "stream",
          "text": [
            "WARNING:tensorflow:8 out of the last 8 calls to <function Model.make_predict_function.<locals>.predict_function at 0x7f515b20bd90> triggered tf.function retracing. Tracing is expensive and the excessive number of tracings could be due to (1) creating @tf.function repeatedly in a loop, (2) passing tensors with different shapes, (3) passing Python objects instead of tensors. For (1), please define your @tf.function outside of the loop. For (2), @tf.function has experimental_relax_shapes=True option that relaxes argument shapes that can avoid unnecessary retracing. For (3), please refer to https://www.tensorflow.org/tutorials/customization/performance#python_or_tensor_args and https://www.tensorflow.org/api_docs/python/tf/function for  more details.\n"
          ],
          "name": "stdout"
        },
        {
          "output_type": "execute_result",
          "data": {
            "text/plain": [
              "array([[114.75155]], dtype=float32)"
            ]
          },
          "metadata": {
            "tags": []
          },
          "execution_count": 31
        }
      ]
    },
    {
      "cell_type": "code",
      "metadata": {
        "id": "YgFgA-Hh48qZ",
        "colab_type": "code",
        "colab": {
          "base_uri": "https://localhost:8080/",
          "height": 181
        },
        "outputId": "b2c19d22-91c7-4e55-f3af-43df148bbb5d"
      },
      "source": [
        "#consider 2 given sequences & output seq\n",
        "seq1 = np.array([10, 20, 30, 40, 50, 60, 70, 80, 90])\n",
        "seq2 = np.array([15, 25, 35, 45, 55, 65, 75, 85, 95])\n",
        "\n",
        "#output sequence is element wise sum of seq1,seq2\n",
        "out_seq = np.array([25, 45, 65, 85, 105, 125, 145, 165, 185])\n",
        "\n",
        "#objective is to find next element in output seq if next elements are 100,105 in seq1,seq2 respectively \n",
        "\n",
        "#combine all 3 sequences into one 2d-array\n",
        "sequences=[]\n",
        "for i in range(0,9):#len of seq\n",
        "\ttmp_seq=[seq1[i],seq2[i],out_seq[i]]\n",
        "\tsequences.append(tmp_seq)\n",
        "sequences=np.array(sequences) \n",
        "print(sequences)\n"
      ],
      "execution_count": null,
      "outputs": [
        {
          "output_type": "stream",
          "text": [
            "[[ 10  15  25]\n",
            " [ 20  25  45]\n",
            " [ 30  35  65]\n",
            " [ 40  45  85]\n",
            " [ 50  55 105]\n",
            " [ 60  65 125]\n",
            " [ 70  75 145]\n",
            " [ 80  85 165]\n",
            " [ 90  95 185]]\n"
          ],
          "name": "stdout"
        }
      ]
    },
    {
      "cell_type": "code",
      "metadata": {
        "id": "gOsOV6CW7bEV",
        "colab_type": "code",
        "colab": {}
      },
      "source": [
        "def split_sequences(sequences, n_steps):\n",
        "\tX, y = list(), list()\n",
        "\tfor i in range(len(sequences)):\n",
        "\t\t# find the end of this pattern\n",
        "\t\tend_ix = i + n_steps\n",
        "\t\t# check if we are beyond the dataset\n",
        "\t\tif end_ix > len(sequences):\n",
        "\t\t\tbreak\n",
        "\t\t# gather input and output parts of the pattern\n",
        "\t\tseq_x, seq_y = sequences[i:end_ix, :-1], sequences[end_ix-1, -1]\n",
        "\t\tX.append(seq_x)\n",
        "\t\ty.append(seq_y)\n",
        "\treturn np.array(X), np.array(y)\n",
        "\n",
        "X,y=split_sequences(sequences,3)"
      ],
      "execution_count": 46,
      "outputs": []
    },
    {
      "cell_type": "code",
      "metadata": {
        "id": "5j5wSJgZ8acR",
        "colab_type": "code",
        "colab": {
          "base_uri": "https://localhost:8080/",
          "height": 508
        },
        "outputId": "3363229f-90a3-462f-93d8-40dabbed7062"
      },
      "source": [
        "X,y"
      ],
      "execution_count": 48,
      "outputs": [
        {
          "output_type": "execute_result",
          "data": {
            "text/plain": [
              "(array([[[10, 15],\n",
              "         [20, 25],\n",
              "         [30, 35]],\n",
              " \n",
              "        [[20, 25],\n",
              "         [30, 35],\n",
              "         [40, 45]],\n",
              " \n",
              "        [[30, 35],\n",
              "         [40, 45],\n",
              "         [50, 55]],\n",
              " \n",
              "        [[40, 45],\n",
              "         [50, 55],\n",
              "         [60, 65]],\n",
              " \n",
              "        [[50, 55],\n",
              "         [60, 65],\n",
              "         [70, 75]],\n",
              " \n",
              "        [[60, 65],\n",
              "         [70, 75],\n",
              "         [80, 85]],\n",
              " \n",
              "        [[70, 75],\n",
              "         [80, 85],\n",
              "         [90, 95]]]), array([ 65,  85, 105, 125, 145, 165, 185]))"
            ]
          },
          "metadata": {
            "tags": []
          },
          "execution_count": 48
        }
      ]
    },
    {
      "cell_type": "code",
      "metadata": {
        "id": "2lZk3ESW8bba",
        "colab_type": "code",
        "colab": {
          "base_uri": "https://localhost:8080/",
          "height": 74
        },
        "outputId": "e7c6074b-9dfc-44b9-b558-119f5d60c136"
      },
      "source": [
        "n_steps=3\n",
        "n_features=2\n",
        "\n",
        "model=Sequential()\n",
        "model.add(LSTM(300,activation='relu',input_shape=(n_steps,n_features)))\n",
        "model.add(Dense(1))\n",
        "model.compile(\"adam\",\"mse\")\n",
        "model.fit(X.reshape(X.shape[0],n_steps,n_features),y,epochs=300,verbose=0)\n",
        "test_sample=np.array([[80,85],[90,95],[100,105]]).reshape(1,n_steps,n_features)\n",
        "model.predict(test_sample)\n"
      ],
      "execution_count": 50,
      "outputs": [
        {
          "output_type": "stream",
          "text": [
            "WARNING:tensorflow:9 out of the last 9 calls to <function Model.make_predict_function.<locals>.predict_function at 0x7f515b2b5158> triggered tf.function retracing. Tracing is expensive and the excessive number of tracings could be due to (1) creating @tf.function repeatedly in a loop, (2) passing tensors with different shapes, (3) passing Python objects instead of tensors. For (1), please define your @tf.function outside of the loop. For (2), @tf.function has experimental_relax_shapes=True option that relaxes argument shapes that can avoid unnecessary retracing. For (3), please refer to https://www.tensorflow.org/tutorials/customization/performance#python_or_tensor_args and https://www.tensorflow.org/api_docs/python/tf/function for  more details.\n"
          ],
          "name": "stdout"
        },
        {
          "output_type": "execute_result",
          "data": {
            "text/plain": [
              "array([[205.34792]], dtype=float32)"
            ]
          },
          "metadata": {
            "tags": []
          },
          "execution_count": 50
        }
      ]
    },
    {
      "cell_type": "code",
      "metadata": {
        "id": "vSadkHdh-y3q",
        "colab_type": "code",
        "colab": {}
      },
      "source": [
        ""
      ],
      "execution_count": null,
      "outputs": []
    }
  ]
}