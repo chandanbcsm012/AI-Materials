{
  "nbformat": 4,
  "nbformat_minor": 0,
  "metadata": {
    "colab": {
      "name": "12_july_keras_classification.ipynb",
      "provenance": [],
      "collapsed_sections": []
    },
    "kernelspec": {
      "name": "python3",
      "display_name": "Python 3"
    }
  },
  "cells": [
    {
      "cell_type": "code",
      "metadata": {
        "id": "-k8nixq4RV_3",
        "colab_type": "code",
        "colab": {}
      },
      "source": [
        "import pandas as pd\n",
        "from tensorflow.keras import Sequential\n",
        "from tensorflow.keras.layers import Dense,Flatten\n",
        "import tensorflow as tf"
      ],
      "execution_count": null,
      "outputs": []
    },
    {
      "cell_type": "code",
      "metadata": {
        "id": "ryJUW0trRct5",
        "colab_type": "code",
        "colab": {}
      },
      "source": [
        "df= pd.read_csv('sample_data/mnist_train_small.csv',header=None)\n",
        "X_train=df.iloc[:,1:].values\n",
        "y_train=df.iloc[:,0].values\n",
        "\n",
        "df= pd.read_csv('sample_data/mnist_test.csv',header=None)\n",
        "X_test=df.iloc[:,1:].values\n",
        "y_test=df.iloc[:,0].values\n",
        "\n",
        "X_train_new=X_train/255.0\n",
        "X_test_new=X_test/255.0\n"
      ],
      "execution_count": null,
      "outputs": []
    },
    {
      "cell_type": "code",
      "metadata": {
        "id": "lgAzOH2WRy8_",
        "colab_type": "code",
        "colab": {}
      },
      "source": [
        "#1st way of eager init of params\n",
        "model=Sequential() \n",
        "model.add(Dense(400,activation='relu',input_dim=784))\n",
        "model.add(Dense(100,activation='relu'))\n",
        "model.add(Dense(10,activation='softmax'))"
      ],
      "execution_count": null,
      "outputs": []
    },
    {
      "cell_type": "code",
      "metadata": {
        "id": "JrAs9JbHaogS",
        "colab_type": "code",
        "colab": {}
      },
      "source": [
        "#2nd way of eager init of params\n",
        "model=Sequential() \n",
        "model.add(Dense(400,activation='relu',input_shape=(784,)))\n",
        "model.add(Dense(100,activation='relu'))\n",
        "model.add(Dense(10,activation='softmax'))"
      ],
      "execution_count": null,
      "outputs": []
    },
    {
      "cell_type": "code",
      "metadata": {
        "id": "JeY_IgQBbKjk",
        "colab_type": "code",
        "colab": {}
      },
      "source": [
        "#3rd way of eager init of params\n",
        "model=Sequential() \n",
        "model.add(Dense(400,activation='relu',batch_input_shape=(None,784)))\n",
        "model.add(Dense(100,activation='relu'))\n",
        "model.add(Dense(10,activation='softmax'))"
      ],
      "execution_count": null,
      "outputs": []
    },
    {
      "cell_type": "code",
      "metadata": {
        "id": "OXbR07nebtjP",
        "colab_type": "code",
        "colab": {}
      },
      "source": [
        "'''\n",
        "#4th way of eager init of params\n",
        "model=Sequential() \n",
        "model.add(Flatten(input_shape=(28,28)))\n",
        "model.add(Dense(400,activation='relu'))\n",
        "model.add(Dense(100,activation='relu'))\n",
        "model.add(Dense(10,activation='softmax'))\n",
        "'''"
      ],
      "execution_count": null,
      "outputs": []
    },
    {
      "cell_type": "code",
      "metadata": {
        "id": "ZaryfiKTYTMW",
        "colab_type": "code",
        "colab": {}
      },
      "source": [
        "#1st way to specify optimizer & loss\n",
        "model.compile(loss='sparse_categorical_crossentropy',optimizer='sgd',metrics=['accuracy'])\n"
      ],
      "execution_count": null,
      "outputs": []
    },
    {
      "cell_type": "code",
      "metadata": {
        "id": "A7z9MmpzdTyU",
        "colab_type": "code",
        "colab": {}
      },
      "source": [
        "#2nd way to specify optimizer & loss\n",
        "model.compile(loss=tf.losses.SparseCategoricalCrossentropy(),optimizer=tf.optimizers.SGD(learning_rate=.1,momentum=.9),metrics=['accuracy'])"
      ],
      "execution_count": null,
      "outputs": []
    },
    {
      "cell_type": "code",
      "metadata": {
        "id": "kyXl7YYmcmGC",
        "colab_type": "code",
        "colab": {
          "base_uri": "https://localhost:8080/",
          "height": 399
        },
        "outputId": "6bc3a50e-3c33-4274-fc27-10978a2d7622"
      },
      "source": [
        "\n",
        "#train the model\n",
        "model.fit(X_train_new,y_train,epochs=10,batch_size=60)"
      ],
      "execution_count": null,
      "outputs": [
        {
          "output_type": "stream",
          "text": [
            "Epoch 1/10\n",
            "334/334 [==============================] - 1s 4ms/step - loss: 0.0187 - accuracy: 0.9944\n",
            "Epoch 2/10\n",
            "334/334 [==============================] - 1s 3ms/step - loss: 0.0235 - accuracy: 0.9925\n",
            "Epoch 3/10\n",
            "334/334 [==============================] - 1s 4ms/step - loss: 0.0164 - accuracy: 0.9955\n",
            "Epoch 4/10\n",
            "334/334 [==============================] - 1s 3ms/step - loss: 0.0343 - accuracy: 0.9895\n",
            "Epoch 5/10\n",
            "334/334 [==============================] - 1s 4ms/step - loss: 0.0182 - accuracy: 0.9940\n",
            "Epoch 6/10\n",
            "334/334 [==============================] - 1s 4ms/step - loss: 0.0176 - accuracy: 0.9944\n",
            "Epoch 7/10\n",
            "334/334 [==============================] - 1s 4ms/step - loss: 0.0243 - accuracy: 0.9927\n",
            "Epoch 8/10\n",
            "334/334 [==============================] - 1s 3ms/step - loss: 0.0195 - accuracy: 0.9943\n",
            "Epoch 9/10\n",
            "334/334 [==============================] - 1s 3ms/step - loss: 0.0099 - accuracy: 0.9966\n",
            "Epoch 10/10\n",
            "334/334 [==============================] - 1s 4ms/step - loss: 0.0180 - accuracy: 0.9956\n"
          ],
          "name": "stdout"
        },
        {
          "output_type": "execute_result",
          "data": {
            "text/plain": [
              "<tensorflow.python.keras.callbacks.History at 0x7f3f165a20b8>"
            ]
          },
          "metadata": {
            "tags": []
          },
          "execution_count": 25
        }
      ]
    },
    {
      "cell_type": "code",
      "metadata": {
        "id": "CasZgFbKRz9G",
        "colab_type": "code",
        "colab": {
          "base_uri": "https://localhost:8080/",
          "height": 92
        },
        "outputId": "1b837aa6-09e2-4323-e990-f7f7e562716c"
      },
      "source": [
        "model.evaluate(X_test_new,y_test)"
      ],
      "execution_count": null,
      "outputs": [
        {
          "output_type": "stream",
          "text": [
            "WARNING:tensorflow:Model was constructed with shape (None, 28, 28) for input Tensor(\"flatten_input:0\", shape=(None, 28, 28), dtype=float32), but it was called on an input with incompatible shape (None, 784).\n",
            "313/313 [==============================] - 0s 2ms/step - loss: 0.1212 - accuracy: 0.9763\n"
          ],
          "name": "stdout"
        },
        {
          "output_type": "execute_result",
          "data": {
            "text/plain": [
              "[0.1212458610534668, 0.9763000011444092]"
            ]
          },
          "metadata": {
            "tags": []
          },
          "execution_count": 16
        }
      ]
    },
    {
      "cell_type": "code",
      "metadata": {
        "id": "K_M4sO74bnkC",
        "colab_type": "code",
        "colab": {
          "base_uri": "https://localhost:8080/",
          "height": 110
        },
        "outputId": "0d4ce6e1-a54d-42de-9070-d901e49f509d"
      },
      "source": [
        "model.predict_classes(X_test_new)"
      ],
      "execution_count": null,
      "outputs": [
        {
          "output_type": "stream",
          "text": [
            "WARNING:tensorflow:From <ipython-input-23-73151545147e>:1: Sequential.predict_classes (from tensorflow.python.keras.engine.sequential) is deprecated and will be removed after 2021-01-01.\n",
            "Instructions for updating:\n",
            "Please use instead:* `np.argmax(model.predict(x), axis=-1)`,   if your model does multi-class classification   (e.g. if it uses a `softmax` last-layer activation).* `(model.predict(x) > 0.5).astype(\"int32\")`,   if your model does binary classification   (e.g. if it uses a `sigmoid` last-layer activation).\n"
          ],
          "name": "stdout"
        },
        {
          "output_type": "execute_result",
          "data": {
            "text/plain": [
              "array([7, 2, 1, ..., 4, 5, 6])"
            ]
          },
          "metadata": {
            "tags": []
          },
          "execution_count": 23
        }
      ]
    },
    {
      "cell_type": "code",
      "metadata": {
        "id": "nbGdXV3KcfUl",
        "colab_type": "code",
        "colab": {
          "base_uri": "https://localhost:8080/",
          "height": 35
        },
        "outputId": "729624f4-d42c-457d-a465-711438ceeaf8"
      },
      "source": [
        "import numpy as np\n",
        "np.argmax(model.predict(X_test_new), axis=-1)"
      ],
      "execution_count": null,
      "outputs": [
        {
          "output_type": "execute_result",
          "data": {
            "text/plain": [
              "array([7, 2, 1, ..., 4, 5, 6])"
            ]
          },
          "metadata": {
            "tags": []
          },
          "execution_count": 24
        }
      ]
    },
    {
      "cell_type": "code",
      "metadata": {
        "id": "FpQgziuCdGsn",
        "colab_type": "code",
        "colab": {}
      },
      "source": [
        "import cv2\n",
        "gray=cv2.imread('55.png',0)\n",
        "gray=gray.reshape(1,-1)\n",
        "gray=gray/255.0\n",
        "np.argmax(model.predict(gray), axis=-1)"
      ],
      "execution_count": null,
      "outputs": []
    },
    {
      "cell_type": "code",
      "metadata": {
        "id": "qX3Nt4kNd412",
        "colab_type": "code",
        "colab": {}
      },
      "source": [
        ""
      ],
      "execution_count": null,
      "outputs": []
    }
  ]
}