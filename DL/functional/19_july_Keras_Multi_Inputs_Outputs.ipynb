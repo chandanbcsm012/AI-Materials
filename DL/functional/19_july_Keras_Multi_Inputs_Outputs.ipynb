{
  "nbformat": 4,
  "nbformat_minor": 0,
  "metadata": {
    "colab": {
      "name": "19_july_Keras_Multi_Inputs/Outputs.ipynb",
      "provenance": []
    },
    "kernelspec": {
      "name": "python3",
      "display_name": "Python 3"
    },
    "accelerator": "TPU"
  },
  "cells": [
    {
      "cell_type": "code",
      "metadata": {
        "id": "eE-OTGNylomF",
        "colab_type": "code",
        "colab": {}
      },
      "source": [
        "import pandas as pd\n",
        "df=pd.read_csv('sample_data/mnist_train_small.csv',header=None)\n",
        "X=df.iloc[:,1:].values/255.0\n",
        "y=df.iloc[:,0].values"
      ],
      "execution_count": 1,
      "outputs": []
    },
    {
      "cell_type": "code",
      "metadata": {
        "id": "XtdP2Wuyl_cw",
        "colab_type": "code",
        "colab": {}
      },
      "source": [
        "from tensorflow.keras import Model\n",
        "from tensorflow.keras.layers import Dense,Input"
      ],
      "execution_count": 3,
      "outputs": []
    },
    {
      "cell_type": "code",
      "metadata": {
        "id": "nQhr4sfmmRvU",
        "colab_type": "code",
        "colab": {}
      },
      "source": [
        "in_layer=Input(shape=(784,))\n",
        "h1=Dense(400,activation='relu')(in_layer)\n",
        "h2=Dense(200,activation='tanh')(h1)\n",
        "out_layer=Dense(10,activation='softmax')(h2)"
      ],
      "execution_count": 17,
      "outputs": []
    },
    {
      "cell_type": "code",
      "metadata": {
        "id": "PwmEhG-4m4N2",
        "colab_type": "code",
        "colab": {}
      },
      "source": [
        "h22=Dense(100,activation='relu')(h1)\n",
        "out_layer22=Dense(10,activation='softmax')(h22)"
      ],
      "execution_count": 11,
      "outputs": []
    },
    {
      "cell_type": "code",
      "metadata": {
        "id": "h_G5AC5BnNsi",
        "colab_type": "code",
        "colab": {
          "base_uri": "https://localhost:8080/",
          "height": 399
        },
        "outputId": "369fd087-3e4d-4549-c83f-757fe7a45b0e"
      },
      "source": [
        "model1=Model(inputs=in_layer,outputs=out_layer)\n",
        "model1.compile(loss='sparse_categorical_crossentropy',optimizer='adam',metrics=['accuracy'])\n",
        "model1.fit(X,y,epochs=10,validation_split=.1)"
      ],
      "execution_count": 6,
      "outputs": [
        {
          "output_type": "stream",
          "text": [
            "Epoch 1/10\n",
            "563/563 [==============================] - 2s 4ms/step - loss: 0.2969 - accuracy: 0.9108 - val_loss: 0.1990 - val_accuracy: 0.9360\n",
            "Epoch 2/10\n",
            "563/563 [==============================] - 2s 4ms/step - loss: 0.1196 - accuracy: 0.9622 - val_loss: 0.1736 - val_accuracy: 0.9470\n",
            "Epoch 3/10\n",
            "563/563 [==============================] - 2s 4ms/step - loss: 0.0693 - accuracy: 0.9787 - val_loss: 0.1270 - val_accuracy: 0.9615\n",
            "Epoch 4/10\n",
            "563/563 [==============================] - 2s 4ms/step - loss: 0.0489 - accuracy: 0.9841 - val_loss: 0.1422 - val_accuracy: 0.9595\n",
            "Epoch 5/10\n",
            "563/563 [==============================] - 2s 3ms/step - loss: 0.0309 - accuracy: 0.9900 - val_loss: 0.1503 - val_accuracy: 0.9600\n",
            "Epoch 6/10\n",
            "563/563 [==============================] - 2s 4ms/step - loss: 0.0243 - accuracy: 0.9927 - val_loss: 0.1390 - val_accuracy: 0.9645\n",
            "Epoch 7/10\n",
            "563/563 [==============================] - 2s 4ms/step - loss: 0.0240 - accuracy: 0.9922 - val_loss: 0.1458 - val_accuracy: 0.9635\n",
            "Epoch 8/10\n",
            "563/563 [==============================] - 2s 4ms/step - loss: 0.0222 - accuracy: 0.9923 - val_loss: 0.1701 - val_accuracy: 0.9630\n",
            "Epoch 9/10\n",
            "563/563 [==============================] - 2s 4ms/step - loss: 0.0242 - accuracy: 0.9912 - val_loss: 0.1747 - val_accuracy: 0.9570\n",
            "Epoch 10/10\n",
            "563/563 [==============================] - 2s 4ms/step - loss: 0.0132 - accuracy: 0.9954 - val_loss: 0.1388 - val_accuracy: 0.9705\n"
          ],
          "name": "stdout"
        },
        {
          "output_type": "execute_result",
          "data": {
            "text/plain": [
              "<tensorflow.python.keras.callbacks.History at 0x7fb843a226a0>"
            ]
          },
          "metadata": {
            "tags": []
          },
          "execution_count": 6
        }
      ]
    },
    {
      "cell_type": "code",
      "metadata": {
        "id": "x-AHBKygnu8q",
        "colab_type": "code",
        "colab": {
          "base_uri": "https://localhost:8080/",
          "height": 399
        },
        "outputId": "06be98f5-73bd-4c50-9ae1-5c25a4d06295"
      },
      "source": [
        "model2=Model(inputs=in_layer,outputs=out_layer22)\n",
        "model2.compile(loss='sparse_categorical_crossentropy',optimizer='adam',metrics=['accuracy'])\n",
        "model2.fit(X,y,epochs=10,validation_split=.1)"
      ],
      "execution_count": 12,
      "outputs": [
        {
          "output_type": "stream",
          "text": [
            "Epoch 1/10\n",
            "563/563 [==============================] - 2s 3ms/step - loss: 0.0966 - accuracy: 0.9740 - val_loss: 0.1300 - val_accuracy: 0.9685\n",
            "Epoch 2/10\n",
            "563/563 [==============================] - 2s 3ms/step - loss: 0.0059 - accuracy: 0.9989 - val_loss: 0.1424 - val_accuracy: 0.9700\n",
            "Epoch 3/10\n",
            "563/563 [==============================] - 2s 3ms/step - loss: 0.0021 - accuracy: 0.9996 - val_loss: 0.1392 - val_accuracy: 0.9705\n",
            "Epoch 4/10\n",
            "563/563 [==============================] - 2s 3ms/step - loss: 4.6814e-04 - accuracy: 1.0000 - val_loss: 0.1399 - val_accuracy: 0.9700\n",
            "Epoch 5/10\n",
            "563/563 [==============================] - 2s 3ms/step - loss: 1.8411e-04 - accuracy: 1.0000 - val_loss: 0.1456 - val_accuracy: 0.9710\n",
            "Epoch 6/10\n",
            "563/563 [==============================] - 2s 3ms/step - loss: 1.0995e-04 - accuracy: 1.0000 - val_loss: 0.1475 - val_accuracy: 0.9710\n",
            "Epoch 7/10\n",
            "563/563 [==============================] - 2s 3ms/step - loss: 7.5750e-05 - accuracy: 1.0000 - val_loss: 0.1518 - val_accuracy: 0.9715\n",
            "Epoch 8/10\n",
            "563/563 [==============================] - 2s 3ms/step - loss: 5.3823e-05 - accuracy: 1.0000 - val_loss: 0.1563 - val_accuracy: 0.9715\n",
            "Epoch 9/10\n",
            "563/563 [==============================] - 2s 3ms/step - loss: 3.9342e-05 - accuracy: 1.0000 - val_loss: 0.1593 - val_accuracy: 0.9720\n",
            "Epoch 10/10\n",
            "563/563 [==============================] - 2s 3ms/step - loss: 2.8916e-05 - accuracy: 1.0000 - val_loss: 0.1619 - val_accuracy: 0.9715\n"
          ],
          "name": "stdout"
        },
        {
          "output_type": "execute_result",
          "data": {
            "text/plain": [
              "<tensorflow.python.keras.callbacks.History at 0x7fb83f9967b8>"
            ]
          },
          "metadata": {
            "tags": []
          },
          "execution_count": 12
        }
      ]
    },
    {
      "cell_type": "code",
      "metadata": {
        "id": "7Ob2_qLgoBS8",
        "colab_type": "code",
        "colab": {
          "base_uri": "https://localhost:8080/",
          "height": 308
        },
        "outputId": "1357d2f3-01c5-4dbe-b00c-e2a54e4b4064"
      },
      "source": [
        "model1.summary()"
      ],
      "execution_count": 10,
      "outputs": [
        {
          "output_type": "stream",
          "text": [
            "Model: \"model\"\n",
            "_________________________________________________________________\n",
            "Layer (type)                 Output Shape              Param #   \n",
            "=================================================================\n",
            "input_1 (InputLayer)         [(None, 784)]             0         \n",
            "_________________________________________________________________\n",
            "dense (Dense)                (None, 400)               314000    \n",
            "_________________________________________________________________\n",
            "dense_1 (Dense)              (None, 200)               80200     \n",
            "_________________________________________________________________\n",
            "dense_2 (Dense)              (None, 10)                2010      \n",
            "=================================================================\n",
            "Total params: 396,210\n",
            "Trainable params: 396,210\n",
            "Non-trainable params: 0\n",
            "_________________________________________________________________\n"
          ],
          "name": "stdout"
        }
      ]
    },
    {
      "cell_type": "code",
      "metadata": {
        "id": "Bke-uY3IoaIf",
        "colab_type": "code",
        "colab": {
          "base_uri": "https://localhost:8080/",
          "height": 308
        },
        "outputId": "702f5193-203f-4d6e-9351-b3f6f5a0b5f6"
      },
      "source": [
        "model2.summary()"
      ],
      "execution_count": 18,
      "outputs": [
        {
          "output_type": "stream",
          "text": [
            "Model: \"model_3\"\n",
            "_________________________________________________________________\n",
            "Layer (type)                 Output Shape              Param #   \n",
            "=================================================================\n",
            "input_1 (InputLayer)         [(None, 784)]             0         \n",
            "_________________________________________________________________\n",
            "dense (Dense)                (None, 400)               314000    \n",
            "_________________________________________________________________\n",
            "dense_7 (Dense)              (None, 100)               40100     \n",
            "_________________________________________________________________\n",
            "dense_8 (Dense)              (None, 10)                1010      \n",
            "=================================================================\n",
            "Total params: 355,110\n",
            "Trainable params: 355,110\n",
            "Non-trainable params: 0\n",
            "_________________________________________________________________\n"
          ],
          "name": "stdout"
        }
      ]
    },
    {
      "cell_type": "code",
      "metadata": {
        "id": "X34Vm1gTorE6",
        "colab_type": "code",
        "colab": {
          "base_uri": "https://localhost:8080/",
          "height": 128
        },
        "outputId": "1de26293-00f9-4a91-944a-451612837e5e"
      },
      "source": [
        "from google.colab import drive\n",
        "drive.mount('/content/drive')"
      ],
      "execution_count": 19,
      "outputs": [
        {
          "output_type": "stream",
          "text": [
            "Go to this URL in a browser: https://accounts.google.com/o/oauth2/auth?client_id=947318989803-6bn6qk8qdgf4n4g3pfee6491hc0brc4i.apps.googleusercontent.com&redirect_uri=urn%3aietf%3awg%3aoauth%3a2.0%3aoob&response_type=code&scope=email%20https%3a%2f%2fwww.googleapis.com%2fauth%2fdocs.test%20https%3a%2f%2fwww.googleapis.com%2fauth%2fdrive%20https%3a%2f%2fwww.googleapis.com%2fauth%2fdrive.photos.readonly%20https%3a%2f%2fwww.googleapis.com%2fauth%2fpeopleapi.readonly\n",
            "\n",
            "Enter your authorization code:\n",
            "··········\n",
            "Mounted at /content/drive\n"
          ],
          "name": "stdout"
        }
      ]
    },
    {
      "cell_type": "code",
      "metadata": {
        "id": "MEzbt3N_senB",
        "colab_type": "code",
        "colab": {}
      },
      "source": [
        "df_iris=pd.read_csv('/content/drive/My Drive/dataset_dl/classification/iris.csv')\n",
        "df_online=pd.read_csv('/content/drive/My Drive/dataset_dl/classification/online_shop.csv')\n",
        "df_online.Gender=df_online.Gender.map({'Female':0,\"Male\":1})\n",
        "\n",
        "X1=df_iris.iloc[:,:-1].values\n",
        "y1=df_iris.iloc[:,-1].values\n",
        "\n",
        "\n",
        "X2=df_online.iloc[:150,:-1].values\n",
        "y2=df_online.iloc[:150,-1].values\n",
        "\n"
      ],
      "execution_count": 72,
      "outputs": []
    },
    {
      "cell_type": "code",
      "metadata": {
        "id": "ee71nNbms8fM",
        "colab_type": "code",
        "colab": {}
      },
      "source": [
        "from sklearn.preprocessing import StandardScaler\n",
        "sc=StandardScaler()\n",
        "X1_new=sc.fit_transform(X1)\n",
        "X2_new=sc.fit_transform(X2)"
      ],
      "execution_count": 73,
      "outputs": []
    },
    {
      "cell_type": "code",
      "metadata": {
        "id": "rdE6LoK1s_V0",
        "colab_type": "code",
        "colab": {
          "base_uri": "https://localhost:8080/",
          "height": 35
        },
        "outputId": "52445e05-cf20-415c-9dcc-3f76449872dd"
      },
      "source": [
        "X1_new.shape"
      ],
      "execution_count": 74,
      "outputs": [
        {
          "output_type": "execute_result",
          "data": {
            "text/plain": [
              "(150, 4)"
            ]
          },
          "metadata": {
            "tags": []
          },
          "execution_count": 74
        }
      ]
    },
    {
      "cell_type": "code",
      "metadata": {
        "id": "DFh5KzueunZb",
        "colab_type": "code",
        "colab": {
          "base_uri": "https://localhost:8080/",
          "height": 35
        },
        "outputId": "1a2ee11d-53d0-448f-c25e-961509c9d8f2"
      },
      "source": [
        "X2_new.shape"
      ],
      "execution_count": 75,
      "outputs": [
        {
          "output_type": "execute_result",
          "data": {
            "text/plain": [
              "(150, 3)"
            ]
          },
          "metadata": {
            "tags": []
          },
          "execution_count": 75
        }
      ]
    },
    {
      "cell_type": "code",
      "metadata": {
        "id": "SC5bJiGPuppC",
        "colab_type": "code",
        "colab": {}
      },
      "source": [
        "in1=Input(shape=(X1_new.shape[1],))\n",
        "in2=Input(shape=(X2_new.shape[1],))"
      ],
      "execution_count": 76,
      "outputs": []
    },
    {
      "cell_type": "code",
      "metadata": {
        "id": "XhsR5g9WvPGt",
        "colab_type": "code",
        "colab": {}
      },
      "source": [
        "from tensorflow.keras.layers import concatenate"
      ],
      "execution_count": 77,
      "outputs": []
    },
    {
      "cell_type": "code",
      "metadata": {
        "id": "9l_F4M0nvU7c",
        "colab_type": "code",
        "colab": {}
      },
      "source": [
        "merge=concatenate([in1,in2])\n",
        "h1=Dense(10,activation='relu')(merge)\n",
        "out1=Dense(3,activation='softmax',name=\"iris_out\")(h1)\n",
        "out2=Dense(1,activation='sigmoid',name=\"online_out\")(h1)\n",
        "\n",
        "model=Model(inputs=[in1,in2],outputs=[out1,out2])"
      ],
      "execution_count": 78,
      "outputs": []
    },
    {
      "cell_type": "code",
      "metadata": {
        "id": "G7N7AvixwfCa",
        "colab_type": "code",
        "colab": {
          "base_uri": "https://localhost:8080/",
          "height": 399
        },
        "outputId": "a572c0d9-058e-4376-ce3e-f9c2bf561572"
      },
      "source": [
        "model.summary()"
      ],
      "execution_count": 79,
      "outputs": [
        {
          "output_type": "stream",
          "text": [
            "Model: \"model_8\"\n",
            "__________________________________________________________________________________________________\n",
            "Layer (type)                    Output Shape         Param #     Connected to                     \n",
            "==================================================================================================\n",
            "input_9 (InputLayer)            [(None, 4)]          0                                            \n",
            "__________________________________________________________________________________________________\n",
            "input_10 (InputLayer)           [(None, 3)]          0                                            \n",
            "__________________________________________________________________________________________________\n",
            "concatenate_5 (Concatenate)     (None, 7)            0           input_9[0][0]                    \n",
            "                                                                 input_10[0][0]                   \n",
            "__________________________________________________________________________________________________\n",
            "dense_22 (Dense)                (None, 10)           80          concatenate_5[0][0]              \n",
            "__________________________________________________________________________________________________\n",
            "iris_out (Dense)                (None, 3)            33          dense_22[0][0]                   \n",
            "__________________________________________________________________________________________________\n",
            "online_out (Dense)              (None, 1)            11          dense_22[0][0]                   \n",
            "==================================================================================================\n",
            "Total params: 124\n",
            "Trainable params: 124\n",
            "Non-trainable params: 0\n",
            "__________________________________________________________________________________________________\n"
          ],
          "name": "stdout"
        }
      ]
    },
    {
      "cell_type": "code",
      "metadata": {
        "id": "LR9pLbItwr1x",
        "colab_type": "code",
        "colab": {}
      },
      "source": [
        "from tensorflow.keras.utils import plot_model"
      ],
      "execution_count": 80,
      "outputs": []
    },
    {
      "cell_type": "code",
      "metadata": {
        "id": "EgwNTw3Uw7sM",
        "colab_type": "code",
        "colab": {
          "base_uri": "https://localhost:8080/",
          "height": 369
        },
        "outputId": "e3c35472-24a3-477c-f56f-a97d1291ef11"
      },
      "source": [
        "plot_model(model)"
      ],
      "execution_count": 81,
      "outputs": [
        {
          "output_type": "execute_result",
          "data": {
            "image/png": "[encoded data removed]",
            "text/plain": [
              "<IPython.core.display.Image object>"
            ]
          },
          "metadata": {
            "tags": []
          },
          "execution_count": 81
        }
      ]
    },
    {
      "cell_type": "code",
      "metadata": {
        "id": "4wJUmAK3w9_y",
        "colab_type": "code",
        "colab": {}
      },
      "source": [
        "#model.compile(loss={'iris_out':'sparse_categorical_crossentropy','online_out':'binary_crossentropy'},optimizer=\"adam\",metrics=['accuracy'])\n",
        "model.compile(loss=['sparse_categorical_crossentropy','binary_crossentropy'],optimizer=\"adam\",metrics=['accuracy'])"
      ],
      "execution_count": 82,
      "outputs": []
    },
    {
      "cell_type": "code",
      "metadata": {
        "id": "pUOQAtcByQXw",
        "colab_type": "code",
        "colab": {
          "base_uri": "https://localhost:8080/",
          "height": 1000
        },
        "outputId": "57059a5e-7694-44fd-a187-f7eeb124fd5d"
      },
      "source": [
        "model.fit([X1_new,X2_new],[y1,y2],epochs=50)"
      ],
      "execution_count": 83,
      "outputs": [
        {
          "output_type": "stream",
          "text": [
            "Epoch 1/50\n",
            "5/5 [==============================] - 0s 2ms/step - loss: 2.1725 - iris_out_loss: 1.3953 - online_out_loss: 0.7773 - iris_out_accuracy: 0.3800 - online_out_accuracy: 0.5333\n",
            "Epoch 2/50\n",
            "5/5 [==============================] - 0s 2ms/step - loss: 2.1298 - iris_out_loss: 1.3695 - online_out_loss: 0.7603 - iris_out_accuracy: 0.3800 - online_out_accuracy: 0.5400\n",
            "Epoch 3/50\n",
            "5/5 [==============================] - 0s 2ms/step - loss: 2.0891 - iris_out_loss: 1.3460 - online_out_loss: 0.7430 - iris_out_accuracy: 0.3800 - online_out_accuracy: 0.5600\n",
            "Epoch 4/50\n",
            "5/5 [==============================] - 0s 1ms/step - loss: 2.0474 - iris_out_loss: 1.3220 - online_out_loss: 0.7254 - iris_out_accuracy: 0.3867 - online_out_accuracy: 0.5600\n",
            "Epoch 5/50\n",
            "5/5 [==============================] - 0s 2ms/step - loss: 2.0112 - iris_out_loss: 1.3009 - online_out_loss: 0.7103 - iris_out_accuracy: 0.3933 - online_out_accuracy: 0.5667\n",
            "Epoch 6/50\n",
            "5/5 [==============================] - 0s 1ms/step - loss: 1.9769 - iris_out_loss: 1.2814 - online_out_loss: 0.6955 - iris_out_accuracy: 0.3933 - online_out_accuracy: 0.5867\n",
            "Epoch 7/50\n",
            "5/5 [==============================] - 0s 2ms/step - loss: 1.9422 - iris_out_loss: 1.2612 - online_out_loss: 0.6810 - iris_out_accuracy: 0.4000 - online_out_accuracy: 0.5933\n",
            "Epoch 8/50\n",
            "5/5 [==============================] - 0s 2ms/step - loss: 1.9078 - iris_out_loss: 1.2414 - online_out_loss: 0.6664 - iris_out_accuracy: 0.4000 - online_out_accuracy: 0.6267\n",
            "Epoch 9/50\n",
            "5/5 [==============================] - 0s 1ms/step - loss: 1.8773 - iris_out_loss: 1.2234 - online_out_loss: 0.6539 - iris_out_accuracy: 0.4067 - online_out_accuracy: 0.6333\n",
            "Epoch 10/50\n",
            "5/5 [==============================] - 0s 2ms/step - loss: 1.8479 - iris_out_loss: 1.2075 - online_out_loss: 0.6404 - iris_out_accuracy: 0.4067 - online_out_accuracy: 0.6467\n",
            "Epoch 11/50\n",
            "5/5 [==============================] - 0s 2ms/step - loss: 1.8186 - iris_out_loss: 1.1908 - online_out_loss: 0.6278 - iris_out_accuracy: 0.4067 - online_out_accuracy: 0.6467\n",
            "Epoch 12/50\n",
            "5/5 [==============================] - 0s 2ms/step - loss: 1.7904 - iris_out_loss: 1.1741 - online_out_loss: 0.6164 - iris_out_accuracy: 0.4133 - online_out_accuracy: 0.6533\n",
            "Epoch 13/50\n",
            "5/5 [==============================] - 0s 2ms/step - loss: 1.7635 - iris_out_loss: 1.1585 - online_out_loss: 0.6050 - iris_out_accuracy: 0.4133 - online_out_accuracy: 0.6600\n",
            "Epoch 14/50\n",
            "5/5 [==============================] - 0s 2ms/step - loss: 1.7381 - iris_out_loss: 1.1440 - online_out_loss: 0.5941 - iris_out_accuracy: 0.4200 - online_out_accuracy: 0.6800\n",
            "Epoch 15/50\n",
            "5/5 [==============================] - 0s 2ms/step - loss: 1.7132 - iris_out_loss: 1.1298 - online_out_loss: 0.5833 - iris_out_accuracy: 0.4333 - online_out_accuracy: 0.6867\n",
            "Epoch 16/50\n",
            "5/5 [==============================] - 0s 2ms/step - loss: 1.6894 - iris_out_loss: 1.1156 - online_out_loss: 0.5738 - iris_out_accuracy: 0.4400 - online_out_accuracy: 0.7067\n",
            "Epoch 17/50\n",
            "5/5 [==============================] - 0s 2ms/step - loss: 1.6644 - iris_out_loss: 1.1006 - online_out_loss: 0.5638 - iris_out_accuracy: 0.4400 - online_out_accuracy: 0.7467\n",
            "Epoch 18/50\n",
            "5/5 [==============================] - 0s 2ms/step - loss: 1.6416 - iris_out_loss: 1.0877 - online_out_loss: 0.5539 - iris_out_accuracy: 0.4467 - online_out_accuracy: 0.7667\n",
            "Epoch 19/50\n",
            "5/5 [==============================] - 0s 2ms/step - loss: 1.6187 - iris_out_loss: 1.0737 - online_out_loss: 0.5450 - iris_out_accuracy: 0.4400 - online_out_accuracy: 0.8133\n",
            "Epoch 20/50\n",
            "5/5 [==============================] - 0s 2ms/step - loss: 1.5964 - iris_out_loss: 1.0602 - online_out_loss: 0.5362 - iris_out_accuracy: 0.4533 - online_out_accuracy: 0.8067\n",
            "Epoch 21/50\n",
            "5/5 [==============================] - 0s 2ms/step - loss: 1.5743 - iris_out_loss: 1.0470 - online_out_loss: 0.5273 - iris_out_accuracy: 0.4667 - online_out_accuracy: 0.8133\n",
            "Epoch 22/50\n",
            "5/5 [==============================] - 0s 2ms/step - loss: 1.5527 - iris_out_loss: 1.0337 - online_out_loss: 0.5190 - iris_out_accuracy: 0.4733 - online_out_accuracy: 0.8267\n",
            "Epoch 23/50\n",
            "5/5 [==============================] - 0s 2ms/step - loss: 1.5309 - iris_out_loss: 1.0203 - online_out_loss: 0.5106 - iris_out_accuracy: 0.4800 - online_out_accuracy: 0.8200\n",
            "Epoch 24/50\n",
            "5/5 [==============================] - 0s 2ms/step - loss: 1.5101 - iris_out_loss: 1.0074 - online_out_loss: 0.5027 - iris_out_accuracy: 0.4800 - online_out_accuracy: 0.8267\n",
            "Epoch 25/50\n",
            "5/5 [==============================] - 0s 2ms/step - loss: 1.4888 - iris_out_loss: 0.9938 - online_out_loss: 0.4950 - iris_out_accuracy: 0.4800 - online_out_accuracy: 0.8467\n",
            "Epoch 26/50\n",
            "5/5 [==============================] - 0s 2ms/step - loss: 1.4681 - iris_out_loss: 0.9809 - online_out_loss: 0.4873 - iris_out_accuracy: 0.4867 - online_out_accuracy: 0.8533\n",
            "Epoch 27/50\n",
            "5/5 [==============================] - 0s 2ms/step - loss: 1.4476 - iris_out_loss: 0.9680 - online_out_loss: 0.4796 - iris_out_accuracy: 0.5200 - online_out_accuracy: 0.8667\n",
            "Epoch 28/50\n",
            "5/5 [==============================] - 0s 2ms/step - loss: 1.4275 - iris_out_loss: 0.9551 - online_out_loss: 0.4725 - iris_out_accuracy: 0.5333 - online_out_accuracy: 0.8733\n",
            "Epoch 29/50\n",
            "5/5 [==============================] - 0s 2ms/step - loss: 1.4072 - iris_out_loss: 0.9420 - online_out_loss: 0.4653 - iris_out_accuracy: 0.5533 - online_out_accuracy: 0.8800\n",
            "Epoch 30/50\n",
            "5/5 [==============================] - 0s 3ms/step - loss: 1.3873 - iris_out_loss: 0.9289 - online_out_loss: 0.4585 - iris_out_accuracy: 0.5600 - online_out_accuracy: 0.8733\n",
            "Epoch 31/50\n",
            "5/5 [==============================] - 0s 2ms/step - loss: 1.3678 - iris_out_loss: 0.9160 - online_out_loss: 0.4518 - iris_out_accuracy: 0.5600 - online_out_accuracy: 0.8733\n",
            "Epoch 32/50\n",
            "5/5 [==============================] - 0s 2ms/step - loss: 1.3485 - iris_out_loss: 0.9031 - online_out_loss: 0.4454 - iris_out_accuracy: 0.5800 - online_out_accuracy: 0.8733\n",
            "Epoch 33/50\n",
            "5/5 [==============================] - 0s 2ms/step - loss: 1.3286 - iris_out_loss: 0.8898 - online_out_loss: 0.4387 - iris_out_accuracy: 0.5867 - online_out_accuracy: 0.8733\n",
            "Epoch 34/50\n",
            "5/5 [==============================] - 0s 2ms/step - loss: 1.3097 - iris_out_loss: 0.8769 - online_out_loss: 0.4328 - iris_out_accuracy: 0.5933 - online_out_accuracy: 0.8733\n",
            "Epoch 35/50\n",
            "5/5 [==============================] - 0s 2ms/step - loss: 1.2911 - iris_out_loss: 0.8636 - online_out_loss: 0.4275 - iris_out_accuracy: 0.6000 - online_out_accuracy: 0.8667\n",
            "Epoch 36/50\n",
            "5/5 [==============================] - 0s 1ms/step - loss: 1.2720 - iris_out_loss: 0.8507 - online_out_loss: 0.4213 - iris_out_accuracy: 0.6133 - online_out_accuracy: 0.8667\n",
            "Epoch 37/50\n",
            "5/5 [==============================] - 0s 2ms/step - loss: 1.2533 - iris_out_loss: 0.8377 - online_out_loss: 0.4155 - iris_out_accuracy: 0.6333 - online_out_accuracy: 0.8733\n",
            "Epoch 38/50\n",
            "5/5 [==============================] - 0s 2ms/step - loss: 1.2355 - iris_out_loss: 0.8254 - online_out_loss: 0.4101 - iris_out_accuracy: 0.6333 - online_out_accuracy: 0.8800\n",
            "Epoch 39/50\n",
            "5/5 [==============================] - 0s 2ms/step - loss: 1.2175 - iris_out_loss: 0.8128 - online_out_loss: 0.4047 - iris_out_accuracy: 0.6400 - online_out_accuracy: 0.8800\n",
            "Epoch 40/50\n",
            "5/5 [==============================] - 0s 2ms/step - loss: 1.2000 - iris_out_loss: 0.8006 - online_out_loss: 0.3994 - iris_out_accuracy: 0.6333 - online_out_accuracy: 0.8800\n",
            "Epoch 41/50\n",
            "5/5 [==============================] - 0s 2ms/step - loss: 1.1826 - iris_out_loss: 0.7882 - online_out_loss: 0.3944 - iris_out_accuracy: 0.6467 - online_out_accuracy: 0.8800\n",
            "Epoch 42/50\n",
            "5/5 [==============================] - 0s 2ms/step - loss: 1.1659 - iris_out_loss: 0.7765 - online_out_loss: 0.3895 - iris_out_accuracy: 0.6533 - online_out_accuracy: 0.8867\n",
            "Epoch 43/50\n",
            "5/5 [==============================] - 0s 2ms/step - loss: 1.1488 - iris_out_loss: 0.7644 - online_out_loss: 0.3844 - iris_out_accuracy: 0.6667 - online_out_accuracy: 0.8867\n",
            "Epoch 44/50\n",
            "5/5 [==============================] - 0s 1ms/step - loss: 1.1326 - iris_out_loss: 0.7528 - online_out_loss: 0.3798 - iris_out_accuracy: 0.6867 - online_out_accuracy: 0.8933\n",
            "Epoch 45/50\n",
            "5/5 [==============================] - 0s 2ms/step - loss: 1.1163 - iris_out_loss: 0.7411 - online_out_loss: 0.3752 - iris_out_accuracy: 0.7000 - online_out_accuracy: 0.8867\n",
            "Epoch 46/50\n",
            "5/5 [==============================] - 0s 2ms/step - loss: 1.1009 - iris_out_loss: 0.7303 - online_out_loss: 0.3706 - iris_out_accuracy: 0.7133 - online_out_accuracy: 0.8867\n",
            "Epoch 47/50\n",
            "5/5 [==============================] - 0s 2ms/step - loss: 1.0852 - iris_out_loss: 0.7187 - online_out_loss: 0.3665 - iris_out_accuracy: 0.7200 - online_out_accuracy: 0.8867\n",
            "Epoch 48/50\n",
            "5/5 [==============================] - 0s 2ms/step - loss: 1.0700 - iris_out_loss: 0.7079 - online_out_loss: 0.3621 - iris_out_accuracy: 0.7333 - online_out_accuracy: 0.8867\n",
            "Epoch 49/50\n",
            "5/5 [==============================] - 0s 2ms/step - loss: 1.0557 - iris_out_loss: 0.6975 - online_out_loss: 0.3582 - iris_out_accuracy: 0.7400 - online_out_accuracy: 0.8867\n",
            "Epoch 50/50\n",
            "5/5 [==============================] - 0s 2ms/step - loss: 1.0406 - iris_out_loss: 0.6865 - online_out_loss: 0.3541 - iris_out_accuracy: 0.7533 - online_out_accuracy: 0.8867\n"
          ],
          "name": "stdout"
        },
        {
          "output_type": "execute_result",
          "data": {
            "text/plain": [
              "<tensorflow.python.keras.callbacks.History at 0x7fb833572a58>"
            ]
          },
          "metadata": {
            "tags": []
          },
          "execution_count": 83
        }
      ]
    },
    {
      "cell_type": "code",
      "metadata": {
        "id": "JxVv8LqVyfo6",
        "colab_type": "code",
        "colab": {}
      },
      "source": [
        "from tensorflow.keras.datasets import fashion_mnist"
      ],
      "execution_count": 84,
      "outputs": []
    },
    {
      "cell_type": "code",
      "metadata": {
        "id": "MxCnZCeX4LFI",
        "colab_type": "code",
        "colab": {}
      },
      "source": [
        "(X_train,y_train),(X_test,y_test)=fashion_mnist.load_data()"
      ],
      "execution_count": 86,
      "outputs": []
    },
    {
      "cell_type": "code",
      "metadata": {
        "id": "hMzseST74YmT",
        "colab_type": "code",
        "colab": {
          "base_uri": "https://localhost:8080/",
          "height": 35
        },
        "outputId": "3c363126-fa45-4f81-8d77-ab01aafe86fa"
      },
      "source": [
        "X_train.shape"
      ],
      "execution_count": 87,
      "outputs": [
        {
          "output_type": "execute_result",
          "data": {
            "text/plain": [
              "(60000, 28, 28)"
            ]
          },
          "metadata": {
            "tags": []
          },
          "execution_count": 87
        }
      ]
    },
    {
      "cell_type": "code",
      "metadata": {
        "id": "dQUmO-nM4jth",
        "colab_type": "code",
        "colab": {
          "base_uri": "https://localhost:8080/",
          "height": 35
        },
        "outputId": "34f1219e-1c04-4262-d2aa-77ab7399535f"
      },
      "source": [
        "y_train.shape"
      ],
      "execution_count": 88,
      "outputs": [
        {
          "output_type": "execute_result",
          "data": {
            "text/plain": [
              "(60000,)"
            ]
          },
          "metadata": {
            "tags": []
          },
          "execution_count": 88
        }
      ]
    },
    {
      "cell_type": "code",
      "metadata": {
        "id": "Bm_e53cT4oQt",
        "colab_type": "code",
        "colab": {
          "base_uri": "https://localhost:8080/",
          "height": 35
        },
        "outputId": "47cdb57b-5410-443d-92ac-a1d0dfaca5db"
      },
      "source": [
        "X_test.shape"
      ],
      "execution_count": 89,
      "outputs": [
        {
          "output_type": "execute_result",
          "data": {
            "text/plain": [
              "(10000, 28, 28)"
            ]
          },
          "metadata": {
            "tags": []
          },
          "execution_count": 89
        }
      ]
    },
    {
      "cell_type": "code",
      "metadata": {
        "id": "9K7E7-wQ4rCu",
        "colab_type": "code",
        "colab": {}
      },
      "source": [
        ""
      ],
      "execution_count": null,
      "outputs": []
    }
  ]
}