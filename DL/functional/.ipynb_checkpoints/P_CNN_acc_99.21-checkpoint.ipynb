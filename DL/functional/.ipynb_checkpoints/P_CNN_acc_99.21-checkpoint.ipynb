{
 "cells": [
  {
   "cell_type": "code",
   "execution_count": 2,
   "metadata": {},
   "outputs": [
    {
     "name": "stdout",
     "output_type": "stream",
     "text": [
      "X_train shape: (60000, 28, 28)\n"
     ]
    }
   ],
   "source": [
    "import tensorflow as tf\n",
    "# this is for tensorflow_gpu user\n",
    "physical_devices = tf.config.experimental.list_physical_devices('GPU')\n",
    "if len(physical_devices) > 0:\n",
    "   tf.config.experimental.set_memory_growth(physical_devices[0], True)\n",
    "\n",
    "\n",
    "\n",
    "from tensorflow.keras.datasets import mnist\n",
    "import pandas as pd\n",
    "from tensorflow.keras.layers import Conv2D,Flatten,Dense,MaxPooling2D,Dropout\n",
    "from tensorflow.keras import Sequential\n",
    "\n",
    "\n",
    "\n",
    "(X_train, y_train), (X_test, y_test)=mnist.load_data()\n",
    "\n",
    "\n",
    "\n",
    "X_train = X_train.astype('float32')\n",
    "X_test = X_test.astype('float32')\n",
    "X_train /= 255\n",
    "X_test /= 255\n",
    "print('X_train shape:', X_train.shape)\n"
   ]
  },
  {
   "cell_type": "code",
   "execution_count": 3,
   "metadata": {},
   "outputs": [],
   "source": [
    "\n",
    "model = Sequential()\n",
    "model.add(Conv2D(32, kernel_size=(3, 3),\n",
    "                 activation='relu',\n",
    "                 input_shape=(28,28,1)))\n",
    "model.add(Conv2D(64, (3, 3), activation='relu'))\n",
    "model.add(MaxPooling2D(pool_size=(2, 2)))\n",
    "model.add(Dropout(0.25))\n",
    "model.add(Flatten())\n",
    "model.add(Dense(128, activation='relu'))\n",
    "model.add(Dropout(0.5))\n",
    "model.add(Dense(10, activation='softmax'))\n",
    "model.compile(loss=\"sparse_categorical_crossentropy\",optimizer=\"adam\",metrics=['accuracy'])"
   ]
  },
  {
   "cell_type": "code",
   "execution_count": null,
   "metadata": {},
   "outputs": [
    {
     "name": "stdout",
     "output_type": "stream",
     "text": [
      "Train on 60000 samples\n",
      "Epoch 1/10\n",
      "60000/60000 [==============================] - 22s 361us/sample - loss: 0.2063 - accuracy: 0.9377\n",
      "Epoch 2/10\n",
      "60000/60000 [==============================] - 20s 333us/sample - loss: 0.0781 - accuracy: 0.9765\n",
      "Epoch 3/10\n",
      "60000/60000 [==============================] - 21s 354us/sample - loss: 0.0592 - accuracy: 0.9825\n",
      "Epoch 4/10\n",
      "60000/60000 [==============================] - 21s 344us/sample - loss: 0.0488 - accuracy: 0.9852\n",
      "Epoch 5/10\n",
      "60000/60000 [==============================] - 21s 343us/sample - loss: 0.0432 - accuracy: 0.9865\n",
      "Epoch 6/10\n",
      "60000/60000 [==============================] - 21s 352us/sample - loss: 0.0370 - accuracy: 0.9886\n",
      "Epoch 7/10\n",
      "60000/60000 [==============================] - 21s 355us/sample - loss: 0.0332 - accuracy: 0.9893\n",
      "Epoch 8/10\n",
      "60000/60000 [==============================] - 22s 366us/sample - loss: 0.0280 - accuracy: 0.9910\n",
      "Epoch 9/10\n",
      "60000/60000 [==============================] - 23s 389us/sample - loss: 0.0276 - accuracy: 0.9910- loss: 0.027\n",
      "Epoch 10/10\n",
      "26160/60000 [============>.................] - ETA: 13s - loss: 0.0224 - accuracy: 0.9928"
     ]
    }
   ],
   "source": [
    "model.fit(X_train.reshape(-1,28,28,1),y_train,epochs=10,batch_size=60)"
   ]
  },
  {
   "cell_type": "code",
   "execution_count": null,
   "metadata": {},
   "outputs": [],
   "source": [
    "model.evaluate(X_test.reshape(-1,28,28,1),y_test)"
   ]
  },
  {
   "cell_type": "code",
   "execution_count": null,
   "metadata": {},
   "outputs": [],
   "source": [
    "#Save the model\n",
    "\n",
    "model_digit_json = model.to_json()\n",
    "with open(\"model/model_digit.json\", \"w\") as json_file:\n",
    "    json_file.write(model_digit_json)\n",
    "# serialize weights to HDF5\n",
    "model.save_weights(\"model/model_digit.h5\")\n",
    "print(\"Saved model to disk\")"
   ]
  },
  {
   "cell_type": "code",
   "execution_count": null,
   "metadata": {},
   "outputs": [],
   "source": []
  }
 ],
 "metadata": {
  "kernelspec": {
   "display_name": "Python 3.7 (tensorflow)",
   "language": "python",
   "name": "tf_gpu"
  },
  "language_info": {
   "codemirror_mode": {
    "name": "ipython",
    "version": 3
   },
   "file_extension": ".py",
   "mimetype": "text/x-python",
   "name": "python",
   "nbconvert_exporter": "python",
   "pygments_lexer": "ipython3",
   "version": "3.7.7"
  }
 },
 "nbformat": 4,
 "nbformat_minor": 2
}
