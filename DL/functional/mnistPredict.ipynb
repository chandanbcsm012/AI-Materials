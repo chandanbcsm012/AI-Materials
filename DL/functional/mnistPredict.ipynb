{
 "cells": [
  {
   "cell_type": "code",
   "execution_count": 86,
   "metadata": {
    "colab": {},
    "colab_type": "code",
    "executionInfo": {
     "elapsed": 999,
     "status": "ok",
     "timestamp": 1595316806278,
     "user": {
      "displayName": "AAKANKSHA",
      "photoUrl": "",
      "userId": "08173183022254025945"
     },
     "user_tz": -330
    },
    "id": "XClwPRBEuKmR"
   },
   "outputs": [],
   "source": [
    "import pandas as pd\n",
    "import tensorflow as tf\n",
    "from tensorflow.keras import Sequential\n",
    "from tensorflow.keras.layers import Dense\n",
    "import numpy as np"
   ]
  },
  {
   "cell_type": "code",
   "execution_count": 87,
   "metadata": {
    "colab": {},
    "colab_type": "code",
    "executionInfo": {
     "elapsed": 3779,
     "status": "ok",
     "timestamp": 1595316809095,
     "user": {
      "displayName": "AAKANKSHA",
      "photoUrl": "",
      "userId": "08173183022254025945"
     },
     "user_tz": -330
    },
    "id": "OaCwnAZlvb7W"
   },
   "outputs": [],
   "source": [
    "df=pd.read_csv('sample_data/mnist_train_small.csv',header=None)\n",
    "X_train=df.iloc[:,1:].values\n",
    "y_train=df.iloc[:,0].values\n",
    "\n",
    "df=pd.read_csv('sample_data/mnist_test.csv',header=None)\n",
    "X_test=df.iloc[:,1:].values\n",
    "y_test=df.iloc[:,0].values\n",
    "\n",
    "X_train=X_train/255.0\n",
    "X_test = X_test/255.0"
   ]
  },
  {
   "cell_type": "code",
   "execution_count": 88,
   "metadata": {
    "colab": {
     "base_uri": "https://localhost:8080/",
     "height": 544
    },
    "colab_type": "code",
    "executionInfo": {
     "elapsed": 39568,
     "status": "ok",
     "timestamp": 1595316844918,
     "user": {
      "displayName": "AAKANKSHA",
      "photoUrl": "",
      "userId": "08173183022254025945"
     },
     "user_tz": -330
    },
    "id": "3Lmp4FH6weFz",
    "outputId": "cc334bd3-dcd1-4c24-95e8-850cfda86ce0"
   },
   "outputs": [
    {
     "name": "stdout",
     "output_type": "stream",
     "text": [
      "Epoch 1/15\n",
      "334/334 [==============================] - 2s 7ms/step - loss: 0.3297 - accuracy: 0.8997\n",
      "Epoch 2/15\n",
      "334/334 [==============================] - 2s 7ms/step - loss: 0.1349 - accuracy: 0.9597\n",
      "Epoch 3/15\n",
      "334/334 [==============================] - 2s 7ms/step - loss: 0.0870 - accuracy: 0.9730\n",
      "Epoch 4/15\n",
      "334/334 [==============================] - 2s 7ms/step - loss: 0.0559 - accuracy: 0.9819\n",
      "Epoch 5/15\n",
      "334/334 [==============================] - 2s 7ms/step - loss: 0.0379 - accuracy: 0.9876\n",
      "Epoch 6/15\n",
      "334/334 [==============================] - 2s 7ms/step - loss: 0.0299 - accuracy: 0.9906\n",
      "Epoch 7/15\n",
      "334/334 [==============================] - 2s 7ms/step - loss: 0.0191 - accuracy: 0.9938\n",
      "Epoch 8/15\n",
      "334/334 [==============================] - 2s 7ms/step - loss: 0.0168 - accuracy: 0.9944\n",
      "Epoch 9/15\n",
      "334/334 [==============================] - 2s 7ms/step - loss: 0.0128 - accuracy: 0.9959\n",
      "Epoch 10/15\n",
      "334/334 [==============================] - 2s 7ms/step - loss: 0.0088 - accuracy: 0.9973\n",
      "Epoch 11/15\n",
      "334/334 [==============================] - 2s 7ms/step - loss: 0.0079 - accuracy: 0.9970\n",
      "Epoch 12/15\n",
      "334/334 [==============================] - 2s 7ms/step - loss: 0.0067 - accuracy: 0.9977\n",
      "Epoch 13/15\n",
      "334/334 [==============================] - 2s 7ms/step - loss: 0.0055 - accuracy: 0.9981\n",
      "Epoch 14/15\n",
      "334/334 [==============================] - 2s 7ms/step - loss: 0.0065 - accuracy: 0.9983\n",
      "Epoch 15/15\n",
      "334/334 [==============================] - 2s 7ms/step - loss: 0.0042 - accuracy: 0.9988\n"
     ]
    },
    {
     "data": {
      "text/plain": [
       "<tensorflow.python.keras.callbacks.History at 0x7f682c7826a0>"
      ]
     },
     "execution_count": 88,
     "metadata": {
      "tags": []
     },
     "output_type": "execute_result"
    }
   ],
   "source": [
    "model = Sequential()\n",
    "h1=Dense(400,activation='relu')\n",
    "h2=Dense(160,activation='relu')\n",
    "out = Dense(10,activation='softmax')\n",
    "\n",
    "model.add(h1)\n",
    "model.add(h2)\n",
    "model.add(out)\n",
    "\n",
    "model.compile(loss = \"sparse_categorical_crossentropy\", optimizer = 'rmsprop',metrics = ['accuracy'])\n",
    "model.fit(X_train,y_train,epochs=15,batch_size=60)"
   ]
  },
  {
   "cell_type": "code",
   "execution_count": 89,
   "metadata": {
    "colab": {
     "base_uri": "https://localhost:8080/",
     "height": 69
    },
    "colab_type": "code",
    "executionInfo": {
     "elapsed": 39504,
     "status": "ok",
     "timestamp": 1595316844921,
     "user": {
      "displayName": "AAKANKSHA",
      "photoUrl": "",
      "userId": "08173183022254025945"
     },
     "user_tz": -330
    },
    "id": "yLKg8gLJw2my",
    "outputId": "a7a44e62-8a1b-49b0-855b-696574d87a70"
   },
   "outputs": [
    {
     "data": {
      "application/vnd.google.colaboratory.intrinsic": {
       "type": "string"
      },
      "text/plain": [
       "'model = Sequential()\\nh1=Dense(400,activation=\\'relu\\')\\nh2=Dense(150,activation=\\'relu\\')\\nout = Dense(10,activation=\\'softmax\\')\\n\\nmodel.add(h1)\\nmodel.add(h2)\\nmodel.add(out)\\n\\nmodel.compile(loss = \"sparse_categorical_crossentropy\", optimizer = \\'adam\\',metrics = [\\'accuracy\\'])\\nmodel.fit(X_train,y_train,epochs=15,batch_size=60)'"
      ]
     },
     "execution_count": 89,
     "metadata": {
      "tags": []
     },
     "output_type": "execute_result"
    }
   ],
   "source": [
    "'''model = Sequential()\n",
    "h1=Dense(400,activation='relu')\n",
    "h2=Dense(150,activation='relu')\n",
    "out = Dense(10,activation='softmax')\n",
    "\n",
    "model.add(h1)\n",
    "model.add(h2)\n",
    "model.add(out)\n",
    "\n",
    "model.compile(loss = \"sparse_categorical_crossentropy\", optimizer = 'adam',metrics = ['accuracy'])\n",
    "model.fit(X_train,y_train,epochs=15,batch_size=60)'''"
   ]
  },
  {
   "cell_type": "code",
   "execution_count": 90,
   "metadata": {
    "colab": {
     "base_uri": "https://localhost:8080/",
     "height": 51
    },
    "colab_type": "code",
    "executionInfo": {
     "elapsed": 40651,
     "status": "ok",
     "timestamp": 1595316846139,
     "user": {
      "displayName": "AAKANKSHA",
      "photoUrl": "",
      "userId": "08173183022254025945"
     },
     "user_tz": -330
    },
    "id": "dN3xiInRxSZ-",
    "outputId": "4fa3c579-9c54-481f-f28c-5077c534838f"
   },
   "outputs": [
    {
     "name": "stdout",
     "output_type": "stream",
     "text": [
      "313/313 [==============================] - 1s 2ms/step - loss: 0.1886 - accuracy: 0.9764\n"
     ]
    },
    {
     "data": {
      "text/plain": [
       "[0.18856482207775116, 0.9764000177383423]"
      ]
     },
     "execution_count": 90,
     "metadata": {
      "tags": []
     },
     "output_type": "execute_result"
    }
   ],
   "source": [
    "model.evaluate(X_test,y_test)"
   ]
  },
  {
   "cell_type": "code",
   "execution_count": 91,
   "metadata": {
    "colab": {
     "base_uri": "https://localhost:8080/",
     "height": 34
    },
    "colab_type": "code",
    "executionInfo": {
     "elapsed": 40637,
     "status": "ok",
     "timestamp": 1595316846144,
     "user": {
      "displayName": "AAKANKSHA",
      "photoUrl": "",
      "userId": "08173183022254025945"
     },
     "user_tz": -330
    },
    "id": "CvH_eKSqxTTc",
    "outputId": "9e55046a-f3c0-4d9f-9b75-3169fd654a3b"
   },
   "outputs": [
    {
     "data": {
      "text/plain": [
       "array([2])"
      ]
     },
     "execution_count": 91,
     "metadata": {
      "tags": []
     },
     "output_type": "execute_result"
    }
   ],
   "source": [
    "import cv2\n",
    "gray=cv2.imread('2.jpeg',0)\n",
    "gray=gray.reshape(1,-1)\n",
    "gray=gray/255.0\n",
    "np.argmax(model.predict(gray), axis=-1)"
   ]
  },
  {
   "cell_type": "code",
   "execution_count": 92,
   "metadata": {
    "colab": {
     "base_uri": "https://localhost:8080/",
     "height": 34
    },
    "colab_type": "code",
    "executionInfo": {
     "elapsed": 40603,
     "status": "ok",
     "timestamp": 1595316846148,
     "user": {
      "displayName": "AAKANKSHA",
      "photoUrl": "",
      "userId": "08173183022254025945"
     },
     "user_tz": -330
    },
    "id": "ofHObhXuBkVH",
    "outputId": "6bde3cef-6309-4834-82bf-7278350245bd"
   },
   "outputs": [
    {
     "data": {
      "text/plain": [
       "array([4])"
      ]
     },
     "execution_count": 92,
     "metadata": {
      "tags": []
     },
     "output_type": "execute_result"
    }
   ],
   "source": [
    "\n",
    "gray=cv2.imread('4.png',0)\n",
    "gray =gray.reshape(1,-1)\n",
    "gray=gray/255.0\n",
    "np.argmax(model.predict(gray),axis=-1)"
   ]
  },
  {
   "cell_type": "code",
   "execution_count": 93,
   "metadata": {
    "colab": {
     "base_uri": "https://localhost:8080/",
     "height": 34
    },
    "colab_type": "code",
    "executionInfo": {
     "elapsed": 40583,
     "status": "ok",
     "timestamp": 1595316846150,
     "user": {
      "displayName": "AAKANKSHA",
      "photoUrl": "",
      "userId": "08173183022254025945"
     },
     "user_tz": -330
    },
    "id": "fNDbEwM8Chk5",
    "outputId": "81de1483-a4b5-4974-d01e-27953232ace5"
   },
   "outputs": [
    {
     "data": {
      "text/plain": [
       "array([6])"
      ]
     },
     "execution_count": 93,
     "metadata": {
      "tags": []
     },
     "output_type": "execute_result"
    }
   ],
   "source": [
    "gray=cv2.imread('5.jpeg',0)\n",
    "gray=gray.reshape(1,-1)\n",
    "gray=gray/255.0\n",
    "np.argmax(model.predict(gray), axis=-1)"
   ]
  },
  {
   "cell_type": "code",
   "execution_count": 94,
   "metadata": {
    "colab": {
     "base_uri": "https://localhost:8080/",
     "height": 34
    },
    "colab_type": "code",
    "executionInfo": {
     "elapsed": 40562,
     "status": "ok",
     "timestamp": 1595316846153,
     "user": {
      "displayName": "AAKANKSHA",
      "photoUrl": "",
      "userId": "08173183022254025945"
     },
     "user_tz": -330
    },
    "id": "Qk9mGGy0CpCt",
    "outputId": "2fa7ed12-3fa4-4c84-d66a-74ea32b0376f"
   },
   "outputs": [
    {
     "data": {
      "text/plain": [
       "array([8])"
      ]
     },
     "execution_count": 94,
     "metadata": {
      "tags": []
     },
     "output_type": "execute_result"
    }
   ],
   "source": [
    "gray=cv2.imread('8.png',0)\n",
    "gray =gray.reshape(1,-1)\n",
    "gray=gray/255.0\n",
    "np.argmax(model.predict(gray),axis=-1)"
   ]
  },
  {
   "cell_type": "code",
   "execution_count": 95,
   "metadata": {
    "colab": {
     "base_uri": "https://localhost:8080/",
     "height": 34
    },
    "colab_type": "code",
    "executionInfo": {
     "elapsed": 40541,
     "status": "ok",
     "timestamp": 1595316846155,
     "user": {
      "displayName": "AAKANKSHA",
      "photoUrl": "",
      "userId": "08173183022254025945"
     },
     "user_tz": -330
    },
    "id": "cfgy4l-MCwfR",
    "outputId": "7eebdedd-0aab-4bec-f1ce-ea9d9445c623"
   },
   "outputs": [
    {
     "data": {
      "text/plain": [
       "array([0])"
      ]
     },
     "execution_count": 95,
     "metadata": {
      "tags": []
     },
     "output_type": "execute_result"
    }
   ],
   "source": [
    "gray=cv2.imread('0.png',0)\n",
    "gray =gray.reshape(1,-1)\n",
    "gray=gray/255.0\n",
    "np.argmax(model.predict(gray),axis=-1)"
   ]
  },
  {
   "cell_type": "code",
   "execution_count": 96,
   "metadata": {
    "colab": {
     "base_uri": "https://localhost:8080/",
     "height": 34
    },
    "colab_type": "code",
    "executionInfo": {
     "elapsed": 40513,
     "status": "ok",
     "timestamp": 1595316846156,
     "user": {
      "displayName": "AAKANKSHA",
      "photoUrl": "",
      "userId": "08173183022254025945"
     },
     "user_tz": -330
    },
    "id": "fy6fIeTLC2n9",
    "outputId": "7483e3c4-4ee5-41a6-af1f-cf3fbac5fc42"
   },
   "outputs": [
    {
     "data": {
      "text/plain": [
       "array([9])"
      ]
     },
     "execution_count": 96,
     "metadata": {
      "tags": []
     },
     "output_type": "execute_result"
    }
   ],
   "source": [
    "gray=cv2.imread('9.png',0)\n",
    "gray =gray.reshape(1,-1)\n",
    "gray=gray/255.0\n",
    "np.argmax(model.predict(gray),axis=-1)"
   ]
  },
  {
   "cell_type": "code",
   "execution_count": 97,
   "metadata": {
    "colab": {
     "base_uri": "https://localhost:8080/",
     "height": 34
    },
    "colab_type": "code",
    "executionInfo": {
     "elapsed": 40487,
     "status": "ok",
     "timestamp": 1595316846157,
     "user": {
      "displayName": "AAKANKSHA",
      "photoUrl": "",
      "userId": "08173183022254025945"
     },
     "user_tz": -330
    },
    "id": "8Gh7lNHnC9Iy",
    "outputId": "2e05e45b-ac46-467d-83ac-cfd362216786"
   },
   "outputs": [
    {
     "data": {
      "text/plain": [
       "array([3])"
      ]
     },
     "execution_count": 97,
     "metadata": {
      "tags": []
     },
     "output_type": "execute_result"
    }
   ],
   "source": [
    "gray=cv2.imread('3.png',0)\n",
    "gray =gray.reshape(1,-1)\n",
    "gray=gray/255.0\n",
    "np.argmax(model.predict(gray),axis=-1)"
   ]
  },
  {
   "cell_type": "code",
   "execution_count": 98,
   "metadata": {
    "colab": {
     "base_uri": "https://localhost:8080/",
     "height": 34
    },
    "colab_type": "code",
    "executionInfo": {
     "elapsed": 40760,
     "status": "ok",
     "timestamp": 1595316846454,
     "user": {
      "displayName": "AAKANKSHA",
      "photoUrl": "",
      "userId": "08173183022254025945"
     },
     "user_tz": -330
    },
    "id": "c8mi5JWVDDP7",
    "outputId": "d2b55a15-6fe9-4dd5-f265-03dab989739a"
   },
   "outputs": [
    {
     "data": {
      "text/plain": [
       "array([1])"
      ]
     },
     "execution_count": 98,
     "metadata": {
      "tags": []
     },
     "output_type": "execute_result"
    }
   ],
   "source": [
    "gray=cv2.imread('1.jpeg',0)\n",
    "gray =gray.reshape(1,-1)\n",
    "gray=gray/255.0\n",
    "np.argmax(model.predict(gray),axis=-1)"
   ]
  },
  {
   "cell_type": "code",
   "execution_count": 99,
   "metadata": {
    "colab": {
     "base_uri": "https://localhost:8080/",
     "height": 34
    },
    "colab_type": "code",
    "executionInfo": {
     "elapsed": 40739,
     "status": "ok",
     "timestamp": 1595316846457,
     "user": {
      "displayName": "AAKANKSHA",
      "photoUrl": "",
      "userId": "08173183022254025945"
     },
     "user_tz": -330
    },
    "id": "juOPNFl0DN0C",
    "outputId": "5e858efd-120a-46a4-ad5f-9da21ce7d757"
   },
   "outputs": [
    {
     "data": {
      "text/plain": [
       "array([3])"
      ]
     },
     "execution_count": 99,
     "metadata": {
      "tags": []
     },
     "output_type": "execute_result"
    }
   ],
   "source": [
    "gray=cv2.imread('3.png',0)\n",
    "gray =gray.reshape(1,-1)\n",
    "gray=gray/255.0\n",
    "np.argmax(model.predict(gray),axis=-1)"
   ]
  },
  {
   "cell_type": "code",
   "execution_count": 99,
   "metadata": {
    "colab": {},
    "colab_type": "code",
    "executionInfo": {
     "elapsed": 40719,
     "status": "ok",
     "timestamp": 1595316846463,
     "user": {
      "displayName": "AAKANKSHA",
      "photoUrl": "",
      "userId": "08173183022254025945"
     },
     "user_tz": -330
    },
    "id": "_N1v_ylrIkSH"
   },
   "outputs": [],
   "source": []
  }
 ],
 "metadata": {
  "colab": {
   "authorship_tag": "ABX9TyPnobBin41zpXF3q8R8uICX",
   "name": "mnistPredict.ipynb",
   "provenance": []
  },
  "kernelspec": {
   "display_name": "Python 3",
   "language": "python",
   "name": "python3"
  },
  "language_info": {
   "codemirror_mode": {
    "name": "ipython",
    "version": 3
   },
   "file_extension": ".py",
   "mimetype": "text/x-python",
   "name": "python",
   "nbconvert_exporter": "python",
   "pygments_lexer": "ipython3",
   "version": "3.7.3"
  }
 },
 "nbformat": 4,
 "nbformat_minor": 4
}
