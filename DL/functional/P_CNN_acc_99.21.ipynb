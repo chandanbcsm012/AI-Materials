{
 "cells": [
  {
   "cell_type": "code",
   "execution_count": 1,
   "metadata": {},
   "outputs": [
    {
     "name": "stdout",
     "output_type": "stream",
     "text": [
      "X_train shape: (60000, 28, 28)\n"
     ]
    }
   ],
   "source": [
    "import tensorflow as tf\n",
    "# this is for tensorflow_gpu user\n",
    "physical_devices = tf.config.experimental.list_physical_devices('GPU')\n",
    "if len(physical_devices) > 0:\n",
    "   tf.config.experimental.set_memory_growth(physical_devices[0], True)\n",
    "\n",
    "\n",
    "\n",
    "from tensorflow.keras.datasets import mnist\n",
    "import pandas as pd\n",
    "from tensorflow.keras.layers import Conv2D,Flatten,Dense,MaxPooling2D,Dropout\n",
    "from tensorflow.keras import Sequential\n",
    "\n",
    "\n",
    "\n",
    "(X_train, y_train), (X_test, y_test)=mnist.load_data()\n",
    "\n",
    "\n",
    "\n",
    "X_train = X_train.astype('float32')\n",
    "X_test = X_test.astype('float32')\n",
    "X_train /= 255\n",
    "X_test /= 255\n",
    "print('X_train shape:', X_train.shape)\n"
   ]
  },
  {
   "cell_type": "code",
   "execution_count": 2,
   "metadata": {},
   "outputs": [
    {
     "name": "stdout",
     "output_type": "stream",
     "text": [
      "CPU times: user 143 ms, sys: 6.63 ms, total: 150 ms\n",
      "Wall time: 270 ms\n"
     ]
    }
   ],
   "source": [
    "%%time\n",
    "model = Sequential()\n",
    "model.add(Conv2D(32, kernel_size=(3, 3),\n",
    "                 activation='relu',\n",
    "                 input_shape=(28,28,1)))\n",
    "model.add(Conv2D(64, (3, 3), activation='relu'))\n",
    "model.add(MaxPooling2D(pool_size=(2, 2)))\n",
    "model.add(Dropout(0.25))\n",
    "model.add(Flatten())\n",
    "model.add(Dense(128, activation='relu'))\n",
    "model.add(Dropout(0.5))\n",
    "model.add(Dense(10, activation='softmax'))\n",
    "model.compile(loss=\"sparse_categorical_crossentropy\",optimizer=\"adam\",metrics=['accuracy'])"
   ]
  },
  {
   "cell_type": "code",
   "execution_count": 3,
   "metadata": {},
   "outputs": [
    {
     "name": "stdout",
     "output_type": "stream",
     "text": [
      "Epoch 1/10\n",
      "1000/1000 [==============================] - 62s 62ms/step - loss: 0.1909 - accuracy: 0.9425\n",
      "Epoch 2/10\n",
      "1000/1000 [==============================] - 65s 65ms/step - loss: 0.0779 - accuracy: 0.9766\n",
      "Epoch 3/10\n",
      "1000/1000 [==============================] - 62s 62ms/step - loss: 0.0587 - accuracy: 0.9822\n",
      "Epoch 4/10\n",
      "1000/1000 [==============================] - 64s 64ms/step - loss: 0.0473 - accuracy: 0.9856\n",
      "Epoch 5/10\n",
      "1000/1000 [==============================] - 63s 63ms/step - loss: 0.0405 - accuracy: 0.9874\n",
      "Epoch 6/10\n",
      "1000/1000 [==============================] - 62s 62ms/step - loss: 0.0343 - accuracy: 0.9893\n",
      "Epoch 7/10\n",
      "1000/1000 [==============================] - 64s 64ms/step - loss: 0.0315 - accuracy: 0.9900\n",
      "Epoch 8/10\n",
      "1000/1000 [==============================] - 64s 64ms/step - loss: 0.0284 - accuracy: 0.9912\n",
      "Epoch 9/10\n",
      "1000/1000 [==============================] - 66s 66ms/step - loss: 0.0244 - accuracy: 0.9922\n",
      "Epoch 10/10\n",
      "1000/1000 [==============================] - 65s 65ms/step - loss: 0.0228 - accuracy: 0.9924\n",
      "CPU times: user 1h 3min 59s, sys: 1min 34s, total: 1h 5min 34s\n",
      "Wall time: 10min 36s\n"
     ]
    },
    {
     "data": {
      "text/plain": [
       "<tensorflow.python.keras.callbacks.History at 0x7f616519f908>"
      ]
     },
     "execution_count": 3,
     "metadata": {},
     "output_type": "execute_result"
    }
   ],
   "source": [
    "%%time\n",
    "model.fit(X_train.reshape(-1,28,28,1),y_train,epochs=10,batch_size=60)"
   ]
  },
  {
   "cell_type": "code",
   "execution_count": 4,
   "metadata": {},
   "outputs": [
    {
     "name": "stdout",
     "output_type": "stream",
     "text": [
      "313/313 [==============================] - 3s 9ms/step - loss: 0.0304 - accuracy: 0.9916\n"
     ]
    },
    {
     "data": {
      "text/plain": [
       "[0.030429046601057053, 0.991599977016449]"
      ]
     },
     "execution_count": 4,
     "metadata": {},
     "output_type": "execute_result"
    }
   ],
   "source": [
    "model.evaluate(X_test.reshape(-1,28,28,1),y_test)"
   ]
  },
  {
   "cell_type": "code",
   "execution_count": 5,
   "metadata": {},
   "outputs": [
    {
     "name": "stdout",
     "output_type": "stream",
     "text": [
      "Saved model to disk\n"
     ]
    }
   ],
   "source": [
    "#Save the model\n",
    "\n",
    "model_digit_json = model.to_json()\n",
    "with open(\"model/model_digit.json\", \"w\") as json_file:\n",
    "    json_file.write(model_digit_json)\n",
    "# serialize weights to HDF5\n",
    "model.save_weights(\"model/model_digit.h5\")\n",
    "print(\"Saved model to disk\")"
   ]
  },
  {
   "cell_type": "code",
   "execution_count": 7,
   "metadata": {},
   "outputs": [
    {
     "name": "stdout",
     "output_type": "stream",
     "text": [
      "Model: \"sequential_2\"\n",
      "_________________________________________________________________\n",
      "Layer (type)                 Output Shape              Param #   \n",
      "=================================================================\n",
      "conv2d_4 (Conv2D)            (None, 26, 26, 64)        640       \n",
      "_________________________________________________________________\n",
      "max_pooling2d_3 (MaxPooling2 (None, 13, 13, 64)        0         \n",
      "_________________________________________________________________\n",
      "dropout_5 (Dropout)          (None, 13, 13, 64)        0         \n",
      "_________________________________________________________________\n",
      "conv2d_5 (Conv2D)            (None, 11, 11, 64)        36928     \n",
      "_________________________________________________________________\n",
      "max_pooling2d_4 (MaxPooling2 (None, 5, 5, 64)          0         \n",
      "_________________________________________________________________\n",
      "dropout_6 (Dropout)          (None, 5, 5, 64)          0         \n",
      "_________________________________________________________________\n",
      "flatten_2 (Flatten)          (None, 1600)              0         \n",
      "_________________________________________________________________\n",
      "dense_4 (Dense)              (None, 256)               409856    \n",
      "_________________________________________________________________\n",
      "dropout_7 (Dropout)          (None, 256)               0         \n",
      "_________________________________________________________________\n",
      "dense_5 (Dense)              (None, 10)                2570      \n",
      "=================================================================\n",
      "Total params: 449,994\n",
      "Trainable params: 449,994\n",
      "Non-trainable params: 0\n",
      "_________________________________________________________________\n",
      "Epoch 1/10\n",
      "1000/1000 [==============================] - 34s 34ms/step - loss: 0.2116 - accuracy: 0.9337\n",
      "Epoch 2/10\n",
      "1000/1000 [==============================] - 37s 37ms/step - loss: 0.0724 - accuracy: 0.9786\n",
      "Epoch 3/10\n",
      "1000/1000 [==============================] - 34s 34ms/step - loss: 0.0570 - accuracy: 0.9826\n",
      "Epoch 4/10\n",
      "1000/1000 [==============================] - 36s 36ms/step - loss: 0.0464 - accuracy: 0.9860\n",
      "Epoch 5/10\n",
      "1000/1000 [==============================] - 36s 36ms/step - loss: 0.0415 - accuracy: 0.9868\n",
      "Epoch 6/10\n",
      "1000/1000 [==============================] - 35s 35ms/step - loss: 0.0347 - accuracy: 0.9890\n",
      "Epoch 7/10\n",
      "1000/1000 [==============================] - 37s 37ms/step - loss: 0.0314 - accuracy: 0.9902\n",
      "Epoch 8/10\n",
      "1000/1000 [==============================] - 36s 36ms/step - loss: 0.0289 - accuracy: 0.9906\n",
      "Epoch 9/10\n",
      "1000/1000 [==============================] - 36s 36ms/step - loss: 0.0275 - accuracy: 0.9915\n",
      "Epoch 10/10\n",
      "1000/1000 [==============================] - 36s 36ms/step - loss: 0.0231 - accuracy: 0.9923\n",
      "313/313 [==============================] - 2s 6ms/step - loss: 0.0224 - accuracy: 0.9933\n"
     ]
    },
    {
     "data": {
      "text/plain": [
       "[0.02240530028939247, 0.9933000206947327]"
      ]
     },
     "execution_count": 7,
     "metadata": {},
     "output_type": "execute_result"
    }
   ],
   "source": [
    "# this is for tensorflow_gpu user\n",
    "physical_devices = tf.config.experimental.list_physical_devices('GPU')\n",
    "if len(physical_devices) > 0:\n",
    "   tf.config.experimental.set_memory_growth(physical_devices[0], True)\n",
    "\n",
    "from tensorflow.keras.models import Sequential\n",
    "from tensorflow.keras.layers import Dense, Dropout, Flatten, Conv2D, MaxPooling2D\n",
    "from tensorflow.keras.callbacks import LearningRateScheduler\n",
    "import tensorflow as tf\n",
    "\n",
    "(X_train, y_train), (X_test, y_test)=tf.keras.datasets.mnist.load_data()\n",
    "X_train = X_train/255.0\n",
    "X_test = X_test/255.0\n",
    "\n",
    "digit_classifier=Sequential()\n",
    "digit_classifier.add(Conv2D(64,(3,3),input_shape=(28,28,1),activation='relu')) \n",
    "#by default the stride is 1\n",
    "digit_classifier.add(MaxPooling2D(pool_size=(2,2),strides=(2,2)))\n",
    "digit_classifier.add(Dropout(0.2))\n",
    "digit_classifier.add(Conv2D(64,(3,3),activation='relu'))\n",
    "digit_classifier.add(MaxPooling2D(pool_size=(2,2),strides=(2,2)))\n",
    "digit_classifier.add(Dropout(0.2))\n",
    "digit_classifier.add(Flatten())\n",
    "\n",
    "digit_classifier.add(Dense(units=256,activation='relu'))\n",
    "digit_classifier.add(Dropout(0.5))\n",
    "digit_classifier.add(Dense(units=10,activation='softmax'))\n",
    "digit_classifier.compile(optimizer='adam',loss=tf.keras.losses.sparse_categorical_crossentropy ,metrics=['accuracy'])\n",
    "digit_classifier.summary()\n",
    "\n",
    "digit_classifier.fit(X_train.reshape(-1,28,28,1),y_train,epochs=10,batch_size=60)\n",
    "\n",
    "#Testing the classifire\n",
    "digit_classifier.evaluate(X_test.reshape(-1,28,28,1),y_test)"
   ]
  }
 ],
 "metadata": {
  "kernelspec": {
   "display_name": "Python 3",
   "language": "python",
   "name": "python3"
  },
  "language_info": {
   "codemirror_mode": {
    "name": "ipython",
    "version": 3
   },
   "file_extension": ".py",
   "mimetype": "text/x-python",
   "name": "python",
   "nbconvert_exporter": "python",
   "pygments_lexer": "ipython3",
   "version": "3.7.3"
  }
 },
 "nbformat": 4,
 "nbformat_minor": 4
}
