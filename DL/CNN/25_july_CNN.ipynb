{
  "nbformat": 4,
  "nbformat_minor": 0,
  "metadata": {
    "colab": {
      "name": "25_july_CNN.ipynb",
      "provenance": []
    },
    "kernelspec": {
      "name": "python3",
      "display_name": "Python 3"
    },
    "accelerator": "TPU"
  },
  "cells": [
    {
      "cell_type": "code",
      "metadata": {
        "id": "NnPcHxgcnYVT",
        "colab_type": "code",
        "colab": {}
      },
      "source": [
        "from tensorflow.keras import Sequential\n",
        "from tensorflow.keras.layers import Conv2D,Flatten,Dense,MaxPooling2D\n",
        "import pandas as pd"
      ],
      "execution_count": 10,
      "outputs": []
    },
    {
      "cell_type": "code",
      "metadata": {
        "id": "KUd90C58oDMT",
        "colab_type": "code",
        "colab": {}
      },
      "source": [
        "df=pd.read_csv(\"sample_data/mnist_train_small.csv\",header=None)\n",
        "X=df.iloc[:,1:].values\n",
        "y=df.iloc[:,0].values\n",
        "\n",
        "X_train=X/255.0"
      ],
      "execution_count": 40,
      "outputs": []
    },
    {
      "cell_type": "code",
      "metadata": {
        "id": "51VntR1eoZDQ",
        "colab_type": "code",
        "colab": {
          "base_uri": "https://localhost:8080/",
          "height": 399
        },
        "outputId": "46704b13-d7cc-4fc7-b4b3-ca49205a1e47"
      },
      "source": [
        "model=Sequential()\n",
        "model.add(Conv2D(32,(3,3),activation='relu',input_shape=(28,28,1))\n",
        "model.add(Conv2D(16,(3,3),activation='relu'))\n",
        "model.add(Flatten())\n",
        "model.add(Dense(10,activation='softmax'))\n",
        "\n",
        "model.compile(loss=\"sparse_categorical_crossentropy\",optimizer=\"adam\",metrics=['accuracy'])\n",
        "model.fit(X_train.reshape(20000,28,28,1),y,epochs=10)\n"
      ],
      "execution_count": 7,
      "outputs": [
        {
          "output_type": "stream",
          "text": [
            "Epoch 1/10\n",
            "625/625 [==============================] - 22s 34ms/step - loss: 0.2742 - accuracy: 0.9196\n",
            "Epoch 2/10\n",
            "625/625 [==============================] - 22s 35ms/step - loss: 0.0963 - accuracy: 0.9700\n",
            "Epoch 3/10\n",
            "625/625 [==============================] - 22s 34ms/step - loss: 0.0622 - accuracy: 0.9815\n",
            "Epoch 4/10\n",
            "625/625 [==============================] - 22s 34ms/step - loss: 0.0412 - accuracy: 0.9874\n",
            "Epoch 5/10\n",
            "625/625 [==============================] - 22s 35ms/step - loss: 0.0275 - accuracy: 0.9905\n",
            "Epoch 6/10\n",
            "625/625 [==============================] - 21s 34ms/step - loss: 0.0218 - accuracy: 0.9929\n",
            "Epoch 7/10\n",
            "625/625 [==============================] - 22s 34ms/step - loss: 0.0153 - accuracy: 0.9948\n",
            "Epoch 8/10\n",
            "625/625 [==============================] - 22s 35ms/step - loss: 0.0139 - accuracy: 0.9945\n",
            "Epoch 9/10\n",
            "625/625 [==============================] - 22s 35ms/step - loss: 0.0122 - accuracy: 0.9963\n",
            "Epoch 10/10\n",
            "625/625 [==============================] - 22s 35ms/step - loss: 0.0096 - accuracy: 0.9963\n"
          ],
          "name": "stdout"
        },
        {
          "output_type": "execute_result",
          "data": {
            "text/plain": [
              "<tensorflow.python.keras.callbacks.History at 0x7fcc9d00f048>"
            ]
          },
          "metadata": {
            "tags": []
          },
          "execution_count": 7
        }
      ]
    },
    {
      "cell_type": "code",
      "metadata": {
        "id": "-qbTEzpYvHc-",
        "colab_type": "code",
        "colab": {
          "base_uri": "https://localhost:8080/",
          "height": 399
        },
        "outputId": "819e37ae-75e7-4a23-c3be-9ff673583178"
      },
      "source": [
        "model=Sequential()\n",
        "model.add(Conv2D(32,(3,3),activation='relu',input_shape=(28,28,1),strides=(1,1)))\n",
        "model.add(MaxPooling2D((2,2),strides=(2,2)))\n",
        "model.add(Conv2D(64,(3,3),activation='relu'))\n",
        "model.add(MaxPooling2D((2,2),strides=(2,2)))\n",
        "\n",
        "model.add(Flatten())\n",
        "model.add(Dense(10,activation='softmax'))\n",
        "\n",
        "model.compile(loss=\"sparse_categorical_crossentropy\",optimizer=\"adam\",metrics=['accuracy'])\n",
        "model.fit(X_train.reshape(20000,28,28,1),y,epochs=10)"
      ],
      "execution_count": 21,
      "outputs": [
        {
          "output_type": "stream",
          "text": [
            "Epoch 1/10\n",
            "625/625 [==============================] - 13s 22ms/step - loss: 0.3013 - accuracy: 0.9110\n",
            "Epoch 2/10\n",
            "625/625 [==============================] - 13s 22ms/step - loss: 0.0829 - accuracy: 0.9745\n",
            "Epoch 3/10\n",
            "625/625 [==============================] - 13s 21ms/step - loss: 0.0574 - accuracy: 0.9819\n",
            "Epoch 4/10\n",
            "625/625 [==============================] - 13s 22ms/step - loss: 0.0444 - accuracy: 0.9862\n",
            "Epoch 5/10\n",
            "625/625 [==============================] - 13s 21ms/step - loss: 0.0344 - accuracy: 0.9898\n",
            "Epoch 6/10\n",
            "625/625 [==============================] - 13s 21ms/step - loss: 0.0293 - accuracy: 0.9905\n",
            "Epoch 7/10\n",
            "625/625 [==============================] - 13s 21ms/step - loss: 0.0221 - accuracy: 0.9931\n",
            "Epoch 8/10\n",
            "625/625 [==============================] - 13s 21ms/step - loss: 0.0182 - accuracy: 0.9941\n",
            "Epoch 9/10\n",
            "625/625 [==============================] - 13s 21ms/step - loss: 0.0145 - accuracy: 0.9958\n",
            "Epoch 10/10\n",
            "625/625 [==============================] - 13s 22ms/step - loss: 0.0119 - accuracy: 0.9959\n"
          ],
          "name": "stdout"
        },
        {
          "output_type": "execute_result",
          "data": {
            "text/plain": [
              "<tensorflow.python.keras.callbacks.History at 0x7fcc99c05898>"
            ]
          },
          "metadata": {
            "tags": []
          },
          "execution_count": 21
        }
      ]
    },
    {
      "cell_type": "code",
      "metadata": {
        "id": "dW78RgVU0TXE",
        "colab_type": "code",
        "colab": {
          "base_uri": "https://localhost:8080/",
          "height": 399
        },
        "outputId": "e79dd060-92e1-4731-d49d-368d237bea89"
      },
      "source": [
        "model=Sequential()\n",
        "model.add(Conv2D(32,(3,3),activation='relu',input_shape=(28,28,1),strides=(1,1),padding='same'))\n",
        "model.add(MaxPooling2D((2,2),strides=(2,2)))\n",
        "model.add(Conv2D(64,(3,3),activation='relu'))\n",
        "model.add(MaxPooling2D((2,2),strides=(2,2)))\n",
        "\n",
        "model.add(Flatten())\n",
        "model.add(Dense(10,activation='softmax'))\n",
        "\n",
        "model.compile(loss=\"sparse_categorical_crossentropy\",optimizer=\"adam\",metrics=['accuracy'])\n",
        "model.fit(X_train.reshape(20000,28,28,1),y,epochs=10)"
      ],
      "execution_count": 37,
      "outputs": [
        {
          "output_type": "stream",
          "text": [
            "Epoch 1/10\n",
            "625/625 [==============================] - 16s 26ms/step - loss: 0.2745 - accuracy: 0.9165\n",
            "Epoch 2/10\n",
            "625/625 [==============================] - 16s 26ms/step - loss: 0.0849 - accuracy: 0.9744\n",
            "Epoch 3/10\n",
            "625/625 [==============================] - 16s 25ms/step - loss: 0.0583 - accuracy: 0.9812\n",
            "Epoch 4/10\n",
            "625/625 [==============================] - 16s 26ms/step - loss: 0.0428 - accuracy: 0.9868\n",
            "Epoch 5/10\n",
            "625/625 [==============================] - 16s 25ms/step - loss: 0.0333 - accuracy: 0.9891\n",
            "Epoch 6/10\n",
            "625/625 [==============================] - 16s 25ms/step - loss: 0.0270 - accuracy: 0.9912\n",
            "Epoch 7/10\n",
            "625/625 [==============================] - 16s 25ms/step - loss: 0.0197 - accuracy: 0.9936\n",
            "Epoch 8/10\n",
            "625/625 [==============================] - 16s 25ms/step - loss: 0.0161 - accuracy: 0.9945\n",
            "Epoch 9/10\n",
            "625/625 [==============================] - 16s 25ms/step - loss: 0.0127 - accuracy: 0.9959\n",
            "Epoch 10/10\n",
            "625/625 [==============================] - 16s 25ms/step - loss: 0.0112 - accuracy: 0.9963\n"
          ],
          "name": "stdout"
        },
        {
          "output_type": "execute_result",
          "data": {
            "text/plain": [
              "<tensorflow.python.keras.callbacks.History at 0x7fcc8ea704a8>"
            ]
          },
          "metadata": {
            "tags": []
          },
          "execution_count": 37
        }
      ]
    },
    {
      "cell_type": "code",
      "metadata": {
        "id": "F5bLCqOx1r2W",
        "colab_type": "code",
        "colab": {
          "base_uri": "https://localhost:8080/",
          "height": 399
        },
        "outputId": "fee873e2-697b-482e-bdfd-35873d542a99"
      },
      "source": [
        "model=Sequential()\n",
        "model.add(Conv2D(32,(3,3),activation='relu',input_shape=(28,28,1),strides=(1,1)))\n",
        "model.add(MaxPooling2D((2,2),strides=(2,2)))\n",
        "model.add(Conv2D(64,(3,3),activation='relu'))\n",
        "model.add(MaxPooling2D((2,2),strides=(2,2)))\n",
        "\n",
        "model.add(Flatten())\n",
        "model.add(Dense(100,activation='relu'))\n",
        "model.add(Dense(10,activation='softmax'))\n",
        "\n",
        "model.compile(loss=\"sparse_categorical_crossentropy\",optimizer=\"adam\",metrics=['accuracy'])\n",
        "model.fit(X_train.reshape(20000,28,28,1),y,epochs=10)"
      ],
      "execution_count": 41,
      "outputs": [
        {
          "output_type": "stream",
          "text": [
            "Epoch 1/10\n",
            "625/625 [==============================] - 14s 23ms/step - loss: 0.2521 - accuracy: 0.9258\n",
            "Epoch 2/10\n",
            "625/625 [==============================] - 14s 22ms/step - loss: 0.0678 - accuracy: 0.9794\n",
            "Epoch 3/10\n",
            "625/625 [==============================] - 14s 22ms/step - loss: 0.0481 - accuracy: 0.9842\n",
            "Epoch 4/10\n",
            "625/625 [==============================] - 14s 22ms/step - loss: 0.0332 - accuracy: 0.9896\n",
            "Epoch 5/10\n",
            "625/625 [==============================] - 14s 23ms/step - loss: 0.0254 - accuracy: 0.9920\n",
            "Epoch 6/10\n",
            "625/625 [==============================] - 14s 23ms/step - loss: 0.0166 - accuracy: 0.9944\n",
            "Epoch 7/10\n",
            "625/625 [==============================] - 14s 22ms/step - loss: 0.0143 - accuracy: 0.9953\n",
            "Epoch 8/10\n",
            "625/625 [==============================] - 14s 22ms/step - loss: 0.0110 - accuracy: 0.9966\n",
            "Epoch 9/10\n",
            "625/625 [==============================] - 14s 22ms/step - loss: 0.0123 - accuracy: 0.9956\n",
            "Epoch 10/10\n",
            "625/625 [==============================] - 14s 22ms/step - loss: 0.0109 - accuracy: 0.9967\n"
          ],
          "name": "stdout"
        },
        {
          "output_type": "execute_result",
          "data": {
            "text/plain": [
              "<tensorflow.python.keras.callbacks.History at 0x7fcc8e1f02e8>"
            ]
          },
          "metadata": {
            "tags": []
          },
          "execution_count": 41
        }
      ]
    },
    {
      "cell_type": "code",
      "metadata": {
        "id": "qx7qkpK5qJKm",
        "colab_type": "code",
        "colab": {
          "base_uri": "https://localhost:8080/",
          "height": 54
        },
        "outputId": "4e671678-abfe-4bbf-8511-5c97169aef54"
      },
      "source": [
        "dff=pd.read_csv(\"sample_data/mnist_test.csv\",header=None)\n",
        "X=dff.iloc[:,1:].values\n",
        "y=dff.iloc[:,0].values\n",
        "\n",
        "X_test=X/255.0\n",
        "\n",
        "model.evaluate(X_test.reshape(10000,28,28,1),y)"
      ],
      "execution_count": 42,
      "outputs": [
        {
          "output_type": "stream",
          "text": [
            "313/313 [==============================] - 2s 7ms/step - loss: 0.0480 - accuracy: 0.9862\n"
          ],
          "name": "stdout"
        },
        {
          "output_type": "execute_result",
          "data": {
            "text/plain": [
              "[0.04803580045700073, 0.9861999750137329]"
            ]
          },
          "metadata": {
            "tags": []
          },
          "execution_count": 42
        }
      ]
    },
    {
      "cell_type": "code",
      "metadata": {
        "id": "HE9-LKVesJZH",
        "colab_type": "code",
        "colab": {
          "base_uri": "https://localhost:8080/",
          "height": 35
        },
        "outputId": "8d43e62f-d379-490c-e7c6-ba78eabc5378"
      },
      "source": [
        "import cv2\n",
        "import numpy as np\n",
        "img=cv2.imread('8.png',0)\n",
        "img=img.reshape(1,28,28,1)\n",
        "img=img/255.0\n",
        "np.argmax(model.predict(img),axis=-1)"
      ],
      "execution_count": 44,
      "outputs": [
        {
          "output_type": "execute_result",
          "data": {
            "text/plain": [
              "array([8])"
            ]
          },
          "metadata": {
            "tags": []
          },
          "execution_count": 44
        }
      ]
    },
    {
      "cell_type": "code",
      "metadata": {
        "id": "tJVYWWFSycah",
        "colab_type": "code",
        "colab": {}
      },
      "source": [
        ""
      ],
      "execution_count": null,
      "outputs": []
    }
  ]
}