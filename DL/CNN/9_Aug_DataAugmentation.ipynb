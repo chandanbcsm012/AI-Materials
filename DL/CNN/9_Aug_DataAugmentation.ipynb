{
  "nbformat": 4,
  "nbformat_minor": 0,
  "metadata": {
    "colab": {
      "name": "9_Aug_DataAugmentation.ipynb",
      "provenance": [],
      "collapsed_sections": []
    },
    "kernelspec": {
      "name": "python3",
      "display_name": "Python 3"
    },
    "accelerator": "GPU"
  },
  "cells": [
    {
      "cell_type": "code",
      "metadata": {
        "id": "I19BvSXcavQL",
        "colab_type": "code",
        "colab": {}
      },
      "source": [
        "from tensorflow.keras.preprocessing.image import ImageDataGenerator,load_img,img_to_array"
      ],
      "execution_count": null,
      "outputs": []
    },
    {
      "cell_type": "code",
      "metadata": {
        "id": "pqO4UiO2b3RJ",
        "colab_type": "code",
        "colab": {
          "base_uri": "https://localhost:8080/",
          "height": 1000
        },
        "outputId": "8b6e9e12-6e05-4d98-c7a2-7bfee01fe03d"
      },
      "source": [
        "gen=ImageDataGenerator(width_shift_range=.2,height_shift_range=.2,vertical_flip=True,horizontal_flip=True,rotation_range=45)\n",
        "itr=gen.flow_from_directory(\"drive/My Drive/images/myimages\",target_size=(100,100),save_to_dir=\"drive/My Drive/aug_images\",save_prefix='dog',save_format='png',batch_size=2)\n",
        "itr.next()\n",
        "itr.next()\n",
        "itr.next()\n",
        "itr.next()\n",
        "itr.next()\n"
      ],
      "execution_count": null,
      "outputs": [
        {
          "output_type": "stream",
          "text": [
            "Found 2 images belonging to 2 classes.\n"
          ],
          "name": "stdout"
        },
        {
          "output_type": "execute_result",
          "data": {
            "text/plain": [
              "(array([[[[255.      , 255.      , 255.      ],\n",
              "          [255.      , 255.      , 255.      ],\n",
              "          [255.      , 255.      , 255.      ],\n",
              "          ...,\n",
              "          [255.      , 255.      , 255.      ],\n",
              "          [255.      , 255.      , 255.      ],\n",
              "          [255.      , 255.      , 255.      ]],\n",
              " \n",
              "         [[255.      , 255.      , 255.      ],\n",
              "          [255.      , 255.      , 255.      ],\n",
              "          [255.      , 255.      , 255.      ],\n",
              "          ...,\n",
              "          [255.      , 255.      , 255.      ],\n",
              "          [255.      , 255.      , 255.      ],\n",
              "          [255.      , 255.      , 255.      ]],\n",
              " \n",
              "         [[255.      , 255.      , 255.      ],\n",
              "          [255.      , 255.      , 255.      ],\n",
              "          [255.      , 255.      , 255.      ],\n",
              "          ...,\n",
              "          [255.      , 255.      , 255.      ],\n",
              "          [255.      , 255.      , 255.      ],\n",
              "          [255.      , 255.      , 255.      ]],\n",
              " \n",
              "         ...,\n",
              " \n",
              "         [[255.      , 255.      , 255.      ],\n",
              "          [255.      , 255.      , 255.      ],\n",
              "          [255.      , 255.      , 255.      ],\n",
              "          ...,\n",
              "          [255.      , 255.      , 255.      ],\n",
              "          [255.      , 255.      , 255.      ],\n",
              "          [255.      , 255.      , 255.      ]],\n",
              " \n",
              "         [[255.      , 255.      , 255.      ],\n",
              "          [255.      , 255.      , 255.      ],\n",
              "          [255.      , 255.      , 255.      ],\n",
              "          ...,\n",
              "          [255.      , 255.      , 255.      ],\n",
              "          [255.      , 255.      , 255.      ],\n",
              "          [255.      , 255.      , 255.      ]],\n",
              " \n",
              "         [[255.      , 255.      , 255.      ],\n",
              "          [255.      , 255.      , 255.      ],\n",
              "          [255.      , 255.      , 255.      ],\n",
              "          ...,\n",
              "          [255.      , 255.      , 255.      ],\n",
              "          [255.      , 255.      , 255.      ],\n",
              "          [255.      , 255.      , 255.      ]]],\n",
              " \n",
              " \n",
              "        [[[ 33.296352,  32.592705,  40.148174],\n",
              "          [ 34.488266,  35.872066,  40.6162  ],\n",
              "          [ 30.784616,  34.78462 ,  37.569233],\n",
              "          ...,\n",
              "          [182.8195  , 195.8195  , 201.8195  ],\n",
              "          [182.41914 , 195.41914 , 201.41914 ],\n",
              "          [182.01877 , 195.01877 , 201.01877 ]],\n",
              " \n",
              "         [[ 33.468098,  32.364075,  40.41609 ],\n",
              "          [ 34.855495,  35.710987,  40.927746],\n",
              "          [ 31.36998 ,  35.092495,  38.277485],\n",
              "          ...,\n",
              "          [180.71999 , 193.71999 , 199.71999 ],\n",
              "          [179.91925 , 192.91925 , 198.91925 ],\n",
              "          [179.1185  , 192.1185  , 198.1185  ]],\n",
              " \n",
              "         [[ 35.269775,  33.76538 ,  42.01758 ],\n",
              "          [ 34.45512 ,  34.91024 ,  40.727562],\n",
              "          [ 32.170727,  35.292683,  38.878044],\n",
              "          ...,\n",
              "          [176.90048 , 189.90048 , 195.90048 ],\n",
              "          [176.5001  , 189.5001  , 195.5001  ],\n",
              "          [176.09973 , 189.09973 , 195.09973 ]],\n",
              " \n",
              "         ...,\n",
              " \n",
              "         [[172.29135 , 185.29135 , 191.29135 ],\n",
              "          [177.06001 , 190.06001 , 196.06001 ],\n",
              "          [181.20415 , 194.20415 , 200.20415 ],\n",
              "          ...,\n",
              "          [186.13625 , 199.13625 , 207.13625 ],\n",
              "          [182.94603 , 195.94603 , 203.94603 ],\n",
              "          [181.41862 , 194.41862 , 202.41862 ]],\n",
              " \n",
              "         [[174.8771  , 187.8771  , 193.8771  ],\n",
              "          [180.42911 , 193.42911 , 199.42911 ],\n",
              "          [182.5578  , 195.5578  , 201.5578  ],\n",
              "          ...,\n",
              "          [185.82103 , 198.82103 , 206.82103 ],\n",
              "          [181.93422 , 194.93422 , 202.93422 ],\n",
              "          [178.98624 , 191.98624 , 199.98624 ]],\n",
              " \n",
              "         [[176.75516 , 189.75516 , 195.75516 ],\n",
              "          [183.17383 , 196.17383 , 202.17383 ],\n",
              "          [183.72586 , 196.72586 , 202.72586 ],\n",
              "          ...,\n",
              "          [185.6022  , 198.6022  , 206.6022  ],\n",
              "          [182.68819 , 195.68819 , 203.68819 ],\n",
              "          [179.45992 , 192.45992 , 200.45992 ]]]], dtype=float32),\n",
              " array([[0., 1.],\n",
              "        [0., 1.]], dtype=float32))"
            ]
          },
          "metadata": {
            "tags": []
          },
          "execution_count": 17
        }
      ]
    },
    {
      "cell_type": "code",
      "metadata": {
        "id": "SreKAiJ-geiQ",
        "colab_type": "code",
        "colab": {
          "base_uri": "https://localhost:8080/",
          "height": 35
        },
        "outputId": "33aae10b-beda-4fda-dc13-e22e95e63e2f"
      },
      "source": [
        "gen=ImageDataGenerator(width_shift_range=.2,height_shift_range=.2,vertical_flip=True,horizontal_flip=True,rotation_range=45)\n",
        "img=img_to_array(load_img(\"drive/My Drive/images/cat.jfif\"))\n",
        "#img=img.reshape(1,img.shape[0],img.shape[1],img.shape[2])\n",
        "img=img.reshape((1,) + img.shape)\n",
        "img.shape"
      ],
      "execution_count": null,
      "outputs": [
        {
          "output_type": "execute_result",
          "data": {
            "text/plain": [
              "(1, 194, 259, 3)"
            ]
          },
          "metadata": {
            "tags": []
          },
          "execution_count": 22
        }
      ]
    },
    {
      "cell_type": "code",
      "metadata": {
        "id": "ciliMStFvVop",
        "colab_type": "code",
        "colab": {
          "base_uri": "https://localhost:8080/",
          "height": 908
        },
        "outputId": "b92c4296-1e56-46ef-b4a7-70dabe5f1ec9"
      },
      "source": [
        "itr=gen.flow(img,save_to_dir=\"drive/My Drive/flow_images\",save_prefix='cat',save_format='png',batch_size=1)\n",
        "itr.next()\n",
        "itr.next()\n",
        "itr.next()\n",
        "itr.next()\n",
        "itr.next()\n"
      ],
      "execution_count": null,
      "outputs": [
        {
          "output_type": "execute_result",
          "data": {
            "text/plain": [
              "array([[[[255., 255., 255.],\n",
              "         [255., 255., 255.],\n",
              "         [255., 255., 255.],\n",
              "         ...,\n",
              "         [255., 255., 255.],\n",
              "         [255., 255., 255.],\n",
              "         [255., 255., 255.]],\n",
              "\n",
              "        [[255., 255., 255.],\n",
              "         [255., 255., 255.],\n",
              "         [255., 255., 255.],\n",
              "         ...,\n",
              "         [255., 255., 255.],\n",
              "         [255., 255., 255.],\n",
              "         [255., 255., 255.]],\n",
              "\n",
              "        [[255., 255., 255.],\n",
              "         [255., 255., 255.],\n",
              "         [255., 255., 255.],\n",
              "         ...,\n",
              "         [255., 255., 255.],\n",
              "         [255., 255., 255.],\n",
              "         [255., 255., 255.]],\n",
              "\n",
              "        ...,\n",
              "\n",
              "        [[255., 255., 255.],\n",
              "         [255., 255., 255.],\n",
              "         [255., 255., 255.],\n",
              "         ...,\n",
              "         [255., 255., 255.],\n",
              "         [255., 255., 255.],\n",
              "         [255., 255., 255.]],\n",
              "\n",
              "        [[255., 255., 255.],\n",
              "         [255., 255., 255.],\n",
              "         [255., 255., 255.],\n",
              "         ...,\n",
              "         [255., 255., 255.],\n",
              "         [255., 255., 255.],\n",
              "         [255., 255., 255.]],\n",
              "\n",
              "        [[255., 255., 255.],\n",
              "         [255., 255., 255.],\n",
              "         [255., 255., 255.],\n",
              "         ...,\n",
              "         [255., 255., 255.],\n",
              "         [255., 255., 255.],\n",
              "         [255., 255., 255.]]]], dtype=float32)"
            ]
          },
          "metadata": {
            "tags": []
          },
          "execution_count": 23
        }
      ]
    },
    {
      "cell_type": "code",
      "metadata": {
        "id": "YMjQ4tbovw_s",
        "colab_type": "code",
        "colab": {}
      },
      "source": [
        ""
      ],
      "execution_count": null,
      "outputs": []
    }
  ]
}