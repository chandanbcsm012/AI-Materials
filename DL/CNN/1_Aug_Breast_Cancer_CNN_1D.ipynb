{
 "cells": [
  {
   "cell_type": "code",
   "execution_count": 23,
   "metadata": {
    "colab": {},
    "colab_type": "code",
    "id": "OvLgFtLGvG5p"
   },
   "outputs": [],
   "source": [
    "from tensorflow.keras.models import Sequential\n",
    "from tensorflow.keras.layers import Dense,Dropout,Flatten,Conv1D,MaxPooling1D\n",
    "from sklearn.datasets import load_breast_cancer\n",
    "from sklearn.model_selection import train_test_split\n",
    "import tensorflow as tf\n",
    "import numpy as np\n",
    "from sklearn.linear_model import  LogisticRegression"
   ]
  },
  {
   "cell_type": "code",
   "execution_count": 24,
   "metadata": {
    "colab": {
     "base_uri": "https://localhost:8080/",
     "height": 35
    },
    "colab_type": "code",
    "id": "_LumvIZRvX1Z",
    "outputId": "b4c51791-e0e0-4463-a042-03626a2b1576"
   },
   "outputs": [
    {
     "data": {
      "text/plain": [
       "(569, 30)"
      ]
     },
     "execution_count": 24,
     "metadata": {
      "tags": []
     },
     "output_type": "execute_result"
    }
   ],
   "source": [
    "cancer=load_breast_cancer()\n",
    "X=cancer['data']\n",
    "y=cancer['target']\n",
    "\n",
    "X_train,X_test,y_train,y_test=train_test_split(X,y,random_state=10)\n",
    "X.shape"
   ]
  },
  {
   "cell_type": "code",
   "execution_count": 25,
   "metadata": {
    "colab": {
     "base_uri": "https://localhost:8080/",
     "height": 54
    },
    "colab_type": "code",
    "id": "lF80Pq-MvkPd",
    "outputId": "b00666cc-8912-4a17-d015-8c89d8e1512e"
   },
   "outputs": [
    {
     "name": "stdout",
     "output_type": "stream",
     "text": [
      "Training Score: 0.9671361502347418\n",
      "Training Score: 0.9440559440559441\n"
     ]
    }
   ],
   "source": [
    "lr=LogisticRegression(max_iter=20000)\n",
    "lr.fit(X_train,y_train)\n",
    "print(\"Training Score:\",lr.score(X_train,y_train))\n",
    "print(\"Training Score:\",lr.score(X_test,y_test))\n"
   ]
  },
  {
   "cell_type": "code",
   "execution_count": 26,
   "metadata": {
    "colab": {
     "base_uri": "https://localhost:8080/",
     "height": 1000
    },
    "colab_type": "code",
    "id": "pupZ1EyswHwB",
    "outputId": "55745e04-8bb8-4e24-ae79-f8269ac56bb4"
   },
   "outputs": [
    {
     "name": "stdout",
     "output_type": "stream",
     "text": [
      "Epoch 1/100\n",
      "14/14 [==============================] - 0s 4ms/step - loss: 4.9468 - accuracy: 0.5141\n",
      "Epoch 2/100\n",
      "14/14 [==============================] - 0s 4ms/step - loss: 2.8732 - accuracy: 0.6103\n",
      "Epoch 3/100\n",
      "14/14 [==============================] - 0s 4ms/step - loss: 2.2076 - accuracy: 0.6761\n",
      "Epoch 4/100\n",
      "14/14 [==============================] - 0s 4ms/step - loss: 1.6489 - accuracy: 0.7653\n",
      "Epoch 5/100\n",
      "14/14 [==============================] - 0s 4ms/step - loss: 1.4889 - accuracy: 0.7934\n",
      "Epoch 6/100\n",
      "14/14 [==============================] - 0s 4ms/step - loss: 0.9768 - accuracy: 0.7981\n",
      "Epoch 7/100\n",
      "14/14 [==============================] - 0s 4ms/step - loss: 1.2306 - accuracy: 0.7911\n",
      "Epoch 8/100\n",
      "14/14 [==============================] - 0s 4ms/step - loss: 0.8591 - accuracy: 0.8239\n",
      "Epoch 9/100\n",
      "14/14 [==============================] - 0s 4ms/step - loss: 0.8080 - accuracy: 0.8357\n",
      "Epoch 10/100\n",
      "14/14 [==============================] - 0s 5ms/step - loss: 0.7236 - accuracy: 0.8427\n",
      "Epoch 11/100\n",
      "14/14 [==============================] - 0s 4ms/step - loss: 0.7046 - accuracy: 0.8451\n",
      "Epoch 12/100\n",
      "14/14 [==============================] - 0s 4ms/step - loss: 0.6446 - accuracy: 0.8474\n",
      "Epoch 13/100\n",
      "14/14 [==============================] - 0s 4ms/step - loss: 0.7860 - accuracy: 0.8333\n",
      "Epoch 14/100\n",
      "14/14 [==============================] - 0s 4ms/step - loss: 0.6557 - accuracy: 0.8521\n",
      "Epoch 15/100\n",
      "14/14 [==============================] - 0s 4ms/step - loss: 0.5006 - accuracy: 0.8568\n",
      "Epoch 16/100\n",
      "14/14 [==============================] - 0s 4ms/step - loss: 0.3835 - accuracy: 0.8685\n",
      "Epoch 17/100\n",
      "14/14 [==============================] - 0s 4ms/step - loss: 0.5083 - accuracy: 0.8685\n",
      "Epoch 18/100\n",
      "14/14 [==============================] - 0s 4ms/step - loss: 0.5141 - accuracy: 0.8685\n",
      "Epoch 19/100\n",
      "14/14 [==============================] - 0s 4ms/step - loss: 0.4381 - accuracy: 0.8826\n",
      "Epoch 20/100\n",
      "14/14 [==============================] - 0s 4ms/step - loss: 0.5331 - accuracy: 0.8592\n",
      "Epoch 21/100\n",
      "14/14 [==============================] - 0s 4ms/step - loss: 0.5982 - accuracy: 0.8451\n",
      "Epoch 22/100\n",
      "14/14 [==============================] - 0s 4ms/step - loss: 0.4144 - accuracy: 0.9038\n",
      "Epoch 23/100\n",
      "14/14 [==============================] - 0s 4ms/step - loss: 0.4637 - accuracy: 0.8685\n",
      "Epoch 24/100\n",
      "14/14 [==============================] - 0s 4ms/step - loss: 0.4454 - accuracy: 0.8826\n",
      "Epoch 25/100\n",
      "14/14 [==============================] - 0s 4ms/step - loss: 0.5139 - accuracy: 0.8568\n",
      "Epoch 26/100\n",
      "14/14 [==============================] - 0s 4ms/step - loss: 0.2883 - accuracy: 0.8873\n",
      "Epoch 27/100\n",
      "14/14 [==============================] - 0s 4ms/step - loss: 0.2825 - accuracy: 0.9014\n",
      "Epoch 28/100\n",
      "14/14 [==============================] - 0s 4ms/step - loss: 0.2409 - accuracy: 0.9249\n",
      "Epoch 29/100\n",
      "14/14 [==============================] - 0s 4ms/step - loss: 0.2453 - accuracy: 0.8944\n",
      "Epoch 30/100\n",
      "14/14 [==============================] - 0s 4ms/step - loss: 0.2454 - accuracy: 0.9085\n",
      "Epoch 31/100\n",
      "14/14 [==============================] - 0s 4ms/step - loss: 0.2672 - accuracy: 0.9038\n",
      "Epoch 32/100\n",
      "14/14 [==============================] - 0s 4ms/step - loss: 0.3008 - accuracy: 0.8897\n",
      "Epoch 33/100\n",
      "14/14 [==============================] - 0s 4ms/step - loss: 0.2800 - accuracy: 0.8967\n",
      "Epoch 34/100\n",
      "14/14 [==============================] - 0s 4ms/step - loss: 0.2684 - accuracy: 0.9014\n",
      "Epoch 35/100\n",
      "14/14 [==============================] - 0s 4ms/step - loss: 0.2245 - accuracy: 0.8991\n",
      "Epoch 36/100\n",
      "14/14 [==============================] - 0s 4ms/step - loss: 0.2114 - accuracy: 0.9085\n",
      "Epoch 37/100\n",
      "14/14 [==============================] - 0s 4ms/step - loss: 0.2254 - accuracy: 0.9131\n",
      "Epoch 38/100\n",
      "14/14 [==============================] - 0s 4ms/step - loss: 0.2921 - accuracy: 0.8944\n",
      "Epoch 39/100\n",
      "14/14 [==============================] - 0s 5ms/step - loss: 0.2378 - accuracy: 0.9014\n",
      "Epoch 40/100\n",
      "14/14 [==============================] - 0s 4ms/step - loss: 0.1869 - accuracy: 0.9155\n",
      "Epoch 41/100\n",
      "14/14 [==============================] - 0s 5ms/step - loss: 0.1976 - accuracy: 0.9225\n",
      "Epoch 42/100\n",
      "14/14 [==============================] - 0s 4ms/step - loss: 0.1674 - accuracy: 0.9319\n",
      "Epoch 43/100\n",
      "14/14 [==============================] - 0s 4ms/step - loss: 0.3189 - accuracy: 0.8732\n",
      "Epoch 44/100\n",
      "14/14 [==============================] - 0s 4ms/step - loss: 0.2316 - accuracy: 0.8991\n",
      "Epoch 45/100\n",
      "14/14 [==============================] - 0s 4ms/step - loss: 0.1685 - accuracy: 0.9131\n",
      "Epoch 46/100\n",
      "14/14 [==============================] - 0s 4ms/step - loss: 0.1412 - accuracy: 0.9366\n",
      "Epoch 47/100\n",
      "14/14 [==============================] - 0s 4ms/step - loss: 0.1434 - accuracy: 0.9296\n",
      "Epoch 48/100\n",
      "14/14 [==============================] - 0s 4ms/step - loss: 0.1479 - accuracy: 0.9413\n",
      "Epoch 49/100\n",
      "14/14 [==============================] - 0s 4ms/step - loss: 0.1807 - accuracy: 0.9272\n",
      "Epoch 50/100\n",
      "14/14 [==============================] - 0s 5ms/step - loss: 0.1532 - accuracy: 0.9484\n",
      "Epoch 51/100\n",
      "14/14 [==============================] - 0s 4ms/step - loss: 0.1507 - accuracy: 0.9319\n",
      "Epoch 52/100\n",
      "14/14 [==============================] - 0s 4ms/step - loss: 0.1645 - accuracy: 0.9296\n",
      "Epoch 53/100\n",
      "14/14 [==============================] - 0s 4ms/step - loss: 0.1307 - accuracy: 0.9437\n",
      "Epoch 54/100\n",
      "14/14 [==============================] - 0s 4ms/step - loss: 0.1392 - accuracy: 0.9390\n",
      "Epoch 55/100\n",
      "14/14 [==============================] - 0s 4ms/step - loss: 0.1302 - accuracy: 0.9413\n",
      "Epoch 56/100\n",
      "14/14 [==============================] - 0s 4ms/step - loss: 0.1644 - accuracy: 0.9390\n",
      "Epoch 57/100\n",
      "14/14 [==============================] - 0s 4ms/step - loss: 0.1444 - accuracy: 0.9413\n",
      "Epoch 58/100\n",
      "14/14 [==============================] - 0s 4ms/step - loss: 0.1242 - accuracy: 0.9484\n",
      "Epoch 59/100\n",
      "14/14 [==============================] - 0s 4ms/step - loss: 0.1290 - accuracy: 0.9437\n",
      "Epoch 60/100\n",
      "14/14 [==============================] - 0s 4ms/step - loss: 0.1607 - accuracy: 0.9343\n",
      "Epoch 61/100\n",
      "14/14 [==============================] - 0s 4ms/step - loss: 0.1418 - accuracy: 0.9460\n",
      "Epoch 62/100\n",
      "14/14 [==============================] - 0s 4ms/step - loss: 0.1387 - accuracy: 0.9390\n",
      "Epoch 63/100\n",
      "14/14 [==============================] - 0s 4ms/step - loss: 0.1368 - accuracy: 0.9390\n",
      "Epoch 64/100\n",
      "14/14 [==============================] - 0s 4ms/step - loss: 0.1782 - accuracy: 0.9178\n",
      "Epoch 65/100\n",
      "14/14 [==============================] - 0s 4ms/step - loss: 0.1358 - accuracy: 0.9460\n",
      "Epoch 66/100\n",
      "14/14 [==============================] - 0s 5ms/step - loss: 0.1235 - accuracy: 0.9531\n",
      "Epoch 67/100\n",
      "14/14 [==============================] - 0s 4ms/step - loss: 0.1301 - accuracy: 0.9507\n",
      "Epoch 68/100\n",
      "14/14 [==============================] - 0s 4ms/step - loss: 0.1114 - accuracy: 0.9648\n",
      "Epoch 69/100\n",
      "14/14 [==============================] - 0s 4ms/step - loss: 0.1486 - accuracy: 0.9296\n",
      "Epoch 70/100\n",
      "14/14 [==============================] - 0s 4ms/step - loss: 0.1174 - accuracy: 0.9507\n",
      "Epoch 71/100\n",
      "14/14 [==============================] - 0s 4ms/step - loss: 0.1137 - accuracy: 0.9507\n",
      "Epoch 72/100\n",
      "14/14 [==============================] - 0s 5ms/step - loss: 0.1034 - accuracy: 0.9601\n",
      "Epoch 73/100\n",
      "14/14 [==============================] - 0s 4ms/step - loss: 0.1288 - accuracy: 0.9390\n",
      "Epoch 74/100\n",
      "14/14 [==============================] - 0s 4ms/step - loss: 0.1190 - accuracy: 0.9460\n",
      "Epoch 75/100\n",
      "14/14 [==============================] - 0s 4ms/step - loss: 0.1338 - accuracy: 0.9484\n",
      "Epoch 76/100\n",
      "14/14 [==============================] - 0s 4ms/step - loss: 0.1742 - accuracy: 0.9343\n",
      "Epoch 77/100\n",
      "14/14 [==============================] - 0s 5ms/step - loss: 0.1321 - accuracy: 0.9531\n",
      "Epoch 78/100\n",
      "14/14 [==============================] - 0s 4ms/step - loss: 0.1959 - accuracy: 0.9155\n",
      "Epoch 79/100\n",
      "14/14 [==============================] - 0s 4ms/step - loss: 0.1336 - accuracy: 0.9437\n",
      "Epoch 80/100\n",
      "14/14 [==============================] - 0s 4ms/step - loss: 0.0991 - accuracy: 0.9601\n",
      "Epoch 81/100\n",
      "14/14 [==============================] - 0s 4ms/step - loss: 0.1314 - accuracy: 0.9413\n",
      "Epoch 82/100\n",
      "14/14 [==============================] - 0s 4ms/step - loss: 0.1133 - accuracy: 0.9577\n",
      "Epoch 83/100\n",
      "14/14 [==============================] - 0s 4ms/step - loss: 0.1144 - accuracy: 0.9601\n",
      "Epoch 84/100\n",
      "14/14 [==============================] - 0s 4ms/step - loss: 0.1050 - accuracy: 0.9648\n",
      "Epoch 85/100\n",
      "14/14 [==============================] - 0s 4ms/step - loss: 0.1117 - accuracy: 0.9484\n",
      "Epoch 86/100\n",
      "14/14 [==============================] - 0s 4ms/step - loss: 0.1377 - accuracy: 0.9507\n",
      "Epoch 87/100\n",
      "14/14 [==============================] - 0s 5ms/step - loss: 0.1366 - accuracy: 0.9390\n",
      "Epoch 88/100\n",
      "14/14 [==============================] - 0s 5ms/step - loss: 0.1192 - accuracy: 0.9554\n",
      "Epoch 89/100\n",
      "14/14 [==============================] - 0s 4ms/step - loss: 0.1214 - accuracy: 0.9484\n",
      "Epoch 90/100\n",
      "14/14 [==============================] - 0s 4ms/step - loss: 0.1371 - accuracy: 0.9460\n",
      "Epoch 91/100\n",
      "14/14 [==============================] - 0s 4ms/step - loss: 0.1076 - accuracy: 0.9624\n",
      "Epoch 92/100\n",
      "14/14 [==============================] - 0s 4ms/step - loss: 0.1078 - accuracy: 0.9577\n",
      "Epoch 93/100\n",
      "14/14 [==============================] - 0s 4ms/step - loss: 0.1073 - accuracy: 0.9601\n",
      "Epoch 94/100\n",
      "14/14 [==============================] - 0s 4ms/step - loss: 0.1027 - accuracy: 0.9648\n",
      "Epoch 95/100\n",
      "14/14 [==============================] - 0s 3ms/step - loss: 0.1168 - accuracy: 0.9484\n",
      "Epoch 96/100\n",
      "14/14 [==============================] - 0s 4ms/step - loss: 0.1075 - accuracy: 0.9577\n",
      "Epoch 97/100\n",
      "14/14 [==============================] - 0s 4ms/step - loss: 0.1012 - accuracy: 0.9577\n",
      "Epoch 98/100\n",
      "14/14 [==============================] - 0s 4ms/step - loss: 0.1135 - accuracy: 0.9437\n",
      "Epoch 99/100\n",
      "14/14 [==============================] - 0s 4ms/step - loss: 0.1003 - accuracy: 0.9648\n",
      "Epoch 100/100\n",
      "14/14 [==============================] - 0s 4ms/step - loss: 0.1063 - accuracy: 0.9554\n",
      "5/5 [==============================] - 0s 3ms/step - loss: 0.1092 - accuracy: 0.9580\n"
     ]
    },
    {
     "data": {
      "text/plain": [
       "[0.10916338860988617, 0.9580419659614563]"
      ]
     },
     "execution_count": 26,
     "metadata": {
      "tags": []
     },
     "output_type": "execute_result"
    }
   ],
   "source": [
    "model=Sequential()\n",
    "model.add(Conv1D(32,kernel_size=3,activation='relu',input_shape=(30,1)))\n",
    "model.add(Conv1D(64,kernel_size=3,activation='relu'))\n",
    "model.add(Flatten())\n",
    "model.add(Dropout(.1))\n",
    "model.add(Dense(1,activation=\"sigmoid\"))\n",
    "model.compile(optimizer=\"adam\",loss=\"binary_crossentropy\",metrics=['accuracy'])\n",
    "model.fit(X_train.reshape(-1,30,1),y_train,epochs=100)\n",
    "model.evaluate(X_test.reshape(-1,30,1),y_test)"
   ]
  },
  {
   "cell_type": "code",
   "execution_count": null,
   "metadata": {
    "colab": {},
    "colab_type": "code",
    "id": "t3sj1zU_xwUZ"
   },
   "outputs": [],
   "source": []
  }
 ],
 "metadata": {
  "accelerator": "GPU",
  "colab": {
   "collapsed_sections": [],
   "name": "1_Aug_Breast_Cancer_CNN_1D.ipynb",
   "provenance": []
  },
  "kernelspec": {
   "display_name": "Python 3",
   "language": "python",
   "name": "python3"
  },
  "language_info": {
   "codemirror_mode": {
    "name": "ipython",
    "version": 3
   },
   "file_extension": ".py",
   "mimetype": "text/x-python",
   "name": "python",
   "nbconvert_exporter": "python",
   "pygments_lexer": "ipython3",
   "version": "3.7.3"
  }
 },
 "nbformat": 4,
 "nbformat_minor": 4
}
