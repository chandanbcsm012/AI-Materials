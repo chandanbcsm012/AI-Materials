{
  "nbformat": 4,
  "nbformat_minor": 0,
  "metadata": {
    "colab": {
      "name": "1_aug_edge_detection.ipynb",
      "provenance": []
    },
    "kernelspec": {
      "name": "python3",
      "display_name": "Python 3"
    }
  },
  "cells": [
    {
      "cell_type": "code",
      "metadata": {
        "id": "JF8T_RCZpt_E",
        "colab_type": "code",
        "colab": {
          "base_uri": "https://localhost:8080/",
          "height": 45
        },
        "outputId": "85592e10-72d1-4544-a167-5c48fa320ad4"
      },
      "source": [
        "import cv2\n",
        "from google.colab.patches import cv2_imshow\n",
        "img=cv2.imread(\"3.png\",0)\n",
        "img=img.reshape(28,28)\n",
        "cv2_imshow(img)"
      ],
      "execution_count": 3,
      "outputs": [
        {
          "output_type": "display_data",
          "data": {
            "image/png": "[encoded data removed]",
            "text/plain": [
              "<PIL.Image.Image image mode=L size=28x28 at 0x7F7D5EC680F0>"
            ]
          },
          "metadata": {
            "tags": []
          }
        }
      ]
    },
    {
      "cell_type": "code",
      "metadata": {
        "id": "FeOPzKRBq5cB",
        "colab_type": "code",
        "colab": {}
      },
      "source": [
        "from scipy.signal import convolve2d"
      ],
      "execution_count": 4,
      "outputs": []
    },
    {
      "cell_type": "code",
      "metadata": {
        "id": "ypwKO5ifrxM7",
        "colab_type": "code",
        "colab": {
          "base_uri": "https://localhost:8080/",
          "height": 47
        },
        "outputId": "38f502a9-bf8c-45e5-998d-4708b4cca2c4"
      },
      "source": [
        "fmap=convolve2d(img,[[-1,-2,-1],[0,0,0],[1,2,1]])\n",
        "cv2_imshow(fmap)"
      ],
      "execution_count": 5,
      "outputs": [
        {
          "output_type": "display_data",
          "data": {
            "image/png": "[encoded data removed]",
            "text/plain": [
              "<PIL.Image.Image image mode=L size=30x30 at 0x7F7D544775F8>"
            ]
          },
          "metadata": {
            "tags": []
          }
        }
      ]
    },
    {
      "cell_type": "code",
      "metadata": {
        "id": "bG5RBALrsis5",
        "colab_type": "code",
        "colab": {
          "base_uri": "https://localhost:8080/",
          "height": 47
        },
        "outputId": "b779474e-b162-463c-85ea-971136ae9a9e"
      },
      "source": [
        "fmap=convolve2d(img,[[-1,0,1],[-2,0,2],[-1,0,1]])\n",
        "cv2_imshow(fmap)"
      ],
      "execution_count": 6,
      "outputs": [
        {
          "output_type": "display_data",
          "data": {
            "image/png": "[encoded data removed]",
            "text/plain": [
              "<PIL.Image.Image image mode=L size=30x30 at 0x7F7D54477FD0>"
            ]
          },
          "metadata": {
            "tags": []
          }
        }
      ]
    },
    {
      "cell_type": "code",
      "metadata": {
        "id": "cg6GHcZxswQV",
        "colab_type": "code",
        "colab": {
          "base_uri": "https://localhost:8080/",
          "height": 242
        },
        "outputId": "66139d42-5a13-4643-d06b-041b6242a8d0"
      },
      "source": [
        "img=cv2.imread(\"chair.jfif\",0)\n",
        "img=img.reshape(225,225)\n",
        "cv2_imshow(img)"
      ],
      "execution_count": 7,
      "outputs": [
        {
          "output_type": "display_data",
          "data": {
            "image/png": "[encoded data removed]",
            "text/plain": [
              "<PIL.Image.Image image mode=L size=225x225 at 0x7F7D54477C88>"
            ]
          },
          "metadata": {
            "tags": []
          }
        }
      ]
    },
    {
      "cell_type": "code",
      "metadata": {
        "id": "oNIL-o6utJ5j",
        "colab_type": "code",
        "colab": {
          "base_uri": "https://localhost:8080/",
          "height": 244
        },
        "outputId": "e9b266bb-ccae-4b95-873f-5ab9319237fd"
      },
      "source": [
        "fmap=convolve2d(img,[[-1,-2,-1],[0,0,0],[1,2,1]])\n",
        "cv2_imshow(fmap)"
      ],
      "execution_count": 8,
      "outputs": [
        {
          "output_type": "display_data",
          "data": {
            "image/png": "[encoded data removed]",
            "text/plain": [
              "<PIL.Image.Image image mode=L size=227x227 at 0x7F7D546D3C50>"
            ]
          },
          "metadata": {
            "tags": []
          }
        }
      ]
    },
    {
      "cell_type": "code",
      "metadata": {
        "id": "XpOlr3aptQWo",
        "colab_type": "code",
        "colab": {
          "base_uri": "https://localhost:8080/",
          "height": 244
        },
        "outputId": "b4534173-10ad-42ab-dd1b-e49a88bf969e"
      },
      "source": [
        "fmap=convolve2d(img,[[-1,0,1],[-2,0,2],[-1,0,1]])\n",
        "cv2_imshow(fmap)"
      ],
      "execution_count": 9,
      "outputs": [
        {
          "output_type": "display_data",
          "data": {
            "image/png": "[encoded data removed]",
            "text/plain": [
              "<PIL.Image.Image image mode=L size=227x227 at 0x7F7D546D3BA8>"
            ]
          },
          "metadata": {
            "tags": []
          }
        }
      ]
    },
    {
      "cell_type": "code",
      "metadata": {
        "id": "LfjnHwdOtWnw",
        "colab_type": "code",
        "colab": {
          "base_uri": "https://localhost:8080/",
          "height": 244
        },
        "outputId": "4dc42356-3e4e-413a-cc76-177b8675c775"
      },
      "source": [
        "conv_img=convolve2d(img,[[-1,-1,-1],[-1,8,-1],[-1,-1,-1]])\n",
        "cv2_imshow(conv_img)"
      ],
      "execution_count": 10,
      "outputs": [
        {
          "output_type": "display_data",
          "data": {
            "image/png": "[encoded data removed]",
            "text/plain": [
              "<PIL.Image.Image image mode=L size=227x227 at 0x7F7D685E5F98>"
            ]
          },
          "metadata": {
            "tags": []
          }
        }
      ]
    },
    {
      "cell_type": "code",
      "metadata": {
        "id": "dz4ydDtQtlmi",
        "colab_type": "code",
        "colab": {}
      },
      "source": [
        ""
      ],
      "execution_count": null,
      "outputs": []
    }
  ]
}