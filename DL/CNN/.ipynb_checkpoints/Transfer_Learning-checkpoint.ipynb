{
  "nbformat": 4,
  "nbformat_minor": 0,
  "metadata": {
    "colab": {
      "name": "Transfer_Learning.ipynb",
      "provenance": [],
      "collapsed_sections": []
    },
    "kernelspec": {
      "name": "python3",
      "display_name": "Python 3"
    },
    "accelerator": "GPU"
  },
  "cells": [
    {
      "cell_type": "code",
      "metadata": {
        "id": "I19BvSXcavQL",
        "colab_type": "code",
        "colab": {}
      },
      "source": [
        "from tensorflow.keras.applications.resnet import preprocess_input,decode_predictions,ResNet101\n",
        "from tensorflow.keras.applications.mobilenet import preprocess_input,decode_predictions,MobileNet\n",
        "from tensorflow.keras.preprocessing.image import ImageDataGenerator "
      ],
      "execution_count": 1,
      "outputs": []
    },
    {
      "cell_type": "code",
      "metadata": {
        "id": "pqO4UiO2b3RJ",
        "colab_type": "code",
        "colab": {}
      },
      "source": [
        "gen=ImageDataGenerator(preprocessing_function=preprocess_input)"
      ],
      "execution_count": 2,
      "outputs": []
    },
    {
      "cell_type": "code",
      "metadata": {
        "id": "tuPRgeF-p7Pc",
        "colab_type": "code",
        "colab": {
          "base_uri": "https://localhost:8080/",
          "height": 35
        },
        "outputId": "63d01a64-e57c-46e8-8dd0-5110535f2e1b"
      },
      "source": [
        "train_itr=gen.flow_from_directory(\"drive/My Drive/animals/train\",target_size=(224,224),color_mode='rgb',batch_size=32,class_mode='binary')"
      ],
      "execution_count": 3,
      "outputs": [
        {
          "output_type": "stream",
          "text": [
            "Found 197 images belonging to 3 classes.\n"
          ],
          "name": "stdout"
        }
      ]
    },
    {
      "cell_type": "code",
      "metadata": {
        "id": "Zk3YPC3dr_mg",
        "colab_type": "code",
        "colab": {
          "base_uri": "https://localhost:8080/",
          "height": 35
        },
        "outputId": "4453b812-d4b1-41b0-a63b-713d2ac94f64"
      },
      "source": [
        "'''\n",
        "X,y=train_itr.next()\n",
        "X,y=train_itr.next()\n",
        "X,y=train_itr.next()\n",
        "X,y=train_itr.next()\n",
        "X,y=train_itr.next()\n",
        "\n",
        "print(X.shape)\n",
        "print(y)\n",
        "'''\n",
        "\n",
        "\n"
      ],
      "execution_count": 46,
      "outputs": [
        {
          "output_type": "execute_result",
          "data": {
            "application/vnd.google.colaboratory.intrinsic+json": {
              "type": "string"
            },
            "text/plain": [
              "'\\nX,y=train_itr.next()\\nX,y=train_itr.next()\\nX,y=train_itr.next()\\nX,y=train_itr.next()\\nX,y=train_itr.next()\\n\\nprint(X.shape)\\nprint(y)\\n'"
            ]
          },
          "metadata": {
            "tags": []
          },
          "execution_count": 46
        }
      ]
    },
    {
      "cell_type": "code",
      "metadata": {
        "id": "2yDwUb8SvQav",
        "colab_type": "code",
        "colab": {
          "base_uri": "https://localhost:8080/",
          "height": 54
        },
        "outputId": "4924a91a-8ec9-4bae-8f8a-d1ef2274852e"
      },
      "source": [
        "base_model=ResNet101(weights='imagenet',include_top=False) #imports the mobilenet model and discards dense layer."
      ],
      "execution_count": 4,
      "outputs": [
        {
          "output_type": "stream",
          "text": [
            "Downloading data from https://storage.googleapis.com/tensorflow/keras-applications/resnet/resnet101_weights_tf_dim_ordering_tf_kernels_notop.h5\n",
            "171450368/171446536 [==============================] - 5s 0us/step\n"
          ],
          "name": "stdout"
        }
      ]
    },
    {
      "cell_type": "code",
      "metadata": {
        "id": "a5JKzYjMvrbs",
        "colab_type": "code",
        "colab": {}
      },
      "source": [
        "from tensorflow.keras.models import Model\n",
        "from tensorflow.keras.layers import Flatten,Dense,GlobalAveragePooling2D"
      ],
      "execution_count": 5,
      "outputs": []
    },
    {
      "cell_type": "code",
      "metadata": {
        "id": "X7gqHDydwLZo",
        "colab_type": "code",
        "colab": {
          "base_uri": "https://localhost:8080/",
          "height": 217
        },
        "outputId": "99f3170e-efd3-4ebd-be85-f23c8c11e746"
      },
      "source": [
        "\n",
        "my_model_input=base_model.output #last layer of model becomes output layer\n",
        "my_model_flat=GlobalAveragePooling2D()(my_model_input)\n",
        "my_model_h1=Dense(1024,activation='relu')(my_model_flat)\n",
        "my_model_h2=Dense(1024,activation='relu')(my_model_h1)\n",
        "\n",
        "my_model_out=Dense(3,activation='softmax')(my_model_h3)\n",
        "\n",
        "my_model=Model(inputs=base_model.input,outputs=my_model_out)\n",
        "\n",
        "for layer in my_model.layers:\n",
        "    layer.trainable=False\n",
        "\n",
        "my_model.compile(optimizer=\"adam\",loss=\"sparse_categorical_crossentropy\",metrics=['accuracy'])\n",
        "my_model.fit(train_itr,steps_per_epoch=6,epochs=5)"
      ],
      "execution_count": 13,
      "outputs": [
        {
          "output_type": "stream",
          "text": [
            "Epoch 1/5\n",
            "6/6 [==============================] - 2s 278ms/step - loss: 1.0042 - accuracy: 0.5394\n",
            "Epoch 2/5\n",
            "6/6 [==============================] - 2s 316ms/step - loss: 1.0071 - accuracy: 0.5417\n",
            "Epoch 3/5\n",
            "6/6 [==============================] - 2s 274ms/step - loss: 0.9931 - accuracy: 0.5576\n",
            "Epoch 4/5\n",
            "6/6 [==============================] - 2s 316ms/step - loss: 1.0084 - accuracy: 0.5365\n",
            "Epoch 5/5\n",
            "6/6 [==============================] - 2s 319ms/step - loss: 1.0057 - accuracy: 0.5417\n"
          ],
          "name": "stdout"
        },
        {
          "output_type": "execute_result",
          "data": {
            "text/plain": [
              "<tensorflow.python.keras.callbacks.History at 0x7f49f95cfbe0>"
            ]
          },
          "metadata": {
            "tags": []
          },
          "execution_count": 13
        }
      ]
    },
    {
      "cell_type": "code",
      "metadata": {
        "id": "NRwgoTJNcdL8",
        "colab_type": "code",
        "colab": {}
      },
      "source": [
        "from tensorflow.keras.preprocessing.image import load_img,img_to_array"
      ],
      "execution_count": null,
      "outputs": []
    },
    {
      "cell_type": "code",
      "metadata": {
        "id": "ldekMvTNeFBe",
        "colab_type": "code",
        "colab": {
          "base_uri": "https://localhost:8080/",
          "height": 72
        },
        "outputId": "2c15e806-05e9-4bb6-fb21-c3dd8e6c4665"
      },
      "source": [
        "img=img_to_array(load_img(\"drive/My Drive/images/dog.jpg\",target_size=(224,224),color_mode='rgb')).reshape(1,224,224,3)\n",
        "img_test=preprocess_input(img)\n",
        "pred=model.predict(img_test)\n",
        "decode_predictions(pred,top=3)"
      ],
      "execution_count": null,
      "outputs": [
        {
          "output_type": "execute_result",
          "data": {
            "text/plain": [
              "[[('n02111129', 'Leonberg', 0.32874307),\n",
              "  ('n02109047', 'Great_Dane', 0.24359131),\n",
              "  ('n02099601', 'golden_retriever', 0.07236922)]]"
            ]
          },
          "metadata": {
            "tags": []
          },
          "execution_count": 63
        }
      ]
    },
    {
      "cell_type": "code",
      "metadata": {
        "id": "SreKAiJ-geiQ",
        "colab_type": "code",
        "colab": {}
      },
      "source": [
        ""
      ],
      "execution_count": null,
      "outputs": []
    }
  ]
}