{
  "nbformat": 4,
  "nbformat_minor": 0,
  "metadata": {
    "colab": {
      "name": "9_Aug_Gender_prediction.ipynb",
      "provenance": [],
      "collapsed_sections": []
    },
    "kernelspec": {
      "name": "python3",
      "display_name": "Python 3"
    },
    "accelerator": "GPU"
  },
  "cells": [
    {
      "cell_type": "code",
      "metadata": {
        "id": "I19BvSXcavQL",
        "colab_type": "code",
        "colab": {}
      },
      "source": [
        "from tensorflow.keras.preprocessing.image import ImageDataGenerator \n",
        "from tensorflow.keras.models import Sequential\n",
        "from tensorflow.keras.layers import Flatten,Dense,Conv2D,MaxPooling2D,Dropout"
      ],
      "execution_count": 42,
      "outputs": []
    },
    {
      "cell_type": "code",
      "metadata": {
        "id": "pqO4UiO2b3RJ",
        "colab_type": "code",
        "colab": {
          "base_uri": "https://localhost:8080/",
          "height": 72
        },
        "outputId": "77fb7c0c-244a-485e-d2c0-78932afb9ba7"
      },
      "source": [
        "gen=ImageDataGenerator(rescale=1/255.0,rotation_range=90,vertical_flip=True,horizontal_flip=True)\n",
        "train_itr=gen.flow_from_directory(\"drive/My Drive/gender_training/train\",target_size=(90,90),color_mode='grayscale',batch_size=32,class_mode='binary')\n",
        "val_itr=gen.flow_from_directory(\"drive/My Drive/gender_training/val\",target_size=(90,90),color_mode='grayscale',batch_size=32,class_mode='binary')\n",
        "test_itr=gen.flow_from_directory(\"drive/My Drive/gender_training/test\",target_size=(90,90),color_mode='grayscale',batch_size=32,class_mode='binary')\n"
      ],
      "execution_count": 43,
      "outputs": [
        {
          "output_type": "stream",
          "text": [
            "Found 300 images belonging to 2 classes.\n",
            "Found 40 images belonging to 2 classes.\n",
            "Found 60 images belonging to 2 classes.\n"
          ],
          "name": "stdout"
        }
      ]
    },
    {
      "cell_type": "code",
      "metadata": {
        "id": "a5JKzYjMvrbs",
        "colab_type": "code",
        "colab": {
          "base_uri": "https://localhost:8080/",
          "height": 1000
        },
        "outputId": "b46c2cf3-9b47-4497-a971-6dabcec2721f"
      },
      "source": [
        "model=Sequential()\n",
        "model.add(Conv2D(32,(3,3),activation='relu',input_shape=(90,90,1)))\n",
        "model.add(MaxPooling2D())\n",
        "\n",
        "model.add(Conv2D(64,(3,3),activation='relu'))\n",
        "model.add(MaxPooling2D())\n",
        "\n",
        "\n",
        "model.add(Flatten())\n",
        "model.add(Dense(64,activation='relu'))\n",
        "model.add(Dense(32,activation='relu'))\n",
        "\n",
        "model.add(Dense(2,activation=\"softmax\"))\n",
        "model.compile(optimizer=\"adam\",loss=\"sparse_categorical_crossentropy\",metrics=['accuracy'])\n",
        "model.fit(train_itr,steps_per_epoch=10,epochs=40,validation_data=val_itr)"
      ],
      "execution_count": 55,
      "outputs": [
        {
          "output_type": "stream",
          "text": [
            "Epoch 1/40\n",
            "10/10 [==============================] - 1s 110ms/step - loss: 0.7148 - accuracy: 0.4867 - val_loss: 0.6747 - val_accuracy: 0.6750\n",
            "Epoch 2/40\n",
            "10/10 [==============================] - 1s 88ms/step - loss: 0.6378 - accuracy: 0.7567 - val_loss: 0.6082 - val_accuracy: 0.7000\n",
            "Epoch 3/40\n",
            "10/10 [==============================] - 1s 89ms/step - loss: 0.5168 - accuracy: 0.8133 - val_loss: 0.6157 - val_accuracy: 0.6750\n",
            "Epoch 4/40\n",
            "10/10 [==============================] - 1s 91ms/step - loss: 0.4778 - accuracy: 0.8000 - val_loss: 0.6747 - val_accuracy: 0.6000\n",
            "Epoch 5/40\n",
            "10/10 [==============================] - 1s 97ms/step - loss: 0.4424 - accuracy: 0.8133 - val_loss: 0.5083 - val_accuracy: 0.7500\n",
            "Epoch 6/40\n",
            "10/10 [==============================] - 1s 88ms/step - loss: 0.3888 - accuracy: 0.8200 - val_loss: 0.5164 - val_accuracy: 0.7250\n",
            "Epoch 7/40\n",
            "10/10 [==============================] - 1s 90ms/step - loss: 0.4078 - accuracy: 0.8367 - val_loss: 0.5388 - val_accuracy: 0.7750\n",
            "Epoch 8/40\n",
            "10/10 [==============================] - 1s 90ms/step - loss: 0.3911 - accuracy: 0.8333 - val_loss: 0.5743 - val_accuracy: 0.6250\n",
            "Epoch 9/40\n",
            "10/10 [==============================] - 1s 89ms/step - loss: 0.3736 - accuracy: 0.8267 - val_loss: 0.5025 - val_accuracy: 0.8000\n",
            "Epoch 10/40\n",
            "10/10 [==============================] - 1s 90ms/step - loss: 0.3796 - accuracy: 0.8433 - val_loss: 0.5750 - val_accuracy: 0.7250\n",
            "Epoch 11/40\n",
            "10/10 [==============================] - 1s 91ms/step - loss: 0.3858 - accuracy: 0.8433 - val_loss: 0.4727 - val_accuracy: 0.8000\n",
            "Epoch 12/40\n",
            "10/10 [==============================] - 1s 89ms/step - loss: 0.3730 - accuracy: 0.8500 - val_loss: 0.6063 - val_accuracy: 0.7500\n",
            "Epoch 13/40\n",
            "10/10 [==============================] - 1s 89ms/step - loss: 0.3639 - accuracy: 0.8400 - val_loss: 0.5919 - val_accuracy: 0.7500\n",
            "Epoch 14/40\n",
            "10/10 [==============================] - 1s 90ms/step - loss: 0.3515 - accuracy: 0.8533 - val_loss: 0.5253 - val_accuracy: 0.7500\n",
            "Epoch 15/40\n",
            "10/10 [==============================] - 1s 90ms/step - loss: 0.3627 - accuracy: 0.8500 - val_loss: 0.5766 - val_accuracy: 0.7000\n",
            "Epoch 16/40\n",
            "10/10 [==============================] - 1s 92ms/step - loss: 0.3750 - accuracy: 0.8433 - val_loss: 0.5258 - val_accuracy: 0.8000\n",
            "Epoch 17/40\n",
            "10/10 [==============================] - 1s 96ms/step - loss: 0.3734 - accuracy: 0.8467 - val_loss: 0.5017 - val_accuracy: 0.8000\n",
            "Epoch 18/40\n",
            "10/10 [==============================] - 1s 93ms/step - loss: 0.3627 - accuracy: 0.8500 - val_loss: 0.4701 - val_accuracy: 0.8250\n",
            "Epoch 19/40\n",
            "10/10 [==============================] - 1s 91ms/step - loss: 0.3433 - accuracy: 0.8567 - val_loss: 0.4889 - val_accuracy: 0.7750\n",
            "Epoch 20/40\n",
            "10/10 [==============================] - 1s 92ms/step - loss: 0.3443 - accuracy: 0.8567 - val_loss: 0.5060 - val_accuracy: 0.7500\n",
            "Epoch 21/40\n",
            "10/10 [==============================] - 1s 90ms/step - loss: 0.3231 - accuracy: 0.8667 - val_loss: 0.5072 - val_accuracy: 0.7750\n",
            "Epoch 22/40\n",
            "10/10 [==============================] - 1s 87ms/step - loss: 0.3566 - accuracy: 0.8600 - val_loss: 0.4497 - val_accuracy: 0.7750\n",
            "Epoch 23/40\n",
            "10/10 [==============================] - 1s 88ms/step - loss: 0.3432 - accuracy: 0.8667 - val_loss: 0.4068 - val_accuracy: 0.8250\n",
            "Epoch 24/40\n",
            "10/10 [==============================] - 1s 87ms/step - loss: 0.3440 - accuracy: 0.8633 - val_loss: 0.5700 - val_accuracy: 0.7500\n",
            "Epoch 25/40\n",
            "10/10 [==============================] - 1s 91ms/step - loss: 0.3584 - accuracy: 0.8600 - val_loss: 0.4292 - val_accuracy: 0.8500\n",
            "Epoch 26/40\n",
            "10/10 [==============================] - 1s 91ms/step - loss: 0.3254 - accuracy: 0.8600 - val_loss: 0.4805 - val_accuracy: 0.7750\n",
            "Epoch 27/40\n",
            "10/10 [==============================] - 1s 88ms/step - loss: 0.3354 - accuracy: 0.8667 - val_loss: 0.4924 - val_accuracy: 0.8000\n",
            "Epoch 28/40\n",
            "10/10 [==============================] - 1s 88ms/step - loss: 0.3120 - accuracy: 0.8767 - val_loss: 0.3710 - val_accuracy: 0.8500\n",
            "Epoch 29/40\n",
            "10/10 [==============================] - 1s 92ms/step - loss: 0.3066 - accuracy: 0.8867 - val_loss: 0.4643 - val_accuracy: 0.8250\n",
            "Epoch 30/40\n",
            "10/10 [==============================] - 1s 93ms/step - loss: 0.2850 - accuracy: 0.9033 - val_loss: 0.4576 - val_accuracy: 0.8250\n",
            "Epoch 31/40\n",
            "10/10 [==============================] - 1s 89ms/step - loss: 0.3174 - accuracy: 0.8933 - val_loss: 0.6100 - val_accuracy: 0.8000\n",
            "Epoch 32/40\n",
            "10/10 [==============================] - 1s 92ms/step - loss: 0.3083 - accuracy: 0.8833 - val_loss: 0.4773 - val_accuracy: 0.7750\n",
            "Epoch 33/40\n",
            "10/10 [==============================] - 1s 90ms/step - loss: 0.3128 - accuracy: 0.8700 - val_loss: 0.4741 - val_accuracy: 0.7750\n",
            "Epoch 34/40\n",
            "10/10 [==============================] - 1s 95ms/step - loss: 0.3066 - accuracy: 0.8733 - val_loss: 0.4580 - val_accuracy: 0.8000\n",
            "Epoch 35/40\n",
            "10/10 [==============================] - 1s 92ms/step - loss: 0.2888 - accuracy: 0.8933 - val_loss: 0.4607 - val_accuracy: 0.8000\n",
            "Epoch 36/40\n",
            "10/10 [==============================] - 1s 89ms/step - loss: 0.2786 - accuracy: 0.9067 - val_loss: 0.4820 - val_accuracy: 0.8000\n",
            "Epoch 37/40\n",
            "10/10 [==============================] - 1s 98ms/step - loss: 0.3189 - accuracy: 0.8700 - val_loss: 0.5027 - val_accuracy: 0.8000\n",
            "Epoch 38/40\n",
            "10/10 [==============================] - 1s 91ms/step - loss: 0.2655 - accuracy: 0.9067 - val_loss: 0.4185 - val_accuracy: 0.8500\n",
            "Epoch 39/40\n",
            "10/10 [==============================] - 1s 90ms/step - loss: 0.2681 - accuracy: 0.9000 - val_loss: 0.5027 - val_accuracy: 0.8000\n",
            "Epoch 40/40\n",
            "10/10 [==============================] - 1s 89ms/step - loss: 0.2631 - accuracy: 0.9167 - val_loss: 0.4078 - val_accuracy: 0.7750\n"
          ],
          "name": "stdout"
        },
        {
          "output_type": "execute_result",
          "data": {
            "text/plain": [
              "<tensorflow.python.keras.callbacks.History at 0x7f072840fa20>"
            ]
          },
          "metadata": {
            "tags": []
          },
          "execution_count": 55
        }
      ]
    },
    {
      "cell_type": "code",
      "metadata": {
        "id": "X7gqHDydwLZo",
        "colab_type": "code",
        "colab": {
          "base_uri": "https://localhost:8080/",
          "height": 92
        },
        "outputId": "154d2a5c-cb96-40a8-8eef-f616f007bb2f"
      },
      "source": [
        "model.evaluate(test_itr,steps=10)"
      ],
      "execution_count": 56,
      "outputs": [
        {
          "output_type": "stream",
          "text": [
            " 2/10 [=====>........................] - ETA: 0s - loss: 0.3820 - accuracy: 0.8833WARNING:tensorflow:Your input ran out of data; interrupting training. Make sure that your dataset or generator can generate at least `steps_per_epoch * epochs` batches (in this case, 10 batches). You may need to use the repeat() function when building your dataset.\n",
            " 2/10 [=====>........................] - 0s 41ms/step - loss: 0.3820 - accuracy: 0.8833\n"
          ],
          "name": "stdout"
        },
        {
          "output_type": "execute_result",
          "data": {
            "text/plain": [
              "[0.3820456564426422, 0.8833333253860474]"
            ]
          },
          "metadata": {
            "tags": []
          },
          "execution_count": 56
        }
      ]
    },
    {
      "cell_type": "code",
      "metadata": {
        "id": "_FfqzQ5sBBDg",
        "colab_type": "code",
        "colab": {
          "base_uri": "https://localhost:8080/",
          "height": 35
        },
        "outputId": "be2dd487-f135-4690-e1d2-ef64a9d31aec"
      },
      "source": [
        "train_itr.class_indices"
      ],
      "execution_count": 46,
      "outputs": [
        {
          "output_type": "execute_result",
          "data": {
            "text/plain": [
              "{'female': 0, 'male': 1}"
            ]
          },
          "metadata": {
            "tags": []
          },
          "execution_count": 46
        }
      ]
    },
    {
      "cell_type": "code",
      "metadata": {
        "id": "SreKAiJ-geiQ",
        "colab_type": "code",
        "colab": {
          "base_uri": "https://localhost:8080/",
          "height": 35
        },
        "outputId": "7ec3df56-ae81-4207-e77e-95945bebfd78"
      },
      "source": [
        "import cv2\n",
        "import numpy as np\n",
        "img=cv2.imread(\"drive/My Drive/images/m2.jpg\")\n",
        "gray=gray/255.0\n",
        "gray = cv2.cvtColor(img, cv2.COLOR_BGR2GRAY)\n",
        "faceDetect=cv2.CascadeClassifier('drive/My Drive/haarcascade_frontalface_default.xml')\n",
        "faces = faceDetect.detectMultiScale(gray)\n",
        "for (x,y,w,h) in faces:\n",
        "  face=gray[y:y+h,x:x+w]\n",
        "  face=cv2.resize(face,(90,90))\n",
        "  print(np.argmax(model.predict(face.reshape(1,90,90,1)),axis=-1))"
      ],
      "execution_count": 64,
      "outputs": [
        {
          "output_type": "stream",
          "text": [
            "[1]\n"
          ],
          "name": "stdout"
        }
      ]
    },
    {
      "cell_type": "code",
      "metadata": {
        "id": "YpDROMGcEIcS",
        "colab_type": "code",
        "colab": {}
      },
      "source": [
        ""
      ],
      "execution_count": null,
      "outputs": []
    }
  ]
}