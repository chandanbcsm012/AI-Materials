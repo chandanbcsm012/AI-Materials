{
  "nbformat": 4,
  "nbformat_minor": 0,
  "metadata": {
    "colab": {
      "name": "9_Aug_Gender_prediction.ipynb",
      "provenance": [],
      "collapsed_sections": []
    },
    "kernelspec": {
      "name": "python3",
      "display_name": "Python 3"
    },
    "accelerator": "GPU"
  },
  "cells": [
    {
      "cell_type": "code",
      "metadata": {
        "id": "I19BvSXcavQL",
        "colab_type": "code",
        "colab": {}
      },
      "source": [
        "from tensorflow.keras.preprocessing.image import ImageDataGenerator \n",
        "from tensorflow.keras.models import Sequential\n",
        "from tensorflow.keras.layers import Flatten,Dense,Conv2D,MaxPooling2D,Dropout"
      ],
      "execution_count": 1,
      "outputs": []
    },
    {
      "cell_type": "code",
      "metadata": {
        "id": "pqO4UiO2b3RJ",
        "colab_type": "code",
        "colab": {
          "base_uri": "https://localhost:8080/",
          "height": 72
        },
        "outputId": "73f4a0e0-a4ec-49f7-add0-fc24d03be162"
      },
      "source": [
        "gen=ImageDataGenerator(rescale=1/255.0,rotation_range=90,vertical_flip=True,horizontal_flip=True)\n",
        "train_itr=gen.flow_from_directory(\"drive/My Drive/gender_training/train\",target_size=(90,90),color_mode='grayscale',batch_size=32,class_mode='binary')\n",
        "val_itr=gen.flow_from_directory(\"drive/My Drive/gender_training/val\",target_size=(90,90),color_mode='grayscale',batch_size=32,class_mode='binary')\n",
        "test_itr=gen.flow_from_directory(\"drive/My Drive/gender_training/test\",target_size=(90,90),color_mode='grayscale',batch_size=32,class_mode='binary')\n"
      ],
      "execution_count": 2,
      "outputs": [
        {
          "output_type": "stream",
          "text": [
            "Found 300 images belonging to 2 classes.\n",
            "Found 40 images belonging to 2 classes.\n",
            "Found 60 images belonging to 2 classes.\n"
          ],
          "name": "stdout"
        }
      ]
    },
    {
      "cell_type": "code",
      "metadata": {
        "id": "a5JKzYjMvrbs",
        "colab_type": "code",
        "colab": {
          "base_uri": "https://localhost:8080/",
          "height": 1000
        },
        "outputId": "a404b66f-2ddc-4144-b0de-98ea6f682d4b"
      },
      "source": [
        "model=Sequential()\n",
        "model.add(Conv2D(32,(3,3),activation='relu',input_shape=(90,90,1)))\n",
        "model.add(MaxPooling2D())\n",
        "\n",
        "model.add(Conv2D(64,(3,3),activation='relu'))\n",
        "model.add(MaxPooling2D())\n",
        "\n",
        "\n",
        "model.add(Flatten())\n",
        "model.add(Dense(64,activation='relu'))\n",
        "model.add(Dense(32,activation='relu'))\n",
        "\n",
        "model.add(Dense(2,activation=\"softmax\"))\n",
        "model.compile(optimizer=\"adam\",loss=\"sparse_categorical_crossentropy\",metrics=['accuracy'])\n",
        "trained_model=model.fit(train_itr,steps_per_epoch=10,epochs=40,validation_data=val_itr)"
      ],
      "execution_count": 10,
      "outputs": [
        {
          "output_type": "stream",
          "text": [
            "Epoch 1/40\n",
            "10/10 [==============================] - 1s 109ms/step - loss: 0.7466 - accuracy: 0.5533 - val_loss: 0.6843 - val_accuracy: 0.5000\n",
            "Epoch 2/40\n",
            "10/10 [==============================] - 1s 87ms/step - loss: 0.6799 - accuracy: 0.5800 - val_loss: 0.6605 - val_accuracy: 0.6250\n",
            "Epoch 3/40\n",
            "10/10 [==============================] - 1s 87ms/step - loss: 0.6211 - accuracy: 0.7267 - val_loss: 0.5746 - val_accuracy: 0.7500\n",
            "Epoch 4/40\n",
            "10/10 [==============================] - 1s 86ms/step - loss: 0.5582 - accuracy: 0.7367 - val_loss: 0.6308 - val_accuracy: 0.5750\n",
            "Epoch 5/40\n",
            "10/10 [==============================] - 1s 89ms/step - loss: 0.4833 - accuracy: 0.7500 - val_loss: 0.5250 - val_accuracy: 0.6750\n",
            "Epoch 6/40\n",
            "10/10 [==============================] - 1s 88ms/step - loss: 0.4416 - accuracy: 0.8133 - val_loss: 0.4847 - val_accuracy: 0.7750\n",
            "Epoch 7/40\n",
            "10/10 [==============================] - 1s 88ms/step - loss: 0.4064 - accuracy: 0.8267 - val_loss: 0.5475 - val_accuracy: 0.7250\n",
            "Epoch 8/40\n",
            "10/10 [==============================] - 1s 88ms/step - loss: 0.4079 - accuracy: 0.8100 - val_loss: 0.5216 - val_accuracy: 0.7750\n",
            "Epoch 9/40\n",
            "10/10 [==============================] - 1s 88ms/step - loss: 0.3894 - accuracy: 0.8267 - val_loss: 0.4990 - val_accuracy: 0.7000\n",
            "Epoch 10/40\n",
            "10/10 [==============================] - 1s 94ms/step - loss: 0.3907 - accuracy: 0.8300 - val_loss: 0.4601 - val_accuracy: 0.7750\n",
            "Epoch 11/40\n",
            "10/10 [==============================] - 1s 88ms/step - loss: 0.3637 - accuracy: 0.8667 - val_loss: 0.5410 - val_accuracy: 0.7500\n",
            "Epoch 12/40\n",
            "10/10 [==============================] - 1s 90ms/step - loss: 0.4006 - accuracy: 0.8133 - val_loss: 0.5774 - val_accuracy: 0.7250\n",
            "Epoch 13/40\n",
            "10/10 [==============================] - 1s 87ms/step - loss: 0.4099 - accuracy: 0.8100 - val_loss: 0.4752 - val_accuracy: 0.7250\n",
            "Epoch 14/40\n",
            "10/10 [==============================] - 1s 91ms/step - loss: 0.3763 - accuracy: 0.8400 - val_loss: 0.5250 - val_accuracy: 0.7500\n",
            "Epoch 15/40\n",
            "10/10 [==============================] - 1s 86ms/step - loss: 0.3781 - accuracy: 0.8233 - val_loss: 0.5147 - val_accuracy: 0.7500\n",
            "Epoch 16/40\n",
            "10/10 [==============================] - 1s 89ms/step - loss: 0.3626 - accuracy: 0.8600 - val_loss: 0.6069 - val_accuracy: 0.7500\n",
            "Epoch 17/40\n",
            "10/10 [==============================] - 1s 86ms/step - loss: 0.3614 - accuracy: 0.8367 - val_loss: 0.5321 - val_accuracy: 0.7250\n",
            "Epoch 18/40\n",
            "10/10 [==============================] - 1s 90ms/step - loss: 0.3447 - accuracy: 0.8667 - val_loss: 0.5146 - val_accuracy: 0.7250\n",
            "Epoch 19/40\n",
            "10/10 [==============================] - 1s 88ms/step - loss: 0.3694 - accuracy: 0.8367 - val_loss: 0.5110 - val_accuracy: 0.8000\n",
            "Epoch 20/40\n",
            "10/10 [==============================] - 1s 89ms/step - loss: 0.3706 - accuracy: 0.8733 - val_loss: 0.5806 - val_accuracy: 0.7750\n",
            "Epoch 21/40\n",
            "10/10 [==============================] - 1s 85ms/step - loss: 0.3714 - accuracy: 0.8467 - val_loss: 0.4667 - val_accuracy: 0.7250\n",
            "Epoch 22/40\n",
            "10/10 [==============================] - 1s 86ms/step - loss: 0.3702 - accuracy: 0.8533 - val_loss: 0.4819 - val_accuracy: 0.7750\n",
            "Epoch 23/40\n",
            "10/10 [==============================] - 1s 88ms/step - loss: 0.3221 - accuracy: 0.8700 - val_loss: 0.5701 - val_accuracy: 0.7250\n",
            "Epoch 24/40\n",
            "10/10 [==============================] - 1s 87ms/step - loss: 0.3595 - accuracy: 0.8400 - val_loss: 0.4750 - val_accuracy: 0.7250\n",
            "Epoch 25/40\n",
            "10/10 [==============================] - 1s 88ms/step - loss: 0.3411 - accuracy: 0.8467 - val_loss: 0.5776 - val_accuracy: 0.7500\n",
            "Epoch 26/40\n",
            "10/10 [==============================] - 1s 88ms/step - loss: 0.3524 - accuracy: 0.8533 - val_loss: 0.5161 - val_accuracy: 0.8000\n",
            "Epoch 27/40\n",
            "10/10 [==============================] - 1s 87ms/step - loss: 0.3566 - accuracy: 0.8467 - val_loss: 0.4978 - val_accuracy: 0.7500\n",
            "Epoch 28/40\n",
            "10/10 [==============================] - 1s 86ms/step - loss: 0.3325 - accuracy: 0.8733 - val_loss: 0.5833 - val_accuracy: 0.7250\n",
            "Epoch 29/40\n",
            "10/10 [==============================] - 1s 86ms/step - loss: 0.3030 - accuracy: 0.8600 - val_loss: 0.4669 - val_accuracy: 0.7750\n",
            "Epoch 30/40\n",
            "10/10 [==============================] - 1s 87ms/step - loss: 0.3206 - accuracy: 0.8733 - val_loss: 0.4756 - val_accuracy: 0.7750\n",
            "Epoch 31/40\n",
            "10/10 [==============================] - 1s 85ms/step - loss: 0.3196 - accuracy: 0.8633 - val_loss: 0.5031 - val_accuracy: 0.7750\n",
            "Epoch 32/40\n",
            "10/10 [==============================] - 1s 87ms/step - loss: 0.3250 - accuracy: 0.8533 - val_loss: 0.4013 - val_accuracy: 0.8250\n",
            "Epoch 33/40\n",
            "10/10 [==============================] - 1s 92ms/step - loss: 0.3220 - accuracy: 0.8767 - val_loss: 0.5025 - val_accuracy: 0.7750\n",
            "Epoch 34/40\n",
            "10/10 [==============================] - 1s 87ms/step - loss: 0.3150 - accuracy: 0.8767 - val_loss: 0.4482 - val_accuracy: 0.8000\n",
            "Epoch 35/40\n",
            "10/10 [==============================] - 1s 88ms/step - loss: 0.3072 - accuracy: 0.8900 - val_loss: 0.4313 - val_accuracy: 0.8250\n",
            "Epoch 36/40\n",
            "10/10 [==============================] - 1s 87ms/step - loss: 0.2978 - accuracy: 0.8633 - val_loss: 0.4645 - val_accuracy: 0.8500\n",
            "Epoch 37/40\n",
            "10/10 [==============================] - 1s 91ms/step - loss: 0.2843 - accuracy: 0.9000 - val_loss: 0.4484 - val_accuracy: 0.7750\n",
            "Epoch 38/40\n",
            "10/10 [==============================] - 1s 87ms/step - loss: 0.2943 - accuracy: 0.8867 - val_loss: 0.5063 - val_accuracy: 0.7250\n",
            "Epoch 39/40\n",
            "10/10 [==============================] - 1s 88ms/step - loss: 0.3643 - accuracy: 0.8600 - val_loss: 0.4368 - val_accuracy: 0.7500\n",
            "Epoch 40/40\n",
            "10/10 [==============================] - 1s 87ms/step - loss: 0.3079 - accuracy: 0.8633 - val_loss: 0.4587 - val_accuracy: 0.7750\n"
          ],
          "name": "stdout"
        }
      ]
    },
    {
      "cell_type": "code",
      "metadata": {
        "id": "X7gqHDydwLZo",
        "colab_type": "code",
        "colab": {
          "base_uri": "https://localhost:8080/",
          "height": 92
        },
        "outputId": "fc1fe678-f9cd-4f3d-a11d-230be9999ee6"
      },
      "source": [
        "model.evaluate(test_itr,steps=10)"
      ],
      "execution_count": 13,
      "outputs": [
        {
          "output_type": "stream",
          "text": [
            " 2/10 [=====>........................] - ETA: 0s - loss: 0.3986 - accuracy: 0.8167WARNING:tensorflow:Your input ran out of data; interrupting training. Make sure that your dataset or generator can generate at least `steps_per_epoch * epochs` batches (in this case, 10 batches). You may need to use the repeat() function when building your dataset.\n",
            " 2/10 [=====>........................] - 0s 41ms/step - loss: 0.3986 - accuracy: 0.8167\n"
          ],
          "name": "stdout"
        },
        {
          "output_type": "execute_result",
          "data": {
            "text/plain": [
              "[0.39860743284225464, 0.8166666626930237]"
            ]
          },
          "metadata": {
            "tags": []
          },
          "execution_count": 13
        }
      ]
    },
    {
      "cell_type": "code",
      "metadata": {
        "id": "AuwnMuhn4VJ9",
        "colab_type": "code",
        "colab": {
          "base_uri": "https://localhost:8080/",
          "height": 74
        },
        "outputId": "b492c3cb-0a09-4de6-ae7f-d945977e6322"
      },
      "source": [
        "print(trained_model.history.keys())\n",
        "print(trained_model.history['loss'])"
      ],
      "execution_count": 14,
      "outputs": [
        {
          "output_type": "stream",
          "text": [
            "dict_keys(['loss', 'accuracy', 'val_loss', 'val_accuracy'])\n",
            "[0.746619701385498, 0.6799096465110779, 0.6211352944374084, 0.5581538677215576, 0.48330628871917725, 0.4415610730648041, 0.406360924243927, 0.4078620970249176, 0.3893965184688568, 0.39068374037742615, 0.3636683523654938, 0.4005800187587738, 0.4098866879940033, 0.3762606978416443, 0.3780975043773651, 0.3625982999801636, 0.36139655113220215, 0.3447180688381195, 0.36942732334136963, 0.3706139624118805, 0.37138423323631287, 0.3701765239238739, 0.32209208607673645, 0.35949355363845825, 0.34110942482948303, 0.3524452745914459, 0.35655027627944946, 0.3324742913246155, 0.30300238728523254, 0.3206019103527069, 0.31956860423088074, 0.32503363490104675, 0.3219967782497406, 0.31500816345214844, 0.3072156608104706, 0.2977871000766754, 0.2843334376811981, 0.29430171847343445, 0.3642560839653015, 0.30786967277526855]\n"
          ],
          "name": "stdout"
        }
      ]
    },
    {
      "cell_type": "code",
      "metadata": {
        "id": "QqWFLP7h6q0z",
        "colab_type": "code",
        "colab": {
          "base_uri": "https://localhost:8080/",
          "height": 279
        },
        "outputId": "5575738f-c8de-4776-d1ad-a1a7e810c23a"
      },
      "source": [
        "import matplotlib.pyplot as plt\n",
        "plt.xlabel(\"epochs\")\n",
        "plt.ylabel(\"loss/accuracy\")\n",
        "plt.plot(range(1,41),trained_model.history['loss'])\n",
        "plt.plot(range(1,41),trained_model.history['accuracy'])\n",
        "plt.plot(range(1,41),trained_model.history['val_loss'])\n",
        "plt.plot(range(1,41),trained_model.history['val_accuracy'])\n",
        "\n",
        "plt.legend(['loss','accuracy','val loss','val accucary'])\n",
        "plt.show()"
      ],
      "execution_count": 20,
      "outputs": [
        {
          "output_type": "display_data",
          "data": {
            "image/png": "[encoded data removed]",
            "text/plain": [
              "<Figure size 432x288 with 1 Axes>"
            ]
          },
          "metadata": {
            "tags": [],
            "needs_background": "light"
          }
        }
      ]
    },
    {
      "cell_type": "code",
      "metadata": {
        "id": "_FfqzQ5sBBDg",
        "colab_type": "code",
        "colab": {
          "base_uri": "https://localhost:8080/",
          "height": 35
        },
        "outputId": "be2dd487-f135-4690-e1d2-ef64a9d31aec"
      },
      "source": [
        "train_itr.class_indices"
      ],
      "execution_count": null,
      "outputs": [
        {
          "output_type": "execute_result",
          "data": {
            "text/plain": [
              "{'female': 0, 'male': 1}"
            ]
          },
          "metadata": {
            "tags": []
          },
          "execution_count": 46
        }
      ]
    },
    {
      "cell_type": "code",
      "metadata": {
        "id": "SreKAiJ-geiQ",
        "colab_type": "code",
        "colab": {
          "base_uri": "https://localhost:8080/",
          "height": 35
        },
        "outputId": "7ec3df56-ae81-4207-e77e-95945bebfd78"
      },
      "source": [
        "import cv2\n",
        "import numpy as np\n",
        "img=cv2.imread(\"drive/My Drive/images/m2.jpg\")\n",
        "gray=gray/255.0\n",
        "gray = cv2.cvtColor(img, cv2.COLOR_BGR2GRAY)\n",
        "faceDetect=cv2.CascadeClassifier('drive/My Drive/haarcascade_frontalface_default.xml')\n",
        "faces = faceDetect.detectMultiScale(gray)\n",
        "for (x,y,w,h) in faces:\n",
        "  face=gray[y:y+h,x:x+w]\n",
        "  face=cv2.resize(face,(90,90))\n",
        "  print(np.argmax(model.predict(face.reshape(1,90,90,1)),axis=-1))"
      ],
      "execution_count": null,
      "outputs": [
        {
          "output_type": "stream",
          "text": [
            "[1]\n"
          ],
          "name": "stdout"
        }
      ]
    },
    {
      "cell_type": "code",
      "metadata": {
        "id": "YpDROMGcEIcS",
        "colab_type": "code",
        "colab": {}
      },
      "source": [
        ""
      ],
      "execution_count": null,
      "outputs": []
    }
  ]
}