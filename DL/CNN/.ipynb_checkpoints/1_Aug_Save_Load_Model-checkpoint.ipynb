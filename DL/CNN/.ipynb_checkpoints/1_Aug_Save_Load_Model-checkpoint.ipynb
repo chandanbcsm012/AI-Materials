{
  "nbformat": 4,
  "nbformat_minor": 0,
  "metadata": {
    "colab": {
      "name": "1_Aug_Save_Load_Model.ipynb",
      "provenance": []
    },
    "kernelspec": {
      "name": "python3",
      "display_name": "Python 3"
    },
    "accelerator": "GPU"
  },
  "cells": [
    {
      "cell_type": "code",
      "metadata": {
        "id": "74SJBpKAYkTu",
        "colab_type": "code",
        "colab": {}
      },
      "source": [
        "from tensorflow.keras.models import Sequential\n",
        "from tensorflow.keras.layers import Dense,Dropout,Flatten,Conv2D,MaxPooling2D\n",
        "import tensorflow as tf\n",
        "import numpy as np"
      ],
      "execution_count": 2,
      "outputs": []
    },
    {
      "cell_type": "code",
      "metadata": {
        "id": "aSSVXxAJY6fr",
        "colab_type": "code",
        "colab": {
          "base_uri": "https://localhost:8080/",
          "height": 54
        },
        "outputId": "f34a120f-fc31-4431-e551-6e130bd267c0"
      },
      "source": [
        "(X_train,y_train),(X_test,y_test)=tf.keras.datasets.mnist.load_data()\n",
        "X_train=X_train/255.0\n",
        "X_test=X_test/255.0"
      ],
      "execution_count": 3,
      "outputs": [
        {
          "output_type": "stream",
          "text": [
            "Downloading data from https://storage.googleapis.com/tensorflow/tf-keras-datasets/mnist.npz\n",
            "11493376/11490434 [==============================] - 0s 0us/step\n"
          ],
          "name": "stdout"
        }
      ]
    },
    {
      "cell_type": "code",
      "metadata": {
        "id": "FqP4ZWOaZG3Z",
        "colab_type": "code",
        "colab": {
          "base_uri": "https://localhost:8080/",
          "height": 399
        },
        "outputId": "5c0a7b9d-55b2-4a44-c791-bbe913a5dce3"
      },
      "source": [
        "model=Sequential()\n",
        "model.add(Conv2D(64,(3,3),input_shape=(28,28,1),activation='relu'))\n",
        "model.add(MaxPooling2D(pool_size=(2,2),strides=(2,2)))\n",
        "model.add(Dropout(.2))\n",
        "model.add(Conv2D(64,(3,3),activation='relu'))\n",
        "model.add(MaxPooling2D(pool_size=(2,2),strides=(2,2)))\n",
        "model.add(Dropout(.2))\n",
        "\n",
        "model.add(Flatten())\n",
        "model.add(Dense(256,activation='relu'))\n",
        "model.add(Dropout(.5))\n",
        "model.add(Dense(10,activation='softmax'))\n",
        "model.compile(optimizer='adam',loss=\"sparse_categorical_crossentropy\",metrics=['accuracy'])\n",
        "model.fit(X_train.reshape(-1,28,28,1),y_train,epochs=10,batch_size=60)"
      ],
      "execution_count": 4,
      "outputs": [
        {
          "output_type": "stream",
          "text": [
            "Epoch 1/10\n",
            "1000/1000 [==============================] - 3s 3ms/step - loss: 0.2035 - accuracy: 0.9367\n",
            "Epoch 2/10\n",
            "1000/1000 [==============================] - 3s 3ms/step - loss: 0.0721 - accuracy: 0.9783\n",
            "Epoch 3/10\n",
            "1000/1000 [==============================] - 3s 3ms/step - loss: 0.0554 - accuracy: 0.9828\n",
            "Epoch 4/10\n",
            "1000/1000 [==============================] - 3s 3ms/step - loss: 0.0458 - accuracy: 0.9862\n",
            "Epoch 5/10\n",
            "1000/1000 [==============================] - 3s 3ms/step - loss: 0.0409 - accuracy: 0.9873\n",
            "Epoch 6/10\n",
            "1000/1000 [==============================] - 3s 3ms/step - loss: 0.0345 - accuracy: 0.9888\n",
            "Epoch 7/10\n",
            "1000/1000 [==============================] - 3s 3ms/step - loss: 0.0330 - accuracy: 0.9894\n",
            "Epoch 8/10\n",
            "1000/1000 [==============================] - 3s 3ms/step - loss: 0.0292 - accuracy: 0.9907\n",
            "Epoch 9/10\n",
            "1000/1000 [==============================] - 3s 3ms/step - loss: 0.0252 - accuracy: 0.9920\n",
            "Epoch 10/10\n",
            "1000/1000 [==============================] - 3s 3ms/step - loss: 0.0239 - accuracy: 0.9924\n"
          ],
          "name": "stdout"
        },
        {
          "output_type": "execute_result",
          "data": {
            "text/plain": [
              "<tensorflow.python.keras.callbacks.History at 0x7f5f1c1e8ba8>"
            ]
          },
          "metadata": {
            "tags": []
          },
          "execution_count": 4
        }
      ]
    },
    {
      "cell_type": "code",
      "metadata": {
        "id": "RzBZ0l1Ma7mo",
        "colab_type": "code",
        "colab": {
          "base_uri": "https://localhost:8080/",
          "height": 54
        },
        "outputId": "c03608de-bf52-4b38-e6f4-8f0e11693605"
      },
      "source": [
        "model.evaluate(X_test.reshape(-1,28,28,1),y_test)"
      ],
      "execution_count": 5,
      "outputs": [
        {
          "output_type": "stream",
          "text": [
            "313/313 [==============================] - 1s 2ms/step - loss: 0.0251 - accuracy: 0.9924\n"
          ],
          "name": "stdout"
        },
        {
          "output_type": "execute_result",
          "data": {
            "text/plain": [
              "[0.02507929876446724, 0.9923999905586243]"
            ]
          },
          "metadata": {
            "tags": []
          },
          "execution_count": 5
        }
      ]
    },
    {
      "cell_type": "code",
      "metadata": {
        "id": "29QqTQxabjAX",
        "colab_type": "code",
        "colab": {
          "base_uri": "https://localhost:8080/",
          "height": 35
        },
        "outputId": "a402385d-d1f2-4545-b8c4-af4a8883464c"
      },
      "source": [
        "import cv2\n",
        "gray=cv2.imread('9.png',0)\n",
        "gray=gray.reshape(-1,28,28,1)\n",
        "gray=gray/255.0\n",
        "print(np.argmax(model.predict(gray),axis=-1))"
      ],
      "execution_count": 17,
      "outputs": [
        {
          "output_type": "stream",
          "text": [
            "[9]\n"
          ],
          "name": "stdout"
        }
      ]
    },
    {
      "cell_type": "code",
      "metadata": {
        "id": "rG4wr853ceO8",
        "colab_type": "code",
        "colab": {}
      },
      "source": [
        "model.save(\"model.h5\")"
      ],
      "execution_count": 18,
      "outputs": []
    },
    {
      "cell_type": "code",
      "metadata": {
        "id": "ULG4Lwz6fFvT",
        "colab_type": "code",
        "colab": {}
      },
      "source": [
        "mnist_model=tf.keras.models.load_model(\"model.h5\")"
      ],
      "execution_count": 19,
      "outputs": []
    },
    {
      "cell_type": "code",
      "metadata": {
        "id": "qz8CApiHfb6s",
        "colab_type": "code",
        "colab": {
          "base_uri": "https://localhost:8080/",
          "height": 54
        },
        "outputId": "0ceb1ade-efe1-47ec-87f9-ba3cc6793fea"
      },
      "source": [
        "mnist_model.evaluate(X_test.reshape(-1,28,28,1),y_test)"
      ],
      "execution_count": 20,
      "outputs": [
        {
          "output_type": "stream",
          "text": [
            "313/313 [==============================] - 1s 2ms/step - loss: 0.0251 - accuracy: 0.9924\n"
          ],
          "name": "stdout"
        },
        {
          "output_type": "execute_result",
          "data": {
            "text/plain": [
              "[0.02507929876446724, 0.9923999905586243]"
            ]
          },
          "metadata": {
            "tags": []
          },
          "execution_count": 20
        }
      ]
    },
    {
      "cell_type": "code",
      "metadata": {
        "id": "ah4pHobSfjKq",
        "colab_type": "code",
        "colab": {
          "base_uri": "https://localhost:8080/",
          "height": 35
        },
        "outputId": "1ed9626a-af81-4486-f4e0-1681698860a8"
      },
      "source": [
        "import cv2\n",
        "gray=cv2.imread('9.png',0)\n",
        "gray=gray.reshape(-1,28,28,1)\n",
        "gray=gray/255.0\n",
        "print(np.argmax(mnist_model.predict(gray),axis=-1))"
      ],
      "execution_count": 21,
      "outputs": [
        {
          "output_type": "stream",
          "text": [
            "[9]\n"
          ],
          "name": "stdout"
        }
      ]
    },
    {
      "cell_type": "code",
      "metadata": {
        "id": "6XI9Vm7afonN",
        "colab_type": "code",
        "colab": {
          "base_uri": "https://localhost:8080/",
          "height": 128
        },
        "outputId": "af75a61a-d3b0-4f71-85e0-ead0657d2e6e"
      },
      "source": [
        "from google.colab import drive\n",
        "drive.mount('/content/drive')"
      ],
      "execution_count": 22,
      "outputs": [
        {
          "output_type": "stream",
          "text": [
            "Go to this URL in a browser: https://accounts.google.com/o/oauth2/auth?client_id=947318989803-6bn6qk8qdgf4n4g3pfee6491hc0brc4i.apps.googleusercontent.com&redirect_uri=urn%3aietf%3awg%3aoauth%3a2.0%3aoob&response_type=code&scope=email%20https%3a%2f%2fwww.googleapis.com%2fauth%2fdocs.test%20https%3a%2f%2fwww.googleapis.com%2fauth%2fdrive%20https%3a%2f%2fwww.googleapis.com%2fauth%2fdrive.photos.readonly%20https%3a%2f%2fwww.googleapis.com%2fauth%2fpeopleapi.readonly\n",
            "\n",
            "Enter your authorization code:\n",
            "··········\n",
            "Mounted at /content/drive\n"
          ],
          "name": "stdout"
        }
      ]
    },
    {
      "cell_type": "code",
      "metadata": {
        "id": "znwEMFmLiY5-",
        "colab_type": "code",
        "colab": {}
      },
      "source": [
        "model.save(\"/content/drive/My Drive/dataset_dl/model.h5\")"
      ],
      "execution_count": 23,
      "outputs": []
    },
    {
      "cell_type": "code",
      "metadata": {
        "id": "vgyWOG2_i5O4",
        "colab_type": "code",
        "colab": {}
      },
      "source": [
        "mnist_model1=tf.keras.models.load_model(\"/content/drive/My Drive/dataset_dl/model.h5\")"
      ],
      "execution_count": 24,
      "outputs": []
    },
    {
      "cell_type": "code",
      "metadata": {
        "id": "4aAbAwRdjHJy",
        "colab_type": "code",
        "colab": {
          "base_uri": "https://localhost:8080/",
          "height": 35
        },
        "outputId": "4a823d4a-cca1-4257-d180-de5582e48fd2"
      },
      "source": [
        "import cv2\n",
        "gray=cv2.imread('9.png',0)\n",
        "gray=gray.reshape(-1,28,28,1)\n",
        "gray=gray/255.0\n",
        "print(np.argmax(mnist_model.predict(gray),axis=-1))"
      ],
      "execution_count": 25,
      "outputs": [
        {
          "output_type": "stream",
          "text": [
            "[9]\n"
          ],
          "name": "stdout"
        }
      ]
    },
    {
      "cell_type": "code",
      "metadata": {
        "id": "XikTc5ILjMQM",
        "colab_type": "code",
        "colab": {}
      },
      "source": [
        "json_model=model.to_json() #returns json string after serilizing the model\n",
        "file=open(\"js_model.json\",\"w\")\n",
        "file.write(json_model)\n",
        "file.close()\n",
        "\n",
        "model.save_weights(\"weights.h5\")"
      ],
      "execution_count": 32,
      "outputs": []
    },
    {
      "cell_type": "code",
      "metadata": {
        "id": "jFLQfFPDldIW",
        "colab_type": "code",
        "colab": {}
      },
      "source": [
        "file=open(\"js_model.json\",\"r\")\n",
        "json_string=file.read()\n",
        "file.close()\n",
        "\n",
        "mn_model=tf.keras.models.model_from_json(json_string)\n",
        "mn_model.load_weights(\"weights.h5\")"
      ],
      "execution_count": 33,
      "outputs": []
    },
    {
      "cell_type": "code",
      "metadata": {
        "id": "3bTCnB1ZmKQD",
        "colab_type": "code",
        "colab": {
          "base_uri": "https://localhost:8080/",
          "height": 35
        },
        "outputId": "eb03ecb0-c46a-4018-d58c-534dc59ce643"
      },
      "source": [
        "import cv2\n",
        "gray=cv2.imread('9.png',0)\n",
        "gray=gray.reshape(-1,28,28,1)\n",
        "gray=gray/255.0\n",
        "print(np.argmax(mn_model.predict(gray),axis=-1))"
      ],
      "execution_count": 31,
      "outputs": [
        {
          "output_type": "stream",
          "text": [
            "[9]\n"
          ],
          "name": "stdout"
        }
      ]
    },
    {
      "cell_type": "code",
      "metadata": {
        "id": "gGVgR9OqmQey",
        "colab_type": "code",
        "colab": {}
      },
      "source": [
        "yaml_model=model.to_yaml() #returns yaml string after serilizing the model\n",
        "file=open(\"yaml_model.yaml\",\"w\")\n",
        "file.write(yaml_model)\n",
        "file.close()"
      ],
      "execution_count": 34,
      "outputs": []
    },
    {
      "cell_type": "code",
      "metadata": {
        "id": "u9Y4MklboL7q",
        "colab_type": "code",
        "colab": {}
      },
      "source": [
        "file=open(\"yaml_model.yaml\",\"r\")\n",
        "yaml_string=file.read()\n",
        "file.close()\n",
        "mnn_model=tf.keras.models.model_from_yaml(yaml_string)\n",
        "mnn_model.load_weights(\"weights.h5\")"
      ],
      "execution_count": 35,
      "outputs": []
    },
    {
      "cell_type": "code",
      "metadata": {
        "id": "LrKLXvTuolJP",
        "colab_type": "code",
        "colab": {
          "base_uri": "https://localhost:8080/",
          "height": 35
        },
        "outputId": "c2bdad5b-5127-4a36-aac8-89545dc5267d"
      },
      "source": [
        "import cv2\n",
        "gray=cv2.imread('9.png',0)\n",
        "gray=gray.reshape(-1,28,28,1)\n",
        "gray=gray/255.0\n",
        "print(np.argmax(mnn_model.predict(gray),axis=-1))"
      ],
      "execution_count": 36,
      "outputs": [
        {
          "output_type": "stream",
          "text": [
            "[9]\n"
          ],
          "name": "stdout"
        }
      ]
    },
    {
      "cell_type": "code",
      "metadata": {
        "id": "cU6ABJYEopxH",
        "colab_type": "code",
        "colab": {}
      },
      "source": [
        ""
      ],
      "execution_count": null,
      "outputs": []
    }
  ]
}