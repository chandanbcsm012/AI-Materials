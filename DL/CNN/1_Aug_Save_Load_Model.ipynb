{
 "cells": [
  {
   "cell_type": "code",
   "execution_count": 2,
   "metadata": {
    "colab": {},
    "colab_type": "code",
    "id": "74SJBpKAYkTu"
   },
   "outputs": [],
   "source": [
    "from tensorflow.keras.models import Sequential\n",
    "from tensorflow.keras.layers import Dense,Dropout,Flatten,Conv2D,MaxPooling2D\n",
    "import tensorflow as tf\n",
    "import numpy as np"
   ]
  },
  {
   "cell_type": "code",
   "execution_count": 3,
   "metadata": {
    "colab": {
     "base_uri": "https://localhost:8080/",
     "height": 54
    },
    "colab_type": "code",
    "id": "aSSVXxAJY6fr",
    "outputId": "f34a120f-fc31-4431-e551-6e130bd267c0"
   },
   "outputs": [
    {
     "name": "stdout",
     "output_type": "stream",
     "text": [
      "Downloading data from https://storage.googleapis.com/tensorflow/tf-keras-datasets/mnist.npz\n",
      "11493376/11490434 [==============================] - 0s 0us/step\n"
     ]
    }
   ],
   "source": [
    "(X_train,y_train),(X_test,y_test)=tf.keras.datasets.mnist.load_data()\n",
    "X_train=X_train/255.0\n",
    "X_test=X_test/255.0"
   ]
  },
  {
   "cell_type": "code",
   "execution_count": 4,
   "metadata": {
    "colab": {
     "base_uri": "https://localhost:8080/",
     "height": 399
    },
    "colab_type": "code",
    "id": "FqP4ZWOaZG3Z",
    "outputId": "5c0a7b9d-55b2-4a44-c791-bbe913a5dce3"
   },
   "outputs": [
    {
     "name": "stdout",
     "output_type": "stream",
     "text": [
      "Epoch 1/10\n",
      "1000/1000 [==============================] - 3s 3ms/step - loss: 0.2035 - accuracy: 0.9367\n",
      "Epoch 2/10\n",
      "1000/1000 [==============================] - 3s 3ms/step - loss: 0.0721 - accuracy: 0.9783\n",
      "Epoch 3/10\n",
      "1000/1000 [==============================] - 3s 3ms/step - loss: 0.0554 - accuracy: 0.9828\n",
      "Epoch 4/10\n",
      "1000/1000 [==============================] - 3s 3ms/step - loss: 0.0458 - accuracy: 0.9862\n",
      "Epoch 5/10\n",
      "1000/1000 [==============================] - 3s 3ms/step - loss: 0.0409 - accuracy: 0.9873\n",
      "Epoch 6/10\n",
      "1000/1000 [==============================] - 3s 3ms/step - loss: 0.0345 - accuracy: 0.9888\n",
      "Epoch 7/10\n",
      "1000/1000 [==============================] - 3s 3ms/step - loss: 0.0330 - accuracy: 0.9894\n",
      "Epoch 8/10\n",
      "1000/1000 [==============================] - 3s 3ms/step - loss: 0.0292 - accuracy: 0.9907\n",
      "Epoch 9/10\n",
      "1000/1000 [==============================] - 3s 3ms/step - loss: 0.0252 - accuracy: 0.9920\n",
      "Epoch 10/10\n",
      "1000/1000 [==============================] - 3s 3ms/step - loss: 0.0239 - accuracy: 0.9924\n"
     ]
    },
    {
     "data": {
      "text/plain": [
       "<tensorflow.python.keras.callbacks.History at 0x7f5f1c1e8ba8>"
      ]
     },
     "execution_count": 4,
     "metadata": {
      "tags": []
     },
     "output_type": "execute_result"
    }
   ],
   "source": [
    "model=Sequential()\n",
    "model.add(Conv2D(64,(3,3),input_shape=(28,28,1),activation='relu'))\n",
    "model.add(MaxPooling2D(pool_size=(2,2),strides=(2,2)))\n",
    "model.add(Dropout(.2))\n",
    "model.add(Conv2D(64,(3,3),activation='relu'))\n",
    "model.add(MaxPooling2D(pool_size=(2,2),strides=(2,2)))\n",
    "model.add(Dropout(.2))\n",
    "\n",
    "model.add(Flatten())\n",
    "model.add(Dense(256,activation='relu'))\n",
    "model.add(Dropout(.5))\n",
    "model.add(Dense(10,activation='softmax'))\n",
    "model.compile(optimizer='adam',loss=\"sparse_categorical_crossentropy\",metrics=['accuracy'])\n",
    "model.fit(X_train.reshape(-1,28,28,1),y_train,epochs=10,batch_size=60)"
   ]
  },
  {
   "cell_type": "code",
   "execution_count": 5,
   "metadata": {
    "colab": {
     "base_uri": "https://localhost:8080/",
     "height": 54
    },
    "colab_type": "code",
    "id": "RzBZ0l1Ma7mo",
    "outputId": "c03608de-bf52-4b38-e6f4-8f0e11693605"
   },
   "outputs": [
    {
     "name": "stdout",
     "output_type": "stream",
     "text": [
      "313/313 [==============================] - 1s 2ms/step - loss: 0.0251 - accuracy: 0.9924\n"
     ]
    },
    {
     "data": {
      "text/plain": [
       "[0.02507929876446724, 0.9923999905586243]"
      ]
     },
     "execution_count": 5,
     "metadata": {
      "tags": []
     },
     "output_type": "execute_result"
    }
   ],
   "source": [
    "model.evaluate(X_test.reshape(-1,28,28,1),y_test)"
   ]
  },
  {
   "cell_type": "code",
   "execution_count": 17,
   "metadata": {
    "colab": {
     "base_uri": "https://localhost:8080/",
     "height": 35
    },
    "colab_type": "code",
    "id": "29QqTQxabjAX",
    "outputId": "a402385d-d1f2-4545-b8c4-af4a8883464c"
   },
   "outputs": [
    {
     "name": "stdout",
     "output_type": "stream",
     "text": [
      "[9]\n"
     ]
    }
   ],
   "source": [
    "import cv2\n",
    "gray=cv2.imread('9.png',0)\n",
    "gray=gray.reshape(-1,28,28,1)\n",
    "gray=gray/255.0\n",
    "print(np.argmax(model.predict(gray),axis=-1))"
   ]
  },
  {
   "cell_type": "code",
   "execution_count": 18,
   "metadata": {
    "colab": {},
    "colab_type": "code",
    "id": "rG4wr853ceO8"
   },
   "outputs": [],
   "source": [
    "model.save(\"model.h5\")"
   ]
  },
  {
   "cell_type": "code",
   "execution_count": 19,
   "metadata": {
    "colab": {},
    "colab_type": "code",
    "id": "ULG4Lwz6fFvT"
   },
   "outputs": [],
   "source": [
    "mnist_model=tf.keras.models.load_model(\"model.h5\")"
   ]
  },
  {
   "cell_type": "code",
   "execution_count": 20,
   "metadata": {
    "colab": {
     "base_uri": "https://localhost:8080/",
     "height": 54
    },
    "colab_type": "code",
    "id": "qz8CApiHfb6s",
    "outputId": "0ceb1ade-efe1-47ec-87f9-ba3cc6793fea"
   },
   "outputs": [
    {
     "name": "stdout",
     "output_type": "stream",
     "text": [
      "313/313 [==============================] - 1s 2ms/step - loss: 0.0251 - accuracy: 0.9924\n"
     ]
    },
    {
     "data": {
      "text/plain": [
       "[0.02507929876446724, 0.9923999905586243]"
      ]
     },
     "execution_count": 20,
     "metadata": {
      "tags": []
     },
     "output_type": "execute_result"
    }
   ],
   "source": [
    "mnist_model.evaluate(X_test.reshape(-1,28,28,1),y_test)"
   ]
  },
  {
   "cell_type": "code",
   "execution_count": 21,
   "metadata": {
    "colab": {
     "base_uri": "https://localhost:8080/",
     "height": 35
    },
    "colab_type": "code",
    "id": "ah4pHobSfjKq",
    "outputId": "1ed9626a-af81-4486-f4e0-1681698860a8"
   },
   "outputs": [
    {
     "name": "stdout",
     "output_type": "stream",
     "text": [
      "[9]\n"
     ]
    }
   ],
   "source": [
    "import cv2\n",
    "gray=cv2.imread('9.png',0)\n",
    "gray=gray.reshape(-1,28,28,1)\n",
    "gray=gray/255.0\n",
    "print(np.argmax(mnist_model.predict(gray),axis=-1))"
   ]
  },
  {
   "cell_type": "code",
   "execution_count": 22,
   "metadata": {
    "colab": {
     "base_uri": "https://localhost:8080/",
     "height": 128
    },
    "colab_type": "code",
    "id": "6XI9Vm7afonN",
    "outputId": "af75a61a-d3b0-4f71-85e0-ead0657d2e6e"
   },
   "outputs": [
    {
     "name": "stdout",
     "output_type": "stream",
     "text": [
      "Go to this URL in a browser: https://accounts.google.com/o/oauth2/auth?client_id=947318989803-6bn6qk8qdgf4n4g3pfee6491hc0brc4i.apps.googleusercontent.com&redirect_uri=urn%3aietf%3awg%3aoauth%3a2.0%3aoob&response_type=code&scope=email%20https%3a%2f%2fwww.googleapis.com%2fauth%2fdocs.test%20https%3a%2f%2fwww.googleapis.com%2fauth%2fdrive%20https%3a%2f%2fwww.googleapis.com%2fauth%2fdrive.photos.readonly%20https%3a%2f%2fwww.googleapis.com%2fauth%2fpeopleapi.readonly\n",
      "\n",
      "Enter your authorization code:\n",
      "··········\n",
      "Mounted at /content/drive\n"
     ]
    }
   ],
   "source": [
    "from google.colab import drive\n",
    "drive.mount('/content/drive')"
   ]
  },
  {
   "cell_type": "code",
   "execution_count": 23,
   "metadata": {
    "colab": {},
    "colab_type": "code",
    "id": "znwEMFmLiY5-"
   },
   "outputs": [],
   "source": [
    "model.save(\"/content/drive/My Drive/dataset_dl/model.h5\")"
   ]
  },
  {
   "cell_type": "code",
   "execution_count": 24,
   "metadata": {
    "colab": {},
    "colab_type": "code",
    "id": "vgyWOG2_i5O4"
   },
   "outputs": [],
   "source": [
    "mnist_model1=tf.keras.models.load_model(\"/content/drive/My Drive/dataset_dl/model.h5\")"
   ]
  },
  {
   "cell_type": "code",
   "execution_count": 25,
   "metadata": {
    "colab": {
     "base_uri": "https://localhost:8080/",
     "height": 35
    },
    "colab_type": "code",
    "id": "4aAbAwRdjHJy",
    "outputId": "4a823d4a-cca1-4257-d180-de5582e48fd2"
   },
   "outputs": [
    {
     "name": "stdout",
     "output_type": "stream",
     "text": [
      "[9]\n"
     ]
    }
   ],
   "source": [
    "import cv2\n",
    "gray=cv2.imread('9.png',0)\n",
    "gray=gray.reshape(-1,28,28,1)\n",
    "gray=gray/255.0\n",
    "print(np.argmax(mnist_model.predict(gray),axis=-1))"
   ]
  },
  {
   "cell_type": "code",
   "execution_count": 32,
   "metadata": {
    "colab": {},
    "colab_type": "code",
    "id": "XikTc5ILjMQM"
   },
   "outputs": [],
   "source": [
    "json_model=model.to_json() #returns json string after serilizing the model\n",
    "file=open(\"js_model.json\",\"w\")\n",
    "file.write(json_model)\n",
    "file.close()\n",
    "\n",
    "model.save_weights(\"weights.h5\")"
   ]
  },
  {
   "cell_type": "code",
   "execution_count": 33,
   "metadata": {
    "colab": {},
    "colab_type": "code",
    "id": "jFLQfFPDldIW"
   },
   "outputs": [],
   "source": [
    "file=open(\"js_model.json\",\"r\")\n",
    "json_string=file.read()\n",
    "file.close()\n",
    "\n",
    "mn_model=tf.keras.models.model_from_json(json_string)\n",
    "mn_model.load_weights(\"weights.h5\")"
   ]
  },
  {
   "cell_type": "code",
   "execution_count": 31,
   "metadata": {
    "colab": {
     "base_uri": "https://localhost:8080/",
     "height": 35
    },
    "colab_type": "code",
    "id": "3bTCnB1ZmKQD",
    "outputId": "eb03ecb0-c46a-4018-d58c-534dc59ce643"
   },
   "outputs": [
    {
     "name": "stdout",
     "output_type": "stream",
     "text": [
      "[9]\n"
     ]
    }
   ],
   "source": [
    "import cv2\n",
    "gray=cv2.imread('9.png',0)\n",
    "gray=gray.reshape(-1,28,28,1)\n",
    "gray=gray/255.0\n",
    "print(np.argmax(mn_model.predict(gray),axis=-1))"
   ]
  },
  {
   "cell_type": "code",
   "execution_count": 34,
   "metadata": {
    "colab": {},
    "colab_type": "code",
    "id": "gGVgR9OqmQey"
   },
   "outputs": [],
   "source": [
    "yaml_model=model.to_yaml() #returns yaml string after serilizing the model\n",
    "file=open(\"yaml_model.yaml\",\"w\")\n",
    "file.write(yaml_model)\n",
    "file.close()"
   ]
  },
  {
   "cell_type": "code",
   "execution_count": 35,
   "metadata": {
    "colab": {},
    "colab_type": "code",
    "id": "u9Y4MklboL7q"
   },
   "outputs": [],
   "source": [
    "file=open(\"yaml_model.yaml\",\"r\")\n",
    "yaml_string=file.read()\n",
    "file.close()\n",
    "mnn_model=tf.keras.models.model_from_yaml(yaml_string)\n",
    "mnn_model.load_weights(\"weights.h5\")"
   ]
  },
  {
   "cell_type": "code",
   "execution_count": 36,
   "metadata": {
    "colab": {
     "base_uri": "https://localhost:8080/",
     "height": 35
    },
    "colab_type": "code",
    "id": "LrKLXvTuolJP",
    "outputId": "c2bdad5b-5127-4a36-aac8-89545dc5267d"
   },
   "outputs": [
    {
     "name": "stdout",
     "output_type": "stream",
     "text": [
      "[9]\n"
     ]
    }
   ],
   "source": [
    "import cv2\n",
    "gray=cv2.imread('9.png',0)\n",
    "gray=gray.reshape(-1,28,28,1)\n",
    "gray=gray/255.0\n",
    "print(np.argmax(mnn_model.predict(gray),axis=-1))"
   ]
  },
  {
   "cell_type": "code",
   "execution_count": null,
   "metadata": {
    "colab": {},
    "colab_type": "code",
    "id": "cU6ABJYEopxH"
   },
   "outputs": [],
   "source": []
  }
 ],
 "metadata": {
  "accelerator": "GPU",
  "colab": {
   "name": "1_Aug_Save_Load_Model.ipynb",
   "provenance": []
  },
  "kernelspec": {
   "display_name": "Python 3",
   "language": "python",
   "name": "python3"
  },
  "language_info": {
   "codemirror_mode": {
    "name": "ipython",
    "version": 3
   },
   "file_extension": ".py",
   "mimetype": "text/x-python",
   "name": "python",
   "nbconvert_exporter": "python",
   "pygments_lexer": "ipython3",
   "version": "3.7.3"
  }
 },
 "nbformat": 4,
 "nbformat_minor": 4
}
