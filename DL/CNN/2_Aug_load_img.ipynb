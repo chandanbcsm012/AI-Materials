{
  "nbformat": 4,
  "nbformat_minor": 0,
  "metadata": {
    "colab": {
      "name": "2_Aug_load_img.ipynb",
      "provenance": []
    },
    "kernelspec": {
      "name": "python3",
      "display_name": "Python 3"
    }
  },
  "cells": [
    {
      "cell_type": "code",
      "metadata": {
        "id": "JhHpnL-fiiiG",
        "colab_type": "code",
        "colab": {}
      },
      "source": [
        "from tensorflow.keras.preprocessing.image import load_img"
      ],
      "execution_count": 1,
      "outputs": []
    },
    {
      "cell_type": "code",
      "metadata": {
        "id": "l5h9kG0Qi9pk",
        "colab_type": "code",
        "colab": {
          "base_uri": "https://localhost:8080/",
          "height": 167
        },
        "outputId": "4515bf93-021d-4781-b576-42db7e175fd6"
      },
      "source": [
        "pil_img=load_img(\"a.jpg\",color_mode=\"grayscale\",target_size=(150,200))\n",
        "pil_img"
      ],
      "execution_count": 9,
      "outputs": [
        {
          "output_type": "execute_result",
          "data": {
            "image/png": "[encoded data removed]",
            "text/plain": [
              "<PIL.Image.Image image mode=L size=200x150 at 0x7FBAEEEEDC88>"
            ]
          },
          "metadata": {
            "tags": []
          },
          "execution_count": 9
        }
      ]
    },
    {
      "cell_type": "code",
      "metadata": {
        "id": "XOsmVXo1kHwI",
        "colab_type": "code",
        "colab": {
          "base_uri": "https://localhost:8080/",
          "height": 45
        },
        "outputId": "6f348c0b-44df-417e-cd4a-765d04a2f992"
      },
      "source": [
        "pil_img=load_img(\"0.png\",color_mode=\"grayscale\")\n",
        "pil_img"
      ],
      "execution_count": 18,
      "outputs": [
        {
          "output_type": "execute_result",
          "data": {
            "image/png": "[encoded data removed]",
            "text/plain": [
              "<PIL.Image.Image image mode=L size=28x28 at 0x7FBAEEEED358>"
            ]
          },
          "metadata": {
            "tags": []
          },
          "execution_count": 18
        }
      ]
    },
    {
      "cell_type": "code",
      "metadata": {
        "id": "6yDw_jjElDdI",
        "colab_type": "code",
        "colab": {}
      },
      "source": [
        "from tensorflow.keras.preprocessing.image import img_to_array"
      ],
      "execution_count": 19,
      "outputs": []
    },
    {
      "cell_type": "code",
      "metadata": {
        "id": "otHhKAuGlUlH",
        "colab_type": "code",
        "colab": {}
      },
      "source": [
        "numpy_img=img_to_array(pil_img) #convert pil image to numpy array"
      ],
      "execution_count": 20,
      "outputs": []
    },
    {
      "cell_type": "code",
      "metadata": {
        "id": "iiOt5WZqlszY",
        "colab_type": "code",
        "colab": {
          "base_uri": "https://localhost:8080/",
          "height": 35
        },
        "outputId": "9f8f6534-8485-44ef-88d1-a8db7c292bb9"
      },
      "source": [
        "numpy_img.shape #(height,weight,channels)"
      ],
      "execution_count": 21,
      "outputs": [
        {
          "output_type": "execute_result",
          "data": {
            "text/plain": [
              "(28, 28, 1)"
            ]
          },
          "metadata": {
            "tags": []
          },
          "execution_count": 21
        }
      ]
    },
    {
      "cell_type": "code",
      "metadata": {
        "id": "zI4mMdkDl7DP",
        "colab_type": "code",
        "colab": {}
      },
      "source": [
        "from tensorflow.keras.models import load_model"
      ],
      "execution_count": 22,
      "outputs": []
    },
    {
      "cell_type": "code",
      "metadata": {
        "id": "Tkmk9NKDmb3p",
        "colab_type": "code",
        "colab": {}
      },
      "source": [
        "model=load_model(\"model.h5\")"
      ],
      "execution_count": 23,
      "outputs": []
    },
    {
      "cell_type": "code",
      "metadata": {
        "id": "1K8CpKx5mzLn",
        "colab_type": "code",
        "colab": {}
      },
      "source": [
        "import numpy as np"
      ],
      "execution_count": 24,
      "outputs": []
    },
    {
      "cell_type": "code",
      "metadata": {
        "id": "Rxw0GRJ9m2d0",
        "colab_type": "code",
        "colab": {
          "base_uri": "https://localhost:8080/",
          "height": 35
        },
        "outputId": "f11e7ecf-5778-409b-db9b-3fb8833e3169"
      },
      "source": [
        "np.argmax(model.predict(numpy_img.reshape(-1,28,28,1)),axis=-1)"
      ],
      "execution_count": 26,
      "outputs": [
        {
          "output_type": "execute_result",
          "data": {
            "text/plain": [
              "array([0])"
            ]
          },
          "metadata": {
            "tags": []
          },
          "execution_count": 26
        }
      ]
    },
    {
      "cell_type": "code",
      "metadata": {
        "id": "0kxVl02lnoOs",
        "colab_type": "code",
        "colab": {}
      },
      "source": [
        "img5=load_img(\"55.png\",color_mode='grayscale',target_size=(28,28))\n",
        "img7=load_img(\"77.png\",color_mode='grayscale',target_size=(28,28))\n"
      ],
      "execution_count": 44,
      "outputs": []
    },
    {
      "cell_type": "code",
      "metadata": {
        "id": "y5CpOrIPoNYZ",
        "colab_type": "code",
        "colab": {
          "base_uri": "https://localhost:8080/",
          "height": 35
        },
        "outputId": "4ed2c283-6a56-4672-ca0e-f8bb433d51e1"
      },
      "source": [
        "img5=img_to_array(img5)\n",
        "img7=img_to_array(img7)\n",
        "test_imgs=np.array([img5,img7])\n",
        "test_imgs.shape\n",
        "test_imgs.ndim"
      ],
      "execution_count": 46,
      "outputs": [
        {
          "output_type": "execute_result",
          "data": {
            "text/plain": [
              "4"
            ]
          },
          "metadata": {
            "tags": []
          },
          "execution_count": 46
        }
      ]
    },
    {
      "cell_type": "code",
      "metadata": {
        "id": "Dyl6H3S_opkp",
        "colab_type": "code",
        "colab": {
          "base_uri": "https://localhost:8080/",
          "height": 35
        },
        "outputId": "a91e7270-f4b8-47b8-c250-0fb7d8d5aa9b"
      },
      "source": [
        "\n",
        "np.argmax(model.predict(test_imgs),axis=-1)"
      ],
      "execution_count": 48,
      "outputs": [
        {
          "output_type": "execute_result",
          "data": {
            "text/plain": [
              "array([5, 7])"
            ]
          },
          "metadata": {
            "tags": []
          },
          "execution_count": 48
        }
      ]
    },
    {
      "cell_type": "code",
      "metadata": {
        "id": "msSMzjgWsh0G",
        "colab_type": "code",
        "colab": {}
      },
      "source": [
        "import os\n",
        "path=\"sample_data/test_images/\"\n",
        "img_names=os.listdir(path)\n",
        "img_names.sort()\n",
        "list_4d=[]\n",
        "for img in img_names:\n",
        "  numpy3d=img_to_array(load_img(path+img,color_mode='grayscale',target_size=(28,28)))\n",
        "  list_4d.append(numpy3d)\n",
        "numpy4d=np.array(list_4d)  "
      ],
      "execution_count": 58,
      "outputs": []
    },
    {
      "cell_type": "code",
      "metadata": {
        "id": "PqLL2Ldpt1Pp",
        "colab_type": "code",
        "colab": {
          "base_uri": "https://localhost:8080/",
          "height": 35
        },
        "outputId": "947ae98e-6d90-453c-a5b8-88f532b5643f"
      },
      "source": [
        "numpy4d.shape"
      ],
      "execution_count": 59,
      "outputs": [
        {
          "output_type": "execute_result",
          "data": {
            "text/plain": [
              "(12, 28, 28, 1)"
            ]
          },
          "metadata": {
            "tags": []
          },
          "execution_count": 59
        }
      ]
    },
    {
      "cell_type": "code",
      "metadata": {
        "id": "Oa62zBRxu40F",
        "colab_type": "code",
        "colab": {
          "base_uri": "https://localhost:8080/",
          "height": 35
        },
        "outputId": "aaaef73c-9fad-40e5-d403-41f21d08a79d"
      },
      "source": [
        "np.argmax(model.predict(numpy4d),axis=-1)"
      ],
      "execution_count": 60,
      "outputs": [
        {
          "output_type": "execute_result",
          "data": {
            "text/plain": [
              "array([0, 1, 2, 3, 4, 5, 6, 7, 7, 7, 8, 5])"
            ]
          },
          "metadata": {
            "tags": []
          },
          "execution_count": 60
        }
      ]
    },
    {
      "cell_type": "code",
      "metadata": {
        "id": "vXHLj2Hlu-tz",
        "colab_type": "code",
        "colab": {}
      },
      "source": [
        ""
      ],
      "execution_count": null,
      "outputs": []
    }
  ]
}